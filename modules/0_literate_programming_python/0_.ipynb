{
  "nbformat": 4,
  "nbformat_minor": 0,
  "metadata": {
    "colab": {
      "name": "Untitled0.ipynb",
      "provenance": [],
      "authorship_tag": "ABX9TyMsYI2jf6l2W912gM60Io/v",
      "include_colab_link": true
    },
    "kernelspec": {
      "name": "python3",
      "display_name": "Python 3"
    }
  },
  "cells": [
    {
      "cell_type": "markdown",
      "metadata": {
        "id": "view-in-github",
        "colab_type": "text"
      },
      "source": [
        "<a href=\"https://colab.research.google.com/github/ZacharySBrown/dapt-615/blob/master/modules/0_literate_programming_python/0_.ipynb\" target=\"_parent\"><img src=\"https://colab.research.google.com/assets/colab-badge.svg\" alt=\"Open In Colab\"/></a>"
      ]
    },
    {
      "cell_type": "markdown",
      "metadata": {
        "id": "KLMZbSud9FYJ"
      },
      "source": [
        "# Getting Started with Literate Programming\r\n",
        "\r\n",
        "In this section we'll walk though a data analysis using Python Pandas, and produce a short writeup of the analysis in PDF form"
      ]
    },
    {
      "cell_type": "markdown",
      "metadata": {
        "id": "BC68POBD9tJD"
      },
      "source": [
        "## Imports and Setup\r\n",
        "\r\n",
        "We'll begin by importing all of the rquired libraries for our analysis. The beginning of a notebook is also a good place to put any early stage library code (that _should_ eventually make it into an importable module) so that it's defined prior to your analysis workflow. "
      ]
    },
    {
      "cell_type": "code",
      "metadata": {
        "id": "B73T8GgY7DeF"
      },
      "source": [
        "import pandas as pd"
      ],
      "execution_count": 3,
      "outputs": []
    },
    {
      "cell_type": "code",
      "metadata": {
        "id": "PGUDqVCb90GI"
      },
      "source": [
        "URL = ''\r\n",
        "data = pd.read_csv(URL)"
      ],
      "execution_count": null,
      "outputs": []
    },
    {
      "cell_type": "markdown",
      "metadata": {
        "id": "gD_rNRa87TfL"
      },
      "source": [
        "# New Section"
      ]
    },
    {
      "cell_type": "markdown",
      "metadata": {
        "id": "cIrkPPjR8fKM"
      },
      "source": [
        "# New Section"
      ]
    },
    {
      "cell_type": "code",
      "metadata": {
        "id": "TjcLBLzf7E2j"
      },
      "source": [
        ""
      ],
      "execution_count": null,
      "outputs": []
    }
  ]
}