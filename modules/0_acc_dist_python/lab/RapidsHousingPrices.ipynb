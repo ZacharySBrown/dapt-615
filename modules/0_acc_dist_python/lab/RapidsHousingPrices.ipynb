{
  "nbformat": 4,
  "nbformat_minor": 0,
  "metadata": {
    "colab": {
      "name": "RapidsHousingPrices.ipynb",
      "private_outputs": true,
      "provenance": [],
      "authorship_tag": "ABX9TyPkC83OM2w/imzzxVSVAmhi",
      "include_colab_link": true
    },
    "kernelspec": {
      "name": "python3",
      "display_name": "Python 3"
    },
    "accelerator": "GPU"
  },
  "cells": [
    {
      "cell_type": "markdown",
      "metadata": {
        "id": "view-in-github",
        "colab_type": "text"
      },
      "source": [
        "<a href=\"https://colab.research.google.com/github/ZacharySBrown/dapt-615/blob/master/modules/0_acc_dist_python/lab/RapidsHousingPrices.ipynb\" target=\"_parent\"><img src=\"https://colab.research.google.com/assets/colab-badge.svg\" alt=\"Open In Colab\"/></a>"
      ]
    },
    {
      "cell_type": "markdown",
      "metadata": {
        "id": "wPheysEmi9sl"
      },
      "source": [
        "# Setup Environment"
      ]
    },
    {
      "cell_type": "code",
      "metadata": {
        "id": "XF0H4EYag_2R"
      },
      "source": [
        "# Install RAPIDS\n",
        "!git clone https://github.com/rapidsai/rapidsai-csp-utils.git\n",
        "!bash rapidsai-csp-utils/colab/rapids-colab.sh stable\n",
        "\n",
        "import sys, os\n",
        "\n",
        "dist_package_index = sys.path.index('/usr/local/lib/python3.6/dist-packages')\n",
        "sys.path = sys.path[:dist_package_index] + ['/usr/local/lib/python3.6/site-packages'] + sys.path[dist_package_index:]\n",
        "sys.path\n",
        "exec(open('rapidsai-csp-utils/colab/update_modules.py').read(), globals())\n",
        "\n",
        "!wget https://vcu-dapt-615.s3.amazonaws.com/properties_2016.csv.zip\n",
        "!unzip properties_2016.csv.zip\n",
        "!wget https://vcu-dapt-615.s3.amazonaws.com/data_dict.csv"
      ],
      "execution_count": null,
      "outputs": []
    },
    {
      "cell_type": "markdown",
      "metadata": {
        "id": "TWOwrV0poDMa"
      },
      "source": [
        "# Analysis"
      ]
    },
    {
      "cell_type": "markdown",
      "metadata": {
        "id": "hYtzLuDllOem"
      },
      "source": [
        "## Load Data"
      ]
    },
    {
      "cell_type": "code",
      "metadata": {
        "id": "EDnLic_jhBN_"
      },
      "source": [
        "import cudf\n",
        "import pandas as pd"
      ],
      "execution_count": null,
      "outputs": []
    },
    {
      "cell_type": "markdown",
      "metadata": {
        "id": "XNqnhLDGlf0s"
      },
      "source": [
        "Before we load the data, let's check our GPU usage memory:"
      ]
    },
    {
      "cell_type": "markdown",
      "metadata": {
        "id": "X_98S9x0m2rJ"
      },
      "source": [
        "Let's first load the data into local memory using `pandas`, and check the starting gpu memory usage:"
      ]
    },
    {
      "cell_type": "code",
      "metadata": {
        "id": "AqcAqbO4hVqZ"
      },
      "source": [
        "%%time\n",
        "pd_data = pd.read_csv('properties_2016.csv', low_memory=False)"
      ],
      "execution_count": null,
      "outputs": []
    },
    {
      "cell_type": "code",
      "metadata": {
        "id": "tV8v1W52lxta"
      },
      "source": [
        "!nvidia-smi"
      ],
      "execution_count": null,
      "outputs": []
    },
    {
      "cell_type": "markdown",
      "metadata": {
        "id": "YmTM96k0nPgA"
      },
      "source": [
        "Now let's put the data into gpu memory by creading a `cuDF` `DataFrame`, and then check our gpu memory utilization:"
      ]
    },
    {
      "cell_type": "code",
      "metadata": {
        "id": "eOAEQx1YhZ_L"
      },
      "source": [
        "data = cudf.from_pandas(pd_data)"
      ],
      "execution_count": null,
      "outputs": []
    },
    {
      "cell_type": "code",
      "metadata": {
        "id": "LWGWX7ewha1K"
      },
      "source": [
        "!nvidia-smi"
      ],
      "execution_count": null,
      "outputs": []
    },
    {
      "cell_type": "markdown",
      "metadata": {
        "id": "GemEHugQngxj"
      },
      "source": [
        "**Question 1**: How much memory (in MiB) does the `DataFrame` consume?\n",
        "\n",
        "[PLEASE TYPE YOUR ANSWER HERE]"
      ]
    },
    {
      "cell_type": "markdown",
      "metadata": {
        "id": "Y_lokioTlH6p"
      },
      "source": [
        "Now"
      ]
    },
    {
      "cell_type": "markdown",
      "metadata": {
        "id": "7CiXO9IFoIiY"
      },
      "source": [
        "# Data Inspection"
      ]
    },
    {
      "cell_type": "markdown",
      "metadata": {
        "id": "Dy6DKKUboMyr"
      },
      "source": [
        "Now that we have our data loaded, let's see if we can answer some quick questions about the data. We'll also try to take a look at the performance differences between `pandas` and `cuDF` `DataFrames`. \n",
        "\n",
        "Let's start with some simple some simple details about the data. Answer the following questions below. Note that the column descriptions can be found in the file `data_dict.csv`, and loaded with `lookup = pd.read_csv('data_dict.csv')`\n",
        "\n",
        "**Question 2**: What's the mean value of the properties (from tax assessment) in dollars for the data set? Are there any assessed values that stand out to you as unusual?\n",
        "\n",
        "**Question 3**: How many columns are in `DataFrame`? Do any of the columns have `Null` values? Should we just remove columns with nulls in them?\n",
        "\n",
        "**Question 4**: How many different zip codes are the properties located in? How many different cities? (look at the `regionid*` fields for this, e.g. `regionidcity`)\n",
        "\n",
        "**Question 5**: Which `regionidcity` has the most proprties, and what is the min, mean, median, max values for properties there?"
      ]
    },
    {
      "cell_type": "code",
      "metadata": {
        "id": "CwBMuNawoLyS"
      },
      "source": [
        "data['regionidcity'].head()"
      ],
      "execution_count": null,
      "outputs": []
    },
    {
      "cell_type": "code",
      "metadata": {
        "id": "XR9eA8Fzrrss"
      },
      "source": [
        ""
      ],
      "execution_count": null,
      "outputs": []
    }
  ]
}