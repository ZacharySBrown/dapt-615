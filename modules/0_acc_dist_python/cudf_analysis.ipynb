{
  "nbformat": 4,
  "nbformat_minor": 0,
  "metadata": {
    "accelerator": "GPU",
    "colab": {
      "name": "Data_Analysis_With_Python_Complete.ipynb",
      "provenance": [],
      "include_colab_link": true
    },
    "kernelspec": {
      "display_name": "Python 3",
      "language": "python",
      "name": "python3"
    },
    "language_info": {
      "codemirror_mode": {
        "name": "ipython",
        "version": 3
      },
      "file_extension": ".py",
      "mimetype": "text/x-python",
      "name": "python",
      "nbconvert_exporter": "python",
      "pygments_lexer": "ipython3",
      "version": "3.7.4"
    }
  },
  "cells": [
    {
      "cell_type": "markdown",
      "metadata": {
        "id": "view-in-github",
        "colab_type": "text"
      },
      "source": [
        "<a href=\"https://colab.research.google.com/github/ZacharySBrown/dapt-615/blob/master/modules/0_acc_dist_python/cudf_analysis.ipynb\" target=\"_parent\"><img src=\"https://colab.research.google.com/assets/colab-badge.svg\" alt=\"Open In Colab\"/></a>"
      ]
    },
    {
      "cell_type": "markdown",
      "metadata": {
        "id": "TK9efjc7y4YX"
      },
      "source": [
        "# Install `RAPIDS` and Download Data"
      ]
    },
    {
      "cell_type": "code",
      "metadata": {
        "colab": {
          "base_uri": "https://localhost:8080/"
        },
        "id": "YNujrKYTzpMV",
        "outputId": "def535c4-3666-4cc2-e760-433b4c21365b"
      },
      "source": [
        "# Install RAPIDS\n",
        "!git clone https://github.com/rapidsai/rapidsai-csp-utils.git\n",
        "!bash rapidsai-csp-utils/colab/rapids-colab.sh stable\n",
        "\n",
        "import sys, os\n",
        "\n",
        "dist_package_index = sys.path.index('/usr/local/lib/python3.6/dist-packages')\n",
        "sys.path = sys.path[:dist_package_index] + ['/usr/local/lib/python3.6/site-packages'] + sys.path[dist_package_index:]\n",
        "sys.path\n",
        "exec(open('rapidsai-csp-utils/colab/update_modules.py').read(), globals())\n",
        "\n",
        "!wget https://vcu-dapt-615.s3.amazonaws.com/covid_19_data.csv"
      ],
      "execution_count": null,
      "outputs": [
        {
          "output_type": "stream",
          "text": [
            "fatal: destination path 'rapidsai-csp-utils' already exists and is not an empty directory.\n",
            "PLEASE READ\n",
            "********************************************************************************************************\n",
            "Changes:\n",
            "1. IMPORTANT CHANGES: RAPIDS on Colab will be pegged to 0.14 Stable until further notice.  This version of RAPIDS, while works, is outdated.  We have alternative solutions, https://app.blazingsql.com, to run the latest versions of RAPIDS\n",
            "2. Default stable version is now 0.14.  Nightly will redirect to 0.14.\n",
            "3. You can now declare your RAPIDSAI version as a CLI option and skip the user prompts (ex: '0.14' or '0.15', between 0.13 to 0.14, without the quotes): \n",
            "        \"!bash rapidsai-csp-utils/colab/rapids-colab.sh <version/label>\"\n",
            "        Examples: '!bash rapidsai-csp-utils/colab/rapids-colab.sh 0.14', or '!bash rapidsai-csp-utils/colab/rapids-colab.sh stable', or '!bash rapidsai-csp-utils/colab/rapids-colab.sh s'\n",
            "                  '!bash rapidsai-csp-utils/colab/rapids-colab.sh 0.15, or '!bash rapidsai-csp-utils/colab/rapids-colab.sh nightly', or '!bash rapidsai-csp-utils/colab/rapids-colab.sh n'\n",
            "Enjoy using RAPIDS!  If you have any issues with or suggestions for RAPIDSAI on Colab, please create a bug request on https://github.com/rapidsai/rapidsai-csp-utils/issues/new.  Thanks!\n",
            "Starting to prep Colab for install RAPIDS Version 0.14 stable\n",
            "Checking for GPU type:\n",
            "***********************************************************************\n",
            "Woo! Your instance has the right kind of GPU, a 'Tesla V100-SXM2-16GB'!\n",
            "***********************************************************************\n",
            "\n",
            "\n",
            "************************************************\n",
            "Your Google Colab instance has RAPIDS installed!\n",
            "************************************************\n",
            "***********************************************************************\n",
            "Let us check on those pyarrow and cffi versions...\n",
            "***********************************************************************\n",
            "\n",
            "You're don't have pyarrow.\n",
            "unloaded cffi 1.14.4\n",
            "loaded cffi 1.14.4\n",
            "--2021-01-22 02:08:01--  https://vcu-dapt-615.s3.amazonaws.com/covid_19_data.csv\n",
            "Resolving vcu-dapt-615.s3.amazonaws.com (vcu-dapt-615.s3.amazonaws.com)... 52.216.133.211\n",
            "Connecting to vcu-dapt-615.s3.amazonaws.com (vcu-dapt-615.s3.amazonaws.com)|52.216.133.211|:443... connected.\n",
            "HTTP request sent, awaiting response... 200 OK\n",
            "Length: 12422504 (12M) [text/csv]\n",
            "Saving to: ‘covid_19_data.csv.1’\n",
            "\n",
            "covid_19_data.csv.1 100%[===================>]  11.85M  13.6MB/s    in 0.9s    \n",
            "\n",
            "2021-01-22 02:08:03 (13.6 MB/s) - ‘covid_19_data.csv.1’ saved [12422504/12422504]\n",
            "\n"
          ],
          "name": "stdout"
        }
      ]
    },
    {
      "cell_type": "code",
      "metadata": {
        "id": "u5j0BtSPy4Yi"
      },
      "source": [
        "import cudf\n",
        "data = pd.read_csv('covid_19_data.csv')\n",
        "data.head()\n",
        "data = data.set_index(('Sno','ObservationDate'))"
      ],
      "execution_count": null,
      "outputs": []
    },
    {
      "cell_type": "code",
      "metadata": {
        "id": "NBvrcSiXy4Yj"
      },
      "source": [
        "\n",
        "data.mean()"
      ],
      "execution_count": null,
      "outputs": []
    },
    {
      "cell_type": "code",
      "metadata": {
        "id": "RcmYnW4py4Yj"
      },
      "source": [
        "data.loc[[(1,'01/22/2020')],:]"
      ],
      "execution_count": null,
      "outputs": []
    },
    {
      "cell_type": "markdown",
      "metadata": {
        "id": "UP-wL-0DfifT"
      },
      "source": [
        "# Understanding and Applying Data Analysis with Python\n"
      ]
    },
    {
      "cell_type": "markdown",
      "metadata": {
        "id": "xaDUNi9efifV"
      },
      "source": [
        "## Outline\n",
        "\n",
        "1. File I/O and working with data in pandas\n",
        "\n",
        "    * Reading, writing, and creating structured data in Python\n",
        "    * Viewing, inspecting, and selecting data\n",
        "    \n",
        "    \n",
        "2. Exploratory data analysis with pandas\n",
        "\n",
        "    * Data cleaning\n",
        "    * Summary statistics\n",
        "    * Data transformations\n",
        "    * Sorting, aggregation, joins and pivots\n",
        "    * Data visualization"
      ]
    },
    {
      "cell_type": "markdown",
      "metadata": {
        "id": "YwHjPNURfifW"
      },
      "source": [
        "## Project Jupyter\n",
        "\n",
        "Project Jupyter exists to develop open-source software, open-standards, and services for interactive computing across dozens of programming languages. Jupyter supports over 40 programming languages, including Python, R, Julia, and Scala.\n",
        "\n",
        "The Jupyter Notebook is an open-source web application that allows you to create and share documents that contain live code, equations, visualizations and narrative text. Uses include: data cleaning and transformation, numerical simulation, statistical modeling, data visualization, machine learning, and much more.\n",
        "\n",
        "Try Jupyter without installing anything: https://jupyter.org/try"
      ]
    },
    {
      "cell_type": "markdown",
      "metadata": {
        "id": "XnapocRdfifW"
      },
      "source": [
        "## Novel Corona Virus 2019 Dataset: day level information on COVID-19 affected cases\n",
        "\n",
        "### About this dataset:\n",
        "\n",
        "https://www.kaggle.com/sudalairajkumar/novel-corona-virus-2019-dataset/data?select=covid_19_data.csv\n",
        "\n",
        "(original: Johns Hopkins Github repository: https://github.com/CSSEGISandData/COVID-19)\n",
        "\n",
        "Name of the file: \"covid_19_data.csv\"\n",
        "\n",
        "Columns description:\n",
        "\n",
        "- **Sno** - Serial number\n",
        "- **ObservationDate** - Date of the observation in MM/DD/YYYY\n",
        "- **Province/State** - Province or state of the observation (Could be empty when missing)\n",
        "- **Country/Region** - Country of observation\n",
        "- **Last Update** - Time in UTC at which the row is updated for the given province or country. (Not standardised and so please clean before using it)\n",
        "- **Confirmed** - Cumulative number of confirmed cases till that date\n",
        "- **Deaths** - Cumulative number of of deaths till that date\n",
        "- **Recovered** - Cumulative number of recovered cases till that date"
      ]
    },
    {
      "cell_type": "markdown",
      "metadata": {
        "id": "6KAj_DrnfifX"
      },
      "source": [
        "## 1. File I/O and working with data in pandas"
      ]
    },
    {
      "cell_type": "markdown",
      "metadata": {
        "id": "f6yr6G7lfifa"
      },
      "source": [
        "### Reading Data"
      ]
    },
    {
      "cell_type": "code",
      "metadata": {
        "id": "BxzXP5USfifb"
      },
      "source": [
        "#To start working with cuDF, we need to import this library:\n",
        "import cudf\n",
        "\n",
        "#We'll also import the Pandas library as well for occassional performance comparisons:\n",
        "import pandas as pd"
      ],
      "execution_count": null,
      "outputs": []
    },
    {
      "cell_type": "markdown",
      "metadata": {
        "collapsed": true,
        "id": "DroxC_VOfifb"
      },
      "source": [
        "Most of the time, you will be probably working with data that already exists in variety of different formats.\n",
        "By far the most basic of these are CSV or Excel files. This is how you read these files with pandas:"
      ]
    },
    {
      "cell_type": "code",
      "metadata": {
        "id": "vm3bqhg8fifb"
      },
      "source": [
        "#read CSV file in pandas:\n",
        "pd_covid = pd.read_csv('covid_19_data.csv')\n",
        "\n",
        "covid = cudf.from_pandas(pd_covid)"
      ],
      "execution_count": null,
      "outputs": []
    },
    {
      "cell_type": "markdown",
      "metadata": {
        "id": "NJPjeymIfifb"
      },
      "source": [
        "Let's pause here for a minute, and try to understand what exactly happens once we run **pandas.read_csv** command.\n",
        "\n",
        "Two core objects in pandas are the **DataFrame** and the **Series**.\n",
        "\n",
        "A **DataFrame** is a table. It contains an array of individual entries, each of which has a certain value. Each entry corresponds to a row and a column. The list of row labels used in a DataFrame is known as an Index.\n",
        "\n",
        "In our example above, *covid* is a DataFrame created from 'covid_19_data.csv' file. \n"
      ]
    },
    {
      "cell_type": "code",
      "metadata": {
        "colab": {
          "base_uri": "https://localhost:8080/",
          "height": 204
        },
        "id": "V-50Lp5Xfifc",
        "outputId": "1c17c6ca-5831-4eb2-d6b0-97ac27ef42ed"
      },
      "source": [
        "#We can examine the contents of our DataFrame using the head() command:\n",
        "covid.head()"
      ],
      "execution_count": null,
      "outputs": [
        {
          "output_type": "execute_result",
          "data": {
            "text/html": [
              "<div>\n",
              "<style scoped>\n",
              "    .dataframe tbody tr th:only-of-type {\n",
              "        vertical-align: middle;\n",
              "    }\n",
              "\n",
              "    .dataframe tbody tr th {\n",
              "        vertical-align: top;\n",
              "    }\n",
              "\n",
              "    .dataframe thead th {\n",
              "        text-align: right;\n",
              "    }\n",
              "</style>\n",
              "<table border=\"1\" class=\"dataframe\">\n",
              "  <thead>\n",
              "    <tr style=\"text-align: right;\">\n",
              "      <th></th>\n",
              "      <th>SNo</th>\n",
              "      <th>ObservationDate</th>\n",
              "      <th>Province/State</th>\n",
              "      <th>Country/Region</th>\n",
              "      <th>Last Update</th>\n",
              "      <th>Confirmed</th>\n",
              "      <th>Deaths</th>\n",
              "      <th>Recovered</th>\n",
              "    </tr>\n",
              "  </thead>\n",
              "  <tbody>\n",
              "    <tr>\n",
              "      <th>0</th>\n",
              "      <td>1</td>\n",
              "      <td>01/22/2020</td>\n",
              "      <td>Anhui</td>\n",
              "      <td>Mainland China</td>\n",
              "      <td>1/22/2020 17:00</td>\n",
              "      <td>1.0</td>\n",
              "      <td>0.0</td>\n",
              "      <td>0.0</td>\n",
              "    </tr>\n",
              "    <tr>\n",
              "      <th>1</th>\n",
              "      <td>2</td>\n",
              "      <td>01/22/2020</td>\n",
              "      <td>Beijing</td>\n",
              "      <td>Mainland China</td>\n",
              "      <td>1/22/2020 17:00</td>\n",
              "      <td>14.0</td>\n",
              "      <td>0.0</td>\n",
              "      <td>0.0</td>\n",
              "    </tr>\n",
              "    <tr>\n",
              "      <th>2</th>\n",
              "      <td>3</td>\n",
              "      <td>01/22/2020</td>\n",
              "      <td>Chongqing</td>\n",
              "      <td>Mainland China</td>\n",
              "      <td>1/22/2020 17:00</td>\n",
              "      <td>6.0</td>\n",
              "      <td>0.0</td>\n",
              "      <td>0.0</td>\n",
              "    </tr>\n",
              "    <tr>\n",
              "      <th>3</th>\n",
              "      <td>4</td>\n",
              "      <td>01/22/2020</td>\n",
              "      <td>Fujian</td>\n",
              "      <td>Mainland China</td>\n",
              "      <td>1/22/2020 17:00</td>\n",
              "      <td>1.0</td>\n",
              "      <td>0.0</td>\n",
              "      <td>0.0</td>\n",
              "    </tr>\n",
              "    <tr>\n",
              "      <th>4</th>\n",
              "      <td>5</td>\n",
              "      <td>01/22/2020</td>\n",
              "      <td>Gansu</td>\n",
              "      <td>Mainland China</td>\n",
              "      <td>1/22/2020 17:00</td>\n",
              "      <td>0.0</td>\n",
              "      <td>0.0</td>\n",
              "      <td>0.0</td>\n",
              "    </tr>\n",
              "  </tbody>\n",
              "</table>\n",
              "</div>"
            ],
            "text/plain": [
              "   SNo ObservationDate Province/State  ... Confirmed Deaths  Recovered\n",
              "0    1      01/22/2020          Anhui  ...       1.0    0.0        0.0\n",
              "1    2      01/22/2020        Beijing  ...      14.0    0.0        0.0\n",
              "2    3      01/22/2020      Chongqing  ...       6.0    0.0        0.0\n",
              "3    4      01/22/2020         Fujian  ...       1.0    0.0        0.0\n",
              "4    5      01/22/2020          Gansu  ...       0.0    0.0        0.0\n",
              "\n",
              "[5 rows x 8 columns]"
            ]
          },
          "metadata": {
            "tags": []
          },
          "execution_count": 7
        }
      ]
    },
    {
      "cell_type": "markdown",
      "metadata": {
        "id": "h2FrhcgSfifc"
      },
      "source": [
        "From this example, we can see that DataFrame entries are not limited to integers. For instance, there is an entry with value of \"Beijing\", which is a string."
      ]
    },
    {
      "cell_type": "markdown",
      "metadata": {
        "id": "IOkm2TzYfifc"
      },
      "source": [
        "A **Series**, the second core pandas object, is a sequence of data values. If a DataFrame is a table, a Series is a list and,  in essence, it is a single column of a DataFrame."
      ]
    },
    {
      "cell_type": "code",
      "metadata": {
        "colab": {
          "base_uri": "https://localhost:8080/"
        },
        "id": "tLMJ5EJxfifd",
        "outputId": "be18a64e-c652-4f90-d583-518259dc56c9"
      },
      "source": [
        "#This is how we can see all the Series names in our DataFrame:\n",
        "covid.columns"
      ],
      "execution_count": null,
      "outputs": [
        {
          "output_type": "execute_result",
          "data": {
            "text/plain": [
              "Index(['SNo', 'ObservationDate', 'Province/State', 'Country/Region',\n",
              "       'Last Update', 'Confirmed', 'Deaths', 'Recovered'],\n",
              "      dtype='object')"
            ]
          },
          "metadata": {
            "tags": []
          },
          "execution_count": 8
        }
      ]
    },
    {
      "cell_type": "markdown",
      "metadata": {
        "id": "EuZnlaayfifm"
      },
      "source": [
        "## Viewing, inspecting, and selecting data"
      ]
    },
    {
      "cell_type": "markdown",
      "metadata": {
        "id": "qcKn6QZgfifm"
      },
      "source": [
        "Let's return to our **covid** DataFrame. Remember - you can use *head()* method to view the first *n* rows:"
      ]
    },
    {
      "cell_type": "code",
      "metadata": {
        "colab": {
          "base_uri": "https://localhost:8080/",
          "height": 142
        },
        "id": "UYmIpSHDfifm",
        "outputId": "d1c178f1-fd8d-4fdf-b3f0-10dcea51d883"
      },
      "source": [
        "#View first 3 rows of data set:\n",
        "covid.head(3)"
      ],
      "execution_count": null,
      "outputs": [
        {
          "output_type": "execute_result",
          "data": {
            "text/html": [
              "<div>\n",
              "<style scoped>\n",
              "    .dataframe tbody tr th:only-of-type {\n",
              "        vertical-align: middle;\n",
              "    }\n",
              "\n",
              "    .dataframe tbody tr th {\n",
              "        vertical-align: top;\n",
              "    }\n",
              "\n",
              "    .dataframe thead th {\n",
              "        text-align: right;\n",
              "    }\n",
              "</style>\n",
              "<table border=\"1\" class=\"dataframe\">\n",
              "  <thead>\n",
              "    <tr style=\"text-align: right;\">\n",
              "      <th></th>\n",
              "      <th>SNo</th>\n",
              "      <th>ObservationDate</th>\n",
              "      <th>Province/State</th>\n",
              "      <th>Country/Region</th>\n",
              "      <th>Last Update</th>\n",
              "      <th>Confirmed</th>\n",
              "      <th>Deaths</th>\n",
              "      <th>Recovered</th>\n",
              "    </tr>\n",
              "  </thead>\n",
              "  <tbody>\n",
              "    <tr>\n",
              "      <th>0</th>\n",
              "      <td>1</td>\n",
              "      <td>01/22/2020</td>\n",
              "      <td>Anhui</td>\n",
              "      <td>Mainland China</td>\n",
              "      <td>1/22/2020 17:00</td>\n",
              "      <td>1.0</td>\n",
              "      <td>0.0</td>\n",
              "      <td>0.0</td>\n",
              "    </tr>\n",
              "    <tr>\n",
              "      <th>1</th>\n",
              "      <td>2</td>\n",
              "      <td>01/22/2020</td>\n",
              "      <td>Beijing</td>\n",
              "      <td>Mainland China</td>\n",
              "      <td>1/22/2020 17:00</td>\n",
              "      <td>14.0</td>\n",
              "      <td>0.0</td>\n",
              "      <td>0.0</td>\n",
              "    </tr>\n",
              "    <tr>\n",
              "      <th>2</th>\n",
              "      <td>3</td>\n",
              "      <td>01/22/2020</td>\n",
              "      <td>Chongqing</td>\n",
              "      <td>Mainland China</td>\n",
              "      <td>1/22/2020 17:00</td>\n",
              "      <td>6.0</td>\n",
              "      <td>0.0</td>\n",
              "      <td>0.0</td>\n",
              "    </tr>\n",
              "  </tbody>\n",
              "</table>\n",
              "</div>"
            ],
            "text/plain": [
              "   SNo ObservationDate Province/State  ... Confirmed Deaths  Recovered\n",
              "0    1      01/22/2020          Anhui  ...       1.0    0.0        0.0\n",
              "1    2      01/22/2020        Beijing  ...      14.0    0.0        0.0\n",
              "2    3      01/22/2020      Chongqing  ...       6.0    0.0        0.0\n",
              "\n",
              "[3 rows x 8 columns]"
            ]
          },
          "metadata": {
            "tags": []
          },
          "execution_count": 9
        }
      ]
    },
    {
      "cell_type": "code",
      "metadata": {
        "colab": {
          "base_uri": "https://localhost:8080/",
          "height": 204
        },
        "id": "NMlFtrt6fifm",
        "outputId": "bd3b8fd7-31e5-4129-bc08-5ca0e0820c4c"
      },
      "source": [
        "#In a similar way, you can inspect last n rows with tail() method:\n",
        "covid.tail()"
      ],
      "execution_count": null,
      "outputs": [
        {
          "output_type": "execute_result",
          "data": {
            "text/html": [
              "<div>\n",
              "<style scoped>\n",
              "    .dataframe tbody tr th:only-of-type {\n",
              "        vertical-align: middle;\n",
              "    }\n",
              "\n",
              "    .dataframe tbody tr th {\n",
              "        vertical-align: top;\n",
              "    }\n",
              "\n",
              "    .dataframe thead th {\n",
              "        text-align: right;\n",
              "    }\n",
              "</style>\n",
              "<table border=\"1\" class=\"dataframe\">\n",
              "  <thead>\n",
              "    <tr style=\"text-align: right;\">\n",
              "      <th></th>\n",
              "      <th>SNo</th>\n",
              "      <th>ObservationDate</th>\n",
              "      <th>Province/State</th>\n",
              "      <th>Country/Region</th>\n",
              "      <th>Last Update</th>\n",
              "      <th>Confirmed</th>\n",
              "      <th>Deaths</th>\n",
              "      <th>Recovered</th>\n",
              "    </tr>\n",
              "  </thead>\n",
              "  <tbody>\n",
              "    <tr>\n",
              "      <th>172475</th>\n",
              "      <td>172476</td>\n",
              "      <td>12/06/2020</td>\n",
              "      <td>Zaporizhia Oblast</td>\n",
              "      <td>Ukraine</td>\n",
              "      <td>2020-12-07 05:26:14</td>\n",
              "      <td>36539.0</td>\n",
              "      <td>337.0</td>\n",
              "      <td>6556.0</td>\n",
              "    </tr>\n",
              "    <tr>\n",
              "      <th>172476</th>\n",
              "      <td>172477</td>\n",
              "      <td>12/06/2020</td>\n",
              "      <td>Zeeland</td>\n",
              "      <td>Netherlands</td>\n",
              "      <td>2020-12-07 05:26:14</td>\n",
              "      <td>6710.0</td>\n",
              "      <td>104.0</td>\n",
              "      <td>0.0</td>\n",
              "    </tr>\n",
              "    <tr>\n",
              "      <th>172477</th>\n",
              "      <td>172478</td>\n",
              "      <td>12/06/2020</td>\n",
              "      <td>Zhejiang</td>\n",
              "      <td>Mainland China</td>\n",
              "      <td>2020-12-07 05:26:14</td>\n",
              "      <td>1295.0</td>\n",
              "      <td>1.0</td>\n",
              "      <td>1288.0</td>\n",
              "    </tr>\n",
              "    <tr>\n",
              "      <th>172478</th>\n",
              "      <td>172479</td>\n",
              "      <td>12/06/2020</td>\n",
              "      <td>Zhytomyr Oblast</td>\n",
              "      <td>Ukraine</td>\n",
              "      <td>2020-12-07 05:26:14</td>\n",
              "      <td>31967.0</td>\n",
              "      <td>531.0</td>\n",
              "      <td>22263.0</td>\n",
              "    </tr>\n",
              "    <tr>\n",
              "      <th>172479</th>\n",
              "      <td>172480</td>\n",
              "      <td>12/06/2020</td>\n",
              "      <td>Zuid-Holland</td>\n",
              "      <td>Netherlands</td>\n",
              "      <td>2020-12-07 05:26:14</td>\n",
              "      <td>154813.0</td>\n",
              "      <td>2414.0</td>\n",
              "      <td>0.0</td>\n",
              "    </tr>\n",
              "  </tbody>\n",
              "</table>\n",
              "</div>"
            ],
            "text/plain": [
              "           SNo ObservationDate     Province/State  ... Confirmed  Deaths  Recovered\n",
              "172475  172476      12/06/2020  Zaporizhia Oblast  ...   36539.0   337.0     6556.0\n",
              "172476  172477      12/06/2020            Zeeland  ...    6710.0   104.0        0.0\n",
              "172477  172478      12/06/2020           Zhejiang  ...    1295.0     1.0     1288.0\n",
              "172478  172479      12/06/2020    Zhytomyr Oblast  ...   31967.0   531.0    22263.0\n",
              "172479  172480      12/06/2020       Zuid-Holland  ...  154813.0  2414.0        0.0\n",
              "\n",
              "[5 rows x 8 columns]"
            ]
          },
          "metadata": {
            "tags": []
          },
          "execution_count": 10
        }
      ]
    },
    {
      "cell_type": "markdown",
      "metadata": {
        "id": "AJeJ1g1qfifn"
      },
      "source": [
        "Pandas objects have a number of attributes enabling you to access the metadata. We can also use the **shape** attribute to check how large this DataFrame is:"
      ]
    },
    {
      "cell_type": "code",
      "metadata": {
        "colab": {
          "base_uri": "https://localhost:8080/"
        },
        "id": "xGPwqsAefifn",
        "outputId": "e967d2b5-945a-49f1-9610-5ecec16d7ddf"
      },
      "source": [
        "#Check the data set size:\n",
        "covid.shape"
      ],
      "execution_count": null,
      "outputs": [
        {
          "output_type": "execute_result",
          "data": {
            "text/plain": [
              "(172480, 8)"
            ]
          },
          "metadata": {
            "tags": []
          },
          "execution_count": 11
        }
      ]
    },
    {
      "cell_type": "markdown",
      "metadata": {
        "id": "3Pctr_Olfifo"
      },
      "source": [
        "To see list of all columns, use *columns* attribute:"
      ]
    },
    {
      "cell_type": "code",
      "metadata": {
        "colab": {
          "base_uri": "https://localhost:8080/"
        },
        "id": "d2t3s2Pffifo",
        "outputId": "28ebe63e-34ed-4568-dd32-be411a38f77a"
      },
      "source": [
        "#See the list of all DataFrame columns:\n",
        "covid.columns"
      ],
      "execution_count": null,
      "outputs": [
        {
          "output_type": "execute_result",
          "data": {
            "text/plain": [
              "Index(['SNo', 'ObservationDate', 'Province/State', 'Country/Region',\n",
              "       'Last Update', 'Confirmed', 'Deaths', 'Recovered'],\n",
              "      dtype='object')"
            ]
          },
          "metadata": {
            "tags": []
          },
          "execution_count": 12
        }
      ]
    },
    {
      "cell_type": "markdown",
      "metadata": {
        "id": "gHLqxnrofifo"
      },
      "source": [
        "There are two ways to access values in any column within the DataFrame. One is the following:"
      ]
    },
    {
      "cell_type": "code",
      "metadata": {
        "colab": {
          "base_uri": "https://localhost:8080/"
        },
        "id": "IWtsl6UKfifp",
        "outputId": "7e70abbc-5ddf-462e-bd3d-510778a8c46a"
      },
      "source": [
        "#Look at first 5 rows of 'ObservationDate' column:\n",
        "covid.ObservationDate.head()"
      ],
      "execution_count": null,
      "outputs": [
        {
          "output_type": "execute_result",
          "data": {
            "text/plain": [
              "0    01/22/2020\n",
              "1    01/22/2020\n",
              "2    01/22/2020\n",
              "3    01/22/2020\n",
              "4    01/22/2020\n",
              "Name: ObservationDate, dtype: object"
            ]
          },
          "metadata": {
            "tags": []
          },
          "execution_count": 13
        }
      ]
    },
    {
      "cell_type": "markdown",
      "metadata": {
        "id": "4VQ7XeEqfifp"
      },
      "source": [
        "And another way is to use Python indexing (**[ ]**) operator:"
      ]
    },
    {
      "cell_type": "code",
      "metadata": {
        "colab": {
          "base_uri": "https://localhost:8080/"
        },
        "id": "K-SiIGbYfifp",
        "outputId": "67a20899-370f-429c-e153-d0a56857a437"
      },
      "source": [
        "#Look at first 5 rows of 'Last Update' column:\n",
        "covid['Last Update'].head()"
      ],
      "execution_count": null,
      "outputs": [
        {
          "output_type": "execute_result",
          "data": {
            "text/plain": [
              "0    1/22/2020 17:00\n",
              "1    1/22/2020 17:00\n",
              "2    1/22/2020 17:00\n",
              "3    1/22/2020 17:00\n",
              "4    1/22/2020 17:00\n",
              "Name: Last Update, dtype: object"
            ]
          },
          "metadata": {
            "tags": []
          },
          "execution_count": 14
        }
      ]
    },
    {
      "cell_type": "markdown",
      "metadata": {
        "id": "0rePrgV3fifp"
      },
      "source": [
        "(The advantage of this way is that it handles column names with reserved characters in them.)"
      ]
    },
    {
      "cell_type": "markdown",
      "metadata": {
        "id": "ZvFPFkp-fifq"
      },
      "source": [
        "We can also select multiple columns by providing list of their names (this will return columns as a new DataFrame):"
      ]
    },
    {
      "cell_type": "code",
      "metadata": {
        "colab": {
          "base_uri": "https://localhost:8080/",
          "height": 204
        },
        "id": "og6X_n8jfifq",
        "outputId": "d4810f55-1746-418d-f263-83ce310a5a50"
      },
      "source": [
        "#select multiple columns:\n",
        "covid[['ObservationDate', 'Confirmed', 'Recovered']].head()"
      ],
      "execution_count": null,
      "outputs": [
        {
          "output_type": "execute_result",
          "data": {
            "text/html": [
              "<div>\n",
              "<style scoped>\n",
              "    .dataframe tbody tr th:only-of-type {\n",
              "        vertical-align: middle;\n",
              "    }\n",
              "\n",
              "    .dataframe tbody tr th {\n",
              "        vertical-align: top;\n",
              "    }\n",
              "\n",
              "    .dataframe thead th {\n",
              "        text-align: right;\n",
              "    }\n",
              "</style>\n",
              "<table border=\"1\" class=\"dataframe\">\n",
              "  <thead>\n",
              "    <tr style=\"text-align: right;\">\n",
              "      <th></th>\n",
              "      <th>ObservationDate</th>\n",
              "      <th>Confirmed</th>\n",
              "      <th>Recovered</th>\n",
              "    </tr>\n",
              "  </thead>\n",
              "  <tbody>\n",
              "    <tr>\n",
              "      <th>0</th>\n",
              "      <td>01/22/2020</td>\n",
              "      <td>1.0</td>\n",
              "      <td>0.0</td>\n",
              "    </tr>\n",
              "    <tr>\n",
              "      <th>1</th>\n",
              "      <td>01/22/2020</td>\n",
              "      <td>14.0</td>\n",
              "      <td>0.0</td>\n",
              "    </tr>\n",
              "    <tr>\n",
              "      <th>2</th>\n",
              "      <td>01/22/2020</td>\n",
              "      <td>6.0</td>\n",
              "      <td>0.0</td>\n",
              "    </tr>\n",
              "    <tr>\n",
              "      <th>3</th>\n",
              "      <td>01/22/2020</td>\n",
              "      <td>1.0</td>\n",
              "      <td>0.0</td>\n",
              "    </tr>\n",
              "    <tr>\n",
              "      <th>4</th>\n",
              "      <td>01/22/2020</td>\n",
              "      <td>0.0</td>\n",
              "      <td>0.0</td>\n",
              "    </tr>\n",
              "  </tbody>\n",
              "</table>\n",
              "</div>"
            ],
            "text/plain": [
              "  ObservationDate  Confirmed  Recovered\n",
              "0      01/22/2020        1.0        0.0\n",
              "1      01/22/2020       14.0        0.0\n",
              "2      01/22/2020        6.0        0.0\n",
              "3      01/22/2020        1.0        0.0\n",
              "4      01/22/2020        0.0        0.0"
            ]
          },
          "metadata": {
            "tags": []
          },
          "execution_count": 15
        }
      ]
    },
    {
      "cell_type": "markdown",
      "metadata": {
        "id": "llrMDRTrfifq"
      },
      "source": [
        "To look at a single specific value within Series, we need to use the indexing operator once more:"
      ]
    },
    {
      "cell_type": "code",
      "metadata": {
        "colab": {
          "base_uri": "https://localhost:8080/",
          "height": 35
        },
        "id": "sehpCW8Tfifq",
        "outputId": "32756e1b-97f9-44f9-d942-ee5dbce75d8e"
      },
      "source": [
        "covid['Province/State'][3]"
      ],
      "execution_count": null,
      "outputs": [
        {
          "output_type": "execute_result",
          "data": {
            "application/vnd.google.colaboratory.intrinsic+json": {
              "type": "string"
            },
            "text/plain": [
              "'Fujian'"
            ]
          },
          "metadata": {
            "tags": []
          },
          "execution_count": 16
        }
      ]
    },
    {
      "cell_type": "code",
      "metadata": {
        "colab": {
          "base_uri": "https://localhost:8080/",
          "height": 204
        },
        "id": "aD7B29uLfifq",
        "outputId": "0793bcd9-8ab1-420f-82e2-8781138919c1"
      },
      "source": [
        "covid.head()"
      ],
      "execution_count": null,
      "outputs": [
        {
          "output_type": "execute_result",
          "data": {
            "text/html": [
              "<div>\n",
              "<style scoped>\n",
              "    .dataframe tbody tr th:only-of-type {\n",
              "        vertical-align: middle;\n",
              "    }\n",
              "\n",
              "    .dataframe tbody tr th {\n",
              "        vertical-align: top;\n",
              "    }\n",
              "\n",
              "    .dataframe thead th {\n",
              "        text-align: right;\n",
              "    }\n",
              "</style>\n",
              "<table border=\"1\" class=\"dataframe\">\n",
              "  <thead>\n",
              "    <tr style=\"text-align: right;\">\n",
              "      <th></th>\n",
              "      <th>SNo</th>\n",
              "      <th>ObservationDate</th>\n",
              "      <th>Province/State</th>\n",
              "      <th>Country/Region</th>\n",
              "      <th>Last Update</th>\n",
              "      <th>Confirmed</th>\n",
              "      <th>Deaths</th>\n",
              "      <th>Recovered</th>\n",
              "    </tr>\n",
              "  </thead>\n",
              "  <tbody>\n",
              "    <tr>\n",
              "      <th>0</th>\n",
              "      <td>1</td>\n",
              "      <td>01/22/2020</td>\n",
              "      <td>Anhui</td>\n",
              "      <td>Mainland China</td>\n",
              "      <td>1/22/2020 17:00</td>\n",
              "      <td>1.0</td>\n",
              "      <td>0.0</td>\n",
              "      <td>0.0</td>\n",
              "    </tr>\n",
              "    <tr>\n",
              "      <th>1</th>\n",
              "      <td>2</td>\n",
              "      <td>01/22/2020</td>\n",
              "      <td>Beijing</td>\n",
              "      <td>Mainland China</td>\n",
              "      <td>1/22/2020 17:00</td>\n",
              "      <td>14.0</td>\n",
              "      <td>0.0</td>\n",
              "      <td>0.0</td>\n",
              "    </tr>\n",
              "    <tr>\n",
              "      <th>2</th>\n",
              "      <td>3</td>\n",
              "      <td>01/22/2020</td>\n",
              "      <td>Chongqing</td>\n",
              "      <td>Mainland China</td>\n",
              "      <td>1/22/2020 17:00</td>\n",
              "      <td>6.0</td>\n",
              "      <td>0.0</td>\n",
              "      <td>0.0</td>\n",
              "    </tr>\n",
              "    <tr>\n",
              "      <th>3</th>\n",
              "      <td>4</td>\n",
              "      <td>01/22/2020</td>\n",
              "      <td>Fujian</td>\n",
              "      <td>Mainland China</td>\n",
              "      <td>1/22/2020 17:00</td>\n",
              "      <td>1.0</td>\n",
              "      <td>0.0</td>\n",
              "      <td>0.0</td>\n",
              "    </tr>\n",
              "    <tr>\n",
              "      <th>4</th>\n",
              "      <td>5</td>\n",
              "      <td>01/22/2020</td>\n",
              "      <td>Gansu</td>\n",
              "      <td>Mainland China</td>\n",
              "      <td>1/22/2020 17:00</td>\n",
              "      <td>0.0</td>\n",
              "      <td>0.0</td>\n",
              "      <td>0.0</td>\n",
              "    </tr>\n",
              "  </tbody>\n",
              "</table>\n",
              "</div>"
            ],
            "text/plain": [
              "   SNo ObservationDate Province/State  ... Confirmed Deaths  Recovered\n",
              "0    1      01/22/2020          Anhui  ...       1.0    0.0        0.0\n",
              "1    2      01/22/2020        Beijing  ...      14.0    0.0        0.0\n",
              "2    3      01/22/2020      Chongqing  ...       6.0    0.0        0.0\n",
              "3    4      01/22/2020         Fujian  ...       1.0    0.0        0.0\n",
              "4    5      01/22/2020          Gansu  ...       0.0    0.0        0.0\n",
              "\n",
              "[5 rows x 8 columns]"
            ]
          },
          "metadata": {
            "tags": []
          },
          "execution_count": 17
        }
      ]
    },
    {
      "cell_type": "markdown",
      "metadata": {
        "id": "HJ8YXyOCfifr"
      },
      "source": [
        "In addition to Python-native indexing operator, we can also use **iloc** and **loc**. \n",
        "\n",
        "We use **iloc** to select data based on its numerical position. "
      ]
    },
    {
      "cell_type": "code",
      "metadata": {
        "colab": {
          "base_uri": "https://localhost:8080/",
          "height": 80
        },
        "id": "jrbW7QnOfifr",
        "outputId": "e7bb13f9-c32a-4bbe-913c-3978a0ed0d89"
      },
      "source": [
        "#Select first row of data:\n",
        "covid.iloc[0]"
      ],
      "execution_count": null,
      "outputs": [
        {
          "output_type": "execute_result",
          "data": {
            "text/html": [
              "<div>\n",
              "<style scoped>\n",
              "    .dataframe tbody tr th:only-of-type {\n",
              "        vertical-align: middle;\n",
              "    }\n",
              "\n",
              "    .dataframe tbody tr th {\n",
              "        vertical-align: top;\n",
              "    }\n",
              "\n",
              "    .dataframe thead th {\n",
              "        text-align: right;\n",
              "    }\n",
              "</style>\n",
              "<table border=\"1\" class=\"dataframe\">\n",
              "  <thead>\n",
              "    <tr style=\"text-align: right;\">\n",
              "      <th></th>\n",
              "      <th>SNo</th>\n",
              "      <th>ObservationDate</th>\n",
              "      <th>Province/State</th>\n",
              "      <th>Country/Region</th>\n",
              "      <th>Last Update</th>\n",
              "      <th>Confirmed</th>\n",
              "      <th>Deaths</th>\n",
              "      <th>Recovered</th>\n",
              "    </tr>\n",
              "  </thead>\n",
              "  <tbody>\n",
              "    <tr>\n",
              "      <th>0</th>\n",
              "      <td>1</td>\n",
              "      <td>01/22/2020</td>\n",
              "      <td>Anhui</td>\n",
              "      <td>Mainland China</td>\n",
              "      <td>1/22/2020 17:00</td>\n",
              "      <td>1.0</td>\n",
              "      <td>0.0</td>\n",
              "      <td>0.0</td>\n",
              "    </tr>\n",
              "  </tbody>\n",
              "</table>\n",
              "</div>"
            ],
            "text/plain": [
              "   SNo ObservationDate Province/State  ... Confirmed Deaths  Recovered\n",
              "0    1      01/22/2020          Anhui  ...       1.0    0.0        0.0\n",
              "\n",
              "[1 rows x 8 columns]"
            ]
          },
          "metadata": {
            "tags": []
          },
          "execution_count": 18
        }
      ]
    },
    {
      "cell_type": "code",
      "metadata": {
        "colab": {
          "base_uri": "https://localhost:8080/"
        },
        "id": "K4HKtLvyfifr",
        "outputId": "c8a01605-6676-4c7f-abf1-003d298fe317"
      },
      "source": [
        "#If, instead, we want to get first column of data, we would use:\n",
        "covid.iloc[:, 2].head()"
      ],
      "execution_count": null,
      "outputs": [
        {
          "output_type": "execute_result",
          "data": {
            "text/plain": [
              "0        Anhui\n",
              "1      Beijing\n",
              "2    Chongqing\n",
              "3       Fujian\n",
              "4        Gansu\n",
              "Name: Province/State, dtype: object"
            ]
          },
          "metadata": {
            "tags": []
          },
          "execution_count": 19
        }
      ]
    },
    {
      "cell_type": "markdown",
      "metadata": {
        "id": "EwnzvKzwfifr"
      },
      "source": [
        "We use **loc** for label-based selection:"
      ]
    },
    {
      "cell_type": "code",
      "metadata": {
        "colab": {
          "base_uri": "https://localhost:8080/",
          "height": 204
        },
        "id": "hPoOwEBxfifr",
        "outputId": "886cb74a-62cc-41ac-b7bd-ee1454f4b696"
      },
      "source": [
        "covid.loc[:, ['ObservationDate', 'Country/Region', 'Confirmed']].head()"
      ],
      "execution_count": null,
      "outputs": [
        {
          "output_type": "execute_result",
          "data": {
            "text/html": [
              "<div>\n",
              "<style scoped>\n",
              "    .dataframe tbody tr th:only-of-type {\n",
              "        vertical-align: middle;\n",
              "    }\n",
              "\n",
              "    .dataframe tbody tr th {\n",
              "        vertical-align: top;\n",
              "    }\n",
              "\n",
              "    .dataframe thead th {\n",
              "        text-align: right;\n",
              "    }\n",
              "</style>\n",
              "<table border=\"1\" class=\"dataframe\">\n",
              "  <thead>\n",
              "    <tr style=\"text-align: right;\">\n",
              "      <th></th>\n",
              "      <th>ObservationDate</th>\n",
              "      <th>Country/Region</th>\n",
              "      <th>Confirmed</th>\n",
              "    </tr>\n",
              "  </thead>\n",
              "  <tbody>\n",
              "    <tr>\n",
              "      <th>0</th>\n",
              "      <td>01/22/2020</td>\n",
              "      <td>Mainland China</td>\n",
              "      <td>1.0</td>\n",
              "    </tr>\n",
              "    <tr>\n",
              "      <th>1</th>\n",
              "      <td>01/22/2020</td>\n",
              "      <td>Mainland China</td>\n",
              "      <td>14.0</td>\n",
              "    </tr>\n",
              "    <tr>\n",
              "      <th>2</th>\n",
              "      <td>01/22/2020</td>\n",
              "      <td>Mainland China</td>\n",
              "      <td>6.0</td>\n",
              "    </tr>\n",
              "    <tr>\n",
              "      <th>3</th>\n",
              "      <td>01/22/2020</td>\n",
              "      <td>Mainland China</td>\n",
              "      <td>1.0</td>\n",
              "    </tr>\n",
              "    <tr>\n",
              "      <th>4</th>\n",
              "      <td>01/22/2020</td>\n",
              "      <td>Mainland China</td>\n",
              "      <td>0.0</td>\n",
              "    </tr>\n",
              "  </tbody>\n",
              "</table>\n",
              "</div>"
            ],
            "text/plain": [
              "  ObservationDate  Country/Region  Confirmed\n",
              "0      01/22/2020  Mainland China        1.0\n",
              "1      01/22/2020  Mainland China       14.0\n",
              "2      01/22/2020  Mainland China        6.0\n",
              "3      01/22/2020  Mainland China        1.0\n",
              "4      01/22/2020  Mainland China        0.0"
            ]
          },
          "metadata": {
            "tags": []
          },
          "execution_count": 20
        }
      ]
    },
    {
      "cell_type": "markdown",
      "metadata": {
        "id": "3IxdcUDSfifs"
      },
      "source": [
        "Usually, data selection based on *conditions* provides the most interesting insights."
      ]
    },
    {
      "cell_type": "markdown",
      "metadata": {
        "id": "Kyw9Npc-fifs"
      },
      "source": [
        "Let's take a look at Italy-related data:"
      ]
    },
    {
      "cell_type": "code",
      "metadata": {
        "colab": {
          "base_uri": "https://localhost:8080/",
          "height": 419
        },
        "id": "hmYWeB5mfifs",
        "outputId": "86d0c72c-1952-4fa4-b7a5-2acedb77c9df"
      },
      "source": [
        "#Select 'Italy' Country/Region data:\n",
        "covid[covid['Country/Region'] == 'Italy']"
      ],
      "execution_count": null,
      "outputs": [
        {
          "output_type": "execute_result",
          "data": {
            "text/html": [
              "<div>\n",
              "<style scoped>\n",
              "    .dataframe tbody tr th:only-of-type {\n",
              "        vertical-align: middle;\n",
              "    }\n",
              "\n",
              "    .dataframe tbody tr th {\n",
              "        vertical-align: top;\n",
              "    }\n",
              "\n",
              "    .dataframe thead th {\n",
              "        text-align: right;\n",
              "    }\n",
              "</style>\n",
              "<table border=\"1\" class=\"dataframe\">\n",
              "  <thead>\n",
              "    <tr style=\"text-align: right;\">\n",
              "      <th></th>\n",
              "      <th>SNo</th>\n",
              "      <th>ObservationDate</th>\n",
              "      <th>Province/State</th>\n",
              "      <th>Country/Region</th>\n",
              "      <th>Last Update</th>\n",
              "      <th>Confirmed</th>\n",
              "      <th>Deaths</th>\n",
              "      <th>Recovered</th>\n",
              "    </tr>\n",
              "  </thead>\n",
              "  <tbody>\n",
              "    <tr>\n",
              "      <th>480</th>\n",
              "      <td>481</td>\n",
              "      <td>01/31/2020</td>\n",
              "      <td>None</td>\n",
              "      <td>Italy</td>\n",
              "      <td>1/31/2020 23:59</td>\n",
              "      <td>2.0</td>\n",
              "      <td>0.0</td>\n",
              "      <td>0.0</td>\n",
              "    </tr>\n",
              "    <tr>\n",
              "      <th>539</th>\n",
              "      <td>540</td>\n",
              "      <td>02/01/2020</td>\n",
              "      <td>None</td>\n",
              "      <td>Italy</td>\n",
              "      <td>1/31/2020 8:15</td>\n",
              "      <td>2.0</td>\n",
              "      <td>0.0</td>\n",
              "      <td>0.0</td>\n",
              "    </tr>\n",
              "    <tr>\n",
              "      <th>608</th>\n",
              "      <td>609</td>\n",
              "      <td>02/02/2020</td>\n",
              "      <td>None</td>\n",
              "      <td>Italy</td>\n",
              "      <td>2020-01-31T08:15:53</td>\n",
              "      <td>2.0</td>\n",
              "      <td>0.0</td>\n",
              "      <td>0.0</td>\n",
              "    </tr>\n",
              "    <tr>\n",
              "      <th>675</th>\n",
              "      <td>676</td>\n",
              "      <td>02/03/2020</td>\n",
              "      <td>None</td>\n",
              "      <td>Italy</td>\n",
              "      <td>2020-01-31T08:15:53</td>\n",
              "      <td>2.0</td>\n",
              "      <td>0.0</td>\n",
              "      <td>0.0</td>\n",
              "    </tr>\n",
              "    <tr>\n",
              "      <th>743</th>\n",
              "      <td>744</td>\n",
              "      <td>02/04/2020</td>\n",
              "      <td>None</td>\n",
              "      <td>Italy</td>\n",
              "      <td>2020-01-31T08:15:53</td>\n",
              "      <td>2.0</td>\n",
              "      <td>0.0</td>\n",
              "      <td>0.0</td>\n",
              "    </tr>\n",
              "    <tr>\n",
              "      <th>...</th>\n",
              "      <td>...</td>\n",
              "      <td>...</td>\n",
              "      <td>...</td>\n",
              "      <td>...</td>\n",
              "      <td>...</td>\n",
              "      <td>...</td>\n",
              "      <td>...</td>\n",
              "      <td>...</td>\n",
              "    </tr>\n",
              "    <tr>\n",
              "      <th>172361</th>\n",
              "      <td>172362</td>\n",
              "      <td>12/06/2020</td>\n",
              "      <td>Sicilia</td>\n",
              "      <td>Italy</td>\n",
              "      <td>2020-12-07 05:26:14</td>\n",
              "      <td>71489.0</td>\n",
              "      <td>1759.0</td>\n",
              "      <td>29984.0</td>\n",
              "    </tr>\n",
              "    <tr>\n",
              "      <th>172401</th>\n",
              "      <td>172402</td>\n",
              "      <td>12/06/2020</td>\n",
              "      <td>Toscana</td>\n",
              "      <td>Italy</td>\n",
              "      <td>2020-12-07 05:26:14</td>\n",
              "      <td>108397.0</td>\n",
              "      <td>2867.0</td>\n",
              "      <td>76331.0</td>\n",
              "    </tr>\n",
              "    <tr>\n",
              "      <th>172414</th>\n",
              "      <td>172415</td>\n",
              "      <td>12/06/2020</td>\n",
              "      <td>Umbria</td>\n",
              "      <td>Italy</td>\n",
              "      <td>2020-12-07 05:26:14</td>\n",
              "      <td>25144.0</td>\n",
              "      <td>460.0</td>\n",
              "      <td>18619.0</td>\n",
              "    </tr>\n",
              "    <tr>\n",
              "      <th>172431</th>\n",
              "      <td>172432</td>\n",
              "      <td>12/06/2020</td>\n",
              "      <td>Valle d'Aosta</td>\n",
              "      <td>Italy</td>\n",
              "      <td>2020-12-07 05:26:14</td>\n",
              "      <td>6726.0</td>\n",
              "      <td>333.0</td>\n",
              "      <td>5406.0</td>\n",
              "    </tr>\n",
              "    <tr>\n",
              "      <th>172440</th>\n",
              "      <td>172441</td>\n",
              "      <td>12/06/2020</td>\n",
              "      <td>Veneto</td>\n",
              "      <td>Italy</td>\n",
              "      <td>2020-12-07 05:26:14</td>\n",
              "      <td>165249.0</td>\n",
              "      <td>4210.0</td>\n",
              "      <td>84235.0</td>\n",
              "    </tr>\n",
              "  </tbody>\n",
              "</table>\n",
              "<p>4451 rows × 8 columns</p>\n",
              "</div>"
            ],
            "text/plain": [
              "           SNo ObservationDate Province/State  ... Confirmed  Deaths  Recovered\n",
              "480        481      01/31/2020           None  ...       2.0     0.0        0.0\n",
              "539        540      02/01/2020           None  ...       2.0     0.0        0.0\n",
              "608        609      02/02/2020           None  ...       2.0     0.0        0.0\n",
              "675        676      02/03/2020           None  ...       2.0     0.0        0.0\n",
              "743        744      02/04/2020           None  ...       2.0     0.0        0.0\n",
              "...        ...             ...            ...  ...       ...     ...        ...\n",
              "172361  172362      12/06/2020        Sicilia  ...   71489.0  1759.0    29984.0\n",
              "172401  172402      12/06/2020        Toscana  ...  108397.0  2867.0    76331.0\n",
              "172414  172415      12/06/2020         Umbria  ...   25144.0   460.0    18619.0\n",
              "172431  172432      12/06/2020  Valle d'Aosta  ...    6726.0   333.0     5406.0\n",
              "172440  172441      12/06/2020         Veneto  ...  165249.0  4210.0    84235.0\n",
              "\n",
              "[4451 rows x 8 columns]"
            ]
          },
          "metadata": {
            "tags": []
          },
          "execution_count": 21
        }
      ]
    },
    {
      "cell_type": "markdown",
      "metadata": {
        "id": "VwAMXUCofifs"
      },
      "source": [
        "To see the number of confirmed cases in Italy as of April 13, we can use the apmersand (**&**) to bring the two questions together:"
      ]
    },
    {
      "cell_type": "code",
      "metadata": {
        "colab": {
          "base_uri": "https://localhost:8080/"
        },
        "id": "0ZbkXMMHfifs",
        "outputId": "a6b438c2-82d8-4e53-cf22-f26dce86b9cc"
      },
      "source": [
        "#Confirmed cases in Italy as of April 13, 2020:\n",
        "covid[(covid['Country/Region'] == 'Italy') & (covid['ObservationDate'] == '04/13/2020')].Confirmed"
      ],
      "execution_count": null,
      "outputs": [
        {
          "output_type": "execute_result",
          "data": {
            "text/plain": [
              "14591    159516.0\n",
              "Name: Confirmed, dtype: float64"
            ]
          },
          "metadata": {
            "tags": []
          },
          "execution_count": 22
        }
      ]
    },
    {
      "cell_type": "markdown",
      "metadata": {
        "id": "5tgA9WD0fift"
      },
      "source": [
        "If, instead, we are interested in seeing all the data related to California or Washington states in US, we would use a pipe (**|**):"
      ]
    },
    {
      "cell_type": "code",
      "metadata": {
        "colab": {
          "base_uri": "https://localhost:8080/",
          "height": 266
        },
        "id": "3rZm2VxWfift",
        "outputId": "46df8d6d-14f1-46ed-c8b5-a96e24b27740"
      },
      "source": [
        "covid[(covid['Country/Region'] == 'US') &\n",
        "      ((covid['Province/State'] == 'Washington') | (covid['Province/State'] == 'California'))].head(7)"
      ],
      "execution_count": null,
      "outputs": [
        {
          "output_type": "execute_result",
          "data": {
            "text/html": [
              "<div>\n",
              "<style scoped>\n",
              "    .dataframe tbody tr th:only-of-type {\n",
              "        vertical-align: middle;\n",
              "    }\n",
              "\n",
              "    .dataframe tbody tr th {\n",
              "        vertical-align: top;\n",
              "    }\n",
              "\n",
              "    .dataframe thead th {\n",
              "        text-align: right;\n",
              "    }\n",
              "</style>\n",
              "<table border=\"1\" class=\"dataframe\">\n",
              "  <thead>\n",
              "    <tr style=\"text-align: right;\">\n",
              "      <th></th>\n",
              "      <th>SNo</th>\n",
              "      <th>ObservationDate</th>\n",
              "      <th>Province/State</th>\n",
              "      <th>Country/Region</th>\n",
              "      <th>Last Update</th>\n",
              "      <th>Confirmed</th>\n",
              "      <th>Deaths</th>\n",
              "      <th>Recovered</th>\n",
              "    </tr>\n",
              "  </thead>\n",
              "  <tbody>\n",
              "    <tr>\n",
              "      <th>31</th>\n",
              "      <td>32</td>\n",
              "      <td>01/22/2020</td>\n",
              "      <td>Washington</td>\n",
              "      <td>US</td>\n",
              "      <td>1/22/2020 17:00</td>\n",
              "      <td>1.0</td>\n",
              "      <td>0.0</td>\n",
              "      <td>0.0</td>\n",
              "    </tr>\n",
              "    <tr>\n",
              "      <th>69</th>\n",
              "      <td>70</td>\n",
              "      <td>01/23/2020</td>\n",
              "      <td>Washington</td>\n",
              "      <td>US</td>\n",
              "      <td>1/23/20 17:00</td>\n",
              "      <td>1.0</td>\n",
              "      <td>0.0</td>\n",
              "      <td>0.0</td>\n",
              "    </tr>\n",
              "    <tr>\n",
              "      <th>117</th>\n",
              "      <td>118</td>\n",
              "      <td>01/24/2020</td>\n",
              "      <td>Washington</td>\n",
              "      <td>US</td>\n",
              "      <td>1/24/20 17:00</td>\n",
              "      <td>1.0</td>\n",
              "      <td>0.0</td>\n",
              "      <td>0.0</td>\n",
              "    </tr>\n",
              "    <tr>\n",
              "      <th>158</th>\n",
              "      <td>159</td>\n",
              "      <td>01/25/2020</td>\n",
              "      <td>Washington</td>\n",
              "      <td>US</td>\n",
              "      <td>1/25/20 17:00</td>\n",
              "      <td>1.0</td>\n",
              "      <td>0.0</td>\n",
              "      <td>0.0</td>\n",
              "    </tr>\n",
              "    <tr>\n",
              "      <th>202</th>\n",
              "      <td>203</td>\n",
              "      <td>01/26/2020</td>\n",
              "      <td>Washington</td>\n",
              "      <td>US</td>\n",
              "      <td>1/26/20 16:00</td>\n",
              "      <td>1.0</td>\n",
              "      <td>0.0</td>\n",
              "      <td>0.0</td>\n",
              "    </tr>\n",
              "    <tr>\n",
              "      <th>204</th>\n",
              "      <td>205</td>\n",
              "      <td>01/26/2020</td>\n",
              "      <td>California</td>\n",
              "      <td>US</td>\n",
              "      <td>1/26/20 16:00</td>\n",
              "      <td>2.0</td>\n",
              "      <td>0.0</td>\n",
              "      <td>0.0</td>\n",
              "    </tr>\n",
              "    <tr>\n",
              "      <th>249</th>\n",
              "      <td>250</td>\n",
              "      <td>01/27/2020</td>\n",
              "      <td>Washington</td>\n",
              "      <td>US</td>\n",
              "      <td>1/27/20 23:59</td>\n",
              "      <td>1.0</td>\n",
              "      <td>0.0</td>\n",
              "      <td>0.0</td>\n",
              "    </tr>\n",
              "  </tbody>\n",
              "</table>\n",
              "</div>"
            ],
            "text/plain": [
              "     SNo ObservationDate Province/State  ... Confirmed Deaths  Recovered\n",
              "31    32      01/22/2020     Washington  ...       1.0    0.0        0.0\n",
              "69    70      01/23/2020     Washington  ...       1.0    0.0        0.0\n",
              "117  118      01/24/2020     Washington  ...       1.0    0.0        0.0\n",
              "158  159      01/25/2020     Washington  ...       1.0    0.0        0.0\n",
              "202  203      01/26/2020     Washington  ...       1.0    0.0        0.0\n",
              "204  205      01/26/2020     California  ...       2.0    0.0        0.0\n",
              "249  250      01/27/2020     Washington  ...       1.0    0.0        0.0\n",
              "\n",
              "[7 rows x 8 columns]"
            ]
          },
          "metadata": {
            "tags": []
          },
          "execution_count": 23
        }
      ]
    },
    {
      "cell_type": "markdown",
      "metadata": {
        "id": "u7LcFQ8vfift"
      },
      "source": [
        "To get the same results, we might also use pandas built-in conditional selector **isin()**:"
      ]
    },
    {
      "cell_type": "code",
      "metadata": {
        "colab": {
          "base_uri": "https://localhost:8080/",
          "height": 266
        },
        "id": "lquLNtiSfift",
        "outputId": "798b0198-0daf-4d74-d6d2-d30103adcbb2"
      },
      "source": [
        "#Alternative way of looking at all data relates to CA and WA states in US:\n",
        "covid[(covid['Country/Region'] == 'US') &\n",
        "      (covid['Province/State'].isin(['Washington', 'California']))].head(7)"
      ],
      "execution_count": null,
      "outputs": [
        {
          "output_type": "execute_result",
          "data": {
            "text/html": [
              "<div>\n",
              "<style scoped>\n",
              "    .dataframe tbody tr th:only-of-type {\n",
              "        vertical-align: middle;\n",
              "    }\n",
              "\n",
              "    .dataframe tbody tr th {\n",
              "        vertical-align: top;\n",
              "    }\n",
              "\n",
              "    .dataframe thead th {\n",
              "        text-align: right;\n",
              "    }\n",
              "</style>\n",
              "<table border=\"1\" class=\"dataframe\">\n",
              "  <thead>\n",
              "    <tr style=\"text-align: right;\">\n",
              "      <th></th>\n",
              "      <th>SNo</th>\n",
              "      <th>ObservationDate</th>\n",
              "      <th>Province/State</th>\n",
              "      <th>Country/Region</th>\n",
              "      <th>Last Update</th>\n",
              "      <th>Confirmed</th>\n",
              "      <th>Deaths</th>\n",
              "      <th>Recovered</th>\n",
              "    </tr>\n",
              "  </thead>\n",
              "  <tbody>\n",
              "    <tr>\n",
              "      <th>31</th>\n",
              "      <td>32</td>\n",
              "      <td>01/22/2020</td>\n",
              "      <td>Washington</td>\n",
              "      <td>US</td>\n",
              "      <td>1/22/2020 17:00</td>\n",
              "      <td>1.0</td>\n",
              "      <td>0.0</td>\n",
              "      <td>0.0</td>\n",
              "    </tr>\n",
              "    <tr>\n",
              "      <th>69</th>\n",
              "      <td>70</td>\n",
              "      <td>01/23/2020</td>\n",
              "      <td>Washington</td>\n",
              "      <td>US</td>\n",
              "      <td>1/23/20 17:00</td>\n",
              "      <td>1.0</td>\n",
              "      <td>0.0</td>\n",
              "      <td>0.0</td>\n",
              "    </tr>\n",
              "    <tr>\n",
              "      <th>117</th>\n",
              "      <td>118</td>\n",
              "      <td>01/24/2020</td>\n",
              "      <td>Washington</td>\n",
              "      <td>US</td>\n",
              "      <td>1/24/20 17:00</td>\n",
              "      <td>1.0</td>\n",
              "      <td>0.0</td>\n",
              "      <td>0.0</td>\n",
              "    </tr>\n",
              "    <tr>\n",
              "      <th>158</th>\n",
              "      <td>159</td>\n",
              "      <td>01/25/2020</td>\n",
              "      <td>Washington</td>\n",
              "      <td>US</td>\n",
              "      <td>1/25/20 17:00</td>\n",
              "      <td>1.0</td>\n",
              "      <td>0.0</td>\n",
              "      <td>0.0</td>\n",
              "    </tr>\n",
              "    <tr>\n",
              "      <th>202</th>\n",
              "      <td>203</td>\n",
              "      <td>01/26/2020</td>\n",
              "      <td>Washington</td>\n",
              "      <td>US</td>\n",
              "      <td>1/26/20 16:00</td>\n",
              "      <td>1.0</td>\n",
              "      <td>0.0</td>\n",
              "      <td>0.0</td>\n",
              "    </tr>\n",
              "    <tr>\n",
              "      <th>204</th>\n",
              "      <td>205</td>\n",
              "      <td>01/26/2020</td>\n",
              "      <td>California</td>\n",
              "      <td>US</td>\n",
              "      <td>1/26/20 16:00</td>\n",
              "      <td>2.0</td>\n",
              "      <td>0.0</td>\n",
              "      <td>0.0</td>\n",
              "    </tr>\n",
              "    <tr>\n",
              "      <th>249</th>\n",
              "      <td>250</td>\n",
              "      <td>01/27/2020</td>\n",
              "      <td>Washington</td>\n",
              "      <td>US</td>\n",
              "      <td>1/27/20 23:59</td>\n",
              "      <td>1.0</td>\n",
              "      <td>0.0</td>\n",
              "      <td>0.0</td>\n",
              "    </tr>\n",
              "  </tbody>\n",
              "</table>\n",
              "</div>"
            ],
            "text/plain": [
              "     SNo ObservationDate Province/State  ... Confirmed Deaths  Recovered\n",
              "31    32      01/22/2020     Washington  ...       1.0    0.0        0.0\n",
              "69    70      01/23/2020     Washington  ...       1.0    0.0        0.0\n",
              "117  118      01/24/2020     Washington  ...       1.0    0.0        0.0\n",
              "158  159      01/25/2020     Washington  ...       1.0    0.0        0.0\n",
              "202  203      01/26/2020     Washington  ...       1.0    0.0        0.0\n",
              "204  205      01/26/2020     California  ...       2.0    0.0        0.0\n",
              "249  250      01/27/2020     Washington  ...       1.0    0.0        0.0\n",
              "\n",
              "[7 rows x 8 columns]"
            ]
          },
          "metadata": {
            "tags": []
          },
          "execution_count": 24
        }
      ]
    },
    {
      "cell_type": "markdown",
      "metadata": {
        "id": "8QkakViefift"
      },
      "source": [
        "### Assigning data"
      ]
    },
    {
      "cell_type": "markdown",
      "metadata": {
        "id": "Ga-utYPTfift"
      },
      "source": [
        "Sometimes we might want to re-write all the values within the Series. For example, we can create a new column \"Source\", and fill it in with \"Trusted\":"
      ]
    },
    {
      "cell_type": "code",
      "metadata": {
        "colab": {
          "base_uri": "https://localhost:8080/",
          "height": 204
        },
        "id": "uPJwmGUHfifu",
        "outputId": "1c878a82-4a59-4286-9bed-884ff32a6363"
      },
      "source": [
        "#Create a new \"Source\" column:\n",
        "covid['Source'] = 'Trusted'\n",
        "covid.head()"
      ],
      "execution_count": null,
      "outputs": [
        {
          "output_type": "execute_result",
          "data": {
            "text/html": [
              "<div>\n",
              "<style scoped>\n",
              "    .dataframe tbody tr th:only-of-type {\n",
              "        vertical-align: middle;\n",
              "    }\n",
              "\n",
              "    .dataframe tbody tr th {\n",
              "        vertical-align: top;\n",
              "    }\n",
              "\n",
              "    .dataframe thead th {\n",
              "        text-align: right;\n",
              "    }\n",
              "</style>\n",
              "<table border=\"1\" class=\"dataframe\">\n",
              "  <thead>\n",
              "    <tr style=\"text-align: right;\">\n",
              "      <th></th>\n",
              "      <th>SNo</th>\n",
              "      <th>ObservationDate</th>\n",
              "      <th>Province/State</th>\n",
              "      <th>Country/Region</th>\n",
              "      <th>Last Update</th>\n",
              "      <th>Confirmed</th>\n",
              "      <th>Deaths</th>\n",
              "      <th>Recovered</th>\n",
              "      <th>Source</th>\n",
              "    </tr>\n",
              "  </thead>\n",
              "  <tbody>\n",
              "    <tr>\n",
              "      <th>0</th>\n",
              "      <td>1</td>\n",
              "      <td>01/22/2020</td>\n",
              "      <td>Anhui</td>\n",
              "      <td>Mainland China</td>\n",
              "      <td>1/22/2020 17:00</td>\n",
              "      <td>1.0</td>\n",
              "      <td>0.0</td>\n",
              "      <td>0.0</td>\n",
              "      <td>Trusted</td>\n",
              "    </tr>\n",
              "    <tr>\n",
              "      <th>1</th>\n",
              "      <td>2</td>\n",
              "      <td>01/22/2020</td>\n",
              "      <td>Beijing</td>\n",
              "      <td>Mainland China</td>\n",
              "      <td>1/22/2020 17:00</td>\n",
              "      <td>14.0</td>\n",
              "      <td>0.0</td>\n",
              "      <td>0.0</td>\n",
              "      <td>Trusted</td>\n",
              "    </tr>\n",
              "    <tr>\n",
              "      <th>2</th>\n",
              "      <td>3</td>\n",
              "      <td>01/22/2020</td>\n",
              "      <td>Chongqing</td>\n",
              "      <td>Mainland China</td>\n",
              "      <td>1/22/2020 17:00</td>\n",
              "      <td>6.0</td>\n",
              "      <td>0.0</td>\n",
              "      <td>0.0</td>\n",
              "      <td>Trusted</td>\n",
              "    </tr>\n",
              "    <tr>\n",
              "      <th>3</th>\n",
              "      <td>4</td>\n",
              "      <td>01/22/2020</td>\n",
              "      <td>Fujian</td>\n",
              "      <td>Mainland China</td>\n",
              "      <td>1/22/2020 17:00</td>\n",
              "      <td>1.0</td>\n",
              "      <td>0.0</td>\n",
              "      <td>0.0</td>\n",
              "      <td>Trusted</td>\n",
              "    </tr>\n",
              "    <tr>\n",
              "      <th>4</th>\n",
              "      <td>5</td>\n",
              "      <td>01/22/2020</td>\n",
              "      <td>Gansu</td>\n",
              "      <td>Mainland China</td>\n",
              "      <td>1/22/2020 17:00</td>\n",
              "      <td>0.0</td>\n",
              "      <td>0.0</td>\n",
              "      <td>0.0</td>\n",
              "      <td>Trusted</td>\n",
              "    </tr>\n",
              "  </tbody>\n",
              "</table>\n",
              "</div>"
            ],
            "text/plain": [
              "   SNo ObservationDate Province/State  ... Deaths Recovered   Source\n",
              "0    1      01/22/2020          Anhui  ...    0.0       0.0  Trusted\n",
              "1    2      01/22/2020        Beijing  ...    0.0       0.0  Trusted\n",
              "2    3      01/22/2020      Chongqing  ...    0.0       0.0  Trusted\n",
              "3    4      01/22/2020         Fujian  ...    0.0       0.0  Trusted\n",
              "4    5      01/22/2020          Gansu  ...    0.0       0.0  Trusted\n",
              "\n",
              "[5 rows x 9 columns]"
            ]
          },
          "metadata": {
            "tags": []
          },
          "execution_count": 25
        }
      ]
    },
    {
      "cell_type": "markdown",
      "metadata": {
        "id": "opcxDeEOfifu"
      },
      "source": [
        "## 2. Exploratory data analysis with pandas"
      ]
    },
    {
      "cell_type": "markdown",
      "metadata": {
        "id": "uQtr0nJSfifu"
      },
      "source": [
        "### Data cleaning"
      ]
    },
    {
      "cell_type": "markdown",
      "metadata": {
        "id": "9oSo_4u1fifu"
      },
      "source": [
        "#### Remove unnecessary data"
      ]
    },
    {
      "cell_type": "markdown",
      "metadata": {
        "id": "7HbUiPVefifu"
      },
      "source": [
        "Now that we have covered some basics of data exporting and viewing, let's see how we can clean our sample dataset for further analysis."
      ]
    },
    {
      "cell_type": "markdown",
      "metadata": {
        "id": "v-cDdn51fifv"
      },
      "source": [
        "First of all, let's delete the \"Source\" column we just created. To do this, we will use **drop()** method. Its *axis* parameter identifies whether we want to drop labels from the index (0 or ‘index’) or columns (1 or ‘columns’):"
      ]
    },
    {
      "cell_type": "code",
      "metadata": {
        "colab": {
          "base_uri": "https://localhost:8080/",
          "height": 111
        },
        "id": "ObDLN98bfifw",
        "outputId": "c9c863aa-ea65-4466-9256-42467b81b531"
      },
      "source": [
        "#drop \"Source', 'SNo', and 'LastUpdate' columns:\n",
        "covid = covid.drop(['Source', 'Last Update', 'SNo'], axis = 1)\n",
        "covid.head(2)"
      ],
      "execution_count": null,
      "outputs": [
        {
          "output_type": "execute_result",
          "data": {
            "text/html": [
              "<div>\n",
              "<style scoped>\n",
              "    .dataframe tbody tr th:only-of-type {\n",
              "        vertical-align: middle;\n",
              "    }\n",
              "\n",
              "    .dataframe tbody tr th {\n",
              "        vertical-align: top;\n",
              "    }\n",
              "\n",
              "    .dataframe thead th {\n",
              "        text-align: right;\n",
              "    }\n",
              "</style>\n",
              "<table border=\"1\" class=\"dataframe\">\n",
              "  <thead>\n",
              "    <tr style=\"text-align: right;\">\n",
              "      <th></th>\n",
              "      <th>ObservationDate</th>\n",
              "      <th>Province/State</th>\n",
              "      <th>Country/Region</th>\n",
              "      <th>Confirmed</th>\n",
              "      <th>Deaths</th>\n",
              "      <th>Recovered</th>\n",
              "    </tr>\n",
              "  </thead>\n",
              "  <tbody>\n",
              "    <tr>\n",
              "      <th>0</th>\n",
              "      <td>01/22/2020</td>\n",
              "      <td>Anhui</td>\n",
              "      <td>Mainland China</td>\n",
              "      <td>1.0</td>\n",
              "      <td>0.0</td>\n",
              "      <td>0.0</td>\n",
              "    </tr>\n",
              "    <tr>\n",
              "      <th>1</th>\n",
              "      <td>01/22/2020</td>\n",
              "      <td>Beijing</td>\n",
              "      <td>Mainland China</td>\n",
              "      <td>14.0</td>\n",
              "      <td>0.0</td>\n",
              "      <td>0.0</td>\n",
              "    </tr>\n",
              "  </tbody>\n",
              "</table>\n",
              "</div>"
            ],
            "text/plain": [
              "  ObservationDate Province/State  Country/Region  Confirmed  Deaths  Recovered\n",
              "0      01/22/2020          Anhui  Mainland China        1.0     0.0        0.0\n",
              "1      01/22/2020        Beijing  Mainland China       14.0     0.0        0.0"
            ]
          },
          "metadata": {
            "tags": []
          },
          "execution_count": 26
        }
      ]
    },
    {
      "cell_type": "markdown",
      "metadata": {
        "id": "JeWFmMVafifx"
      },
      "source": [
        "(Here, we also dropped 'SNo' column, which is basically another index column, and 'Last Update' column since it was showing time in UTC at which the row is updated for the given province or country.)"
      ]
    },
    {
      "cell_type": "code",
      "metadata": {
        "id": "1yjO_o-Jfifx"
      },
      "source": [
        "#To drop a row (or multiple rows) by index, we would use the following syntax:\n",
        "#covid.drop([0, 1]) - drop first two rows"
      ],
      "execution_count": null,
      "outputs": []
    },
    {
      "cell_type": "markdown",
      "metadata": {
        "id": "OjeJgHBQfifx"
      },
      "source": [
        "#### Rename columns"
      ]
    },
    {
      "cell_type": "markdown",
      "metadata": {
        "id": "WYos2P8Ififx"
      },
      "source": [
        "Sometimes, data sets we are working with come with column names or index names which are not very convenient. For example, we have 'Province/State' and 'Country/Region' columns which have special characters in their names, and also 'Last Update' column with a space in it. Let's rename them:"
      ]
    },
    {
      "cell_type": "code",
      "metadata": {
        "colab": {
          "base_uri": "https://localhost:8080/",
          "height": 204
        },
        "id": "-KWm7Fgmfify",
        "outputId": "f80ab6ec-84b7-4958-91a0-ed56f9e1bdcb"
      },
      "source": [
        "#Rename 'Province/State' column to a 'Region', and 'Country/Region' column to a 'Country':\n",
        "covid = covid.rename(columns = {'Province/State': 'Region', 'Country/Region': 'Country'})\n",
        "covid.head()"
      ],
      "execution_count": null,
      "outputs": [
        {
          "output_type": "execute_result",
          "data": {
            "text/html": [
              "<div>\n",
              "<style scoped>\n",
              "    .dataframe tbody tr th:only-of-type {\n",
              "        vertical-align: middle;\n",
              "    }\n",
              "\n",
              "    .dataframe tbody tr th {\n",
              "        vertical-align: top;\n",
              "    }\n",
              "\n",
              "    .dataframe thead th {\n",
              "        text-align: right;\n",
              "    }\n",
              "</style>\n",
              "<table border=\"1\" class=\"dataframe\">\n",
              "  <thead>\n",
              "    <tr style=\"text-align: right;\">\n",
              "      <th></th>\n",
              "      <th>ObservationDate</th>\n",
              "      <th>Region</th>\n",
              "      <th>Country</th>\n",
              "      <th>Confirmed</th>\n",
              "      <th>Deaths</th>\n",
              "      <th>Recovered</th>\n",
              "    </tr>\n",
              "  </thead>\n",
              "  <tbody>\n",
              "    <tr>\n",
              "      <th>0</th>\n",
              "      <td>01/22/2020</td>\n",
              "      <td>Anhui</td>\n",
              "      <td>Mainland China</td>\n",
              "      <td>1.0</td>\n",
              "      <td>0.0</td>\n",
              "      <td>0.0</td>\n",
              "    </tr>\n",
              "    <tr>\n",
              "      <th>1</th>\n",
              "      <td>01/22/2020</td>\n",
              "      <td>Beijing</td>\n",
              "      <td>Mainland China</td>\n",
              "      <td>14.0</td>\n",
              "      <td>0.0</td>\n",
              "      <td>0.0</td>\n",
              "    </tr>\n",
              "    <tr>\n",
              "      <th>2</th>\n",
              "      <td>01/22/2020</td>\n",
              "      <td>Chongqing</td>\n",
              "      <td>Mainland China</td>\n",
              "      <td>6.0</td>\n",
              "      <td>0.0</td>\n",
              "      <td>0.0</td>\n",
              "    </tr>\n",
              "    <tr>\n",
              "      <th>3</th>\n",
              "      <td>01/22/2020</td>\n",
              "      <td>Fujian</td>\n",
              "      <td>Mainland China</td>\n",
              "      <td>1.0</td>\n",
              "      <td>0.0</td>\n",
              "      <td>0.0</td>\n",
              "    </tr>\n",
              "    <tr>\n",
              "      <th>4</th>\n",
              "      <td>01/22/2020</td>\n",
              "      <td>Gansu</td>\n",
              "      <td>Mainland China</td>\n",
              "      <td>0.0</td>\n",
              "      <td>0.0</td>\n",
              "      <td>0.0</td>\n",
              "    </tr>\n",
              "  </tbody>\n",
              "</table>\n",
              "</div>"
            ],
            "text/plain": [
              "  ObservationDate     Region         Country  Confirmed  Deaths  Recovered\n",
              "0      01/22/2020      Anhui  Mainland China        1.0     0.0        0.0\n",
              "1      01/22/2020    Beijing  Mainland China       14.0     0.0        0.0\n",
              "2      01/22/2020  Chongqing  Mainland China        6.0     0.0        0.0\n",
              "3      01/22/2020     Fujian  Mainland China        1.0     0.0        0.0\n",
              "4      01/22/2020      Gansu  Mainland China        0.0     0.0        0.0"
            ]
          },
          "metadata": {
            "tags": []
          },
          "execution_count": 28
        }
      ]
    },
    {
      "cell_type": "markdown",
      "metadata": {
        "id": "ZTttnbHGfify"
      },
      "source": [
        "#### Remove duplicate records"
      ]
    },
    {
      "cell_type": "markdown",
      "metadata": {
        "id": "kYJB6VXpfify"
      },
      "source": [
        "First, we check if there are any duplicate records using **duplicated()** method which returns boolean True/False values:"
      ]
    },
    {
      "cell_type": "code",
      "metadata": {
        "id": "GA52q-JOfify",
        "colab": {
          "base_uri": "https://localhost:8080/",
          "height": 300
        },
        "outputId": "bdff3f98-eb92-4890-8ca6-0922c6231d84"
      },
      "source": [
        "# NOT SUPPORTED IN RAPIDS\n",
        "covid.duplicated().head()"
      ],
      "execution_count": null,
      "outputs": [
        {
          "output_type": "error",
          "ename": "AttributeError",
          "evalue": "ignored",
          "traceback": [
            "\u001b[0;31m---------------------------------------------------------------------------\u001b[0m",
            "\u001b[0;31mAttributeError\u001b[0m                            Traceback (most recent call last)",
            "\u001b[0;32m<ipython-input-29-2af66edea61b>\u001b[0m in \u001b[0;36m<module>\u001b[0;34m()\u001b[0m\n\u001b[1;32m      1\u001b[0m \u001b[0;31m# NOT SUPPORTED IN RAPIDS\u001b[0m\u001b[0;34m\u001b[0m\u001b[0;34m\u001b[0m\u001b[0;34m\u001b[0m\u001b[0m\n\u001b[0;32m----> 2\u001b[0;31m \u001b[0mcovid\u001b[0m\u001b[0;34m.\u001b[0m\u001b[0mduplicated\u001b[0m\u001b[0;34m(\u001b[0m\u001b[0;34m)\u001b[0m\u001b[0;34m.\u001b[0m\u001b[0mhead\u001b[0m\u001b[0;34m(\u001b[0m\u001b[0;34m)\u001b[0m\u001b[0;34m\u001b[0m\u001b[0;34m\u001b[0m\u001b[0m\n\u001b[0m",
            "\u001b[0;32m/usr/local/lib/python3.6/site-packages/cudf/core/dataframe.py\u001b[0m in \u001b[0;36m__getattr__\u001b[0;34m(self, key)\u001b[0m\n\u001b[1;32m    430\u001b[0m                 \u001b[0;32mreturn\u001b[0m \u001b[0mself\u001b[0m\u001b[0;34m[\u001b[0m\u001b[0mkey\u001b[0m\u001b[0;34m]\u001b[0m\u001b[0;34m\u001b[0m\u001b[0;34m\u001b[0m\u001b[0m\n\u001b[1;32m    431\u001b[0m \u001b[0;34m\u001b[0m\u001b[0m\n\u001b[0;32m--> 432\u001b[0;31m         \u001b[0;32mraise\u001b[0m \u001b[0mAttributeError\u001b[0m\u001b[0;34m(\u001b[0m\u001b[0;34m\"'DataFrame' object has no attribute %r\"\u001b[0m \u001b[0;34m%\u001b[0m \u001b[0mkey\u001b[0m\u001b[0;34m)\u001b[0m\u001b[0;34m\u001b[0m\u001b[0;34m\u001b[0m\u001b[0m\n\u001b[0m\u001b[1;32m    433\u001b[0m \u001b[0;34m\u001b[0m\u001b[0m\n\u001b[1;32m    434\u001b[0m     \u001b[0;34m@\u001b[0m\u001b[0mannotate\u001b[0m\u001b[0;34m(\u001b[0m\u001b[0;34m\"DATAFRAME_GETITEM\"\u001b[0m\u001b[0;34m,\u001b[0m \u001b[0mcolor\u001b[0m\u001b[0;34m=\u001b[0m\u001b[0;34m\"blue\"\u001b[0m\u001b[0;34m,\u001b[0m \u001b[0mdomain\u001b[0m\u001b[0;34m=\u001b[0m\u001b[0;34m\"cudf_python\"\u001b[0m\u001b[0;34m)\u001b[0m\u001b[0;34m\u001b[0m\u001b[0;34m\u001b[0m\u001b[0m\n",
            "\u001b[0;31mAttributeError\u001b[0m: 'DataFrame' object has no attribute 'duplicated'"
          ]
        }
      ]
    },
    {
      "cell_type": "markdown",
      "metadata": {
        "id": "IPIV2jW7fify"
      },
      "source": [
        "Of course we do not want to scrool through thousands of returned True/False. Instead, we can check for unique vaules:"
      ]
    },
    {
      "cell_type": "code",
      "metadata": {
        "colab": {
          "base_uri": "https://localhost:8080/"
        },
        "id": "A1AUloHbfifz",
        "outputId": "f98b30ee-8add-44bd-b965-7bd8496b8188"
      },
      "source": [
        "#Check for duplicated values using unique() method:\n",
        "covid.drop_duplicates().shape"
      ],
      "execution_count": null,
      "outputs": [
        {
          "output_type": "execute_result",
          "data": {
            "text/plain": [
              "(172480, 6)"
            ]
          },
          "metadata": {
            "tags": []
          },
          "execution_count": 30
        }
      ]
    },
    {
      "cell_type": "code",
      "metadata": {
        "colab": {
          "base_uri": "https://localhost:8080/"
        },
        "id": "U4C-yEWLfifz",
        "outputId": "230f76e4-8462-483b-c562-db158c06a48f"
      },
      "source": [
        "covid.shape"
      ],
      "execution_count": null,
      "outputs": [
        {
          "output_type": "execute_result",
          "data": {
            "text/plain": [
              "(172480, 6)"
            ]
          },
          "metadata": {
            "tags": []
          },
          "execution_count": 31
        }
      ]
    },
    {
      "cell_type": "markdown",
      "metadata": {
        "id": "u-5PLcCNfifz"
      },
      "source": [
        "To remove duplicated records from the DataFrame, we would use the following syntax:\n",
        "\n",
        "**df = df.drop_duplicates()**\n",
        "\n",
        "To remove duplicates of only one or a subset of columns, we can specify *subset* as the individual column or list of columns that should be unique:\n",
        "\n",
        "**df.drop_duplicates(subset = ['Column_1', 'Column_2'], keep = 'False')**\n",
        "\n",
        "We can do the same task conditional on a different column’s value. In such case we can **sort_values()** first, and specify **keep** equals either first or last:\n",
        "\n",
        "**df.sort_values('Column_1', ascending=False)**\n",
        "\n",
        "**df = df.drop_duplicates(subset='Column_2', keep='first')**"
      ]
    },
    {
      "cell_type": "markdown",
      "metadata": {
        "id": "Id_3NcHSfifz"
      },
      "source": [
        "#### Data types"
      ]
    },
    {
      "cell_type": "markdown",
      "metadata": {
        "id": "wiwdyYPJfifz"
      },
      "source": [
        "We should also investigate data types within our dataframe. To do this, we use **dtype** (for a Series) or **dtypes** (for a DataFrame) attribute:"
      ]
    },
    {
      "cell_type": "code",
      "metadata": {
        "colab": {
          "base_uri": "https://localhost:8080/"
        },
        "id": "JCTjVf2nfif0",
        "outputId": "e691914b-d02c-425f-bdfc-9bf984ab9834"
      },
      "source": [
        "#check all data types within our dataset:\n",
        "covid.dtypes"
      ],
      "execution_count": null,
      "outputs": [
        {
          "output_type": "execute_result",
          "data": {
            "text/plain": [
              "ObservationDate     object\n",
              "Region              object\n",
              "Country             object\n",
              "Confirmed          float64\n",
              "Deaths             float64\n",
              "Recovered          float64\n",
              "dtype: object"
            ]
          },
          "metadata": {
            "tags": []
          },
          "execution_count": 32
        }
      ]
    },
    {
      "cell_type": "code",
      "metadata": {
        "colab": {
          "base_uri": "https://localhost:8080/"
        },
        "id": "7uqx0Y_Yfif0",
        "outputId": "7932536b-612d-4432-9450-215c6d42fc28"
      },
      "source": [
        "#check data type of specific column:\n",
        "covid.Confirmed.dtype"
      ],
      "execution_count": null,
      "outputs": [
        {
          "output_type": "execute_result",
          "data": {
            "text/plain": [
              "dtype('float64')"
            ]
          },
          "metadata": {
            "tags": []
          },
          "execution_count": 33
        }
      ]
    },
    {
      "cell_type": "markdown",
      "metadata": {
        "id": "qxirEzzDfif0"
      },
      "source": [
        "Note that columns consisting entirely of strings do not get their own type in pandas; they are instead given the object type."
      ]
    },
    {
      "cell_type": "markdown",
      "metadata": {
        "id": "ChbLfgXKfif0"
      },
      "source": [
        "Sometimes we would like to convert a column of one type into another wherever such a conversion makes sense by using the **astype()** function. In our dataframe, we may transform the *Deaths* column from its existing float64 data type into a int64 data type:"
      ]
    },
    {
      "cell_type": "code",
      "metadata": {
        "colab": {
          "base_uri": "https://localhost:8080/"
        },
        "id": "t3Y-EEjWfif0",
        "outputId": "83e41ae5-2c07-4ac6-f0e4-b65b847d1d00"
      },
      "source": [
        "#Convert 'Deaths' values to integers:\n",
        "covid.Deaths = covid.Deaths.fillna(0).astype('int64')\n",
        "covid.dtypes"
      ],
      "execution_count": null,
      "outputs": [
        {
          "output_type": "execute_result",
          "data": {
            "text/plain": [
              "ObservationDate     object\n",
              "Region              object\n",
              "Country             object\n",
              "Confirmed          float64\n",
              "Deaths               int64\n",
              "Recovered          float64\n",
              "dtype: object"
            ]
          },
          "metadata": {
            "tags": []
          },
          "execution_count": 34
        }
      ]
    },
    {
      "cell_type": "markdown",
      "metadata": {
        "id": "jzwv1WiGfif1"
      },
      "source": [
        "Also, to make work with dates easier, let's convert 'ObservationDate' column to pandas *datetime* object:"
      ]
    },
    {
      "cell_type": "code",
      "metadata": {
        "id": "ywMENm09fif1"
      },
      "source": [
        "#Convert ObservationDate column to datetime:\n",
        "covid['ObservationDate'] = cudf.to_datetime(covid.ObservationDate)"
      ],
      "execution_count": null,
      "outputs": []
    },
    {
      "cell_type": "code",
      "metadata": {
        "colab": {
          "base_uri": "https://localhost:8080/"
        },
        "id": "5YEl1rJNfif1",
        "outputId": "d1d3d19d-def5-4142-a0d3-376d71d726d7"
      },
      "source": [
        "covid.dtypes"
      ],
      "execution_count": null,
      "outputs": [
        {
          "output_type": "execute_result",
          "data": {
            "text/plain": [
              "ObservationDate    datetime64[ns]\n",
              "Region                     object\n",
              "Country                    object\n",
              "Confirmed                 float64\n",
              "Deaths                      int64\n",
              "Recovered                 float64\n",
              "dtype: object"
            ]
          },
          "metadata": {
            "tags": []
          },
          "execution_count": 36
        }
      ]
    },
    {
      "cell_type": "markdown",
      "metadata": {
        "id": "nURqzk5Wfif1"
      },
      "source": [
        "#### Convert strings to uppercase:"
      ]
    },
    {
      "cell_type": "markdown",
      "metadata": {
        "id": "WRGptcEffif1"
      },
      "source": [
        "Many times, when we work with string data in our data set, it might be a good idea to convert all characters to uppercase and strip extra whitespaces before and after each string."
      ]
    },
    {
      "cell_type": "code",
      "metadata": {
        "colab": {
          "base_uri": "https://localhost:8080/",
          "height": 111
        },
        "id": "b1mtufC5fif2",
        "outputId": "05e22955-0f60-4954-aa9b-63a963b902f8"
      },
      "source": [
        "covid.head(2)"
      ],
      "execution_count": null,
      "outputs": [
        {
          "output_type": "execute_result",
          "data": {
            "text/html": [
              "<div>\n",
              "<style scoped>\n",
              "    .dataframe tbody tr th:only-of-type {\n",
              "        vertical-align: middle;\n",
              "    }\n",
              "\n",
              "    .dataframe tbody tr th {\n",
              "        vertical-align: top;\n",
              "    }\n",
              "\n",
              "    .dataframe thead th {\n",
              "        text-align: right;\n",
              "    }\n",
              "</style>\n",
              "<table border=\"1\" class=\"dataframe\">\n",
              "  <thead>\n",
              "    <tr style=\"text-align: right;\">\n",
              "      <th></th>\n",
              "      <th>ObservationDate</th>\n",
              "      <th>Region</th>\n",
              "      <th>Country</th>\n",
              "      <th>Confirmed</th>\n",
              "      <th>Deaths</th>\n",
              "      <th>Recovered</th>\n",
              "    </tr>\n",
              "  </thead>\n",
              "  <tbody>\n",
              "    <tr>\n",
              "      <th>0</th>\n",
              "      <td>2020-01-22</td>\n",
              "      <td>Anhui</td>\n",
              "      <td>Mainland China</td>\n",
              "      <td>1.0</td>\n",
              "      <td>0</td>\n",
              "      <td>0.0</td>\n",
              "    </tr>\n",
              "    <tr>\n",
              "      <th>1</th>\n",
              "      <td>2020-01-22</td>\n",
              "      <td>Beijing</td>\n",
              "      <td>Mainland China</td>\n",
              "      <td>14.0</td>\n",
              "      <td>0</td>\n",
              "      <td>0.0</td>\n",
              "    </tr>\n",
              "  </tbody>\n",
              "</table>\n",
              "</div>"
            ],
            "text/plain": [
              "  ObservationDate   Region         Country  Confirmed  Deaths  Recovered\n",
              "0      2020-01-22    Anhui  Mainland China        1.0       0        0.0\n",
              "1      2020-01-22  Beijing  Mainland China       14.0       0        0.0"
            ]
          },
          "metadata": {
            "tags": []
          },
          "execution_count": 37
        }
      ]
    },
    {
      "cell_type": "markdown",
      "metadata": {
        "id": "F3EQEk1Qfif2"
      },
      "source": [
        "Let's modify strings within the 'Region' and 'Country' Series of our data set. To convert strings in the Series/Index to uppercase, we can use **upper()** method:"
      ]
    },
    {
      "cell_type": "code",
      "metadata": {
        "id": "Ebbe6Ruifif2"
      },
      "source": [
        "#Convert 'Region' and 'Country' to uppercase:\n",
        "covid.Region = covid.Region.str.upper()\n",
        "covid.Country = covid.Country.str.upper()"
      ],
      "execution_count": null,
      "outputs": []
    },
    {
      "cell_type": "code",
      "metadata": {
        "colab": {
          "base_uri": "https://localhost:8080/",
          "height": 204
        },
        "id": "hNCSRcSPfif2",
        "outputId": "57280bff-2818-4d83-c74a-0f63d60583b2"
      },
      "source": [
        "covid.head()"
      ],
      "execution_count": null,
      "outputs": [
        {
          "output_type": "execute_result",
          "data": {
            "text/html": [
              "<div>\n",
              "<style scoped>\n",
              "    .dataframe tbody tr th:only-of-type {\n",
              "        vertical-align: middle;\n",
              "    }\n",
              "\n",
              "    .dataframe tbody tr th {\n",
              "        vertical-align: top;\n",
              "    }\n",
              "\n",
              "    .dataframe thead th {\n",
              "        text-align: right;\n",
              "    }\n",
              "</style>\n",
              "<table border=\"1\" class=\"dataframe\">\n",
              "  <thead>\n",
              "    <tr style=\"text-align: right;\">\n",
              "      <th></th>\n",
              "      <th>ObservationDate</th>\n",
              "      <th>Region</th>\n",
              "      <th>Country</th>\n",
              "      <th>Confirmed</th>\n",
              "      <th>Deaths</th>\n",
              "      <th>Recovered</th>\n",
              "    </tr>\n",
              "  </thead>\n",
              "  <tbody>\n",
              "    <tr>\n",
              "      <th>0</th>\n",
              "      <td>2020-01-22</td>\n",
              "      <td>ANHUI</td>\n",
              "      <td>MAINLAND CHINA</td>\n",
              "      <td>1.0</td>\n",
              "      <td>0</td>\n",
              "      <td>0.0</td>\n",
              "    </tr>\n",
              "    <tr>\n",
              "      <th>1</th>\n",
              "      <td>2020-01-22</td>\n",
              "      <td>BEIJING</td>\n",
              "      <td>MAINLAND CHINA</td>\n",
              "      <td>14.0</td>\n",
              "      <td>0</td>\n",
              "      <td>0.0</td>\n",
              "    </tr>\n",
              "    <tr>\n",
              "      <th>2</th>\n",
              "      <td>2020-01-22</td>\n",
              "      <td>CHONGQING</td>\n",
              "      <td>MAINLAND CHINA</td>\n",
              "      <td>6.0</td>\n",
              "      <td>0</td>\n",
              "      <td>0.0</td>\n",
              "    </tr>\n",
              "    <tr>\n",
              "      <th>3</th>\n",
              "      <td>2020-01-22</td>\n",
              "      <td>FUJIAN</td>\n",
              "      <td>MAINLAND CHINA</td>\n",
              "      <td>1.0</td>\n",
              "      <td>0</td>\n",
              "      <td>0.0</td>\n",
              "    </tr>\n",
              "    <tr>\n",
              "      <th>4</th>\n",
              "      <td>2020-01-22</td>\n",
              "      <td>GANSU</td>\n",
              "      <td>MAINLAND CHINA</td>\n",
              "      <td>0.0</td>\n",
              "      <td>0</td>\n",
              "      <td>0.0</td>\n",
              "    </tr>\n",
              "  </tbody>\n",
              "</table>\n",
              "</div>"
            ],
            "text/plain": [
              "  ObservationDate     Region         Country  Confirmed  Deaths  Recovered\n",
              "0      2020-01-22      ANHUI  MAINLAND CHINA        1.0       0        0.0\n",
              "1      2020-01-22    BEIJING  MAINLAND CHINA       14.0       0        0.0\n",
              "2      2020-01-22  CHONGQING  MAINLAND CHINA        6.0       0        0.0\n",
              "3      2020-01-22     FUJIAN  MAINLAND CHINA        1.0       0        0.0\n",
              "4      2020-01-22      GANSU  MAINLAND CHINA        0.0       0        0.0"
            ]
          },
          "metadata": {
            "tags": []
          },
          "execution_count": 39
        }
      ]
    },
    {
      "cell_type": "markdown",
      "metadata": {
        "id": "LJNU8oUGfif2"
      },
      "source": [
        "To remove leading and trailing characters, we would use **strip()** method:"
      ]
    },
    {
      "cell_type": "code",
      "metadata": {
        "id": "x1RfvOAMfif2"
      },
      "source": [
        "covid.Region = covid.Region.str.strip()\n",
        "covid.Country = covid.Country.str.strip()"
      ],
      "execution_count": null,
      "outputs": []
    },
    {
      "cell_type": "markdown",
      "metadata": {
        "id": "aXyTdMPDfif3"
      },
      "source": [
        "Note: Sometimes, we might want to remove leading (**lstrip()**) or trailing (**rstrip()**) characters only."
      ]
    },
    {
      "cell_type": "markdown",
      "metadata": {
        "id": "8itESCFmfif3"
      },
      "source": [
        "#### Missing values"
      ]
    },
    {
      "cell_type": "markdown",
      "metadata": {
        "id": "jIR31ihefif3"
      },
      "source": [
        "Usually, when we work with real-world data, we always have some missing records. To find these missing values, also known as **NaN** (Not a Number), in our data set, we would use **isnull** method (or, alternatively, **notnull()** method which will select not empty values)"
      ]
    },
    {
      "cell_type": "code",
      "metadata": {
        "colab": {
          "base_uri": "https://localhost:8080/"
        },
        "id": "c9HMaJcAfif3",
        "outputId": "bf57793d-a374-425b-b328-77c9c466f402"
      },
      "source": [
        "#Check which coumns in our data set have missing values:\n",
        "covid.isnull().any()"
      ],
      "execution_count": null,
      "outputs": [
        {
          "output_type": "execute_result",
          "data": {
            "text/plain": [
              "ObservationDate    False\n",
              "Region              True\n",
              "Country            False\n",
              "Confirmed          False\n",
              "Deaths             False\n",
              "Recovered          False\n",
              "dtype: bool"
            ]
          },
          "metadata": {
            "tags": []
          },
          "execution_count": 41
        }
      ]
    },
    {
      "cell_type": "code",
      "metadata": {
        "colab": {
          "base_uri": "https://localhost:8080/",
          "height": 204
        },
        "id": "MwkMXxQWfif3",
        "outputId": "32598629-d726-4e04-c52c-16d8ed793ae6"
      },
      "source": [
        "covid[covid.Region.isnull()].head()"
      ],
      "execution_count": null,
      "outputs": [
        {
          "output_type": "execute_result",
          "data": {
            "text/html": [
              "<div>\n",
              "<style scoped>\n",
              "    .dataframe tbody tr th:only-of-type {\n",
              "        vertical-align: middle;\n",
              "    }\n",
              "\n",
              "    .dataframe tbody tr th {\n",
              "        vertical-align: top;\n",
              "    }\n",
              "\n",
              "    .dataframe thead th {\n",
              "        text-align: right;\n",
              "    }\n",
              "</style>\n",
              "<table border=\"1\" class=\"dataframe\">\n",
              "  <thead>\n",
              "    <tr style=\"text-align: right;\">\n",
              "      <th></th>\n",
              "      <th>ObservationDate</th>\n",
              "      <th>Region</th>\n",
              "      <th>Country</th>\n",
              "      <th>Confirmed</th>\n",
              "      <th>Deaths</th>\n",
              "      <th>Recovered</th>\n",
              "    </tr>\n",
              "  </thead>\n",
              "  <tbody>\n",
              "    <tr>\n",
              "      <th>35</th>\n",
              "      <td>2020-01-22</td>\n",
              "      <td>None</td>\n",
              "      <td>JAPAN</td>\n",
              "      <td>2.0</td>\n",
              "      <td>0</td>\n",
              "      <td>0.0</td>\n",
              "    </tr>\n",
              "    <tr>\n",
              "      <th>36</th>\n",
              "      <td>2020-01-22</td>\n",
              "      <td>None</td>\n",
              "      <td>THAILAND</td>\n",
              "      <td>2.0</td>\n",
              "      <td>0</td>\n",
              "      <td>0.0</td>\n",
              "    </tr>\n",
              "    <tr>\n",
              "      <th>37</th>\n",
              "      <td>2020-01-22</td>\n",
              "      <td>None</td>\n",
              "      <td>SOUTH KOREA</td>\n",
              "      <td>1.0</td>\n",
              "      <td>0</td>\n",
              "      <td>0.0</td>\n",
              "    </tr>\n",
              "    <tr>\n",
              "      <th>73</th>\n",
              "      <td>2020-01-23</td>\n",
              "      <td>None</td>\n",
              "      <td>JAPAN</td>\n",
              "      <td>1.0</td>\n",
              "      <td>0</td>\n",
              "      <td>0.0</td>\n",
              "    </tr>\n",
              "    <tr>\n",
              "      <th>74</th>\n",
              "      <td>2020-01-23</td>\n",
              "      <td>None</td>\n",
              "      <td>THAILAND</td>\n",
              "      <td>3.0</td>\n",
              "      <td>0</td>\n",
              "      <td>0.0</td>\n",
              "    </tr>\n",
              "  </tbody>\n",
              "</table>\n",
              "</div>"
            ],
            "text/plain": [
              "   ObservationDate Region      Country  Confirmed  Deaths  Recovered\n",
              "35      2020-01-22   None        JAPAN        2.0       0        0.0\n",
              "36      2020-01-22   None     THAILAND        2.0       0        0.0\n",
              "37      2020-01-22   None  SOUTH KOREA        1.0       0        0.0\n",
              "73      2020-01-23   None        JAPAN        1.0       0        0.0\n",
              "74      2020-01-23   None     THAILAND        3.0       0        0.0"
            ]
          },
          "metadata": {
            "tags": []
          },
          "execution_count": 42
        }
      ]
    },
    {
      "cell_type": "code",
      "metadata": {
        "colab": {
          "base_uri": "https://localhost:8080/",
          "height": 235
        },
        "id": "txAVokp-fif3",
        "outputId": "7cba11f2-5937-456e-fb50-312431e11624"
      },
      "source": [
        "#Check how many values are missing:\n",
        "percent_missing = covid.isnull().sum() * 100 / len(covid)\n",
        "missing_df = cudf.DataFrame({'column_name': covid.columns,\n",
        "                                 'percent_missing': percent_missing})\n",
        "missing_df"
      ],
      "execution_count": null,
      "outputs": [
        {
          "output_type": "execute_result",
          "data": {
            "text/html": [
              "<div>\n",
              "<style scoped>\n",
              "    .dataframe tbody tr th:only-of-type {\n",
              "        vertical-align: middle;\n",
              "    }\n",
              "\n",
              "    .dataframe tbody tr th {\n",
              "        vertical-align: top;\n",
              "    }\n",
              "\n",
              "    .dataframe thead th {\n",
              "        text-align: right;\n",
              "    }\n",
              "</style>\n",
              "<table border=\"1\" class=\"dataframe\">\n",
              "  <thead>\n",
              "    <tr style=\"text-align: right;\">\n",
              "      <th></th>\n",
              "      <th>column_name</th>\n",
              "      <th>percent_missing</th>\n",
              "    </tr>\n",
              "  </thead>\n",
              "  <tbody>\n",
              "    <tr>\n",
              "      <th>ObservationDate</th>\n",
              "      <td>ObservationDate</td>\n",
              "      <td>0.00000</td>\n",
              "    </tr>\n",
              "    <tr>\n",
              "      <th>Region</th>\n",
              "      <td>Region</td>\n",
              "      <td>27.76148</td>\n",
              "    </tr>\n",
              "    <tr>\n",
              "      <th>Country</th>\n",
              "      <td>Country</td>\n",
              "      <td>0.00000</td>\n",
              "    </tr>\n",
              "    <tr>\n",
              "      <th>Confirmed</th>\n",
              "      <td>Confirmed</td>\n",
              "      <td>0.00000</td>\n",
              "    </tr>\n",
              "    <tr>\n",
              "      <th>Deaths</th>\n",
              "      <td>Deaths</td>\n",
              "      <td>0.00000</td>\n",
              "    </tr>\n",
              "    <tr>\n",
              "      <th>Recovered</th>\n",
              "      <td>Recovered</td>\n",
              "      <td>0.00000</td>\n",
              "    </tr>\n",
              "  </tbody>\n",
              "</table>\n",
              "</div>"
            ],
            "text/plain": [
              "                     column_name  percent_missing\n",
              "ObservationDate  ObservationDate          0.00000\n",
              "Region                    Region         27.76148\n",
              "Country                  Country          0.00000\n",
              "Confirmed              Confirmed          0.00000\n",
              "Deaths                    Deaths          0.00000\n",
              "Recovered              Recovered          0.00000"
            ]
          },
          "metadata": {
            "tags": []
          },
          "execution_count": 43
        }
      ]
    },
    {
      "cell_type": "markdown",
      "metadata": {
        "id": "EhPKoGhzfif4"
      },
      "source": [
        "To perform data analysis, we would like to replace missing values, and pandas provides a really handy method for this problem: **fillna()**. \n",
        "\n",
        "In our case, we can simply replace each NaN with an 'Unknown':"
      ]
    },
    {
      "cell_type": "code",
      "metadata": {
        "id": "VS9zRrcyfif4"
      },
      "source": [
        "#To drop all the missing values in one column:\n",
        "#df = df.dropna(subset = ['Column_Name'])"
      ],
      "execution_count": null,
      "outputs": []
    },
    {
      "cell_type": "code",
      "metadata": {
        "colab": {
          "base_uri": "https://localhost:8080/",
          "height": 204
        },
        "id": "-0D85FE2fif4",
        "outputId": "7ce03414-b006-413d-fc4b-54498f53cdb5"
      },
      "source": [
        "#Replace missing 'Region' calues with 'Unknown':\n",
        "covid['Region'] = covid['Region'].fillna('Unknown')\n",
        "covid.iloc[35:40]"
      ],
      "execution_count": null,
      "outputs": [
        {
          "output_type": "execute_result",
          "data": {
            "text/html": [
              "<div>\n",
              "<style scoped>\n",
              "    .dataframe tbody tr th:only-of-type {\n",
              "        vertical-align: middle;\n",
              "    }\n",
              "\n",
              "    .dataframe tbody tr th {\n",
              "        vertical-align: top;\n",
              "    }\n",
              "\n",
              "    .dataframe thead th {\n",
              "        text-align: right;\n",
              "    }\n",
              "</style>\n",
              "<table border=\"1\" class=\"dataframe\">\n",
              "  <thead>\n",
              "    <tr style=\"text-align: right;\">\n",
              "      <th></th>\n",
              "      <th>ObservationDate</th>\n",
              "      <th>Region</th>\n",
              "      <th>Country</th>\n",
              "      <th>Confirmed</th>\n",
              "      <th>Deaths</th>\n",
              "      <th>Recovered</th>\n",
              "    </tr>\n",
              "  </thead>\n",
              "  <tbody>\n",
              "    <tr>\n",
              "      <th>35</th>\n",
              "      <td>2020-01-22</td>\n",
              "      <td>Unknown</td>\n",
              "      <td>JAPAN</td>\n",
              "      <td>2.0</td>\n",
              "      <td>0</td>\n",
              "      <td>0.0</td>\n",
              "    </tr>\n",
              "    <tr>\n",
              "      <th>36</th>\n",
              "      <td>2020-01-22</td>\n",
              "      <td>Unknown</td>\n",
              "      <td>THAILAND</td>\n",
              "      <td>2.0</td>\n",
              "      <td>0</td>\n",
              "      <td>0.0</td>\n",
              "    </tr>\n",
              "    <tr>\n",
              "      <th>37</th>\n",
              "      <td>2020-01-22</td>\n",
              "      <td>Unknown</td>\n",
              "      <td>SOUTH KOREA</td>\n",
              "      <td>1.0</td>\n",
              "      <td>0</td>\n",
              "      <td>0.0</td>\n",
              "    </tr>\n",
              "    <tr>\n",
              "      <th>38</th>\n",
              "      <td>2020-01-23</td>\n",
              "      <td>ANHUI</td>\n",
              "      <td>MAINLAND CHINA</td>\n",
              "      <td>9.0</td>\n",
              "      <td>0</td>\n",
              "      <td>0.0</td>\n",
              "    </tr>\n",
              "    <tr>\n",
              "      <th>39</th>\n",
              "      <td>2020-01-23</td>\n",
              "      <td>BEIJING</td>\n",
              "      <td>MAINLAND CHINA</td>\n",
              "      <td>22.0</td>\n",
              "      <td>0</td>\n",
              "      <td>0.0</td>\n",
              "    </tr>\n",
              "  </tbody>\n",
              "</table>\n",
              "</div>"
            ],
            "text/plain": [
              "   ObservationDate   Region         Country  Confirmed  Deaths  Recovered\n",
              "35      2020-01-22  Unknown           JAPAN        2.0       0        0.0\n",
              "36      2020-01-22  Unknown        THAILAND        2.0       0        0.0\n",
              "37      2020-01-22  Unknown     SOUTH KOREA        1.0       0        0.0\n",
              "38      2020-01-23    ANHUI  MAINLAND CHINA        9.0       0        0.0\n",
              "39      2020-01-23  BEIJING  MAINLAND CHINA       22.0       0        0.0"
            ]
          },
          "metadata": {
            "tags": []
          },
          "execution_count": 44
        }
      ]
    },
    {
      "cell_type": "code",
      "metadata": {
        "colab": {
          "base_uri": "https://localhost:8080/"
        },
        "id": "jXFmHlSefif4",
        "outputId": "1a0404df-a95c-4ed0-aef2-de82f2a2567d"
      },
      "source": [
        "covid.isnull().any()"
      ],
      "execution_count": null,
      "outputs": [
        {
          "output_type": "execute_result",
          "data": {
            "text/plain": [
              "ObservationDate    False\n",
              "Region             False\n",
              "Country            False\n",
              "Confirmed          False\n",
              "Deaths             False\n",
              "Recovered          False\n",
              "dtype: bool"
            ]
          },
          "metadata": {
            "tags": []
          },
          "execution_count": 45
        }
      ]
    },
    {
      "cell_type": "markdown",
      "metadata": {
        "id": "ZTNfGkEzfif5"
      },
      "source": [
        "Sometimes it makes sense to remove missing values from data set, and in that case we would use **dropna()** method. By default, **dropna()** will drop all rows in which any null value is present:\n",
        "\n",
        "**df.dropna()**\n",
        "\n",
        "We can also drop missing values along a different axis; *axis=1* drops all columns containing a null value."
      ]
    },
    {
      "cell_type": "markdown",
      "metadata": {
        "id": "6bp5unH6fif5"
      },
      "source": [
        "### Summary statistics"
      ]
    },
    {
      "cell_type": "markdown",
      "metadata": {
        "id": "Me0y1nicfif5"
      },
      "source": [
        "Pandas provides some handy methods which allow us to see a high-level summary of data. We already familiar with one of these methods - **describe()**:"
      ]
    },
    {
      "cell_type": "code",
      "metadata": {
        "colab": {
          "base_uri": "https://localhost:8080/"
        },
        "id": "4xVjLstGfif5",
        "outputId": "2e44fc66-78af-4a7e-d864-e71928c5ad38"
      },
      "source": [
        "#Applied to numerical data:\n",
        "covid.Confirmed.describe()"
      ],
      "execution_count": null,
      "outputs": [
        {
          "output_type": "execute_result",
          "data": {
            "text/plain": [
              "count    1.724800e+05\n",
              "mean     3.323156e+04\n",
              "std      1.031349e+05\n",
              "min     -3.028440e+05\n",
              "25%      4.570000e+02\n",
              "50%      4.016500e+03\n",
              "75%      1.884300e+04\n",
              "max      2.290891e+06\n",
              "Name: Confirmed, dtype: float64"
            ]
          },
          "metadata": {
            "tags": []
          },
          "execution_count": 46
        }
      ]
    },
    {
      "cell_type": "code",
      "metadata": {
        "colab": {
          "base_uri": "https://localhost:8080/",
          "height": 204
        },
        "id": "EWEU48pn4mM8",
        "outputId": "78b745f2-b353-4d49-f0a6-d32a3e27db72"
      },
      "source": [
        "covid.head()"
      ],
      "execution_count": null,
      "outputs": [
        {
          "output_type": "execute_result",
          "data": {
            "text/html": [
              "<div>\n",
              "<style scoped>\n",
              "    .dataframe tbody tr th:only-of-type {\n",
              "        vertical-align: middle;\n",
              "    }\n",
              "\n",
              "    .dataframe tbody tr th {\n",
              "        vertical-align: top;\n",
              "    }\n",
              "\n",
              "    .dataframe thead th {\n",
              "        text-align: right;\n",
              "    }\n",
              "</style>\n",
              "<table border=\"1\" class=\"dataframe\">\n",
              "  <thead>\n",
              "    <tr style=\"text-align: right;\">\n",
              "      <th></th>\n",
              "      <th>ObservationDate</th>\n",
              "      <th>Region</th>\n",
              "      <th>Country</th>\n",
              "      <th>Confirmed</th>\n",
              "      <th>Deaths</th>\n",
              "      <th>Recovered</th>\n",
              "    </tr>\n",
              "  </thead>\n",
              "  <tbody>\n",
              "    <tr>\n",
              "      <th>0</th>\n",
              "      <td>2020-01-22</td>\n",
              "      <td>ANHUI</td>\n",
              "      <td>MAINLAND CHINA</td>\n",
              "      <td>1.0</td>\n",
              "      <td>0</td>\n",
              "      <td>0.0</td>\n",
              "    </tr>\n",
              "    <tr>\n",
              "      <th>1</th>\n",
              "      <td>2020-01-22</td>\n",
              "      <td>BEIJING</td>\n",
              "      <td>MAINLAND CHINA</td>\n",
              "      <td>14.0</td>\n",
              "      <td>0</td>\n",
              "      <td>0.0</td>\n",
              "    </tr>\n",
              "    <tr>\n",
              "      <th>2</th>\n",
              "      <td>2020-01-22</td>\n",
              "      <td>CHONGQING</td>\n",
              "      <td>MAINLAND CHINA</td>\n",
              "      <td>6.0</td>\n",
              "      <td>0</td>\n",
              "      <td>0.0</td>\n",
              "    </tr>\n",
              "    <tr>\n",
              "      <th>3</th>\n",
              "      <td>2020-01-22</td>\n",
              "      <td>FUJIAN</td>\n",
              "      <td>MAINLAND CHINA</td>\n",
              "      <td>1.0</td>\n",
              "      <td>0</td>\n",
              "      <td>0.0</td>\n",
              "    </tr>\n",
              "    <tr>\n",
              "      <th>4</th>\n",
              "      <td>2020-01-22</td>\n",
              "      <td>GANSU</td>\n",
              "      <td>MAINLAND CHINA</td>\n",
              "      <td>0.0</td>\n",
              "      <td>0</td>\n",
              "      <td>0.0</td>\n",
              "    </tr>\n",
              "  </tbody>\n",
              "</table>\n",
              "</div>"
            ],
            "text/plain": [
              "  ObservationDate     Region         Country  Confirmed  Deaths  Recovered\n",
              "0      2020-01-22      ANHUI  MAINLAND CHINA        1.0       0        0.0\n",
              "1      2020-01-22    BEIJING  MAINLAND CHINA       14.0       0        0.0\n",
              "2      2020-01-22  CHONGQING  MAINLAND CHINA        6.0       0        0.0\n",
              "3      2020-01-22     FUJIAN  MAINLAND CHINA        1.0       0        0.0\n",
              "4      2020-01-22      GANSU  MAINLAND CHINA        0.0       0        0.0"
            ]
          },
          "metadata": {
            "tags": []
          },
          "execution_count": 47
        }
      ]
    },
    {
      "cell_type": "code",
      "metadata": {
        "id": "4RKCjCsg4ait",
        "colab": {
          "base_uri": "https://localhost:8080/",
          "height": 317
        },
        "outputId": "0a81d970-00cb-4aeb-8f62-d24e538414da"
      },
      "source": [
        "#Applied to string data:\n",
        "# NOT SUPPORTED IN RAPIDS!!!\n",
        "covid.Country.describe()\n"
      ],
      "execution_count": null,
      "outputs": [
        {
          "output_type": "error",
          "ename": "NotImplementedError",
          "evalue": "ignored",
          "traceback": [
            "\u001b[0;31m---------------------------------------------------------------------------\u001b[0m",
            "\u001b[0;31mNotImplementedError\u001b[0m                       Traceback (most recent call last)",
            "\u001b[0;32m<ipython-input-48-c8e709f7b63e>\u001b[0m in \u001b[0;36m<module>\u001b[0;34m()\u001b[0m\n\u001b[1;32m      1\u001b[0m \u001b[0;31m#Applied to string data:\u001b[0m\u001b[0;34m\u001b[0m\u001b[0;34m\u001b[0m\u001b[0;34m\u001b[0m\u001b[0m\n\u001b[1;32m      2\u001b[0m \u001b[0;31m# NOT SUPPORTED IN RAPIDS!!!\u001b[0m\u001b[0;34m\u001b[0m\u001b[0;34m\u001b[0m\u001b[0;34m\u001b[0m\u001b[0m\n\u001b[0;32m----> 3\u001b[0;31m \u001b[0mcovid\u001b[0m\u001b[0;34m.\u001b[0m\u001b[0mCountry\u001b[0m\u001b[0;34m.\u001b[0m\u001b[0mdescribe\u001b[0m\u001b[0;34m(\u001b[0m\u001b[0;34m)\u001b[0m\u001b[0;34m\u001b[0m\u001b[0;34m\u001b[0m\u001b[0m\n\u001b[0m",
            "\u001b[0;32m/usr/local/lib/python3.6/site-packages/cudf/core/series.py\u001b[0m in \u001b[0;36mdescribe\u001b[0;34m(self, percentiles, include, exclude)\u001b[0m\n\u001b[1;32m   3578\u001b[0m         \u001b[0;32melse\u001b[0m\u001b[0;34m:\u001b[0m\u001b[0;34m\u001b[0m\u001b[0;34m\u001b[0m\u001b[0m\n\u001b[1;32m   3579\u001b[0m             raise NotImplementedError(\n\u001b[0;32m-> 3580\u001b[0;31m                 \u001b[0;34m\"Describing non-numeric columns is not \"\u001b[0m \u001b[0;34m\"yet supported\"\u001b[0m\u001b[0;34m\u001b[0m\u001b[0;34m\u001b[0m\u001b[0m\n\u001b[0m\u001b[1;32m   3581\u001b[0m             )\n\u001b[1;32m   3582\u001b[0m \u001b[0;34m\u001b[0m\u001b[0m\n",
            "\u001b[0;31mNotImplementedError\u001b[0m: Describing non-numeric columns is not yet supported"
          ]
        }
      ]
    },
    {
      "cell_type": "markdown",
      "metadata": {
        "id": "2B7-0uDhfif5"
      },
      "source": [
        "For the reference, here are some others commonly used methods (they can be applies to a Series as well):\n",
        "\n",
        "**df.describe()** - summary statistics for numerical columns\n",
        "\n",
        "**df.mean()** - returns the mean of all columns\n",
        "\n",
        "**df.corr()** - returns the correlation between columns in a DataFrame\n",
        "\n",
        "**df.count()** - returns the number of non-null values in each DataFrame column\n",
        "\n",
        "**df.max()** - returns the highest value in each column\n",
        "\n",
        "**df.min()** - returns the lowest value in each column\n",
        "\n",
        "**df.median()** - returns the median of each column\n",
        "\n",
        "**df.std()** - returns the standard deviation of each column\n"
      ]
    },
    {
      "cell_type": "markdown",
      "metadata": {
        "id": "3ObYgIqffif6"
      },
      "source": [
        "To see a list of all unique values in certain Series, we would use the **unique()** method:"
      ]
    },
    {
      "cell_type": "code",
      "metadata": {
        "colab": {
          "base_uri": "https://localhost:8080/"
        },
        "id": "lAKD14zofif6",
        "outputId": "090b813e-eef5-44dc-b012-2ae4571daef3"
      },
      "source": [
        "#See the list of unique 'Country' values:\n",
        "covid.Country.unique()"
      ],
      "execution_count": null,
      "outputs": [
        {
          "output_type": "execute_result",
          "data": {
            "text/plain": [
              "0         ('ST. MARTIN',)\n",
              "1             AFGHANISTAN\n",
              "2                 ALBANIA\n",
              "3                 ALGERIA\n",
              "4                 ANDORRA\n",
              "              ...        \n",
              "220    WEST BANK AND GAZA\n",
              "221        WESTERN SAHARA\n",
              "222                 YEMEN\n",
              "223                ZAMBIA\n",
              "224              ZIMBABWE\n",
              "Name: Country, Length: 225, dtype: object"
            ]
          },
          "metadata": {
            "tags": []
          },
          "execution_count": 49
        }
      ]
    },
    {
      "cell_type": "markdown",
      "metadata": {
        "id": "XwsHO7LBfif6"
      },
      "source": [
        "**nunique()** will return a number of unique values:"
      ]
    },
    {
      "cell_type": "code",
      "metadata": {
        "colab": {
          "base_uri": "https://localhost:8080/"
        },
        "id": "6SNRRd9Vfif6",
        "outputId": "e5360c6a-1a46-4413-9dbf-f658569d3069"
      },
      "source": [
        "#Number of unique countries:\n",
        "covid.Country.nunique()"
      ],
      "execution_count": null,
      "outputs": [
        {
          "output_type": "execute_result",
          "data": {
            "text/plain": [
              "225"
            ]
          },
          "metadata": {
            "tags": []
          },
          "execution_count": 50
        }
      ]
    },
    {
      "cell_type": "markdown",
      "metadata": {
        "id": "xCC4AD1bfif6"
      },
      "source": [
        "### Data transformations with 'map' and 'apply'"
      ]
    },
    {
      "cell_type": "markdown",
      "metadata": {
        "id": "FqEiPM2Zfif7"
      },
      "source": [
        "There are two methods in pandas which allow us to take one set of values and \"map\" them to another set. **map()** returns a new Series where all the values have been transformed."
      ]
    },
    {
      "cell_type": "markdown",
      "metadata": {
        "id": "LLQBSC1Nfif7"
      },
      "source": [
        "Let's say we have noticed that 'Country' Series contains, among others, entries for 'Mainland China', 'Hong Kong', and 'Macau'. We know that they are all parts of People's Republic of China, and would prefer to use 'China' for all of them. Here is how this can be done:"
      ]
    },
    {
      "cell_type": "code",
      "metadata": {
        "colab": {
          "base_uri": "https://localhost:8080/",
          "height": 204
        },
        "id": "ezpqJSnHfif7",
        "outputId": "fbab7ec8-254a-4c79-9133-5c18e18d00f9"
      },
      "source": [
        "s = set(['MAINLAND CHINA', 'HONG KONG', 'MACAU'])\n",
        "\n",
        "country_pandas = covid['Country'].to_pandas()\n",
        "\n",
        "country_pandas_fixed = country_pandas.map(lambda x: 'CHINA' if x in s else x)\n",
        "country_pandas_fixed.head()\n",
        "covid['GeneralCountry'] = country_pandas_fixed\n",
        "covid.head()"
      ],
      "execution_count": null,
      "outputs": [
        {
          "output_type": "execute_result",
          "data": {
            "text/html": [
              "<div>\n",
              "<style scoped>\n",
              "    .dataframe tbody tr th:only-of-type {\n",
              "        vertical-align: middle;\n",
              "    }\n",
              "\n",
              "    .dataframe tbody tr th {\n",
              "        vertical-align: top;\n",
              "    }\n",
              "\n",
              "    .dataframe thead th {\n",
              "        text-align: right;\n",
              "    }\n",
              "</style>\n",
              "<table border=\"1\" class=\"dataframe\">\n",
              "  <thead>\n",
              "    <tr style=\"text-align: right;\">\n",
              "      <th></th>\n",
              "      <th>ObservationDate</th>\n",
              "      <th>Region</th>\n",
              "      <th>Country</th>\n",
              "      <th>Confirmed</th>\n",
              "      <th>Deaths</th>\n",
              "      <th>Recovered</th>\n",
              "      <th>GeneralCountry</th>\n",
              "    </tr>\n",
              "  </thead>\n",
              "  <tbody>\n",
              "    <tr>\n",
              "      <th>0</th>\n",
              "      <td>2020-01-22</td>\n",
              "      <td>ANHUI</td>\n",
              "      <td>MAINLAND CHINA</td>\n",
              "      <td>1.0</td>\n",
              "      <td>0</td>\n",
              "      <td>0.0</td>\n",
              "      <td>CHINA</td>\n",
              "    </tr>\n",
              "    <tr>\n",
              "      <th>1</th>\n",
              "      <td>2020-01-22</td>\n",
              "      <td>BEIJING</td>\n",
              "      <td>MAINLAND CHINA</td>\n",
              "      <td>14.0</td>\n",
              "      <td>0</td>\n",
              "      <td>0.0</td>\n",
              "      <td>CHINA</td>\n",
              "    </tr>\n",
              "    <tr>\n",
              "      <th>2</th>\n",
              "      <td>2020-01-22</td>\n",
              "      <td>CHONGQING</td>\n",
              "      <td>MAINLAND CHINA</td>\n",
              "      <td>6.0</td>\n",
              "      <td>0</td>\n",
              "      <td>0.0</td>\n",
              "      <td>CHINA</td>\n",
              "    </tr>\n",
              "    <tr>\n",
              "      <th>3</th>\n",
              "      <td>2020-01-22</td>\n",
              "      <td>FUJIAN</td>\n",
              "      <td>MAINLAND CHINA</td>\n",
              "      <td>1.0</td>\n",
              "      <td>0</td>\n",
              "      <td>0.0</td>\n",
              "      <td>CHINA</td>\n",
              "    </tr>\n",
              "    <tr>\n",
              "      <th>4</th>\n",
              "      <td>2020-01-22</td>\n",
              "      <td>GANSU</td>\n",
              "      <td>MAINLAND CHINA</td>\n",
              "      <td>0.0</td>\n",
              "      <td>0</td>\n",
              "      <td>0.0</td>\n",
              "      <td>CHINA</td>\n",
              "    </tr>\n",
              "  </tbody>\n",
              "</table>\n",
              "</div>"
            ],
            "text/plain": [
              "  ObservationDate     Region         Country  ...  Deaths  Recovered  GeneralCountry\n",
              "0      2020-01-22      ANHUI  MAINLAND CHINA  ...       0        0.0           CHINA\n",
              "1      2020-01-22    BEIJING  MAINLAND CHINA  ...       0        0.0           CHINA\n",
              "2      2020-01-22  CHONGQING  MAINLAND CHINA  ...       0        0.0           CHINA\n",
              "3      2020-01-22     FUJIAN  MAINLAND CHINA  ...       0        0.0           CHINA\n",
              "4      2020-01-22      GANSU  MAINLAND CHINA  ...       0        0.0           CHINA\n",
              "\n",
              "[5 rows x 7 columns]"
            ]
          },
          "metadata": {
            "tags": []
          },
          "execution_count": 51
        }
      ]
    },
    {
      "cell_type": "markdown",
      "metadata": {
        "id": "ZXsm4dIW4_S1"
      },
      "source": [
        "Let's say we needed to adjust our confirmed up by a single case for every observation. For this, we can use the `applymap` method on a single _numeric_ `cudf` column (`Series`) in the `DataFrame`. "
      ]
    },
    {
      "cell_type": "code",
      "metadata": {
        "id": "TyZfKH-A49O4",
        "colab": {
          "base_uri": "https://localhost:8080/",
          "height": 204
        },
        "outputId": "c1f2af46-a8ab-469a-bc49-220bb7238741"
      },
      "source": [
        "covid['Confirmed_Adjusted'] = covid['Confirmed'].applymap(lambda x: x + 1.0)\n",
        "covid.head()"
      ],
      "execution_count": null,
      "outputs": [
        {
          "output_type": "execute_result",
          "data": {
            "text/html": [
              "<div>\n",
              "<style scoped>\n",
              "    .dataframe tbody tr th:only-of-type {\n",
              "        vertical-align: middle;\n",
              "    }\n",
              "\n",
              "    .dataframe tbody tr th {\n",
              "        vertical-align: top;\n",
              "    }\n",
              "\n",
              "    .dataframe thead th {\n",
              "        text-align: right;\n",
              "    }\n",
              "</style>\n",
              "<table border=\"1\" class=\"dataframe\">\n",
              "  <thead>\n",
              "    <tr style=\"text-align: right;\">\n",
              "      <th></th>\n",
              "      <th>ObservationDate</th>\n",
              "      <th>Region</th>\n",
              "      <th>Country</th>\n",
              "      <th>Confirmed</th>\n",
              "      <th>Deaths</th>\n",
              "      <th>Recovered</th>\n",
              "      <th>GeneralCountry</th>\n",
              "      <th>Confirmed_Adjusted</th>\n",
              "    </tr>\n",
              "  </thead>\n",
              "  <tbody>\n",
              "    <tr>\n",
              "      <th>0</th>\n",
              "      <td>2020-01-22</td>\n",
              "      <td>ANHUI</td>\n",
              "      <td>MAINLAND CHINA</td>\n",
              "      <td>1.0</td>\n",
              "      <td>0</td>\n",
              "      <td>0.0</td>\n",
              "      <td>CHINA</td>\n",
              "      <td>2.0</td>\n",
              "    </tr>\n",
              "    <tr>\n",
              "      <th>1</th>\n",
              "      <td>2020-01-22</td>\n",
              "      <td>BEIJING</td>\n",
              "      <td>MAINLAND CHINA</td>\n",
              "      <td>14.0</td>\n",
              "      <td>0</td>\n",
              "      <td>0.0</td>\n",
              "      <td>CHINA</td>\n",
              "      <td>15.0</td>\n",
              "    </tr>\n",
              "    <tr>\n",
              "      <th>2</th>\n",
              "      <td>2020-01-22</td>\n",
              "      <td>CHONGQING</td>\n",
              "      <td>MAINLAND CHINA</td>\n",
              "      <td>6.0</td>\n",
              "      <td>0</td>\n",
              "      <td>0.0</td>\n",
              "      <td>CHINA</td>\n",
              "      <td>7.0</td>\n",
              "    </tr>\n",
              "    <tr>\n",
              "      <th>3</th>\n",
              "      <td>2020-01-22</td>\n",
              "      <td>FUJIAN</td>\n",
              "      <td>MAINLAND CHINA</td>\n",
              "      <td>1.0</td>\n",
              "      <td>0</td>\n",
              "      <td>0.0</td>\n",
              "      <td>CHINA</td>\n",
              "      <td>2.0</td>\n",
              "    </tr>\n",
              "    <tr>\n",
              "      <th>4</th>\n",
              "      <td>2020-01-22</td>\n",
              "      <td>GANSU</td>\n",
              "      <td>MAINLAND CHINA</td>\n",
              "      <td>0.0</td>\n",
              "      <td>0</td>\n",
              "      <td>0.0</td>\n",
              "      <td>CHINA</td>\n",
              "      <td>1.0</td>\n",
              "    </tr>\n",
              "  </tbody>\n",
              "</table>\n",
              "</div>"
            ],
            "text/plain": [
              "  ObservationDate     Region  ... GeneralCountry  Confirmed_Adjusted\n",
              "0      2020-01-22      ANHUI  ...          CHINA                 2.0\n",
              "1      2020-01-22    BEIJING  ...          CHINA                15.0\n",
              "2      2020-01-22  CHONGQING  ...          CHINA                 7.0\n",
              "3      2020-01-22     FUJIAN  ...          CHINA                 2.0\n",
              "4      2020-01-22      GANSU  ...          CHINA                 1.0\n",
              "\n",
              "[5 rows x 8 columns]"
            ]
          },
          "metadata": {
            "tags": []
          },
          "execution_count": 55
        }
      ]
    },
    {
      "cell_type": "code",
      "metadata": {
        "id": "GR58vH835a4p",
        "colab": {
          "base_uri": "https://localhost:8080/"
        },
        "outputId": "05a02d6c-bbed-4e25-8edc-31e3ac7b37db"
      },
      "source": [
        "covid.groupby('Country').agg(\n",
        "    {\n",
        "        'Deaths':'count', \n",
        "        'ObservationDate': ['min','max']\n",
        "     \n",
        "    }\n",
        ").sort_values(('ObservationDate','min'))"
      ],
      "execution_count": null,
      "outputs": [
        {
          "output_type": "execute_result",
          "data": {
            "text/plain": [
              "(172480, 8)"
            ]
          },
          "metadata": {
            "tags": []
          },
          "execution_count": 54
        }
      ]
    },
    {
      "cell_type": "markdown",
      "metadata": {
        "id": "0bjN-hjSfif7"
      },
      "source": [
        "Here we used a small anonimous function (*lambda function*) which can take any number of arguments, but can only have one expression. Once the expression is executed, it returns the result.\n",
        "\n",
        "In our example, this lambda function takes a single value from the 'Country' Series, and return a transformed version of that value. Then **map()** returns a new Series (which we called 'GeneralCountry' where all the values have been transformed by our labmda function.\n",
        "\n",
        "\n",
        "\n",
        "\n"
      ]
    },
    {
      "cell_type": "markdown",
      "metadata": {
        "id": "JPEQ3fCgfif8"
      },
      "source": [
        "**apply_rows()** is a similar method which be applied to DataFrames. The difference is that **apply_rows()** works on a row/column basis of a DataFrame, while **map()** works element-wise on a Series.\n"
      ]
    },
    {
      "cell_type": "markdown",
      "metadata": {
        "id": "syyp5Geofif8"
      },
      "source": [
        "Let's create a function which calculates \"naive\" mortality rate, and write its output in a new 'MortalityRate' column using **apply_rows()** method:"
      ]
    },
    {
      "cell_type": "code",
      "metadata": {
        "id": "MmGPnt0xfif8",
        "colab": {
          "base_uri": "https://localhost:8080/",
          "height": 289
        },
        "outputId": "4ee86f2c-b3b4-4d9a-ffc4-47020e055554"
      },
      "source": [
        "#Create MortalityRate column using apply() method:\n",
        "import numpy as np\n",
        "def naive_rate(deaths, confirmed, MortalityRate):\n",
        "    for it, (d, c) in enumerate(zip(deaths, confirmed)):\n",
        "        if c > 0:\n",
        "            MortalityRate[it] = d/c\n",
        "        else:\n",
        "            MortalityRate[it] = 0\n",
        "            \n",
        "covid = covid.apply_rows(naive_rate,\n",
        "                   incols={'Deaths':'deaths', 'Confirmed':'confirmed'},\n",
        "                   outcols={'MortalityRate': np.float64},\n",
        "                   kwargs={}\n",
        "                  )\n",
        "covid[covid.MortalityRate != 0].head()"
      ],
      "execution_count": null,
      "outputs": [
        {
          "output_type": "execute_result",
          "data": {
            "text/html": [
              "<div>\n",
              "<style scoped>\n",
              "    .dataframe tbody tr th:only-of-type {\n",
              "        vertical-align: middle;\n",
              "    }\n",
              "\n",
              "    .dataframe tbody tr th {\n",
              "        vertical-align: top;\n",
              "    }\n",
              "\n",
              "    .dataframe thead th {\n",
              "        text-align: right;\n",
              "    }\n",
              "</style>\n",
              "<table border=\"1\" class=\"dataframe\">\n",
              "  <thead>\n",
              "    <tr style=\"text-align: right;\">\n",
              "      <th></th>\n",
              "      <th>ObservationDate</th>\n",
              "      <th>Region</th>\n",
              "      <th>Country</th>\n",
              "      <th>Confirmed</th>\n",
              "      <th>Deaths</th>\n",
              "      <th>Recovered</th>\n",
              "      <th>GeneralCountry</th>\n",
              "      <th>Confirmed_Adjusted</th>\n",
              "      <th>out</th>\n",
              "      <th>MortalityRate</th>\n",
              "    </tr>\n",
              "  </thead>\n",
              "  <tbody>\n",
              "    <tr>\n",
              "      <th>13</th>\n",
              "      <td>2020-01-22</td>\n",
              "      <td>HUBEI</td>\n",
              "      <td>MAINLAND CHINA</td>\n",
              "      <td>444.0</td>\n",
              "      <td>17</td>\n",
              "      <td>28.0</td>\n",
              "      <td>CHINA</td>\n",
              "      <td>445.0</td>\n",
              "      <td>0.038288</td>\n",
              "      <td>0.038288</td>\n",
              "    </tr>\n",
              "    <tr>\n",
              "      <th>47</th>\n",
              "      <td>2020-01-23</td>\n",
              "      <td>HEBEI</td>\n",
              "      <td>MAINLAND CHINA</td>\n",
              "      <td>1.0</td>\n",
              "      <td>1</td>\n",
              "      <td>0.0</td>\n",
              "      <td>CHINA</td>\n",
              "      <td>2.0</td>\n",
              "      <td>1.000000</td>\n",
              "      <td>1.000000</td>\n",
              "    </tr>\n",
              "    <tr>\n",
              "      <th>51</th>\n",
              "      <td>2020-01-23</td>\n",
              "      <td>HUBEI</td>\n",
              "      <td>MAINLAND CHINA</td>\n",
              "      <td>444.0</td>\n",
              "      <td>17</td>\n",
              "      <td>28.0</td>\n",
              "      <td>CHINA</td>\n",
              "      <td>445.0</td>\n",
              "      <td>0.038288</td>\n",
              "      <td>0.038288</td>\n",
              "    </tr>\n",
              "    <tr>\n",
              "      <th>84</th>\n",
              "      <td>2020-01-24</td>\n",
              "      <td>HUBEI</td>\n",
              "      <td>MAINLAND CHINA</td>\n",
              "      <td>549.0</td>\n",
              "      <td>24</td>\n",
              "      <td>31.0</td>\n",
              "      <td>CHINA</td>\n",
              "      <td>550.0</td>\n",
              "      <td>0.043716</td>\n",
              "      <td>0.043716</td>\n",
              "    </tr>\n",
              "    <tr>\n",
              "      <th>103</th>\n",
              "      <td>2020-01-24</td>\n",
              "      <td>HEILONGJIANG</td>\n",
              "      <td>MAINLAND CHINA</td>\n",
              "      <td>4.0</td>\n",
              "      <td>1</td>\n",
              "      <td>0.0</td>\n",
              "      <td>CHINA</td>\n",
              "      <td>5.0</td>\n",
              "      <td>0.250000</td>\n",
              "      <td>0.250000</td>\n",
              "    </tr>\n",
              "  </tbody>\n",
              "</table>\n",
              "</div>"
            ],
            "text/plain": [
              "    ObservationDate        Region  ...       out  MortalityRate\n",
              "13       2020-01-22         HUBEI  ...  0.038288       0.038288\n",
              "47       2020-01-23         HEBEI  ...  1.000000       1.000000\n",
              "51       2020-01-23         HUBEI  ...  0.038288       0.038288\n",
              "84       2020-01-24         HUBEI  ...  0.043716       0.043716\n",
              "103      2020-01-24  HEILONGJIANG  ...  0.250000       0.250000\n",
              "\n",
              "[5 rows x 10 columns]"
            ]
          },
          "metadata": {
            "tags": []
          },
          "execution_count": 61
        }
      ]
    },
    {
      "cell_type": "markdown",
      "metadata": {
        "id": "QqxrzEUNfif8"
      },
      "source": [
        "### Sorting "
      ]
    },
    {
      "cell_type": "markdown",
      "metadata": {
        "id": "KCSkv3Dtfif8"
      },
      "source": [
        "In many cases, we would like to first sort values in our data set, and then perform further data manipulations. To sort data and get it in the desired order we can use **sort_values()** method."
      ]
    },
    {
      "cell_type": "code",
      "metadata": {
        "id": "VFqyJ-mhfif9",
        "colab": {
          "base_uri": "https://localhost:8080/",
          "height": 204
        },
        "outputId": "9c17d27a-a15d-4799-c5fc-30dbc4952dba"
      },
      "source": [
        "#Sort values by 'GeneralCountry':\n",
        "covid.sort_values(by = 'GeneralCountry').head()"
      ],
      "execution_count": null,
      "outputs": [
        {
          "output_type": "execute_result",
          "data": {
            "text/html": [
              "<div>\n",
              "<style scoped>\n",
              "    .dataframe tbody tr th:only-of-type {\n",
              "        vertical-align: middle;\n",
              "    }\n",
              "\n",
              "    .dataframe tbody tr th {\n",
              "        vertical-align: top;\n",
              "    }\n",
              "\n",
              "    .dataframe thead th {\n",
              "        text-align: right;\n",
              "    }\n",
              "</style>\n",
              "<table border=\"1\" class=\"dataframe\">\n",
              "  <thead>\n",
              "    <tr style=\"text-align: right;\">\n",
              "      <th></th>\n",
              "      <th>ObservationDate</th>\n",
              "      <th>Region</th>\n",
              "      <th>Country</th>\n",
              "      <th>Confirmed</th>\n",
              "      <th>Deaths</th>\n",
              "      <th>Recovered</th>\n",
              "      <th>GeneralCountry</th>\n",
              "      <th>Confirmed_Adjusted</th>\n",
              "      <th>out</th>\n",
              "      <th>MortalityRate</th>\n",
              "    </tr>\n",
              "  </thead>\n",
              "  <tbody>\n",
              "    <tr>\n",
              "      <th>4674</th>\n",
              "      <td>2020-03-10</td>\n",
              "      <td>Unknown</td>\n",
              "      <td>('ST. MARTIN',)</td>\n",
              "      <td>2.0</td>\n",
              "      <td>0</td>\n",
              "      <td>0.0</td>\n",
              "      <td>('ST. MARTIN',)</td>\n",
              "      <td>3.0</td>\n",
              "      <td>0.0</td>\n",
              "      <td>0.0</td>\n",
              "    </tr>\n",
              "    <tr>\n",
              "      <th>2258</th>\n",
              "      <td>2020-02-24</td>\n",
              "      <td>Unknown</td>\n",
              "      <td>AFGHANISTAN</td>\n",
              "      <td>1.0</td>\n",
              "      <td>0</td>\n",
              "      <td>0.0</td>\n",
              "      <td>AFGHANISTAN</td>\n",
              "      <td>2.0</td>\n",
              "      <td>0.0</td>\n",
              "      <td>0.0</td>\n",
              "    </tr>\n",
              "    <tr>\n",
              "      <th>2351</th>\n",
              "      <td>2020-02-25</td>\n",
              "      <td>Unknown</td>\n",
              "      <td>AFGHANISTAN</td>\n",
              "      <td>1.0</td>\n",
              "      <td>0</td>\n",
              "      <td>0.0</td>\n",
              "      <td>AFGHANISTAN</td>\n",
              "      <td>2.0</td>\n",
              "      <td>0.0</td>\n",
              "      <td>0.0</td>\n",
              "    </tr>\n",
              "    <tr>\n",
              "      <th>2452</th>\n",
              "      <td>2020-02-26</td>\n",
              "      <td>Unknown</td>\n",
              "      <td>AFGHANISTAN</td>\n",
              "      <td>1.0</td>\n",
              "      <td>0</td>\n",
              "      <td>0.0</td>\n",
              "      <td>AFGHANISTAN</td>\n",
              "      <td>2.0</td>\n",
              "      <td>0.0</td>\n",
              "      <td>0.0</td>\n",
              "    </tr>\n",
              "    <tr>\n",
              "      <th>2556</th>\n",
              "      <td>2020-02-27</td>\n",
              "      <td>Unknown</td>\n",
              "      <td>AFGHANISTAN</td>\n",
              "      <td>1.0</td>\n",
              "      <td>0</td>\n",
              "      <td>0.0</td>\n",
              "      <td>AFGHANISTAN</td>\n",
              "      <td>2.0</td>\n",
              "      <td>0.0</td>\n",
              "      <td>0.0</td>\n",
              "    </tr>\n",
              "  </tbody>\n",
              "</table>\n",
              "</div>"
            ],
            "text/plain": [
              "     ObservationDate   Region  ...  out  MortalityRate\n",
              "4674      2020-03-10  Unknown  ...  0.0            0.0\n",
              "2258      2020-02-24  Unknown  ...  0.0            0.0\n",
              "2351      2020-02-25  Unknown  ...  0.0            0.0\n",
              "2452      2020-02-26  Unknown  ...  0.0            0.0\n",
              "2556      2020-02-27  Unknown  ...  0.0            0.0\n",
              "\n",
              "[5 rows x 10 columns]"
            ]
          },
          "metadata": {
            "tags": []
          },
          "execution_count": 62
        }
      ]
    },
    {
      "cell_type": "markdown",
      "metadata": {
        "id": "8JiBmPsMfigF"
      },
      "source": [
        "**sort_values()** defaults to an ascending sort, where the lowest values go first. To obtain a descending sort, we need to specify *ascending* parameter: "
      ]
    },
    {
      "cell_type": "code",
      "metadata": {
        "id": "uwUAgo56figF",
        "colab": {
          "base_uri": "https://localhost:8080/",
          "height": 111
        },
        "outputId": "23f72de9-5d44-4189-c850-26d802edb537"
      },
      "source": [
        "#Sort values by 'ObservationDate' and 'Confirmed' in descending order:\n",
        "covid.sort_values(by = ['ObservationDate', 'Confirmed'], ascending = False).head(2)"
      ],
      "execution_count": null,
      "outputs": [
        {
          "output_type": "execute_result",
          "data": {
            "text/html": [
              "<div>\n",
              "<style scoped>\n",
              "    .dataframe tbody tr th:only-of-type {\n",
              "        vertical-align: middle;\n",
              "    }\n",
              "\n",
              "    .dataframe tbody tr th {\n",
              "        vertical-align: top;\n",
              "    }\n",
              "\n",
              "    .dataframe thead th {\n",
              "        text-align: right;\n",
              "    }\n",
              "</style>\n",
              "<table border=\"1\" class=\"dataframe\">\n",
              "  <thead>\n",
              "    <tr style=\"text-align: right;\">\n",
              "      <th></th>\n",
              "      <th>ObservationDate</th>\n",
              "      <th>Region</th>\n",
              "      <th>Country</th>\n",
              "      <th>Confirmed</th>\n",
              "      <th>Deaths</th>\n",
              "      <th>Recovered</th>\n",
              "      <th>GeneralCountry</th>\n",
              "      <th>Confirmed_Adjusted</th>\n",
              "      <th>out</th>\n",
              "      <th>MortalityRate</th>\n",
              "    </tr>\n",
              "  </thead>\n",
              "  <tbody>\n",
              "    <tr>\n",
              "      <th>171774</th>\n",
              "      <td>2020-12-06</td>\n",
              "      <td>Unknown</td>\n",
              "      <td>FRANCE</td>\n",
              "      <td>2290891.0</td>\n",
              "      <td>54804</td>\n",
              "      <td>146558.0</td>\n",
              "      <td>FRANCE</td>\n",
              "      <td>2290892.0</td>\n",
              "      <td>0.023923</td>\n",
              "      <td>0.023923</td>\n",
              "    </tr>\n",
              "    <tr>\n",
              "      <th>172181</th>\n",
              "      <td>2020-12-06</td>\n",
              "      <td>MAHARASHTRA</td>\n",
              "      <td>INDIA</td>\n",
              "      <td>1852266.0</td>\n",
              "      <td>47734</td>\n",
              "      <td>1723370.0</td>\n",
              "      <td>INDIA</td>\n",
              "      <td>1852267.0</td>\n",
              "      <td>0.025771</td>\n",
              "      <td>0.025771</td>\n",
              "    </tr>\n",
              "  </tbody>\n",
              "</table>\n",
              "</div>"
            ],
            "text/plain": [
              "       ObservationDate       Region  ...       out  MortalityRate\n",
              "171774      2020-12-06      Unknown  ...  0.023923       0.023923\n",
              "172181      2020-12-06  MAHARASHTRA  ...  0.025771       0.025771\n",
              "\n",
              "[2 rows x 10 columns]"
            ]
          },
          "metadata": {
            "tags": []
          },
          "execution_count": 63
        }
      ]
    },
    {
      "cell_type": "markdown",
      "metadata": {
        "id": "PYnlm9uifigG"
      },
      "source": [
        "### Grouping"
      ]
    },
    {
      "cell_type": "markdown",
      "metadata": {
        "id": "QZWV48CrfigG"
      },
      "source": [
        "Depending on our goals, we might prefer to group data first, and then perform some operations on this group. In pandas, we can do it with **groupby()** method. However, simple call of a *groupby* method on our data set will return not a set of DataFrames, but a DataFrameGroupBy object:"
      ]
    },
    {
      "cell_type": "code",
      "metadata": {
        "id": "gkXj7kaMfigG",
        "colab": {
          "base_uri": "https://localhost:8080/"
        },
        "outputId": "ff91633f-50a9-4bbc-86da-8c22391350a0"
      },
      "source": [
        "#Group by 'GeneralCountry' and create a DataFrameGroupBy object:\n",
        "covid.groupby('GeneralCountry')"
      ],
      "execution_count": null,
      "outputs": [
        {
          "output_type": "execute_result",
          "data": {
            "text/plain": [
              "<cudf.core.groupby.groupby.DataFrameGroupBy at 0x7fc97bdb1e48>"
            ]
          },
          "metadata": {
            "tags": []
          },
          "execution_count": 64
        }
      ]
    },
    {
      "cell_type": "markdown",
      "metadata": {
        "id": "nUEkMpm9figG"
      },
      "source": [
        "We can think of this object as of a special view of the DataFrame, which is already divided into groups. To get actual results, we need to apply an aggregate on this object:"
      ]
    },
    {
      "cell_type": "code",
      "metadata": {
        "id": "8KF5_rebfigG",
        "colab": {
          "base_uri": "https://localhost:8080/"
        },
        "outputId": "46a76dc5-8d1a-4867-a1b7-2a63c9a24114"
      },
      "source": [
        "#For example, we can check when the date of latest observation for each country:\n",
        "covid.groupby('GeneralCountry').ObservationDate.max().head()"
      ],
      "execution_count": null,
      "outputs": [
        {
          "output_type": "execute_result",
          "data": {
            "text/plain": [
              "('ST. MARTIN',)   2020-03-10\n",
              "AFGHANISTAN       2020-12-06\n",
              "ALBANIA           2020-12-06\n",
              "ALGERIA           2020-12-06\n",
              "ANDORRA           2020-12-06\n",
              "Name: ObservationDate, dtype: datetime64[ns]"
            ]
          },
          "metadata": {
            "tags": []
          },
          "execution_count": 65
        }
      ]
    },
    {
      "cell_type": "code",
      "metadata": {
        "id": "A-cziF5YfigH",
        "colab": {
          "base_uri": "https://localhost:8080/"
        },
        "outputId": "74fc6be4-7a9e-4611-8cfc-e91eac16d67f"
      },
      "source": [
        "#Let's fix this ('ST. MARTIN') business:\n",
        "covid['GeneralCountry'] = covid.GeneralCountry.str.strip(\"('\")\n",
        "covid.groupby('GeneralCountry').ObservationDate.max().head()"
      ],
      "execution_count": null,
      "outputs": [
        {
          "output_type": "execute_result",
          "data": {
            "text/plain": [
              "AFGHANISTAN   2020-12-06\n",
              "ALBANIA       2020-12-06\n",
              "ALGERIA       2020-12-06\n",
              "ANDORRA       2020-12-06\n",
              "ANGOLA        2020-12-06\n",
              "Name: ObservationDate, dtype: datetime64[ns]"
            ]
          },
          "metadata": {
            "tags": []
          },
          "execution_count": 66
        }
      ]
    },
    {
      "cell_type": "markdown",
      "metadata": {
        "id": "WMuu19V4figH"
      },
      "source": [
        "Similarly, we can use any of the summary functions with groupby object. For example, we can see latest numbers of confirmed cases within various regions of China:"
      ]
    },
    {
      "cell_type": "code",
      "metadata": {
        "id": "6O22c7h0figH",
        "colab": {
          "base_uri": "https://localhost:8080/"
        },
        "outputId": "c5c32b97-f7a1-4369-b999-5e7c3b3e621f"
      },
      "source": [
        "covid[covid.GeneralCountry == 'CHINA'].groupby('Region').Confirmed.max()"
      ],
      "execution_count": null,
      "outputs": [
        {
          "output_type": "execute_result",
          "data": {
            "text/plain": [
              "Region\n",
              "ANHUI               992.0\n",
              "BEIJING             952.0\n",
              "CHONGQING           590.0\n",
              "FUJIAN              500.0\n",
              "GANSU               182.0\n",
              "GUANGDONG          2004.0\n",
              "GUANGXI             263.0\n",
              "GUIZHOU             147.0\n",
              "HAINAN              171.0\n",
              "HEBEI               373.0\n",
              "HEILONGJIANG        949.0\n",
              "HENAN              1295.0\n",
              "HONG KONG          6897.0\n",
              "HUBEI             68149.0\n",
              "HUNAN              1020.0\n",
              "INNER MONGOLIA      336.0\n",
              "JIANGSU             680.0\n",
              "JIANGXI             937.0\n",
              "JILIN               157.0\n",
              "LIAONING            289.0\n",
              "MACAU                46.0\n",
              "NINGXIA              75.0\n",
              "QINGHAI              18.0\n",
              "SHAANXI             502.0\n",
              "SHANDONG            857.0\n",
              "SHANGHAI           1366.0\n",
              "SHANXI              222.0\n",
              "SICHUAN             812.0\n",
              "TIANJIN             301.0\n",
              "TIBET                 1.0\n",
              "XINJIANG            980.0\n",
              "YUNNAN              221.0\n",
              "ZHEJIANG           1295.0\n",
              "Name: Confirmed, dtype: float64"
            ]
          },
          "metadata": {
            "tags": []
          },
          "execution_count": 67
        }
      ]
    },
    {
      "cell_type": "markdown",
      "metadata": {
        "id": "lvjFz6HPfigH"
      },
      "source": [
        "We can also group by more than one column:"
      ]
    },
    {
      "cell_type": "code",
      "metadata": {
        "id": "5eBfxgTxfigI",
        "colab": {
          "base_uri": "https://localhost:8080/"
        },
        "outputId": "aebff50f-b3f6-4520-e774-4b6afcb7f9b7"
      },
      "source": [
        "#Group by 'GeneralCountry' and 'Region' and see maximum (=total) number of 'Deaths':\n",
        "covid.groupby(['GeneralCountry', 'Region']).Deaths.max().head()"
      ],
      "execution_count": null,
      "outputs": [
        {
          "output_type": "execute_result",
          "data": {
            "text/plain": [
              "GeneralCountry  Region \n",
              "AFGHANISTAN     Unknown    1874\n",
              "ALBANIA         Unknown     905\n",
              "ALGERIA         Unknown    2516\n",
              "ANDORRA         Unknown      78\n",
              "ANGOLA          Unknown     354\n",
              "Name: Deaths, dtype: int64"
            ]
          },
          "metadata": {
            "tags": []
          },
          "execution_count": 68
        }
      ]
    },
    {
      "cell_type": "code",
      "metadata": {
        "id": "Z1BdGdx8figI",
        "colab": {
          "base_uri": "https://localhost:8080/",
          "height": 235
        },
        "outputId": "2f15a23a-e007-435e-f7b6-2c83235517fb"
      },
      "source": [
        "#Number of regions within each country:\n",
        "covid.groupby('GeneralCountry').Region.nunique().head()"
      ],
      "execution_count": null,
      "outputs": [
        {
          "output_type": "execute_result",
          "data": {
            "text/html": [
              "<div>\n",
              "<style scoped>\n",
              "    .dataframe tbody tr th:only-of-type {\n",
              "        vertical-align: middle;\n",
              "    }\n",
              "\n",
              "    .dataframe tbody tr th {\n",
              "        vertical-align: top;\n",
              "    }\n",
              "\n",
              "    .dataframe thead th {\n",
              "        text-align: right;\n",
              "    }\n",
              "</style>\n",
              "<table border=\"1\" class=\"dataframe\">\n",
              "  <thead>\n",
              "    <tr style=\"text-align: right;\">\n",
              "      <th></th>\n",
              "      <th>Region</th>\n",
              "    </tr>\n",
              "    <tr>\n",
              "      <th>GeneralCountry</th>\n",
              "      <th></th>\n",
              "    </tr>\n",
              "  </thead>\n",
              "  <tbody>\n",
              "    <tr>\n",
              "      <th>AFGHANISTAN</th>\n",
              "      <td>1</td>\n",
              "    </tr>\n",
              "    <tr>\n",
              "      <th>ALBANIA</th>\n",
              "      <td>1</td>\n",
              "    </tr>\n",
              "    <tr>\n",
              "      <th>ALGERIA</th>\n",
              "      <td>1</td>\n",
              "    </tr>\n",
              "    <tr>\n",
              "      <th>ANDORRA</th>\n",
              "      <td>1</td>\n",
              "    </tr>\n",
              "    <tr>\n",
              "      <th>ANGOLA</th>\n",
              "      <td>1</td>\n",
              "    </tr>\n",
              "  </tbody>\n",
              "</table>\n",
              "</div>"
            ],
            "text/plain": [
              "                Region\n",
              "GeneralCountry        \n",
              "AFGHANISTAN          1\n",
              "ALBANIA              1\n",
              "ALGERIA              1\n",
              "ANDORRA              1\n",
              "ANGOLA               1"
            ]
          },
          "metadata": {
            "tags": []
          },
          "execution_count": 69
        }
      ]
    },
    {
      "cell_type": "code",
      "metadata": {
        "id": "nm2i-FfrfigI",
        "colab": {
          "base_uri": "https://localhost:8080/",
          "height": 390
        },
        "outputId": "da0748aa-d906-418a-be23-be5a8c026d67"
      },
      "source": [
        "#See 'Confirmed' and 'Deaths' numbers by GeneralCountry:\n",
        "covid.groupby('GeneralCountry')[['Confirmed', 'Deaths']].max().head(10)"
      ],
      "execution_count": null,
      "outputs": [
        {
          "output_type": "execute_result",
          "data": {
            "text/html": [
              "<div>\n",
              "<style scoped>\n",
              "    .dataframe tbody tr th:only-of-type {\n",
              "        vertical-align: middle;\n",
              "    }\n",
              "\n",
              "    .dataframe tbody tr th {\n",
              "        vertical-align: top;\n",
              "    }\n",
              "\n",
              "    .dataframe thead th {\n",
              "        text-align: right;\n",
              "    }\n",
              "</style>\n",
              "<table border=\"1\" class=\"dataframe\">\n",
              "  <thead>\n",
              "    <tr style=\"text-align: right;\">\n",
              "      <th></th>\n",
              "      <th>Confirmed</th>\n",
              "      <th>Deaths</th>\n",
              "    </tr>\n",
              "    <tr>\n",
              "      <th>GeneralCountry</th>\n",
              "      <th></th>\n",
              "      <th></th>\n",
              "    </tr>\n",
              "  </thead>\n",
              "  <tbody>\n",
              "    <tr>\n",
              "      <th>AFGHANISTAN</th>\n",
              "      <td>47306.0</td>\n",
              "      <td>1874</td>\n",
              "    </tr>\n",
              "    <tr>\n",
              "      <th>ALBANIA</th>\n",
              "      <td>42988.0</td>\n",
              "      <td>905</td>\n",
              "    </tr>\n",
              "    <tr>\n",
              "      <th>ALGERIA</th>\n",
              "      <td>88252.0</td>\n",
              "      <td>2516</td>\n",
              "    </tr>\n",
              "    <tr>\n",
              "      <th>ANDORRA</th>\n",
              "      <td>7050.0</td>\n",
              "      <td>78</td>\n",
              "    </tr>\n",
              "    <tr>\n",
              "      <th>ANGOLA</th>\n",
              "      <td>15591.0</td>\n",
              "      <td>354</td>\n",
              "    </tr>\n",
              "    <tr>\n",
              "      <th>ANTIGUA AND BARBUDA</th>\n",
              "      <td>144.0</td>\n",
              "      <td>4</td>\n",
              "    </tr>\n",
              "    <tr>\n",
              "      <th>ARGENTINA</th>\n",
              "      <td>1463110.0</td>\n",
              "      <td>39770</td>\n",
              "    </tr>\n",
              "    <tr>\n",
              "      <th>ARMENIA</th>\n",
              "      <td>141937.0</td>\n",
              "      <td>2326</td>\n",
              "    </tr>\n",
              "    <tr>\n",
              "      <th>ARUBA</th>\n",
              "      <td>4.0</td>\n",
              "      <td>0</td>\n",
              "    </tr>\n",
              "    <tr>\n",
              "      <th>AUSTRALIA</th>\n",
              "      <td>20347.0</td>\n",
              "      <td>820</td>\n",
              "    </tr>\n",
              "  </tbody>\n",
              "</table>\n",
              "</div>"
            ],
            "text/plain": [
              "                     Confirmed  Deaths\n",
              "GeneralCountry                        \n",
              "AFGHANISTAN            47306.0    1874\n",
              "ALBANIA                42988.0     905\n",
              "ALGERIA                88252.0    2516\n",
              "ANDORRA                 7050.0      78\n",
              "ANGOLA                 15591.0     354\n",
              "ANTIGUA AND BARBUDA      144.0       4\n",
              "ARGENTINA            1463110.0   39770\n",
              "ARMENIA               141937.0    2326\n",
              "ARUBA                      4.0       0\n",
              "AUSTRALIA              20347.0     820"
            ]
          },
          "metadata": {
            "tags": []
          },
          "execution_count": 70
        }
      ]
    },
    {
      "cell_type": "markdown",
      "metadata": {
        "id": "1mm2MlcVfigI"
      },
      "source": [
        "**reset_index()** method allows to reset index:"
      ]
    },
    {
      "cell_type": "code",
      "metadata": {
        "id": "bdhT1TNXfigI",
        "colab": {
          "base_uri": "https://localhost:8080/",
          "height": 359
        },
        "outputId": "81d0f3e1-e5e7-4553-e040-36b91871ad2b"
      },
      "source": [
        "#Reset index in just created dataframe:\n",
        "covid.groupby('GeneralCountry')[['Confirmed', 'Deaths']].max().reset_index().head(10)"
      ],
      "execution_count": null,
      "outputs": [
        {
          "output_type": "execute_result",
          "data": {
            "text/html": [
              "<div>\n",
              "<style scoped>\n",
              "    .dataframe tbody tr th:only-of-type {\n",
              "        vertical-align: middle;\n",
              "    }\n",
              "\n",
              "    .dataframe tbody tr th {\n",
              "        vertical-align: top;\n",
              "    }\n",
              "\n",
              "    .dataframe thead th {\n",
              "        text-align: right;\n",
              "    }\n",
              "</style>\n",
              "<table border=\"1\" class=\"dataframe\">\n",
              "  <thead>\n",
              "    <tr style=\"text-align: right;\">\n",
              "      <th></th>\n",
              "      <th>GeneralCountry</th>\n",
              "      <th>Confirmed</th>\n",
              "      <th>Deaths</th>\n",
              "    </tr>\n",
              "  </thead>\n",
              "  <tbody>\n",
              "    <tr>\n",
              "      <th>0</th>\n",
              "      <td>AFGHANISTAN</td>\n",
              "      <td>47306.0</td>\n",
              "      <td>1874</td>\n",
              "    </tr>\n",
              "    <tr>\n",
              "      <th>1</th>\n",
              "      <td>ALBANIA</td>\n",
              "      <td>42988.0</td>\n",
              "      <td>905</td>\n",
              "    </tr>\n",
              "    <tr>\n",
              "      <th>2</th>\n",
              "      <td>ALGERIA</td>\n",
              "      <td>88252.0</td>\n",
              "      <td>2516</td>\n",
              "    </tr>\n",
              "    <tr>\n",
              "      <th>3</th>\n",
              "      <td>ANDORRA</td>\n",
              "      <td>7050.0</td>\n",
              "      <td>78</td>\n",
              "    </tr>\n",
              "    <tr>\n",
              "      <th>4</th>\n",
              "      <td>ANGOLA</td>\n",
              "      <td>15591.0</td>\n",
              "      <td>354</td>\n",
              "    </tr>\n",
              "    <tr>\n",
              "      <th>5</th>\n",
              "      <td>ANTIGUA AND BARBUDA</td>\n",
              "      <td>144.0</td>\n",
              "      <td>4</td>\n",
              "    </tr>\n",
              "    <tr>\n",
              "      <th>6</th>\n",
              "      <td>ARGENTINA</td>\n",
              "      <td>1463110.0</td>\n",
              "      <td>39770</td>\n",
              "    </tr>\n",
              "    <tr>\n",
              "      <th>7</th>\n",
              "      <td>ARMENIA</td>\n",
              "      <td>141937.0</td>\n",
              "      <td>2326</td>\n",
              "    </tr>\n",
              "    <tr>\n",
              "      <th>8</th>\n",
              "      <td>ARUBA</td>\n",
              "      <td>4.0</td>\n",
              "      <td>0</td>\n",
              "    </tr>\n",
              "    <tr>\n",
              "      <th>9</th>\n",
              "      <td>AUSTRALIA</td>\n",
              "      <td>20347.0</td>\n",
              "      <td>820</td>\n",
              "    </tr>\n",
              "  </tbody>\n",
              "</table>\n",
              "</div>"
            ],
            "text/plain": [
              "        GeneralCountry  Confirmed  Deaths\n",
              "0          AFGHANISTAN    47306.0    1874\n",
              "1              ALBANIA    42988.0     905\n",
              "2              ALGERIA    88252.0    2516\n",
              "3              ANDORRA     7050.0      78\n",
              "4               ANGOLA    15591.0     354\n",
              "5  ANTIGUA AND BARBUDA      144.0       4\n",
              "6            ARGENTINA  1463110.0   39770\n",
              "7              ARMENIA   141937.0    2326\n",
              "8                ARUBA        4.0       0\n",
              "9            AUSTRALIA    20347.0     820"
            ]
          },
          "metadata": {
            "tags": []
          },
          "execution_count": 71
        }
      ]
    },
    {
      "cell_type": "markdown",
      "metadata": {
        "id": "WRzg_kqh8K9U"
      },
      "source": [
        "We can also use the `agg()` method to perform more general aggregations subsets of columns of our dataset. "
      ]
    },
    {
      "cell_type": "code",
      "metadata": {
        "id": "uvsHAzie8KHa",
        "colab": {
          "base_uri": "https://localhost:8080/",
          "height": 481
        },
        "outputId": "e77e9905-83bb-4b36-829c-cba821733583"
      },
      "source": [
        "covid.groupby('Country').agg(\n",
        "    {\n",
        "        'Deaths':'count', \n",
        "        'ObservationDate': ['min','max']\n",
        "     \n",
        "    }\n",
        ").sort_values(('ObservationDate','min'))\n"
      ],
      "execution_count": null,
      "outputs": [
        {
          "output_type": "execute_result",
          "data": {
            "text/html": [
              "<div>\n",
              "<style scoped>\n",
              "    .dataframe tbody tr th:only-of-type {\n",
              "        vertical-align: middle;\n",
              "    }\n",
              "\n",
              "    .dataframe tbody tr th {\n",
              "        vertical-align: top;\n",
              "    }\n",
              "\n",
              "    .dataframe thead tr th {\n",
              "        text-align: left;\n",
              "    }\n",
              "\n",
              "    .dataframe thead tr:last-of-type th {\n",
              "        text-align: right;\n",
              "    }\n",
              "</style>\n",
              "<table border=\"1\" class=\"dataframe\">\n",
              "  <thead>\n",
              "    <tr>\n",
              "      <th></th>\n",
              "      <th>Deaths</th>\n",
              "      <th colspan=\"2\" halign=\"left\">ObservationDate</th>\n",
              "    </tr>\n",
              "    <tr>\n",
              "      <th></th>\n",
              "      <th>count</th>\n",
              "      <th>min</th>\n",
              "      <th>max</th>\n",
              "    </tr>\n",
              "    <tr>\n",
              "      <th>Country</th>\n",
              "      <th></th>\n",
              "      <th></th>\n",
              "      <th></th>\n",
              "    </tr>\n",
              "  </thead>\n",
              "  <tbody>\n",
              "    <tr>\n",
              "      <th>HONG KONG</th>\n",
              "      <td>320</td>\n",
              "      <td>2020-01-22</td>\n",
              "      <td>2020-12-06</td>\n",
              "    </tr>\n",
              "    <tr>\n",
              "      <th>JAPAN</th>\n",
              "      <td>9533</td>\n",
              "      <td>2020-01-22</td>\n",
              "      <td>2020-12-06</td>\n",
              "    </tr>\n",
              "    <tr>\n",
              "      <th>MACAU</th>\n",
              "      <td>320</td>\n",
              "      <td>2020-01-22</td>\n",
              "      <td>2020-12-06</td>\n",
              "    </tr>\n",
              "    <tr>\n",
              "      <th>MAINLAND CHINA</th>\n",
              "      <td>9918</td>\n",
              "      <td>2020-01-22</td>\n",
              "      <td>2020-12-06</td>\n",
              "    </tr>\n",
              "    <tr>\n",
              "      <th>SOUTH KOREA</th>\n",
              "      <td>320</td>\n",
              "      <td>2020-01-22</td>\n",
              "      <td>2020-12-06</td>\n",
              "    </tr>\n",
              "    <tr>\n",
              "      <th>...</th>\n",
              "      <td>...</td>\n",
              "      <td>...</td>\n",
              "      <td>...</td>\n",
              "    </tr>\n",
              "    <tr>\n",
              "      <th>TAJIKISTAN</th>\n",
              "      <td>221</td>\n",
              "      <td>2020-04-30</td>\n",
              "      <td>2020-12-06</td>\n",
              "    </tr>\n",
              "    <tr>\n",
              "      <th>LESOTHO</th>\n",
              "      <td>208</td>\n",
              "      <td>2020-05-13</td>\n",
              "      <td>2020-12-06</td>\n",
              "    </tr>\n",
              "    <tr>\n",
              "      <th>SOLOMON ISLANDS</th>\n",
              "      <td>56</td>\n",
              "      <td>2020-10-12</td>\n",
              "      <td>2020-12-06</td>\n",
              "    </tr>\n",
              "    <tr>\n",
              "      <th>MARSHALL ISLANDS</th>\n",
              "      <td>40</td>\n",
              "      <td>2020-10-28</td>\n",
              "      <td>2020-12-06</td>\n",
              "    </tr>\n",
              "    <tr>\n",
              "      <th>VANUATU</th>\n",
              "      <td>27</td>\n",
              "      <td>2020-11-10</td>\n",
              "      <td>2020-12-06</td>\n",
              "    </tr>\n",
              "  </tbody>\n",
              "</table>\n",
              "<p>225 rows × 3 columns</p>\n",
              "</div>"
            ],
            "text/plain": [
              "                 Deaths ObservationDate           \n",
              "                  count             min        max\n",
              "Country                                           \n",
              "HONG KONG           320      2020-01-22 2020-12-06\n",
              "JAPAN              9533      2020-01-22 2020-12-06\n",
              "MACAU               320      2020-01-22 2020-12-06\n",
              "MAINLAND CHINA     9918      2020-01-22 2020-12-06\n",
              "SOUTH KOREA         320      2020-01-22 2020-12-06\n",
              "...                 ...             ...        ...\n",
              "TAJIKISTAN          221      2020-04-30 2020-12-06\n",
              "LESOTHO             208      2020-05-13 2020-12-06\n",
              "SOLOMON ISLANDS      56      2020-10-12 2020-12-06\n",
              "MARSHALL ISLANDS     40      2020-10-28 2020-12-06\n",
              "VANUATU              27      2020-11-10 2020-12-06\n",
              "\n",
              "[225 rows x 3 columns]"
            ]
          },
          "metadata": {
            "tags": []
          },
          "execution_count": 72
        }
      ]
    },
    {
      "cell_type": "markdown",
      "metadata": {
        "id": "FCK2LKsMfigJ"
      },
      "source": [
        "### Joining data"
      ]
    },
    {
      "cell_type": "markdown",
      "metadata": {
        "id": "17squVTjfigJ"
      },
      "source": [
        "Often enough, while analyzing data, we need to combine different DataFrames and/or Series in non-trivial ways. Pandas has a few neat methods for doing this. \n",
        "\n",
        "In cases when we have data in different DataFrames (or Series) but having the same fields (columns), **concat()** function lets us join dataframes along axis."
      ]
    },
    {
      "cell_type": "markdown",
      "metadata": {
        "id": "YtAeZFcOfigJ"
      },
      "source": [
        "Let's say we create a new DataFrame using *groupby()* method:"
      ]
    },
    {
      "cell_type": "code",
      "metadata": {
        "id": "dK0FYGJAfigK"
      },
      "source": [
        "countries_stats = covid.groupby('GeneralCountry')[['Confirmed', 'Deaths']].max().reset_index()\n",
        "countries_stats.head()"
      ],
      "execution_count": null,
      "outputs": []
    },
    {
      "cell_type": "markdown",
      "metadata": {
        "id": "HxXrLeKFfigK"
      },
      "source": [
        "And pretend we have just heard of two new confirmed cases - one in Mongolia, and one in Jamaica:"
      ]
    },
    {
      "cell_type": "code",
      "metadata": {
        "id": "cZvtY9X5figK"
      },
      "source": [
        "new_cases = pd.DataFrame({'GeneralCountry': ['MONGOLIA', 'JAMAICA'], 'Confirmed': [1.0, 1.0], 'Deaths': [0, 0]})\n",
        "new_cases"
      ],
      "execution_count": null,
      "outputs": []
    },
    {
      "cell_type": "markdown",
      "metadata": {
        "id": "WQF3L0kUfigK"
      },
      "source": [
        "Now if we would like to study all of the affected countries simultaneously, we would use **concat()** method to stack these two DataFrames on top of one another:"
      ]
    },
    {
      "cell_type": "code",
      "metadata": {
        "id": "KBF6zCTifigK"
      },
      "source": [
        "#Concatenate counties_stats and new_cases in new 'all_cases' DataFrame:\n",
        "all_cases = pd.concat([countries_stats, new_cases])\n",
        "all_cases.head()"
      ],
      "execution_count": null,
      "outputs": []
    },
    {
      "cell_type": "code",
      "metadata": {
        "id": "5vRlRg4ofigL"
      },
      "source": [
        "#Check:\n",
        "all_cases[all_cases.GeneralCountry == 'JAMAICA']"
      ],
      "execution_count": null,
      "outputs": []
    },
    {
      "cell_type": "markdown",
      "metadata": {
        "id": "l6UU5X8bfigL"
      },
      "source": [
        "To concat the same two DataFrames along columns, we would switch *axis* parameter to 1:"
      ]
    },
    {
      "cell_type": "code",
      "metadata": {
        "id": "kWPpAH7cfigL"
      },
      "source": [
        "#Concatenate the same DataFrames along  columns:\n",
        "all_cases_too = pd.concat([countries_stats, new_cases], axis = 1)\n",
        "all_cases_too.head()"
      ],
      "execution_count": null,
      "outputs": []
    },
    {
      "cell_type": "markdown",
      "metadata": {
        "id": "9mjweoCCfigL"
      },
      "source": [
        "**merge()** or **join()** methods let you combine different DataFrame objects which have an index in common (similar to a JOIN in SQL). Th **join** method works the best when we need to join dataframes on their indexes, while the **merge** is more versatile.\n",
        "\n",
        "Let's create a new DataFrame listing countries and latest observation dates:"
      ]
    },
    {
      "cell_type": "code",
      "metadata": {
        "id": "hYEP7EoSfigM"
      },
      "source": [
        "#Create a new DataFrame with countries and latest observation dates:\n",
        "latest_data = covid.groupby(['GeneralCountry', 'Region']).ObservationDate.max().reset_index()\n",
        "latest_data.head()"
      ],
      "execution_count": null,
      "outputs": []
    },
    {
      "cell_type": "markdown",
      "metadata": {
        "id": "Bh9dgcOJfigM"
      },
      "source": [
        "Now we want to join this DataFrame with our original 'covid' DataFrame to get latest fatality rates:"
      ]
    },
    {
      "cell_type": "code",
      "metadata": {
        "id": "Rlptnmi_figM"
      },
      "source": [
        "latest_rates = pd.merge(latest_data, covid[['GeneralCountry', 'Region', 'ObservationDate', 'MortalityRate']], \\\n",
        "                        on=['GeneralCountry', 'Region', 'ObservationDate'])\n",
        "latest_rates"
      ],
      "execution_count": null,
      "outputs": []
    },
    {
      "cell_type": "markdown",
      "metadata": {
        "id": "KHd0aTR3figM"
      },
      "source": [
        "We can also specify if we need inner, outer, right, or left join, as well as add a suffix to duplicate column names:\n",
        "\n",
        "**pd.merge(df_1, df_2, on='ID', how='left', suffixes=('_1', '_2'))**"
      ]
    },
    {
      "cell_type": "markdown",
      "metadata": {
        "id": "qMMegiavfigM"
      },
      "source": [
        "### Pivot tables"
      ]
    },
    {
      "cell_type": "markdown",
      "metadata": {
        "id": "IcBExiCvfigN"
      },
      "source": [
        "With pandas, we can also create a spreadsheet-style pivot table as a DataFrame:"
      ]
    },
    {
      "cell_type": "code",
      "metadata": {
        "id": "I1VCwziWfigN"
      },
      "source": [
        "#Create an Excel-style pivot table:\n",
        "pd.pivot_table(covid[['GeneralCountry', 'Region', 'ObservationDate', 'Confirmed']], \\\n",
        "               index=['GeneralCountry','Region'], aggfunc='max')"
      ],
      "execution_count": null,
      "outputs": []
    },
    {
      "cell_type": "markdown",
      "metadata": {
        "id": "JaT68NpdfigN"
      },
      "source": [
        "### Data visualizations with pandas"
      ]
    },
    {
      "cell_type": "markdown",
      "metadata": {
        "id": "Ke12AdG6figN"
      },
      "source": [
        "When we want to quickly view how our data looks, pandas visualizations come in handy.\n",
        "\n",
        "Let's look again at *all_cases* DataFrame we created some time ago:"
      ]
    },
    {
      "cell_type": "code",
      "metadata": {
        "id": "dDsfNlIJfigN"
      },
      "source": [
        "#Look at first 5 rows of 'all_cases' DataFrame:\n",
        "all_cases.head()"
      ],
      "execution_count": null,
      "outputs": []
    },
    {
      "cell_type": "markdown",
      "metadata": {
        "id": "DopQ7tyUfigN"
      },
      "source": [
        "Pandas visualizations are built on top of famous **matplotlib** library.\n",
        "The standard convention for referencing the matplotlib API:"
      ]
    },
    {
      "cell_type": "code",
      "metadata": {
        "id": "7l781KprfigO"
      },
      "source": [
        "import matplotlib.pyplot as plt"
      ],
      "execution_count": null,
      "outputs": []
    },
    {
      "cell_type": "markdown",
      "metadata": {
        "id": "21FxQ6oxfigP"
      },
      "source": [
        "To make sure all plots are visible within our notebook, use this magic command:\n",
        "\n",
        "**%matplotlib inline**\n"
      ]
    },
    {
      "cell_type": "code",
      "metadata": {
        "id": "cX5ryQu1figP"
      },
      "source": [
        "%matplotlib inline"
      ],
      "execution_count": null,
      "outputs": []
    },
    {
      "cell_type": "markdown",
      "metadata": {
        "id": "395XXwYxfigP"
      },
      "source": [
        "To build charts with pandas, we use basic **plot()** method:"
      ]
    },
    {
      "cell_type": "code",
      "metadata": {
        "id": "xIF94sH_figP"
      },
      "source": [
        "#Let's look at all confirmed cases by date:\n",
        "by_date = covid.groupby('ObservationDate').Confirmed.sum().reset_index()\n",
        "by_date.head(2)"
      ],
      "execution_count": null,
      "outputs": []
    },
    {
      "cell_type": "code",
      "metadata": {
        "id": "520_axGAfigT"
      },
      "source": [
        "#Now let's visualize this with simple line chart:\n",
        "by_date.plot.line(x = 'ObservationDate', y = 'Confirmed', color = 'purple', title = 'COVID-19 confirmed cases: World')"
      ],
      "execution_count": null,
      "outputs": []
    },
    {
      "cell_type": "markdown",
      "metadata": {
        "id": "fbLj_B2PfigT"
      },
      "source": [
        "Let us now build a similar plot for US only:"
      ]
    },
    {
      "cell_type": "code",
      "metadata": {
        "id": "1cn06WmZfigT"
      },
      "source": [
        "#Create a new 'us_daily' DataFrame with US-only data:\n",
        "us_daily = covid[covid.GeneralCountry == 'US'].groupby('ObservationDate').sum().reset_index()\n",
        "us_daily"
      ],
      "execution_count": null,
      "outputs": []
    },
    {
      "cell_type": "code",
      "metadata": {
        "id": "cUtQ8xiEfigT"
      },
      "source": [
        "#create a line chart:\n",
        "us_daily.plot.line(x = 'ObservationDate', y = 'Confirmed', color = 'brown', title = 'COVID-19 confirmed cases: US')"
      ],
      "execution_count": null,
      "outputs": []
    },
    {
      "cell_type": "markdown",
      "metadata": {
        "id": "xFcf6QIMfigU"
      },
      "source": [
        "Let's look at total number of cases and deaths by country:"
      ]
    },
    {
      "cell_type": "code",
      "metadata": {
        "id": "NY61nNm1figU"
      },
      "source": [
        "#First, let's group everything by GeneralCountry & Region and get latest numbers of confirmed cases and deaths:\n",
        "world_regions = covid.groupby(['GeneralCountry', 'Region'])[['Confirmed', 'Deaths']].max().reset_index()\n",
        "world_regions.head()"
      ],
      "execution_count": null,
      "outputs": []
    },
    {
      "cell_type": "code",
      "metadata": {
        "id": "z7-6T_W2figU"
      },
      "source": [
        "#Then we can get total latest numbers for each country:\n",
        "world = world_regions.groupby('GeneralCountry')[['Confirmed', 'Deaths']].sum().reset_index()\n",
        "world.head()"
      ],
      "execution_count": null,
      "outputs": []
    },
    {
      "cell_type": "code",
      "metadata": {
        "id": "2yI1H9qjfigU"
      },
      "source": [
        "#One of the basic and widely used plots - bar chart:\n",
        "world.plot(kind = 'bar')"
      ],
      "execution_count": null,
      "outputs": []
    },
    {
      "cell_type": "markdown",
      "metadata": {
        "id": "_lPkU8ubfigV"
      },
      "source": [
        "Let's try to make it looking a bit more appealing by visualizing top 10 countries only, and make horizontal bar chart, instead:"
      ]
    },
    {
      "cell_type": "code",
      "metadata": {
        "id": "mKGDLlsAfigV"
      },
      "source": [
        "#Create a DataFrame with top 10 COVID-19 confirmed cases:\n",
        "top = world.sort_values(by = 'Confirmed', ascending = False).head(10)\n",
        "top"
      ],
      "execution_count": null,
      "outputs": []
    },
    {
      "cell_type": "markdown",
      "metadata": {
        "id": "EGUQygkhfigV"
      },
      "source": [
        "A little trick to make your dataframe look more presentable by adding background color (using matplotlib built-in colormaps (**cmap**)):"
      ]
    },
    {
      "cell_type": "code",
      "metadata": {
        "id": "Y1ZUUrLbfigV"
      },
      "source": [
        "top10 = top.style.background_gradient(cmap='Blues',subset=[\"Confirmed\"]).background_gradient(cmap='Reds',subset=[\"Deaths\"])\n",
        "top10"
      ],
      "execution_count": null,
      "outputs": []
    },
    {
      "cell_type": "markdown",
      "metadata": {
        "id": "qGRTY0dxfigW"
      },
      "source": [
        "Now let's plot the simplest bar chart:"
      ]
    },
    {
      "cell_type": "code",
      "metadata": {
        "id": "RGDHlQ8VfigX"
      },
      "source": [
        "#Plot the bar chart with 'top' data:\n",
        "top.plot.bar()\n",
        "\n",
        "#another way of getting the same result is:\n",
        "#top.plot(kind = 'bar')"
      ],
      "execution_count": null,
      "outputs": []
    },
    {
      "cell_type": "markdown",
      "metadata": {
        "id": "XNEh7aOyfigX"
      },
      "source": [
        "Here, by default, **plot()** method built index values on x-axis. Let's specify that we want to see countries names, instead:"
      ]
    },
    {
      "cell_type": "code",
      "metadata": {
        "id": "26v_e342figX"
      },
      "source": [
        "top.plot.bar(x = 'GeneralCountry')"
      ],
      "execution_count": null,
      "outputs": []
    },
    {
      "cell_type": "code",
      "metadata": {
        "id": "7LSthu18figX"
      },
      "source": [
        "#Convert this to horizontal bar chart:\n",
        "top.index = top.GeneralCountry\n",
        "top.plot.barh()"
      ],
      "execution_count": null,
      "outputs": []
    },
    {
      "cell_type": "code",
      "metadata": {
        "id": "m86qIN_WfigX"
      },
      "source": [
        "#Modify some more:\n",
        "top.index = top.GeneralCountry\n",
        "top.plot.barh(title = 'Top 10 Countries (Confirmed Cases and Deaths)', figsize = [10,7],\\\n",
        "             fontsize = 12, color = ['blue', 'red']).invert_yaxis()"
      ],
      "execution_count": null,
      "outputs": []
    },
    {
      "cell_type": "markdown",
      "metadata": {
        "id": "OZdCVIiXfigY"
      },
      "source": [
        "### Plotting with Plotly"
      ]
    },
    {
      "cell_type": "markdown",
      "metadata": {
        "id": "vvJ5OV8hfigY"
      },
      "source": [
        "The plotly Python library is an interactive, open-source plotting library that supports over 40 unique chart types covering a wide range of statistical, financial, geographic, scientific, and 3-dimensional use-cases."
      ]
    },
    {
      "cell_type": "code",
      "metadata": {
        "id": "7WKv8CYGfigZ"
      },
      "source": [
        "#Import plotly and check its version:\n",
        "import plotly\n",
        "plotly.__version__"
      ],
      "execution_count": null,
      "outputs": []
    },
    {
      "cell_type": "markdown",
      "metadata": {
        "id": "EdoZ4R-QfigZ"
      },
      "source": [
        "In case you do not have plotly installed, run the following line in your Anaconda prompt:\n",
        "\n",
        "**conda install -c plotly plotly=4.6.0**"
      ]
    },
    {
      "cell_type": "markdown",
      "metadata": {
        "id": "BF87qeKofigZ"
      },
      "source": [
        "We are going to use Plotly Express, which is easy-to-use, high-level interface to Plotly, which produces easy-to-style figures. Every Plotly Express function returns a graph_objects.Figure object whose data and layout has been pre-populated according to the provided arguments.\n",
        "\n",
        "Note: Plotly Express was previously its own separately-installed **plotly_express** package but is now part of plotly and importable via \n",
        "\n",
        "**import plotly.express as px**"
      ]
    },
    {
      "cell_type": "code",
      "metadata": {
        "id": "ANrEmbU0figZ"
      },
      "source": [
        "import plotly.express as px\n",
        "import numpy as np\n",
        "temp_df = pd.DataFrame(world)\n",
        "temp_df = temp_df.reset_index()\n",
        "fig = px.choropleth(temp_df, locations=\"GeneralCountry\",\n",
        "                    color=np.log10(temp_df[\"Confirmed\"]), \n",
        "                    hover_name=\"index\", # column to add to hover information\n",
        "                    hover_data=[\"Confirmed\"],\n",
        "                    color_continuous_scale=px.colors.sequential.Plasma,locationmode=\"country names\")\n",
        "fig.update_geos(fitbounds=\"locations\", visible=False)\n",
        "fig.update_layout(title_text=\"Confirmed Cases Heat Map (Log Scale)\")\n",
        "fig.update_coloraxes(colorbar_title=\"Confirmed Cases(Log Scale)\",colorscale=\"Blues\")\n",
        "fig.show()"
      ],
      "execution_count": null,
      "outputs": []
    },
    {
      "cell_type": "code",
      "metadata": {
        "id": "Jx5Zkcpzfigh"
      },
      "source": [
        "#Another example visualizing progression of COVID-19 spread across the continents:\n",
        "df_data = covid.groupby(['ObservationDate', 'GeneralCountry'])['Confirmed', 'Deaths'].max().reset_index().fillna(0)\n",
        "df_data[\"ObservationDate\"] = pd.to_datetime( df_data[\"ObservationDate\"]).dt.strftime('%m/%d/%Y')\n",
        "fig = px.scatter_geo(df_data, locations=\"GeneralCountry\", locationmode='country names', \n",
        "                     color=np.power(df_data[\"Confirmed\"],0.3)-2 , size= np.power(df_data[\"Confirmed\"]+1,0.3)-1, hover_name=\"GeneralCountry\",\n",
        "                     hover_data=[\"Confirmed\"],\n",
        "                     range_color= [0, max(np.power(world[\"Confirmed\"],0.3))], \n",
        "                     projection=\"natural earth\", animation_frame=\"ObservationDate\", \n",
        "                     color_continuous_scale=px.colors.sequential.Plasma,\n",
        "                     title='COVID-19: Progression of spread'\n",
        "                    )\n",
        "fig.update_coloraxes(colorscale=\"hot\")\n",
        "fig.update(layout_coloraxis_showscale=False)\n",
        "fig.show()"
      ],
      "execution_count": null,
      "outputs": []
    },
    {
      "cell_type": "code",
      "metadata": {
        "id": "b0DeVuS0figs"
      },
      "source": [
        ""
      ],
      "execution_count": null,
      "outputs": []
    }
  ]
}