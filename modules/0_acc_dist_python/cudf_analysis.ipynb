{
  "nbformat": 4,
  "nbformat_minor": 0,
  "metadata": {
    "accelerator": "GPU",
    "colab": {
      "name": "Data_Analysis_With_Python_Complete.ipynb",
      "provenance": [],
      "include_colab_link": true
    },
    "kernelspec": {
      "display_name": "Python 3",
      "language": "python",
      "name": "python3"
    },
    "language_info": {
      "codemirror_mode": {
        "name": "ipython",
        "version": 3
      },
      "file_extension": ".py",
      "mimetype": "text/x-python",
      "name": "python",
      "nbconvert_exporter": "python",
      "pygments_lexer": "ipython3",
      "version": "3.7.4"
    }
  },
  "cells": [
    {
      "cell_type": "markdown",
      "metadata": {
        "id": "view-in-github",
        "colab_type": "text"
      },
      "source": [
        "<a href=\"https://colab.research.google.com/github/ZacharySBrown/dapt-615/blob/master/modules/0_acc_dist_python/cudf_analysis.ipynb\" target=\"_parent\"><img src=\"https://colab.research.google.com/assets/colab-badge.svg\" alt=\"Open In Colab\"/></a>"
      ]
    },
    {
      "cell_type": "markdown",
      "metadata": {
        "id": "TK9efjc7y4YX"
      },
      "source": [
        "# Install `RAPIDS` and Download Data"
      ]
    },
    {
      "cell_type": "code",
      "metadata": {
        "id": "YNujrKYTzpMV",
        "outputId": "77018eff-3401-4455-e474-9c0447ab2f88",
        "colab": {
          "base_uri": "https://localhost:8080/"
        }
      },
      "source": [
        "# Install RAPIDS\n",
        "!git clone https://github.com/rapidsai/rapidsai-csp-utils.git\n",
        "!bash rapidsai-csp-utils/colab/rapids-colab.sh 0.19\n",
        "\n",
        "import sys, os, shutil\n",
        "\n",
        "sys.path.append('/usr/local/lib/python3.7/site-packages/')\n",
        "os.environ['NUMBAPRO_NVVM'] = '/usr/local/cuda/nvvm/lib64/libnvvm.so'\n",
        "os.environ['NUMBAPRO_LIBDEVICE'] = '/usr/local/cuda/nvvm/libdevice/'\n",
        "os.environ['CONDA_PREFIX'] = '/usr/local'\n",
        "for so in ['cudf', 'rmm', 'nccl', 'cuml', 'cugraph', 'xgboost', 'cuspatial']:\n",
        "  fn = 'lib'+so+'.so'\n",
        "  source_fn = '/usr/local/lib/'+fn\n",
        "  dest_fn = '/usr/lib/'+fn\n",
        "  if os.path.exists(source_fn):\n",
        "    print(f'Copying {source_fn} to {dest_fn}')\n",
        "    shutil.copyfile(source_fn, dest_fn)\n",
        "if not os.path.exists('/usr/lib64'):\n",
        "    os.makedirs('/usr/lib64')\n",
        "for so_file in os.listdir('/usr/local/lib'):\n",
        "  if 'libstdc' in so_file:\n",
        "    shutil.copyfile('/usr/local/lib/'+so_file, '/usr/lib64/'+so_file)\n",
        "    shutil.copyfile('/usr/local/lib/'+so_file, '/usr/lib/x86_64-linux-gnu/'+so_file)\n",
        "\n",
        "!pip install -U cffi\n",
        "\n",
        "#!bash rapidsai-csp-utils/colab/rapids-colab.sh stable\n",
        "\n",
        "#import sys, os\n",
        "\n",
        "#dist_package_index = sys.path.index('/usr/local/lib/python3.6/dist-packages')\n",
        "#sys.path = sys.path[:dist_package_index] + ['/usr/local/lib/python3.6/site-packages'] + sys.path[dist_package_index:]\n",
        "#sys.path\n",
        "#exec(open('rapidsai-csp-utils/colab/update_modules.py').read(), globals())\n",
        "\n",
        "!wget https://vcu-dapt-615.s3.amazonaws.com/covid_19_data.csv"
      ],
      "execution_count": 1,
      "outputs": [
        {
          "output_type": "stream",
          "text": [
            "Requirement already up-to-date: cffi in /usr/local/lib/python3.7/dist-packages (1.14.5)\n",
            "Requirement already satisfied, skipping upgrade: pycparser in /usr/local/lib/python3.7/dist-packages (from cffi) (2.20)\n",
            "Cloning into 'rapidsai-csp-utils'...\n",
            "remote: Enumerating objects: 238, done.\u001b[K\n",
            "remote: Counting objects: 100% (67/67), done.\u001b[K\n",
            "remote: Compressing objects: 100% (62/62), done.\u001b[K\n",
            "remote: Total 238 (delta 36), reused 11 (delta 5), pack-reused 171\u001b[K\n",
            "Receiving objects: 100% (238/238), 73.89 KiB | 12.31 MiB/s, done.\n",
            "Resolving deltas: 100% (98/98), done.\n",
            "PLEASE READ\n",
            "********************************************************************************************************\n",
            "Changes:\n",
            "1. IMPORTANT SCRIPT CHANGES: Colab has updated to Python 3.7, and now runs our STABLE and NIGHTLY versions (0.19 and 0.20)!  PLEASE update your older install script code as follows:\n",
            "\t!bash rapidsai-csp-utils/colab/rapids-colab.sh 0.19\n",
            "\n",
            "\timport sys, os, shutil\n",
            "\n",
            "\tsys.path.append('/usr/local/lib/python3.7/site-packages/')\n",
            "\tos.environ['NUMBAPRO_NVVM'] = '/usr/local/cuda/nvvm/lib64/libnvvm.so'\n",
            "\tos.environ['NUMBAPRO_LIBDEVICE'] = '/usr/local/cuda/nvvm/libdevice/'\n",
            "\tos.environ['CONDA_PREFIX'] = '/usr/local'\n",
            "\tfor so in ['cudf', 'rmm', 'nccl', 'cuml', 'cugraph', 'xgboost', 'cuspatial']:\n",
            "\t  fn = 'lib'+so+'.so'\n",
            "\t  source_fn = '/usr/local/lib/'+fn\n",
            "\t  dest_fn = '/usr/lib/'+fn\n",
            "\t  if os.path.exists(source_fn):\n",
            "\t    print(f'Copying {source_fn} to {dest_fn}')\n",
            "\t    shutil.copyfile(source_fn, dest_fn)\n",
            "\tif not os.path.exists('/usr/lib64'):\n",
            "\t    os.makedirs('/usr/lib64')\n",
            "\tfor so_file in os.listdir('/usr/local/lib'):\n",
            "\t  if 'libstdc' in so_file:\n",
            "\t    shutil.copyfile('/usr/local/lib/'+so_file, '/usr/lib64/'+so_file)\n",
            "\t    shutil.copyfile('/usr/local/lib/'+so_file, '/usr/lib/x86_64-linux-gnu/'+so_file)\n",
            "\n",
            "2. IMPORTANT NOTICE: If you need CuGraph, please use RAPIDS 0.18 for now. \n",
            "3. IMPORTANT NOTICE: CuGraph's Louvain requires a Volta+ GPU (T4, V100).  If you get a P4 or P100 and intend to use Louvain, please FACTORY RESET your instance and try to get a compatible GPU\n",
            "4. Default stable version is now 0.19.  Nightly is now 0.20.\n",
            "5. You can declare your RAPIDSAI version as a CLI option and skip the user prompts (ex: '0.19' or '0.20', between 0.18 to 0.20, without the quotes): \n",
            "        \"!bash rapidsai-csp-utils/colab/rapids-colab.sh <version/label>\"\n",
            "        Examples: '!bash rapidsai-csp-utils/colab/rapids-colab.sh 0.19', or '!bash rapidsai-csp-utils/colab/rapids-colab.sh stable', or '!bash rapidsai-csp-utils/colab/rapids-colab.sh s'\n",
            "                  '!bash rapidsai-csp-utils/colab/rapids-colab.sh 0.20, or '!bash rapidsai-csp-utils/colab/rapids-colab.sh nightly', or '!bash rapidsai-csp-utils/colab/rapids-colab.sh n'\n",
            "Enjoy using RAPIDS!  If you have any issues with or suggestions for RAPIDSAI on Colab, please create a bug request on https://github.com/rapidsai/rapidsai-csp-utils/issues/new.\n",
            "For a near instant entry into a RAPIDS Library experience, or if we haven't fixed a fatal issue yet, please use https://app.blazingsql.com/.  Thanks!\n",
            "RAPIDS Version to install is 0.19\n",
            "Checking for GPU type:\n",
            "***********************************************************************\n",
            "Woo! Your instance has the right kind of GPU, a Tesla V100-SXM2-16GB!\n",
            "***********************************************************************\n",
            "\n",
            "Collecting cupy-cuda110==8.6.0\n",
            "\u001b[?25l  Downloading https://files.pythonhosted.org/packages/40/cc/6886c38a071138dd2bc52ddfe09a90b1fa0f8a3ee17522958e7074504d74/cupy_cuda110-8.6.0-cp37-cp37m-manylinux1_x86_64.whl (165.3MB)\n",
            "\u001b[K     |████████████████████████████████| 165.3MB 88kB/s \n",
            "\u001b[?25hRequirement already satisfied: numpy>=1.15 in /usr/local/lib/python3.7/dist-packages (from cupy-cuda110==8.6.0) (1.19.5)\n",
            "Requirement already satisfied: fastrlock>=0.3 in /usr/local/lib/python3.7/dist-packages (from cupy-cuda110==8.6.0) (0.6)\n",
            "Installing collected packages: cupy-cuda110\n",
            "Successfully installed cupy-cuda110-8.6.0\n",
            "Removing conflicting packages, will replace with RAPIDS compatible versions\n",
            "Uninstalling dask-2.12.0:\n",
            "  Successfully uninstalled dask-2.12.0\n",
            "Uninstalling distributed-1.25.3:\n",
            "  Successfully uninstalled distributed-1.25.3\n",
            "Uninstalling xgboost-0.90:\n",
            "  Successfully uninstalled xgboost-0.90\n",
            "Uninstalling pyarrow-3.0.0:\n",
            "  Successfully uninstalled pyarrow-3.0.0\n",
            "Uninstalling numba-0.51.2:\n",
            "  Successfully uninstalled numba-0.51.2\n",
            "Uninstalling llvmlite-0.34.0:\n",
            "  Successfully uninstalled llvmlite-0.34.0\n",
            "Uninstalling PySocks-1.7.1:\n",
            "  Successfully uninstalled PySocks-1.7.1\n",
            "Uninstalling requests-2.23.0:\n",
            "  Successfully uninstalled requests-2.23.0\n",
            "Uninstalling six-1.15.0:\n",
            "  Successfully uninstalled six-1.15.0\n",
            "Uninstalling urllib3-1.24.3:\n",
            "  Successfully uninstalled urllib3-1.24.3\n",
            "Uninstalling cffi-1.14.5:\n",
            "  Successfully uninstalled cffi-1.14.5\n",
            "Installing conda\n",
            "--2021-05-15 00:13:46--  https://repo.anaconda.com/miniconda/Miniconda3-py37_4.9.2-Linux-x86_64.sh\n",
            "Resolving repo.anaconda.com (repo.anaconda.com)... 104.16.131.3, 104.16.130.3, 2606:4700::6810:8203, ...\n",
            "Connecting to repo.anaconda.com (repo.anaconda.com)|104.16.131.3|:443... connected.\n",
            "HTTP request sent, awaiting response... 200 OK\n",
            "Length: 90040905 (86M) [application/x-sh]\n",
            "Saving to: ‘Miniconda3-py37_4.9.2-Linux-x86_64.sh’\n",
            "\n",
            "Miniconda3-py37_4.9 100%[===================>]  85.87M   196MB/s    in 0.4s    \n",
            "\n",
            "2021-05-15 00:13:47 (196 MB/s) - ‘Miniconda3-py37_4.9.2-Linux-x86_64.sh’ saved [90040905/90040905]\n",
            "\n",
            "PREFIX=/usr/local\n",
            "Unpacking payload ...\n",
            "Collecting package metadata (current_repodata.json): - \b\b\\ \b\bdone\n",
            "Solving environment: / \b\b- \b\bdone\n",
            "\n",
            "## Package Plan ##\n",
            "\n",
            "  environment location: /usr/local\n",
            "\n",
            "  added / updated specs:\n",
            "    - _libgcc_mutex==0.1=main\n",
            "    - brotlipy==0.7.0=py37h27cfd23_1003\n",
            "    - ca-certificates==2020.10.14=0\n",
            "    - certifi==2020.6.20=pyhd3eb1b0_3\n",
            "    - cffi==1.14.3=py37h261ae71_2\n",
            "    - chardet==3.0.4=py37h06a4308_1003\n",
            "    - conda-package-handling==1.7.2=py37h03888b9_0\n",
            "    - conda==4.9.2=py37h06a4308_0\n",
            "    - cryptography==3.2.1=py37h3c74f83_1\n",
            "    - idna==2.10=py_0\n",
            "    - ld_impl_linux-64==2.33.1=h53a641e_7\n",
            "    - libedit==3.1.20191231=h14c3975_1\n",
            "    - libffi==3.3=he6710b0_2\n",
            "    - libgcc-ng==9.1.0=hdf63c60_0\n",
            "    - libstdcxx-ng==9.1.0=hdf63c60_0\n",
            "    - ncurses==6.2=he6710b0_1\n",
            "    - openssl==1.1.1h=h7b6447c_0\n",
            "    - pip==20.2.4=py37h06a4308_0\n",
            "    - pycosat==0.6.3=py37h27cfd23_0\n",
            "    - pycparser==2.20=py_2\n",
            "    - pyopenssl==19.1.0=pyhd3eb1b0_1\n",
            "    - pysocks==1.7.1=py37_1\n",
            "    - python==3.7.9=h7579374_0\n",
            "    - readline==8.0=h7b6447c_0\n",
            "    - requests==2.24.0=py_0\n",
            "    - ruamel_yaml==0.15.87=py37h7b6447c_1\n",
            "    - setuptools==50.3.1=py37h06a4308_1\n",
            "    - six==1.15.0=py37h06a4308_0\n",
            "    - sqlite==3.33.0=h62c20be_0\n",
            "    - tk==8.6.10=hbc83047_0\n",
            "    - tqdm==4.51.0=pyhd3eb1b0_0\n",
            "    - urllib3==1.25.11=py_0\n",
            "    - wheel==0.35.1=pyhd3eb1b0_0\n",
            "    - xz==5.2.5=h7b6447c_0\n",
            "    - yaml==0.2.5=h7b6447c_0\n",
            "    - zlib==1.2.11=h7b6447c_3\n",
            "\n",
            "\n",
            "The following NEW packages will be INSTALLED:\n",
            "\n",
            "  _libgcc_mutex      pkgs/main/linux-64::_libgcc_mutex-0.1-main\n",
            "  brotlipy           pkgs/main/linux-64::brotlipy-0.7.0-py37h27cfd23_1003\n",
            "  ca-certificates    pkgs/main/linux-64::ca-certificates-2020.10.14-0\n",
            "  certifi            pkgs/main/noarch::certifi-2020.6.20-pyhd3eb1b0_3\n",
            "  cffi               pkgs/main/linux-64::cffi-1.14.3-py37h261ae71_2\n",
            "  chardet            pkgs/main/linux-64::chardet-3.0.4-py37h06a4308_1003\n",
            "  conda              pkgs/main/linux-64::conda-4.9.2-py37h06a4308_0\n",
            "  conda-package-han~ pkgs/main/linux-64::conda-package-handling-1.7.2-py37h03888b9_0\n",
            "  cryptography       pkgs/main/linux-64::cryptography-3.2.1-py37h3c74f83_1\n",
            "  idna               pkgs/main/noarch::idna-2.10-py_0\n",
            "  ld_impl_linux-64   pkgs/main/linux-64::ld_impl_linux-64-2.33.1-h53a641e_7\n",
            "  libedit            pkgs/main/linux-64::libedit-3.1.20191231-h14c3975_1\n",
            "  libffi             pkgs/main/linux-64::libffi-3.3-he6710b0_2\n",
            "  libgcc-ng          pkgs/main/linux-64::libgcc-ng-9.1.0-hdf63c60_0\n",
            "  libstdcxx-ng       pkgs/main/linux-64::libstdcxx-ng-9.1.0-hdf63c60_0\n",
            "  ncurses            pkgs/main/linux-64::ncurses-6.2-he6710b0_1\n",
            "  openssl            pkgs/main/linux-64::openssl-1.1.1h-h7b6447c_0\n",
            "  pip                pkgs/main/linux-64::pip-20.2.4-py37h06a4308_0\n",
            "  pycosat            pkgs/main/linux-64::pycosat-0.6.3-py37h27cfd23_0\n",
            "  pycparser          pkgs/main/noarch::pycparser-2.20-py_2\n",
            "  pyopenssl          pkgs/main/noarch::pyopenssl-19.1.0-pyhd3eb1b0_1\n",
            "  pysocks            pkgs/main/linux-64::pysocks-1.7.1-py37_1\n",
            "  python             pkgs/main/linux-64::python-3.7.9-h7579374_0\n",
            "  readline           pkgs/main/linux-64::readline-8.0-h7b6447c_0\n",
            "  requests           pkgs/main/noarch::requests-2.24.0-py_0\n",
            "  ruamel_yaml        pkgs/main/linux-64::ruamel_yaml-0.15.87-py37h7b6447c_1\n",
            "  setuptools         pkgs/main/linux-64::setuptools-50.3.1-py37h06a4308_1\n",
            "  six                pkgs/main/linux-64::six-1.15.0-py37h06a4308_0\n",
            "  sqlite             pkgs/main/linux-64::sqlite-3.33.0-h62c20be_0\n",
            "  tk                 pkgs/main/linux-64::tk-8.6.10-hbc83047_0\n",
            "  tqdm               pkgs/main/noarch::tqdm-4.51.0-pyhd3eb1b0_0\n",
            "  urllib3            pkgs/main/noarch::urllib3-1.25.11-py_0\n",
            "  wheel              pkgs/main/noarch::wheel-0.35.1-pyhd3eb1b0_0\n",
            "  xz                 pkgs/main/linux-64::xz-5.2.5-h7b6447c_0\n",
            "  yaml               pkgs/main/linux-64::yaml-0.2.5-h7b6447c_0\n",
            "  zlib               pkgs/main/linux-64::zlib-1.2.11-h7b6447c_3\n",
            "\n",
            "\n",
            "Preparing transaction: | \b\b/ \b\b- \b\bdone\n",
            "Executing transaction: | \b\b/ \b\b- \b\b\\ \b\b| \b\b/ \b\b- \b\b\\ \b\b| \b\b/ \b\b- \b\b\\ \b\b| \b\bdone\n",
            "installation finished.\n",
            "WARNING:\n",
            "    You currently have a PYTHONPATH environment variable set. This may cause\n",
            "    unexpected behavior when running the Python interpreter in Miniconda3.\n",
            "    For best results, please verify that your PYTHONPATH only points to\n",
            "    directories of packages that are compatible with the Python interpreter\n",
            "    in Miniconda3: /usr/local\n",
            "Installing RAPIDS 0.19 packages from the stable release channel\n",
            "Please standby, this will take a few minutes...\n",
            "Collecting package metadata (current_repodata.json): - \b\b\\ \b\b| \b\b/ \b\b- \b\b\\ \b\b| \b\b/ \b\b- \b\b\\ \b\b| \b\b/ \b\b- \b\b\\ \b\b| \b\b/ \b\b- \b\b\\ \b\b| \b\b/ \b\b- \b\b\\ \b\b| \b\b/ \b\b- \b\b\\ \b\b| \b\b/ \b\b- \b\b\\ \b\b| \b\b/ \b\b- \b\b\\ \b\b| \b\b/ \b\b- \b\b\\ \b\b| \b\b/ \b\b- \b\b\\ \b\b| \b\b/ \b\b- \b\b\\ \b\b| \b\b/ \b\b- \b\b\\ \b\b| \b\b/ \b\b- \b\b\\ \b\b| \b\b/ \b\b- \b\b\\ \b\b| \b\b/ \b\b- \b\b\\ \b\b| \b\b/ \b\b- \b\b\\ \b\b| \b\b/ \b\b- \b\b\\ \b\b| \b\b/ \b\b- \b\b\\ \b\b| \b\b/ \b\b- \b\b\\ \b\b| \b\b/ \b\b- \b\b\\ \b\b| \b\b/ \b\b- \b\b\\ \b\b| \b\b/ \b\b- \b\b\\ \b\b| \b\bdone\n",
            "Solving environment: - \b\b\\ \b\b| \b\b/ \b\b- \b\b\\ \b\b| \b\b/ \b\b- \b\b\\ \b\b| \b\b/ \b\b- \b\b\\ \b\b| \b\b/ \b\b- \b\b\\ \b\b| \b\b/ \b\b- \b\b\\ \b\b| \b\b/ \b\b- \b\b\\ \b\b| \b\b/ \b\b- \b\b\\ \b\b| \b\b/ \b\b- \b\b\\ \b\b| \b\b/ \b\b- \b\b\\ \b\b| \b\b/ \b\b- \b\b\\ \b\b| \b\b/ \b\b- \b\b\\ \b\b| \b\b/ \b\b- \b\b\\ \b\b| \b\b/ \b\b- \b\b\\ \b\b| \b\b/ \b\b- \b\b\\ \b\b| \b\b/ \b\b- \b\b\\ \b\b| \b\b/ \b\b- \b\b\\ \b\b| \b\b/ \b\b- \b\b\\ \b\b| \b\b/ \b\b- \b\b\\ \b\b| \b\b/ \b\b- \b\b\\ \b\b| \b\b/ \b\b- \b\b\\ \b\b| \b\b/ \b\b- \b\b\\ \b\b| \b\b/ \b\b- \b\b\\ \b\b| \b\b/ \b\b- \b\b\\ \b\b| \b\b/ \b\b- \b\b\\ \b\b| \b\b/ \b\b- \b\b\\ \b\b| \b\b/ \b\b- \b\b\\ \b\b| \b\b/ \b\b- \b\b\\ \b\b| \b\b/ \b\b- \b\b\\ \b\b| \b\b/ \b\b- \b\b\\ \b\b| \b\b/ \b\b- \b\b\\ \b\b| \b\b/ \b\b- \b\b\\ \b\b| \b\b/ \b\b- \b\b\\ \b\b| \b\b/ \b\b- \b\b\\ \b\b| \b\b/ \b\b- \b\b\\ \b\b| \b\b/ \b\b- \b\b\\ \b\b| \b\b/ \b\b- \b\b\\ \b\b| \b\b/ \b\b- \b\b\\ \b\b| \b\b/ \b\b- \b\b\\ \b\b| \b\b/ \b\b- \b\b\\ \b\b| \b\b/ \b\b- \b\b\\ \b\b| \b\b/ \b\b- \b\b\\ \b\b| \b\b/ \b\b- \b\b\\ \b\b| \b\b/ \b\b- \b\b\\ \b\b| \b\b/ \b\b- \b\b\\ \b\b| \b\b/ \b\b- \b\b\\ \b\b| \b\b/ \b\b- \b\b\\ \b\b| \b\b/ \b\b- \b\b\\ \b\b| \b\b/ \b\b- \b\b\\ \b\b| \b\b/ \b\b- \b\b\\ \b\b| \b\b/ \b\b- \b\b\\ \b\b| \b\b/ \b\b- \b\bfailed with initial frozen solve. Retrying with flexible solve.\n",
            "Solving environment: | \b\b/ \b\b- \b\b\\ \b\b| \b\b/ \b\b- \b\b\\ \b\b| \b\b/ \b\b- \b\b\\ \b\b| \b\b/ \b\b- \b\b\\ \b\b| \b\b/ \b\b- \b\b\\ \b\b| \b\b/ \b\b- \b\b\\ \b\b| \b\b/ \b\b- \b\b\\ \b\b| \b\b/ \b\b- \b\b\\ \b\b| \b\b/ \b\b- \b\b\\ \b\b| \b\b/ \b\b- \b\b\\ \b\b| \b\b/ \b\b- \b\b\\ \b\b| \b\b/ \b\b- \b\b\\ \b\b| \b\b/ \b\b- \b\b\\ \b\b| \b\b/ \b\b- \b\b\\ \b\b| \b\b/ \b\b- \b\b\\ \b\b| \b\b/ \b\b- \b\b\\ \b\b| \b\b/ \b\b- \b\b\\ \b\b| \b\b/ \b\b- \b\b\\ \b\b| \b\b/ \b\b- \b\b\\ \b\b| \b\b/ \b\b- \b\b\\ \b\b| \b\b/ \b\b- \b\b\\ \b\b| \b\b/ \b\b- \b\b\\ \b\b| \b\b/ \b\b- \b\b\\ \b\b| \b\b/ \b\b- \b\b\\ \b\b| \b\b/ \b\b- \b\b\\ \b\b| \b\b/ \b\b- \b\b\\ \b\b| \b\b/ \b\b- \b\b\\ \b\b| \b\b/ \b\b- \b\b\\ \b\b| \b\b/ \b\b- \b\b\\ \b\b| \b\b/ \b\b- \b\b\\ \b\b| \b\b/ \b\b- \b\b\\ \b\b| \b\b/ \b\b- \b\b\\ \b\b| \b\b/ \b\b- \b\b\\ \b\b| \b\b/ \b\b- \b\b\\ \b\b| \b\b/ \b\b- \b\b\\ \b\b| \b\b/ \b\b- \b\b\\ \b\b| \b\b/ \b\b- \b\b\\ \b\b| \b\b/ \b\b- \b\b\\ \b\b| \b\b/ \b\b- \b\b\\ \b\b| \b\b/ \b\b- \b\b\\ \b\b| \b\b/ \b\b- \b\b\\ \b\b| \b\b/ \b\b- \b\b\\ \b\b| \b\b/ \b\b- \b\b\\ \b\b| \b\b/ \b\b- \b\b\\ \b\b| \b\b/ \b\b- \b\b\\ \b\b| \b\b/ \b\b- \b\b\\ \b\b| \b\b/ \b\b- \b\b\\ \b\b| \b\b/ \b\b- \b\b\\ \b\b| \b\b/ \b\b- \b\b\\ \b\b| \b\b/ \b\b- \b\b\\ \b\b| \b\b/ \b\b- \b\b\\ \b\b| \b\b/ \b\b- \b\b\\ \b\b| \b\b/ \b\b- \b\b\\ \b\b| \b\b/ \b\b- \b\b\\ \b\b| \b\b/ \b\b- \b\b\\ \b\b| \b\b/ \b\b- \b\b\\ \b\b| \b\b/ \b\b- \b\b\\ \b\b| \b\b/ \b\b- \b\b\\ \b\b| \b\b/ \b\b- \b\b\\ \b\b| \b\b/ \b\b- \b\b\\ \b\b| \b\b/ \b\b- \b\b\\ \b\b| \b\b/ \b\b- \b\b\\ \b\b| \b\b/ \b\b- \b\b\\ \b\b| \b\b/ \b\b- \b\b\\ \b\b| \b\b/ \b\b- \b\b\\ \b\b| \b\b/ \b\b- \b\b\\ \b\b| \b\b/ \b\b- \b\b\\ \b\b| \b\b/ \b\b- \b\b\\ \b\b| \b\b/ \b\b- \b\b\\ \b\b| \b\b/ \b\b- \b\b\\ \b\b| \b\b/ \b\b- \b\b\\ \b\b| \b\b/ \b\b- \b\b\\ \b\b| \b\b/ \b\b- \b\b\\ \b\b| \b\b/ \b\b- \b\b\\ \b\b| \b\b/ \b\b- \b\bfailed with repodata from current_repodata.json, will retry with next repodata source.\n",
            "Collecting package metadata (repodata.json): | \b\b/ \b\b- \b\b\\ \b\b| \b\b/ \b\b- \b\b\\ \b\b| \b\b/ \b\b- \b\b\\ \b\b| \b\b/ \b\b- \b\b\\ \b\b| \b\b/ \b\b- \b\b\\ \b\b| \b\b/ \b\b- \b\b\\ \b\b| \b\b/ \b\b- \b\b\\ \b\b| \b\b/ \b\b- \b\b\\ \b\b| \b\b/ \b\b- \b\b\\ \b\b| \b\b/ \b\b- \b\b\\ \b\b| \b\b/ \b\b- \b\b\\ \b\b| \b\b/ \b\b- \b\b\\ \b\b| \b\b/ \b\b- \b\b\\ \b\b| \b\b/ \b\b- \b\b\\ \b\b| \b\b/ \b\b- \b\b\\ \b\b| \b\b/ \b\b- \b\b\\ \b\b| \b\b/ \b\b- \b\b\\ \b\b| \b\b/ \b\b- \b\b\\ \b\b| \b\b/ \b\b- \b\b\\ \b\b| \b\b/ \b\b- \b\b\\ \b\b| \b\b/ \b\b- \b\b\\ \b\b| \b\b/ \b\b- \b\b\\ \b\b| \b\b/ \b\b- \b\b\\ \b\b| \b\b/ \b\b- \b\b\\ \b\b| \b\b/ \b\b- \b\b\\ \b\b| \b\b/ \b\b- \b\b\\ \b\b| \b\b/ \b\b- \b\b\\ \b\b| \b\b/ \b\b- \b\b\\ \b\b| \b\b/ \b\b- \b\b\\ \b\b| \b\b/ \b\b- \b\b\\ \b\b| \b\b/ \b\b- \b\b\\ \b\b| \b\b/ \b\b- \b\b\\ \b\b| \b\b/ \b\b- \b\b\\ \b\b| \b\b/ \b\b- \b\b\\ \b\b| \b\b/ \b\b- \b\b\\ \b\b| \b\b/ \b\b- \b\b\\ \b\b| \b\b/ \b\b- \b\b\\ \b\b| \b\b/ \b\b- \b\b\\ \b\b| \b\b/ \b\b- \b\b\\ \b\b| \b\b/ \b\b- \b\b\\ \b\b| \b\b/ \b\b- \b\b\\ \b\b| \b\b/ \b\b- \b\b\\ \b\b| \b\b/ \b\b- \b\b\\ \b\b| \b\b/ \b\b- \b\b\\ \b\b| \b\b/ \b\b- \b\b\\ \b\b| \b\b/ \b\b- \b\b\\ \b\b| \b\b/ \b\b- \b\b\\ \b\b| \b\b/ \b\b- \b\b\\ \b\b| \b\b/ \b\b- \b\b\\ \b\b| \b\b/ \b\b- \b\b\\ \b\b| \b\b/ \b\b- \b\b\\ \b\b| \b\b/ \b\b- \b\b\\ \b\b| \b\b/ \b\b- \b\b\\ \b\b| \b\b/ \b\b- \b\b\\ \b\b| \b\b/ \b\b- \b\b\\ \b\b| \b\b/ \b\b- \b\b\\ \b\b| \b\b/ \b\b- \b\b\\ \b\b| \b\b/ \b\b- \b\b\\ \b\b| \b\b/ \b\b- \b\b\\ \b\b| \b\b/ \b\b- \b\b\\ \b\b| \b\b/ \b\b- \b\b\\ \b\b| \b\b/ \b\b- \b\b\\ \b\b| \b\b/ \b\b- \b\b\\ \b\b| \b\b/ \b\b- \b\b\\ \b\b| \b\b/ \b\b- \b\b\\ \b\b| \b\b/ \b\b- \b\b\\ \b\b| \b\b/ \b\b- \b\b\\ \b\b| \b\b/ \b\b- \b\b\\ \b\b| \b\b/ \b\b- \b\b\\ \b\b| \b\b/ \b\b- \b\b\\ \b\b| \b\b/ \b\b- \b\b\\ \b\b| \b\b/ \b\b- \b\b\\ \b\b| \b\b/ \b\b- \b\b\\ \b\b| \b\b/ \b\b- \b\b\\ \b\b| \b\b/ \b\b- \b\b\\ \b\b| \b\b/ \b\b- \b\b\\ \b\bdone\n",
            "Solving environment: / \b\b- \b\b\\ \b\b| \b\b/ \b\b- \b\b\\ \b\b| \b\b/ \b\b- \b\b\\ \b\b| \b\b/ \b\b- \b\b\\ \b\b| \b\b/ \b\b- \b\b\\ \b\b| \b\b/ \b\b- \b\b\\ \b\b| \b\b/ \b\b- \b\b\\ \b\b| \b\b/ \b\b- \b\b\\ \b\b| \b\b/ \b\b- \b\b\\ \b\b| \b\b/ \b\b- \b\b\\ \b\b| \b\b/ \b\b- \b\b\\ \b\b| \b\b/ \b\b- \b\b\\ \b\b| \b\b/ \b\b- \b\b\\ \b\b| \b\b/ \b\b- \b\b\\ \b\b| \b\b/ \b\b- \b\b\\ \b\b| \b\b/ \b\b- \b\b\\ \b\b| \b\b/ \b\b- \b\b\\ \b\b| \b\b/ \b\b- \b\b\\ \b\b| \b\b/ \b\b- \b\b\\ \b\b| \b\b/ \b\b- \b\b\\ \b\b| \b\b/ \b\b- \b\b\\ \b\b| \b\b/ \b\b- \b\b\\ \b\b| \b\b/ \b\b- \b\b\\ \b\b| \b\b/ \b\b- \b\b\\ \b\b| \b\b/ \b\b- \b\b\\ \b\b| \b\b/ \b\b- \b\b\\ \b\b| \b\b/ \b\b- \b\b\\ \b\b| \b\b/ \b\b- \b\b\\ \b\b| \b\b/ \b\b- \b\b\\ \b\b| \b\b/ \b\b- \b\b\\ \b\b| \b\b/ \b\b- \b\b\\ \b\b| \b\b/ \b\b- \b\b\\ \b\b| \b\b/ \b\b- \b\b\\ \b\b| \b\b/ \b\b- \b\b\\ \b\b| \b\b/ \b\b- \b\b\\ \b\b| \b\b/ \b\b- \b\b\\ \b\b| \b\b/ \b\b- \b\b\\ \b\b| \b\b/ \b\b- \b\b\\ \b\b| \b\b/ \b\b- \b\b\\ \b\b| \b\b/ \b\b- \b\b\\ \b\b| \b\b/ \b\b- \b\b\\ \b\b| \b\b/ \b\b- \b\b\\ \b\b| \b\b/ \b\b- \b\b\\ \b\b| \b\b/ \b\b- \b\b\\ \b\b| \b\b/ \b\b- \b\b\\ \b\b| \b\b/ \b\b- \b\b\\ \b\b| \b\b/ \b\b- \b\b\\ \b\b| \b\b/ \b\b- \b\b\\ \b\b| \b\b/ \b\b- \b\b\\ \b\b| \b\b/ \b\b- \b\b\\ \b\b| \b\b/ \b\b- \b\b\\ \b\b| \b\b/ \b\b- \b\b\\ \b\b| \b\b/ \b\b- \b\b\\ \b\b| \b\b/ \b\b- \b\b\\ \b\b| \b\b/ \b\b- \b\b\\ \b\b| \b\b/ \b\b- \b\b\\ \b\b| \b\b/ \b\b- \b\b\\ \b\b| \b\b/ \b\b- \b\b\\ \b\b| \b\b/ \b\b- \b\b\\ \b\b| \b\b/ \b\b- \b\b\\ \b\b| \b\b/ \b\b- \b\b\\ \b\b| \b\b/ \b\b- \b\b\\ \b\b| \b\b/ \b\b- \b\b\\ \b\b| \b\b/ \b\b- \b\b\\ \b\b| \b\b/ \b\b- \b\b\\ \b\b| \b\b/ \b\b- \b\b\\ \b\b| \b\b/ \b\b- \b\b\\ \b\b| \b\b/ \b\b- \b\b\\ \b\b| \b\b/ \b\b- \b\b\\ \b\b| \b\b/ \b\b- \b\b\\ \b\b| \b\b/ \b\b- \b\b\\ \b\b| \b\b/ \b\b- \b\b\\ \b\b| \b\b/ \b\b- \b\b\\ \b\b| \b\b/ \b\b- \b\b\\ \b\b| \b\b/ \b\b- \b\b\\ \b\b| \b\b/ \b\b- \b\b\\ \b\b| \b\b/ \b\b- \b\b\\ \b\b| \b\b/ \b\b- \b\b\\ \b\b| \b\b/ \b\b- \b\b\\ \b\b| \b\b/ \b\b- \b\b\\ \b\b| \b\b/ \b\b- \b\b\\ \b\b| \b\b/ \b\b- \b\b\\ \b\b| \b\b/ \b\b- \b\b\\ \b\b| \b\b/ \b\b- \b\b\\ \b\b| \b\b/ \b\b- \b\b\\ \b\b| \b\b/ \b\b- \b\b\\ \b\b| \b\b/ \b\b- \b\b\\ \b\b| \b\b/ \b\b- \b\b\\ \b\b| \b\b/ \b\b- \b\b\\ \b\b| \b\b/ \b\b- \b\b\\ \b\b| \b\b/ \b\b- \b\b\\ \b\b| \b\b/ \b\b- \b\b\\ \b\b| \b\b/ \b\b- \b\b\\ \b\b| \b\b/ \b\b- \b\b\\ \b\b| \b\b/ \b\b- \b\b\\ \b\b| \b\b/ \b\b- \b\b\\ \b\b| \b\b/ \b\b- \b\b\\ \b\b| \b\b/ \b\b- \b\b\\ \b\b| \b\b/ \b\b- \b\b\\ \b\b| \b\b/ \b\b- \b\b\\ \b\b| \b\b/ \b\b- \b\b\\ \b\b| \b\b/ \b\b- \b\b\\ \b\b| \b\b/ \b\b- \b\b\\ \b\b| \b\b/ \b\b- \b\b\\ \b\b| \b\b/ \b\b- \b\b\\ \b\b| \b\b/ \b\b- \b\b\\ \b\b| \b\b/ \b\b- \b\b\\ \b\b| \b\b/ \b\b- \b\b\\ \b\b| \b\b/ \b\b- \b\b\\ \b\b| \b\b/ \b\b- \b\b\\ \b\b| \b\b/ \b\b- \b\b\\ \b\b| \b\b/ \b\b- \b\b\\ \b\b| \b\b/ \b\b- \b\b\\ \b\b| \b\b/ \b\b- \b\b\\ \b\b| \b\b/ \b\b- \b\b\\ \b\b| \b\b/ \b\b- \b\b\\ \b\b| \b\b/ \b\b- \b\b\\ \b\b| \b\b/ \b\b- \b\b\\ \b\b| \b\b/ \b\b- \b\b\\ \b\b| \b\b/ \b\b- \b\b\\ \b\b| \b\b/ \b\b- \b\b\\ \b\b| \b\b/ \b\b- \b\b\\ \b\b| \b\b/ \b\b- \b\b\\ \b\b| \b\b/ \b\b- \b\b\\ \b\b| \b\b/ \b\b- \b\b\\ \b\b| \b\b/ \b\b- \b\b\\ \b\b| \b\b/ \b\b- \b\b\\ \b\b| \b\b/ \b\b- \b\b\\ \b\b| \b\b/ \b\b- \b\b\\ \b\b| \b\b/ \b\b- \b\b\\ \b\b| \b\b/ \b\b- \b\b\\ \b\b| \b\b/ \b\b- \b\b\\ \b\b| \b\b/ \b\b- \b\b\\ \b\b| \b\b/ \b\b- \b\b\\ \b\b| \b\b/ \b\b- \b\b\\ \b\b| \b\b/ \b\b- \b\b\\ \b\b| \b\b/ \b\b- \b\b\\ \b\b| \b\b/ \b\b- \b\b\\ \b\b| \b\b/ \b\b- \b\b\\ \b\b| \b\b/ \b\b- \b\b\\ \b\b| \b\b/ \b\b- \b\b\\ \b\b| \b\b/ \b\b- \b\b\\ \b\b| \b\b/ \b\b- \b\b\\ \b\b| \b\b/ \b\b- \b\b\\ \b\b| \b\b/ \b\b- \b\b\\ \b\b| \b\b/ \b\b- \b\b\\ \b\b| \b\b/ \b\b- \b\b\\ \b\b| \b\b/ \b\b- \b\b\\ \b\b| \b\b/ \b\b- \b\b\\ \b\b| \b\b/ \b\b- \b\b\\ \b\b| \b\b/ \b\b- \b\b\\ \b\b| \b\b/ \b\b- \b\b\\ \b\b| \b\b/ \b\b- \b\b\\ \b\b| \b\b/ \b\b- \b\b\\ \b\b| \b\b/ \b\b- \b\b\\ \b\b| \b\b/ \b\b- \b\b\\ \b\b| \b\b/ \b\b- \b\b\\ \b\b| \b\b/ \b\b- \b\b\\ \b\b| \b\b/ \b\b- \b\b\\ \b\b| \b\b/ \b\b- \b\b\\ \b\b| \b\b/ \b\b- \b\b\\ \b\b| \b\b/ \b\b- \b\b\\ \b\b| \b\b/ \b\b- \b\b\\ \b\b| \b\b/ \b\b- \b\b\\ \b\b| \b\b/ \b\b- \b\b\\ \b\b| \b\b/ \b\b- \b\b\\ \b\b| \b\b/ \b\b- \b\b\\ \b\b| \b\b/ \b\b- \b\b\\ \b\b| \b\b/ \b\b- \b\b\\ \b\b| \b\b/ \b\b- \b\b\\ \b\b| \b\b/ \b\b- \b\b\\ \b\b| \b\b/ \b\b- \b\b\\ \b\b| \b\b/ \b\b- \b\b\\ \b\b| \b\b/ \b\b- \b\b\\ \b\b| \b\b/ \b\b- \b\b\\ \b\b| \b\b/ \b\b- \b\b\\ \b\b| \b\b/ \b\b- \b\b\\ \b\b| \b\b/ \b\b- \b\b\\ \b\b| \b\b/ \b\b- \b\b\\ \b\b| \b\b/ \b\b- \b\b\\ \b\b| \b\b/ \b\b- \b\b\\ \b\b| \b\b/ \b\b- \b\b\\ \b\b| \b\b/ \b\b- \b\b\\ \b\b| \b\b/ \b\b- \b\b\\ \b\b| \b\b/ \b\b- \b\b\\ \b\b| \b\b/ \b\b- \b\b\\ \b\b| \b\b/ \b\b- \b\b\\ \b\b| \b\b/ \b\b- \b\b\\ \b\b| \b\b/ \b\b- \b\b\\ \b\b| \b\b/ \b\b- \b\b\\ \b\b| \b\b/ \b\b- \b\b\\ \b\b| \b\b/ \b\b- \b\b\\ \b\b| \b\b/ \b\b- \b\b\\ \b\b| \b\b/ \b\b- \b\b\\ \b\b| \b\b/ \b\b- \b\b\\ \b\b| \b\b/ \b\b- \b\b\\ \b\b| \b\b/ \b\b- \b\b\\ \b\b| \b\b/ \b\b- \b\b\\ \b\b| \b\b/ \b\b- \b\b\\ \b\b| \b\b/ \b\b- \b\b\\ \b\b| \b\b/ \b\b- \b\b\\ \b\b| \b\b/ \b\b- \b\b\\ \b\b| \b\b/ \b\b- \b\b\\ \b\b| \b\b/ \b\b- \b\b\\ \b\b| \b\b/ \b\b- \b\b\\ \b\b| \b\b/ \b\b- \b\b\\ \b\b| \b\b/ \b\b- \b\b\\ \b\b| \b\b/ \b\b- \b\b\\ \b\b| \b\b/ \b\b- \b\b\\ \b\b| \b\b/ \b\b- \b\b\\ \b\b| \b\b/ \b\b- \b\b\\ \b\b| \b\b/ \b\b- \b\b\\ \b\b| \b\b/ \b\b- \b\b\\ \b\b| \b\b/ \b\b- \b\b\\ \b\b| \b\b/ \b\b- \b\b\\ \b\b| \b\b/ \b\b- \b\b\\ \b\b| \b\b/ \b\b- \b\b\\ \b\b| \b\b/ \b\b- \b\b\\ \b\b| \b\b/ \b\b- \b\b\\ \b\b| \b\b/ \b\b- \b\b\\ \b\b| \b\b/ \b\b- \b\b\\ \b\b| \b\b/ \b\b- \b\b\\ \b\b| \b\b/ \b\b- \b\b\\ \b\b| \b\b/ \b\b- \b\b\\ \b\b| \b\b/ \b\b- \b\b\\ \b\b| \b\b/ \b\b- \b\b\\ \b\b| \b\b/ \b\b- \b\b\\ \b\b| \b\b/ \b\b- \b\b\\ \b\b| \b\b/ \b\b- \b\b\\ \b\b| \b\b/ \b\b- \b\b\\ \b\b| \b\b/ \b\b- \b\b\\ \b\b| \b\b/ \b\b- \b\b\\ \b\b| \b\b/ \b\b- \b\b\\ \b\b| \b\b/ \b\b- \b\b\\ \b\b| \b\b/ \b\b- \b\b\\ \b\b| \b\b/ \b\b- \b\b\\ \b\b| \b\b/ \b\b- \b\b\\ \b\b| \b\b/ \b\b- \b\b\\ \b\b| \b\b/ \b\b- \b\b\\ \b\b| \b\b/ \b\b- \b\b\\ \b\b| \b\b/ \b\b- \b\b\\ \b\b| \b\b/ \b\b- \b\b\\ \b\b| \b\b/ \b\b- \b\b\\ \b\b| \b\b/ \b\b- \b\b\\ \b\b| \b\b/ \b\b- \b\b\\ \b\b| \b\b/ \b\b- \b\b\\ \b\b| \b\b/ \b\b- \b\b\\ \b\b| \b\b/ \b\b- \b\b\\ \b\b| \b\b/ \b\b- \b\b\\ \b\b| \b\b/ \b\b- \b\b\\ \b\b| \b\b/ \b\b- \b\b\\ \b\b| \b\b/ \b\b- \b\b\\ \b\b| \b\b/ \b\b- \b\b\\ \b\b| \b\b/ \b\b- \b\b\\ \b\b| \b\b/ \b\b- \b\b\\ \b\b| \b\b/ \b\b- \b\b\\ \b\b| \b\b/ \b\b- \b\b\\ \b\b| \b\b/ \b\b- \b\b\\ \b\b| \b\b/ \b\b- \b\b\\ \b\b| \b\b/ \b\b- \b\b\\ \b\b| \b\b/ \b\b- \b\b\\ \b\b| \b\b/ \b\b- \b\b\\ \b\b| \b\b/ \b\b- \b\b\\ \b\b| \b\b/ \b\b- \b\b\\ \b\b| \b\b/ \b\b- \b\b\\ \b\b| \b\b/ \b\b- \b\b\\ \b\b| \b\b/ \b\b- \b\b\\ \b\b| \b\b/ \b\b- \b\b\\ \b\b| \b\b/ \b\b- \b\b\\ \b\b| \b\b/ \b\b- \b\b\\ \b\b| \b\b/ \b\b- \b\b\\ \b\b| \b\b/ \b\b- \b\b\\ \b\b| \b\b/ \b\b- \b\b\\ \b\b| \b\b/ \b\b- \b\b\\ \b\b| \b\b/ \b\b- \b\b\\ \b\b| \b\b/ \b\b- \b\b\\ \b\b| \b\b/ \b\b- \b\b\\ \b\b| \b\b/ \b\b- \b\b\\ \b\b| \b\b/ \b\b- \b\b\\ \b\b| \b\b/ \b\b- \b\b\\ \b\b| \b\b/ \b\b- \b\b\\ \b\b| \b\b/ \b\b- \b\b\\ \b\b| \b\b/ \b\b- \b\b\\ \b\b| \b\b/ \b\b- \b\b\\ \b\b| \b\b/ \b\b- \b\b\\ \b\b| \b\b/ \b\b- \b\b\\ \b\b| \b\b/ \b\b- \b\b\\ \b\b| \b\b/ \b\b- \b\b\\ \b\b| \b\b/ \b\b- \b\b\\ \b\b| \b\b/ \b\b- \b\b\\ \b\b| \b\b/ \b\b- \b\b\\ \b\b| \b\b/ \b\b- \b\b\\ \b\b| \b\b/ \b\b- \b\b\\ \b\b| \b\b/ \b\b- \b\b\\ \b\b| \b\b/ \b\b- \b\b\\ \b\b| \b\b/ \b\b- \b\b\\ \b\b| \b\b/ \b\b- \b\b\\ \b\b| \b\b/ \b\b- \b\b\\ \b\b| \b\b/ \b\b- \b\b\\ \b\b| \b\b/ \b\b- \b\b\\ \b\b| \b\b/ \b\b- \b\b\\ \b\b| \b\b/ \b\b- \b\b\\ \b\b| \b\b/ \b\b- \b\b\\ \b\b| \b\b/ \b\b- \b\b\\ \b\b| \b\b/ \b\b- \b\b\\ \b\b| \b\b/ \b\b- \b\b\\ \b\b| \b\b/ \b\b- \b\b\\ \b\b| \b\b/ \b\b- \b\b\\ \b\b| \b\b/ \b\b- \b\b\\ \b\b| \b\b/ \b\b- \b\b\\ \b\b| \b\b/ \b\b- \b\b\\ \b\b| \b\b/ \b\b- \b\b\\ \b\b| \b\b/ \b\b- \b\b\\ \b\b| \b\b/ \b\b- \b\b\\ \b\b| \b\b/ \b\b- \b\b\\ \b\b| \b\b/ \b\b- \b\b\\ \b\b| \b\b/ \b\b- \b\b\\ \b\b| \b\b/ \b\b- \b\b\\ \b\b| \b\b/ \b\b- \b\b\\ \b\b| \b\b/ \b\b- \b\b\\ \b\b| \b\b/ \b\b- \b\b\\ \b\b| \b\b/ \b\b- \b\b\\ \b\b| \b\b/ \b\b- \b\b\\ \b\b| \b\b/ \b\b- \b\b\\ \b\b| \b\b/ \b\b- \b\b\\ \b\b| \b\b/ \b\b- \b\b\\ \b\b| \b\b/ \b\b- \b\b\\ \b\b| \b\b/ \b\b- \b\b\\ \b\b| \b\b/ \b\b- \b\b\\ \b\b| \b\b/ \b\b- \b\b\\ \b\b| \b\b/ \b\b- \b\b\\ \b\b| \b\b/ \b\b- \b\b\\ \b\b| \b\b/ \b\b- \b\b\\ \b\b| \b\b/ \b\b- \b\b\\ \b\b| \b\b/ \b\b- \b\b\\ \b\b| \b\b/ \b\b- \b\b\\ \b\b| \b\b/ \b\b- \b\b\\ \b\b| \b\b/ \b\b- \b\b\\ \b\b| \b\b/ \b\b- \b\b\\ \b\b| \b\b/ \b\b- \b\b\\ \b\b| \b\b/ \b\b- \b\b\\ \b\b| \b\b/ \b\b- \b\b\\ \b\b| \b\b/ \b\b- \b\b\\ \b\b| \b\b/ \b\b- \b\b\\ \b\b| \b\b/ \b\b- \b\b\\ \b\b| \b\b/ \b\b- \b\b\\ \b\b| \b\b/ \b\b- \b\b\\ \b\b| \b\b/ \b\b- \b\b\\ \b\b| \b\b/ \b\b- \b\b\\ \b\b| \b\b/ \b\b- \b\b\\ \b\b| \b\b/ \b\b- \b\b\\ \b\b| \b\b/ \b\b- \b\b\\ \b\b| \b\b/ \b\b- \b\b\\ \b\b| \b\b/ \b\b- \b\b\\ \b\b| \b\b/ \b\b- \b\b\\ \b\b| \b\b/ \b\b- \b\b\\ \b\b| \b\b/ \b\b- \b\b\\ \b\b| \b\b/ \b\b- \b\b\\ \b\b| \b\b/ \b\b- \b\b\\ \b\b| \b\b/ \b\b- \b\b\\ \b\b| \b\b/ \b\b- \b\b\\ \b\b| \b\b/ \b\b- \b\b\\ \b\b| \b\b/ \b\b- \b\b\\ \b\b| \b\b/ \b\b- \b\b\\ \b\b| \b\b/ \b\b- \b\b\\ \b\b| \b\b/ \b\b- \b\b\\ \b\b| \b\b/ \b\b- \b\b\\ \b\b| \b\b/ \b\b- \b\b\\ \b\b| \b\b/ \b\b- \b\b\\ \b\b| \b\b/ \b\b- \b\b\\ \b\b| \b\b/ \b\b- \b\b\\ \b\b| \b\b/ \b\b- \b\b\\ \b\b| \b\b/ \b\b- \b\b\\ \b\b| \b\b/ \b\b- \b\b\\ \b\b| \b\b/ \b\b- \b\b\\ \b\b| \b\b/ \b\b- \b\b\\ \b\b| \b\b/ \b\b- \b\b\\ \b\b| \b\b/ \b\b- \b\b\\ \b\b| \b\b/ \b\b- \b\b\\ \b\b| \b\b/ \b\b- \b\b\\ \b\b| \b\b/ \b\b- \b\b\\ \b\b| \b\b/ \b\b- \b\b\\ \b\b| \b\b/ \b\b- \b\b\\ \b\b| \b\b/ \b\b- \b\b\\ \b\b| \b\b/ \b\b- \b\b\\ \b\b| \b\b/ \b\b- \b\b\\ \b\b| \b\b/ \b\b- \b\b\\ \b\b| \b\b/ \b\b- \b\b\\ \b\b| \b\b/ \b\b- \b\b\\ \b\b| \b\b/ \b\b- \b\b\\ \b\b| \b\b/ \b\b- \b\b\\ \b\b| \b\b/ \b\b- \b\b\\ \b\b| \b\b/ \b\b- \b\b\\ \b\b| \b\b/ \b\b- \b\b\\ \b\b| \b\b/ \b\b- \b\b\\ \b\b| \b\b/ \b\b- \b\b\\ \b\b| \b\b/ \b\b- \b\b\\ \b\b| \b\b/ \b\b- \b\b\\ \b\b| \b\b/ \b\b- \b\b\\ \b\b| \b\b/ \b\b- \b\b\\ \b\b| \b\b/ \b\b- \b\b\\ \b\b| \b\b/ \b\b- \b\b\\ \b\b| \b\b/ \b\b- \b\b\\ \b\b| \b\b/ \b\b- \b\b\\ \b\b| \b\b/ \b\b- \b\b\\ \b\b| \b\b/ \b\b- \b\b\\ \b\b| \b\b/ \b\b- \b\b\\ \b\b| \b\b/ \b\b- \b\b\\ \b\b| \b\b/ \b\b- \b\b\\ \b\b| \b\b/ \b\b- \b\b\\ \b\b| \b\b/ \b\b- \b\b\\ \b\b| \b\b/ \b\b- \b\b\\ \b\b| \b\b/ \b\b- \b\b\\ \b\b| \b\b/ \b\b- \b\b\\ \b\b| \b\b/ \b\b- \b\b\\ \b\b| \b\b/ \b\b- \b\b\\ \b\b| \b\b/ \b\b- \b\b\\ \b\b| \b\b/ \b\b- \b\b\\ \b\b| \b\b/ \b\b- \b\b\\ \b\b| \b\b/ \b\b- \b\b\\ \b\b| \b\b/ \b\b- \b\b\\ \b\b| \b\b/ \b\b- \b\b\\ \b\b| \b\b/ \b\b- \b\b\\ \b\b| \b\b/ \b\b- \b\b\\ \b\b| \b\b/ \b\b- \b\b\\ \b\b| \b\b/ \b\b- \b\b\\ \b\b| \b\b/ \b\b- \b\b\\ \b\b| \b\b/ \b\b- \b\b\\ \b\b| \b\b/ \b\b- \b\b\\ \b\b| \b\b/ \b\b- \b\b\\ \b\b| \b\b/ \b\b- \b\b\\ \b\b| \b\b/ \b\b- \b\b\\ \b\b| \b\b/ \b\b- \b\b\\ \b\b| \b\b/ \b\b- \b\b\\ \b\b| \b\b/ \b\b- \b\b\\ \b\b| \b\b/ \b\b- \b\b\\ \b\b| \b\b/ \b\b- \b\b\\ \b\b| \b\b/ \b\b- \b\b\\ \b\b| \b\b/ \b\b- \b\b\\ \b\b| \b\b/ \b\b- \b\b\\ \b\b| \b\b/ \b\b- \b\b\\ \b\b| \b\b/ \b\b- \b\b\\ \b\b| \b\b/ \b\b- \b\b\\ \b\b| \b\b/ \b\b- \b\b\\ \b\b| \b\b/ \b\b- \b\b\\ \b\b| \b\b/ \b\b- \b\b\\ \b\b| \b\b/ \b\b- \b\b\\ \b\b| \b\b/ \b\b- \b\b\\ \b\b| \b\b/ \b\b- \b\b\\ \b\b| \b\b/ \b\b- \b\b\\ \b\b| \b\b/ \b\b- \b\b\\ \b\b| \b\b/ \b\b- \b\b\\ \b\b| \b\b/ \b\b- \b\b\\ \b\b| \b\b/ \b\b- \b\b\\ \b\b| \b\b/ \b\b- \b\b\\ \b\b| \b\b/ \b\b- \b\b\\ \b\b| \b\b/ \b\b- \b\b\\ \b\b| \b\b/ \b\b- \b\b\\ \b\b| \b\b/ \b\b- \b\b\\ \b\b| \b\b/ \b\b- \b\b\\ \b\b| \b\b/ \b\b- \b\b\\ \b\b| \b\b/ \b\b- \b\b\\ \b\b| \b\b/ \b\b- \b\b\\ \b\b| \b\b/ \b\b- \b\b\\ \b\b| \b\b/ \b\b- \b\b\\ \b\b| \b\b/ \b\b- \b\b\\ \b\b| \b\b/ \b\b- \b\b\\ \b\b| \b\b/ \b\b- \b\b\\ \b\b| \b\b/ \b\b- \b\b\\ \b\b| \b\b/ \b\b- \b\b\\ \b\b| \b\b/ \b\b- \b\b\\ \b\b| \b\b/ \b\b- \b\b\\ \b\b| \b\b/ \b\b- \b\b\\ \b\b| \b\b/ \b\b- \b\b\\ \b\b| \b\b/ \b\b- \b\b\\ \b\b| \b\b/ \b\b- \b\b\\ \b\b| \b\b/ \b\b- \b\b\\ \b\b| \n",
            "Warning: 2 possible package resolutions (only showing differing packages):\n",
            "  - conda-forge/linux-64::yarl-1.6.3-py37h5e8e339_1, conda-forge/noarch::google-cloud-bigquery-storage-core-2.0.0-pyh9f0ad1d_1\n",
            "  - conda-forge/linux-64::yarl-1.5.1-py37h8f50634_0, conda-forge/noarch::google-cloud-bigquery-storage-core-2.2.1-pyh44b312d_0\b\b/ \b\b- \b\b\\ \b\bdone\n",
            "\n",
            "\n",
            "==> WARNING: A newer version of conda exists. <==\n",
            "  current version: 4.9.2\n",
            "  latest version: 4.10.1\n",
            "\n",
            "Please update conda by running\n",
            "\n",
            "    $ conda update -n base -c defaults conda\n",
            "\n",
            "\n",
            "\n",
            "## Package Plan ##\n",
            "\n",
            "  environment location: /usr/local\n",
            "\n",
            "  added / updated specs:\n",
            "    - cudatoolkit=11.0\n",
            "    - cudf=0.19\n",
            "    - cugraph[version='0.19.*,0.19.*']\n",
            "    - cuml=0.19\n",
            "    - cusignal=0.19\n",
            "    - cuspatial=0.19\n",
            "    - dask-cudf=0.19\n",
            "    - gcsfs\n",
            "    - llvmlite\n",
            "    - openssl\n",
            "    - pandas-gbq\n",
            "    - python=3.7\n",
            "    - ujson\n",
            "    - xgboost\n",
            "\n",
            "\n",
            "The following packages will be downloaded:\n",
            "\n",
            "    package                    |            build\n",
            "    ---------------------------|-----------------\n",
            "    _libgcc_mutex-0.1          |      conda_forge           3 KB  conda-forge\n",
            "    _openmp_mutex-4.5          |           1_llvm           5 KB  conda-forge\n",
            "    abseil-cpp-20200225.2      |       he1b5a44_2         915 KB  conda-forge\n",
            "    aiohttp-3.7.4              |   py37h5e8e339_0         632 KB  conda-forge\n",
            "    arrow-cpp-1.0.1            |py37h9631afc_16_cuda        20.4 MB  conda-forge\n",
            "    arrow-cpp-proc-3.0.0       |             cuda          24 KB  conda-forge\n",
            "    async-timeout-3.0.1        |          py_1000          11 KB  conda-forge\n",
            "    attrs-21.2.0               |     pyhd8ed1ab_0          44 KB  conda-forge\n",
            "    aws-c-common-0.4.59        |       h36c2ea0_1         160 KB  conda-forge\n",
            "    aws-c-event-stream-0.1.6   |       had2084c_6          25 KB  conda-forge\n",
            "    aws-checksums-0.1.10       |       h4e93380_0          50 KB  conda-forge\n",
            "    aws-sdk-cpp-1.8.70         |       h57dc084_1         2.2 MB  conda-forge\n",
            "    backcall-0.2.0             |     pyh9f0ad1d_0          13 KB  conda-forge\n",
            "    backports-1.0              |             py_2           4 KB  conda-forge\n",
            "    backports.functools_lru_cache-1.6.4|     pyhd8ed1ab_0           9 KB  conda-forge\n",
            "    blas-2.17                  |         openblas          11 KB  conda-forge\n",
            "    blinker-1.4                |             py_1          13 KB  conda-forge\n",
            "    bokeh-2.3.2                |   py37h89c1867_0         8.3 MB  conda-forge\n",
            "    boost-1.72.0               |   py37h48f8a5e_1         339 KB  conda-forge\n",
            "    boost-cpp-1.72.0           |       h9359b55_3        16.3 MB  conda-forge\n",
            "    brotli-1.0.9               |       he1b5a44_3         395 KB  conda-forge\n",
            "    bzip2-1.0.8                |       h7f98852_4         484 KB  conda-forge\n",
            "    c-ares-1.17.1              |       h7f98852_1         109 KB  conda-forge\n",
            "    ca-certificates-2020.12.5  |       ha878542_0         137 KB  conda-forge\n",
            "    cachetools-4.2.2           |     pyhd8ed1ab_0          12 KB  conda-forge\n",
            "    cairo-1.16.0               |    h3fc0475_1005         1.5 MB  conda-forge\n",
            "    certifi-2020.12.5          |   py37h89c1867_1         143 KB  conda-forge\n",
            "    cfitsio-3.470              |       h2e3daa1_7         1.3 MB  conda-forge\n",
            "    click-7.1.2                |     pyh9f0ad1d_0          64 KB  conda-forge\n",
            "    cloudpickle-1.6.0          |             py_0          22 KB  conda-forge\n",
            "    conda-4.10.1               |   py37h89c1867_0         3.1 MB  conda-forge\n",
            "    cudatoolkit-11.0.221       |       h6bb024c_0       953.0 MB  nvidia\n",
            "    cudf-0.19.2                |cuda_11.0_py37_gab3b3f653a_0        93.2 MB  rapidsai\n",
            "    cudnn-8.1.0.77             |       h90431f1_0       634.8 MB  conda-forge\n",
            "    cugraph-0.19.0             | py37_gd72b90b0_0        51.7 MB  rapidsai\n",
            "    cuml-0.19.0                |cuda11.0_py37_g4cb78ff1a_0        70.5 MB  rapidsai\n",
            "    cupy-8.6.0                 |   py37h4fdb0f7_0        47.7 MB  conda-forge\n",
            "    curl-7.71.1                |       he644dc0_3         140 KB  conda-forge\n",
            "    cusignal-0.19.0            |  py38_g347b95a_0         893 KB  rapidsai\n",
            "    cuspatial-0.19.0           |  py37_gdf1d93c_0        13.8 MB  rapidsai\n",
            "    cutensor-1.2.2.5           |       h96e36e3_3        88.7 MB  conda-forge\n",
            "    cytoolz-0.11.0             |   py37h5e8e339_3         403 KB  conda-forge\n",
            "    dask-2021.4.0              |     pyhd8ed1ab_0           4 KB  conda-forge\n",
            "    dask-core-2021.4.0         |     pyhd8ed1ab_0         718 KB  conda-forge\n",
            "    dask-cuda-0.19.0           |           py37_0         110 KB  rapidsai\n",
            "    dask-cudf-0.19.2           |py37_gab3b3f653a_0          97 KB  rapidsai\n",
            "    decorator-5.0.7            |     pyhd8ed1ab_0          11 KB  conda-forge\n",
            "    distributed-2021.4.0       |   py37h89c1867_0         1.1 MB  conda-forge\n",
            "    dlpack-0.3                 |       he1b5a44_1          13 KB  conda-forge\n",
            "    expat-2.2.9                |       he1b5a44_2         191 KB  conda-forge\n",
            "    faiss-proc-1.0.0           |             cuda          24 KB  rapidsai\n",
            "    fastavro-1.4.0             |   py37h5e8e339_0         499 KB  conda-forge\n",
            "    fastrlock-0.5              |   py37h3340039_1          31 KB  conda-forge\n",
            "    fontconfig-2.13.1          |    hba837de_1005         357 KB  conda-forge\n",
            "    freetype-2.10.4            |       h0708190_1         890 KB  conda-forge\n",
            "    freexl-1.0.6               |       h7f98852_0          48 KB  conda-forge\n",
            "    fsspec-2021.4.0            |     pyhd8ed1ab_0          75 KB  conda-forge\n",
            "    gcsfs-2021.4.0             |     pyhd8ed1ab_0          24 KB  conda-forge\n",
            "    gdal-3.2.0                 |   py37h6bca1a1_0         1.3 MB  conda-forge\n",
            "    geos-3.8.1                 |       he1b5a44_0         1.0 MB  conda-forge\n",
            "    geotiff-1.6.0              |       h5d11630_3         278 KB  conda-forge\n",
            "    gflags-2.2.2               |    he1b5a44_1004         114 KB  conda-forge\n",
            "    giflib-5.2.1               |       h36c2ea0_2          77 KB  conda-forge\n",
            "    glib-2.68.1                |       h36276a3_0         3.0 MB\n",
            "    glog-0.4.0                 |       h49b9bf7_3         104 KB  conda-forge\n",
            "    google-api-core-1.26.3     |     pyhd8ed1ab_0          59 KB  conda-forge\n",
            "    google-api-core-grpc-1.26.3|       hd8ed1ab_0           4 KB  conda-forge\n",
            "    google-auth-1.25.0         |     pyh44b312d_0          63 KB  conda-forge\n",
            "    google-auth-oauthlib-0.4.4 |     pyhd8ed1ab_0          19 KB  conda-forge\n",
            "    google-cloud-bigquery-2.11.0|     pyhd3deb0d_0          10 KB  conda-forge\n",
            "    google-cloud-bigquery-core-2.11.0|     pyhd3deb0d_0         139 KB  conda-forge\n",
            "    google-cloud-bigquery-storage-core-2.0.0|     pyh9f0ad1d_1         5.6 MB  conda-forge\n",
            "    google-cloud-core-1.5.0    |     pyhd3deb0d_0          26 KB  conda-forge\n",
            "    google-crc32c-1.1.2        |   py37hab72019_0          24 KB  conda-forge\n",
            "    google-resumable-media-1.2.0|     pyhd3deb0d_0          40 KB  conda-forge\n",
            "    googleapis-common-protos-1.53.0|   py37h89c1867_0         124 KB  conda-forge\n",
            "    grpc-cpp-1.33.2            |       h1870a98_1         3.2 MB  conda-forge\n",
            "    grpcio-1.33.2              |   py37haffed2e_2         1.8 MB  conda-forge\n",
            "    hdf4-4.2.13                |    hf30be14_1003         964 KB  conda-forge\n",
            "    hdf5-1.10.6                |nompi_h7c3c948_1111         3.1 MB  conda-forge\n",
            "    heapdict-1.0.1             |             py_0           7 KB  conda-forge\n",
            "    icu-67.1                   |       he1b5a44_0        12.9 MB  conda-forge\n",
            "    ipython-7.23.1             |   py37h085eea5_0         1.1 MB  conda-forge\n",
            "    ipython_genutils-0.2.0     |             py_1          21 KB  conda-forge\n",
            "    jedi-0.18.0                |   py37h89c1867_2         923 KB  conda-forge\n",
            "    jinja2-3.0.0               |     pyhd8ed1ab_0          98 KB  conda-forge\n",
            "    joblib-1.0.1               |     pyhd8ed1ab_0         206 KB  conda-forge\n",
            "    jpeg-9d                    |       h36c2ea0_0         264 KB  conda-forge\n",
            "    json-c-0.13.1              |    hbfbb72e_1002          76 KB  conda-forge\n",
            "    kealib-1.4.13              |       h33137a7_1         172 KB  conda-forge\n",
            "    krb5-1.17.2                |       h926e7f8_0         1.4 MB  conda-forge\n",
            "    lcms2-2.11                 |       hcbb858e_1         434 KB  conda-forge\n",
            "    libblas-3.8.0              |      17_openblas          11 KB  conda-forge\n",
            "    libcblas-3.8.0             |      17_openblas          11 KB  conda-forge\n",
            "    libcrc32c-1.1.1            |       he1b5a44_2          20 KB  conda-forge\n",
            "    libcst-0.3.19              |   py37h89c1867_0         722 KB  conda-forge\n",
            "    libcudf-0.19.2             |cuda11.0_gab3b3f653a_0       181.5 MB  rapidsai\n",
            "    libcugraph-0.19.0          |cuda11.0_gd72b90b0_0       163.9 MB  rapidsai\n",
            "    libcuml-0.19.0             |cuda11.0_g4cb78ff1a_0        98.1 MB  rapidsai\n",
            "    libcumlprims-0.19.0        |cuda11.0_ga2abf9f_0         1.1 MB  nvidia\n",
            "    libcurl-7.71.1             |       hcdd3856_3         302 KB  conda-forge\n",
            "    libcuspatial-0.19.0        |cuda11.0_gdf1d93c_0         7.7 MB  rapidsai\n",
            "    libdap4-3.20.6             |       h1d1bd15_1         7.9 MB  conda-forge\n",
            "    libevent-2.1.10            |       hcdb4288_3         1.1 MB  conda-forge\n",
            "    libfaiss-1.7.0             |cuda110h8045045_8_cuda        67.0 MB  conda-forge\n",
            "    libgcc-ng-9.3.0            |      h2828fa1_19         7.8 MB  conda-forge\n",
            "    libgdal-3.2.0              |       h24f7f85_0        12.0 MB  conda-forge\n",
            "    libgfortran-ng-7.5.0       |      h14aa051_19          22 KB  conda-forge\n",
            "    libgfortran4-7.5.0         |      h14aa051_19         1.3 MB  conda-forge\n",
            "    libhwloc-2.3.0             |       h5e5b7d1_1         2.7 MB  conda-forge\n",
            "    libiconv-1.16              |       h516909a_0         1.4 MB  conda-forge\n",
            "    libkml-1.3.0               |    hd79254b_1012         640 KB  conda-forge\n",
            "    liblapack-3.8.0            |      17_openblas          11 KB  conda-forge\n",
            "    liblapacke-3.8.0           |      17_openblas          11 KB  conda-forge\n",
            "    libllvm10-10.0.1           |       he513fc3_3        26.4 MB  conda-forge\n",
            "    libnetcdf-4.7.4            |nompi_h56d31a8_107         1.3 MB  conda-forge\n",
            "    libopenblas-0.3.10         |pthreads_hb3c22a3_5         7.8 MB  conda-forge\n",
            "    libpng-1.6.37              |       h21135ba_2         306 KB  conda-forge\n",
            "    libpq-12.3                 |       h255efa7_3         2.6 MB  conda-forge\n",
            "    libprotobuf-3.13.0.1       |       h8b12597_0         2.3 MB  conda-forge\n",
            "    librmm-0.19.0              |cuda11.0_g7065af3_0          55 KB  rapidsai\n",
            "    libspatialite-5.0.0        |       h4dde289_0         3.9 MB  conda-forge\n",
            "    libssh2-1.9.0              |       ha56f1ee_6         226 KB  conda-forge\n",
            "    libthrift-0.13.0           |       h5aa387f_6         3.3 MB  conda-forge\n",
            "    libtiff-4.1.0              |       h4f3a223_6         618 KB  conda-forge\n",
            "    libutf8proc-2.6.1          |       h7f98852_0          95 KB  conda-forge\n",
            "    libuuid-2.32.1             |    h7f98852_1000          28 KB  conda-forge\n",
            "    libwebp-base-1.2.0         |       h7f98852_2         815 KB  conda-forge\n",
            "    libxcb-1.13                |    h7f98852_1003         395 KB  conda-forge\n",
            "    libxgboost-1.4.0dev.rapidsai0.19|       cuda11.0_0       115.3 MB  rapidsai\n",
            "    libxml2-2.9.10             |       h68273f3_2         1.3 MB  conda-forge\n",
            "    llvm-openmp-11.1.0         |       h4bd325d_1         4.7 MB  conda-forge\n",
            "    llvmlite-0.34.0            |   py37h5202443_2         322 KB  conda-forge\n",
            "    locket-0.2.0               |             py_2           6 KB  conda-forge\n",
            "    lz4-c-1.9.2                |       he1b5a44_3         203 KB  conda-forge\n",
            "    markupsafe-2.0.0           |   py37h5e8e339_0          22 KB  conda-forge\n",
            "    matplotlib-inline-0.1.2    |     pyhd8ed1ab_2          11 KB  conda-forge\n",
            "    msgpack-python-1.0.0       |   py37hc928c03_2          91 KB  conda-forge\n",
            "    multidict-5.1.0            |   py37h5e8e339_1          67 KB  conda-forge\n",
            "    mypy_extensions-0.4.3      |   py37h89c1867_3          10 KB  conda-forge\n",
            "    nccl-2.9.8.1               |       h96e36e3_0        82.4 MB  conda-forge\n",
            "    numba-0.51.2               |   py37h9fdb41a_0         3.6 MB  conda-forge\n",
            "    numpy-1.19.5               |   py37haa41c4c_1         5.3 MB  conda-forge\n",
            "    nvtx-0.2.3                 |   py37h5e8e339_0          55 KB  conda-forge\n",
            "    oauthlib-3.0.1             |             py_0          82 KB  conda-forge\n",
            "    olefile-0.46               |     pyh9f0ad1d_1          32 KB  conda-forge\n",
            "    openjpeg-2.3.1             |       h981e76c_3         475 KB  conda-forge\n",
            "    openssl-1.1.1k             |       h7f98852_0         2.1 MB  conda-forge\n",
            "    orc-1.6.5                  |       hd3605a7_0         731 KB  conda-forge\n",
            "    packaging-20.9             |     pyh44b312d_0          35 KB  conda-forge\n",
            "    pandas-1.1.4               |   py37h10a2094_0        10.5 MB  conda-forge\n",
            "    pandas-gbq-0.15.0          |     pyh44b312d_0          23 KB  conda-forge\n",
            "    parquet-cpp-1.5.1          |                2           3 KB  conda-forge\n",
            "    parso-0.8.2                |     pyhd8ed1ab_0          68 KB  conda-forge\n",
            "    partd-1.2.0                |     pyhd8ed1ab_0          18 KB  conda-forge\n",
            "    pcre-8.44                  |       he1b5a44_0         261 KB  conda-forge\n",
            "    pexpect-4.8.0              |     pyh9f0ad1d_2          47 KB  conda-forge\n",
            "    pickleshare-0.7.5          |          py_1003           9 KB  conda-forge\n",
            "    pillow-8.1.0               |   py37he6b4880_1         676 KB  conda-forge\n",
            "    pixman-0.38.0              |    h516909a_1003         594 KB  conda-forge\n",
            "    poppler-0.89.0             |       h669c267_1        13.4 MB  conda-forge\n",
            "    poppler-data-0.4.10        |                0         3.8 MB  conda-forge\n",
            "    postgresql-12.3            |       hc2f5b80_3         5.0 MB  conda-forge\n",
            "    proj-7.1.1                 |       h966b41f_3         2.5 MB  conda-forge\n",
            "    prompt-toolkit-3.0.18      |     pyha770c72_0         244 KB  conda-forge\n",
            "    proto-plus-1.18.1          |     pyhd8ed1ab_0          32 KB  conda-forge\n",
            "    protobuf-3.13.0.1          |   py37h745909e_1         704 KB  conda-forge\n",
            "    psutil-5.8.0               |   py37h5e8e339_1         342 KB  conda-forge\n",
            "    pthread-stubs-0.4          |    h36c2ea0_1001           5 KB  conda-forge\n",
            "    ptyprocess-0.7.0           |     pyhd3deb0d_0          16 KB  conda-forge\n",
            "    py-xgboost-1.4.0dev.rapidsai0.19|   cuda11.0py37_0         150 KB  rapidsai\n",
            "    pyarrow-1.0.1              |py37hbeecfa9_16_cuda         2.2 MB  conda-forge\n",
            "    pyasn1-0.4.8               |             py_0          53 KB  conda-forge\n",
            "    pyasn1-modules-0.2.7       |             py_0          60 KB  conda-forge\n",
            "    pydata-google-auth-1.2.0   |     pyhd8ed1ab_0          14 KB  conda-forge\n",
            "    pygments-2.9.0             |     pyhd8ed1ab_0         754 KB  conda-forge\n",
            "    pyjwt-2.0.1                |     pyhd8ed1ab_0          17 KB  conda-forge\n",
            "    pynvml-8.0.4               |             py_1          31 KB  conda-forge\n",
            "    pyparsing-2.4.7            |     pyh9f0ad1d_0          60 KB  conda-forge\n",
            "    python-3.7.10              |       hdb3f193_0        45.2 MB\n",
            "    python-dateutil-2.8.1      |             py_0         220 KB  conda-forge\n",
            "    python_abi-3.7             |          1_cp37m           4 KB  conda-forge\n",
            "    pytz-2021.1                |     pyhd8ed1ab_0         239 KB  conda-forge\n",
            "    pyyaml-5.4.1               |   py37h5e8e339_0         189 KB  conda-forge\n",
            "    re2-2020.11.01             |       h58526e2_0         226 KB  conda-forge\n",
            "    requests-oauthlib-1.3.0    |     pyh9f0ad1d_0          21 KB  conda-forge\n",
            "    rmm-0.19.0                 |cuda_11.0_py37_g7065af3_0         6.4 MB  rapidsai\n",
            "    rsa-4.7.2                  |     pyh44b312d_0          28 KB  conda-forge\n",
            "    scikit-learn-0.23.2        |   py37hddcf8d6_3         6.8 MB  conda-forge\n",
            "    scipy-1.6.2                |   py37hf56f3a7_1        15.4 MB\n",
            "    snappy-1.1.8               |       he1b5a44_3          32 KB  conda-forge\n",
            "    sortedcontainers-2.3.0     |     pyhd8ed1ab_0          26 KB  conda-forge\n",
            "    spdlog-1.7.0               |       hc9558a2_2         410 KB  conda-forge\n",
            "    tblib-1.7.0                |     pyhd8ed1ab_0          15 KB  conda-forge\n",
            "    threadpoolctl-2.1.0        |     pyh5ca1d4c_0          15 KB  conda-forge\n",
            "    tiledb-2.1.5               |       h17508cd_0         2.2 MB  conda-forge\n",
            "    toolz-0.11.1               |             py_0          46 KB  conda-forge\n",
            "    tornado-6.1                |   py37h5e8e339_1         646 KB  conda-forge\n",
            "    traitlets-5.0.5            |             py_0          81 KB  conda-forge\n",
            "    treelite-1.1.0             |   py37hfdac9b6_0         2.5 MB  conda-forge\n",
            "    typing-extensions-3.7.4.3  |                0           8 KB  conda-forge\n",
            "    typing_extensions-3.7.4.3  |             py_0          25 KB  conda-forge\n",
            "    typing_inspect-0.6.0       |     pyh9f0ad1d_0          11 KB  conda-forge\n",
            "    tzcode-2021a               |       h7f98852_1          68 KB  conda-forge\n",
            "    ucx-1.9.0+gcd9efd3         |       cuda11.0_0         8.2 MB  rapidsai\n",
            "    ucx-proc-1.0.0             |              gpu           9 KB  rapidsai\n",
            "    ucx-py-0.19.0              |  py37_gcd9efd3_0         260 KB  rapidsai\n",
            "    ujson-4.0.1                |   py37h3340039_1          47 KB  conda-forge\n",
            "    wcwidth-0.2.5              |     pyh9f0ad1d_2          33 KB  conda-forge\n",
            "    xerces-c-3.2.3             |       hfe33f54_1         1.7 MB  conda-forge\n",
            "    xgboost-1.4.0dev.rapidsai0.19|   cuda11.0py37_0          17 KB  rapidsai\n",
            "    xorg-kbproto-1.0.7         |    h7f98852_1002          27 KB  conda-forge\n",
            "    xorg-libice-1.0.10         |       h7f98852_0          58 KB  conda-forge\n",
            "    xorg-libsm-1.2.3           |    hd9c2040_1000          26 KB  conda-forge\n",
            "    xorg-libx11-1.7.0          |       h7f98852_0         923 KB  conda-forge\n",
            "    xorg-libxau-1.0.9          |       h7f98852_0          13 KB  conda-forge\n",
            "    xorg-libxdmcp-1.1.3        |       h7f98852_0          19 KB  conda-forge\n",
            "    xorg-libxext-1.3.4         |       h7f98852_1          54 KB  conda-forge\n",
            "    xorg-libxrender-0.9.10     |    h7f98852_1003          32 KB  conda-forge\n",
            "    xorg-renderproto-0.11.1    |    h7f98852_1002           9 KB  conda-forge\n",
            "    xorg-xextproto-7.3.0       |    h7f98852_1002          28 KB  conda-forge\n",
            "    xorg-xproto-7.0.31         |    h7f98852_1007          73 KB  conda-forge\n",
            "    yarl-1.6.3                 |   py37h5e8e339_1         141 KB  conda-forge\n",
            "    zict-2.0.0                 |             py_0          10 KB  conda-forge\n",
            "    zstd-1.4.5                 |       h6597ccf_2         712 KB  conda-forge\n",
            "    ------------------------------------------------------------\n",
            "                                           Total:        2.94 GB\n",
            "\n",
            "The following NEW packages will be INSTALLED:\n",
            "\n",
            "  _openmp_mutex      conda-forge/linux-64::_openmp_mutex-4.5-1_llvm\n",
            "  abseil-cpp         conda-forge/linux-64::abseil-cpp-20200225.2-he1b5a44_2\n",
            "  aiohttp            conda-forge/linux-64::aiohttp-3.7.4-py37h5e8e339_0\n",
            "  arrow-cpp          conda-forge/linux-64::arrow-cpp-1.0.1-py37h9631afc_16_cuda\n",
            "  arrow-cpp-proc     conda-forge/linux-64::arrow-cpp-proc-3.0.0-cuda\n",
            "  async-timeout      conda-forge/noarch::async-timeout-3.0.1-py_1000\n",
            "  attrs              conda-forge/noarch::attrs-21.2.0-pyhd8ed1ab_0\n",
            "  aws-c-common       conda-forge/linux-64::aws-c-common-0.4.59-h36c2ea0_1\n",
            "  aws-c-event-stream conda-forge/linux-64::aws-c-event-stream-0.1.6-had2084c_6\n",
            "  aws-checksums      conda-forge/linux-64::aws-checksums-0.1.10-h4e93380_0\n",
            "  aws-sdk-cpp        conda-forge/linux-64::aws-sdk-cpp-1.8.70-h57dc084_1\n",
            "  backcall           conda-forge/noarch::backcall-0.2.0-pyh9f0ad1d_0\n",
            "  backports          conda-forge/noarch::backports-1.0-py_2\n",
            "  backports.functoo~ conda-forge/noarch::backports.functools_lru_cache-1.6.4-pyhd8ed1ab_0\n",
            "  blas               conda-forge/linux-64::blas-2.17-openblas\n",
            "  blinker            conda-forge/noarch::blinker-1.4-py_1\n",
            "  bokeh              conda-forge/linux-64::bokeh-2.3.2-py37h89c1867_0\n",
            "  boost              conda-forge/linux-64::boost-1.72.0-py37h48f8a5e_1\n",
            "  boost-cpp          conda-forge/linux-64::boost-cpp-1.72.0-h9359b55_3\n",
            "  brotli             conda-forge/linux-64::brotli-1.0.9-he1b5a44_3\n",
            "  bzip2              conda-forge/linux-64::bzip2-1.0.8-h7f98852_4\n",
            "  c-ares             conda-forge/linux-64::c-ares-1.17.1-h7f98852_1\n",
            "  cachetools         conda-forge/noarch::cachetools-4.2.2-pyhd8ed1ab_0\n",
            "  cairo              conda-forge/linux-64::cairo-1.16.0-h3fc0475_1005\n",
            "  cfitsio            conda-forge/linux-64::cfitsio-3.470-h2e3daa1_7\n",
            "  click              conda-forge/noarch::click-7.1.2-pyh9f0ad1d_0\n",
            "  cloudpickle        conda-forge/noarch::cloudpickle-1.6.0-py_0\n",
            "  cudatoolkit        nvidia/linux-64::cudatoolkit-11.0.221-h6bb024c_0\n",
            "  cudf               rapidsai/linux-64::cudf-0.19.2-cuda_11.0_py37_gab3b3f653a_0\n",
            "  cudnn              conda-forge/linux-64::cudnn-8.1.0.77-h90431f1_0\n",
            "  cugraph            rapidsai/linux-64::cugraph-0.19.0-py37_gd72b90b0_0\n",
            "  cuml               rapidsai/linux-64::cuml-0.19.0-cuda11.0_py37_g4cb78ff1a_0\n",
            "  cupy               conda-forge/linux-64::cupy-8.6.0-py37h4fdb0f7_0\n",
            "  curl               conda-forge/linux-64::curl-7.71.1-he644dc0_3\n",
            "  cusignal           rapidsai/noarch::cusignal-0.19.0-py38_g347b95a_0\n",
            "  cuspatial          rapidsai/linux-64::cuspatial-0.19.0-py37_gdf1d93c_0\n",
            "  cutensor           conda-forge/linux-64::cutensor-1.2.2.5-h96e36e3_3\n",
            "  cytoolz            conda-forge/linux-64::cytoolz-0.11.0-py37h5e8e339_3\n",
            "  dask               conda-forge/noarch::dask-2021.4.0-pyhd8ed1ab_0\n",
            "  dask-core          conda-forge/noarch::dask-core-2021.4.0-pyhd8ed1ab_0\n",
            "  dask-cuda          rapidsai/linux-64::dask-cuda-0.19.0-py37_0\n",
            "  dask-cudf          rapidsai/linux-64::dask-cudf-0.19.2-py37_gab3b3f653a_0\n",
            "  decorator          conda-forge/noarch::decorator-5.0.7-pyhd8ed1ab_0\n",
            "  distributed        conda-forge/linux-64::distributed-2021.4.0-py37h89c1867_0\n",
            "  dlpack             conda-forge/linux-64::dlpack-0.3-he1b5a44_1\n",
            "  expat              conda-forge/linux-64::expat-2.2.9-he1b5a44_2\n",
            "  faiss-proc         rapidsai/linux-64::faiss-proc-1.0.0-cuda\n",
            "  fastavro           conda-forge/linux-64::fastavro-1.4.0-py37h5e8e339_0\n",
            "  fastrlock          conda-forge/linux-64::fastrlock-0.5-py37h3340039_1\n",
            "  fontconfig         conda-forge/linux-64::fontconfig-2.13.1-hba837de_1005\n",
            "  freetype           conda-forge/linux-64::freetype-2.10.4-h0708190_1\n",
            "  freexl             conda-forge/linux-64::freexl-1.0.6-h7f98852_0\n",
            "  fsspec             conda-forge/noarch::fsspec-2021.4.0-pyhd8ed1ab_0\n",
            "  gcsfs              conda-forge/noarch::gcsfs-2021.4.0-pyhd8ed1ab_0\n",
            "  gdal               conda-forge/linux-64::gdal-3.2.0-py37h6bca1a1_0\n",
            "  geos               conda-forge/linux-64::geos-3.8.1-he1b5a44_0\n",
            "  geotiff            conda-forge/linux-64::geotiff-1.6.0-h5d11630_3\n",
            "  gflags             conda-forge/linux-64::gflags-2.2.2-he1b5a44_1004\n",
            "  giflib             conda-forge/linux-64::giflib-5.2.1-h36c2ea0_2\n",
            "  glib               pkgs/main/linux-64::glib-2.68.1-h36276a3_0\n",
            "  glog               conda-forge/linux-64::glog-0.4.0-h49b9bf7_3\n",
            "  google-api-core    conda-forge/noarch::google-api-core-1.26.3-pyhd8ed1ab_0\n",
            "  google-api-core-g~ conda-forge/noarch::google-api-core-grpc-1.26.3-hd8ed1ab_0\n",
            "  google-auth        conda-forge/noarch::google-auth-1.25.0-pyh44b312d_0\n",
            "  google-auth-oauth~ conda-forge/noarch::google-auth-oauthlib-0.4.4-pyhd8ed1ab_0\n",
            "  google-cloud-bigq~ conda-forge/noarch::google-cloud-bigquery-2.11.0-pyhd3deb0d_0\n",
            "  google-cloud-bigq~ conda-forge/noarch::google-cloud-bigquery-core-2.11.0-pyhd3deb0d_0\n",
            "  google-cloud-bigq~ conda-forge/noarch::google-cloud-bigquery-storage-core-2.0.0-pyh9f0ad1d_1\n",
            "  google-cloud-core  conda-forge/noarch::google-cloud-core-1.5.0-pyhd3deb0d_0\n",
            "  google-crc32c      conda-forge/linux-64::google-crc32c-1.1.2-py37hab72019_0\n",
            "  google-resumable-~ conda-forge/noarch::google-resumable-media-1.2.0-pyhd3deb0d_0\n",
            "  googleapis-common~ conda-forge/linux-64::googleapis-common-protos-1.53.0-py37h89c1867_0\n",
            "  grpc-cpp           conda-forge/linux-64::grpc-cpp-1.33.2-h1870a98_1\n",
            "  grpcio             conda-forge/linux-64::grpcio-1.33.2-py37haffed2e_2\n",
            "  hdf4               conda-forge/linux-64::hdf4-4.2.13-hf30be14_1003\n",
            "  hdf5               conda-forge/linux-64::hdf5-1.10.6-nompi_h7c3c948_1111\n",
            "  heapdict           conda-forge/noarch::heapdict-1.0.1-py_0\n",
            "  icu                conda-forge/linux-64::icu-67.1-he1b5a44_0\n",
            "  ipython            conda-forge/linux-64::ipython-7.23.1-py37h085eea5_0\n",
            "  ipython_genutils   conda-forge/noarch::ipython_genutils-0.2.0-py_1\n",
            "  jedi               conda-forge/linux-64::jedi-0.18.0-py37h89c1867_2\n",
            "  jinja2             conda-forge/noarch::jinja2-3.0.0-pyhd8ed1ab_0\n",
            "  joblib             conda-forge/noarch::joblib-1.0.1-pyhd8ed1ab_0\n",
            "  jpeg               conda-forge/linux-64::jpeg-9d-h36c2ea0_0\n",
            "  json-c             conda-forge/linux-64::json-c-0.13.1-hbfbb72e_1002\n",
            "  kealib             conda-forge/linux-64::kealib-1.4.13-h33137a7_1\n",
            "  krb5               conda-forge/linux-64::krb5-1.17.2-h926e7f8_0\n",
            "  lcms2              conda-forge/linux-64::lcms2-2.11-hcbb858e_1\n",
            "  libblas            conda-forge/linux-64::libblas-3.8.0-17_openblas\n",
            "  libcblas           conda-forge/linux-64::libcblas-3.8.0-17_openblas\n",
            "  libcrc32c          conda-forge/linux-64::libcrc32c-1.1.1-he1b5a44_2\n",
            "  libcst             conda-forge/linux-64::libcst-0.3.19-py37h89c1867_0\n",
            "  libcudf            rapidsai/linux-64::libcudf-0.19.2-cuda11.0_gab3b3f653a_0\n",
            "  libcugraph         rapidsai/linux-64::libcugraph-0.19.0-cuda11.0_gd72b90b0_0\n",
            "  libcuml            rapidsai/linux-64::libcuml-0.19.0-cuda11.0_g4cb78ff1a_0\n",
            "  libcumlprims       nvidia/linux-64::libcumlprims-0.19.0-cuda11.0_ga2abf9f_0\n",
            "  libcurl            conda-forge/linux-64::libcurl-7.71.1-hcdd3856_3\n",
            "  libcuspatial       rapidsai/linux-64::libcuspatial-0.19.0-cuda11.0_gdf1d93c_0\n",
            "  libdap4            conda-forge/linux-64::libdap4-3.20.6-h1d1bd15_1\n",
            "  libevent           conda-forge/linux-64::libevent-2.1.10-hcdb4288_3\n",
            "  libfaiss           conda-forge/linux-64::libfaiss-1.7.0-cuda110h8045045_8_cuda\n",
            "  libgdal            conda-forge/linux-64::libgdal-3.2.0-h24f7f85_0\n",
            "  libgfortran-ng     conda-forge/linux-64::libgfortran-ng-7.5.0-h14aa051_19\n",
            "  libgfortran4       conda-forge/linux-64::libgfortran4-7.5.0-h14aa051_19\n",
            "  libhwloc           conda-forge/linux-64::libhwloc-2.3.0-h5e5b7d1_1\n",
            "  libiconv           conda-forge/linux-64::libiconv-1.16-h516909a_0\n",
            "  libkml             conda-forge/linux-64::libkml-1.3.0-hd79254b_1012\n",
            "  liblapack          conda-forge/linux-64::liblapack-3.8.0-17_openblas\n",
            "  liblapacke         conda-forge/linux-64::liblapacke-3.8.0-17_openblas\n",
            "  libllvm10          conda-forge/linux-64::libllvm10-10.0.1-he513fc3_3\n",
            "  libnetcdf          conda-forge/linux-64::libnetcdf-4.7.4-nompi_h56d31a8_107\n",
            "  libopenblas        conda-forge/linux-64::libopenblas-0.3.10-pthreads_hb3c22a3_5\n",
            "  libpng             conda-forge/linux-64::libpng-1.6.37-h21135ba_2\n",
            "  libpq              conda-forge/linux-64::libpq-12.3-h255efa7_3\n",
            "  libprotobuf        conda-forge/linux-64::libprotobuf-3.13.0.1-h8b12597_0\n",
            "  librmm             rapidsai/linux-64::librmm-0.19.0-cuda11.0_g7065af3_0\n",
            "  libspatialite      conda-forge/linux-64::libspatialite-5.0.0-h4dde289_0\n",
            "  libssh2            conda-forge/linux-64::libssh2-1.9.0-ha56f1ee_6\n",
            "  libthrift          conda-forge/linux-64::libthrift-0.13.0-h5aa387f_6\n",
            "  libtiff            conda-forge/linux-64::libtiff-4.1.0-h4f3a223_6\n",
            "  libutf8proc        conda-forge/linux-64::libutf8proc-2.6.1-h7f98852_0\n",
            "  libuuid            conda-forge/linux-64::libuuid-2.32.1-h7f98852_1000\n",
            "  libwebp-base       conda-forge/linux-64::libwebp-base-1.2.0-h7f98852_2\n",
            "  libxcb             conda-forge/linux-64::libxcb-1.13-h7f98852_1003\n",
            "  libxgboost         rapidsai/linux-64::libxgboost-1.4.0dev.rapidsai0.19-cuda11.0_0\n",
            "  libxml2            conda-forge/linux-64::libxml2-2.9.10-h68273f3_2\n",
            "  llvm-openmp        conda-forge/linux-64::llvm-openmp-11.1.0-h4bd325d_1\n",
            "  llvmlite           conda-forge/linux-64::llvmlite-0.34.0-py37h5202443_2\n",
            "  locket             conda-forge/noarch::locket-0.2.0-py_2\n",
            "  lz4-c              conda-forge/linux-64::lz4-c-1.9.2-he1b5a44_3\n",
            "  markupsafe         conda-forge/linux-64::markupsafe-2.0.0-py37h5e8e339_0\n",
            "  matplotlib-inline  conda-forge/noarch::matplotlib-inline-0.1.2-pyhd8ed1ab_2\n",
            "  msgpack-python     conda-forge/linux-64::msgpack-python-1.0.0-py37hc928c03_2\n",
            "  multidict          conda-forge/linux-64::multidict-5.1.0-py37h5e8e339_1\n",
            "  mypy_extensions    conda-forge/linux-64::mypy_extensions-0.4.3-py37h89c1867_3\n",
            "  nccl               conda-forge/linux-64::nccl-2.9.8.1-h96e36e3_0\n",
            "  numba              conda-forge/linux-64::numba-0.51.2-py37h9fdb41a_0\n",
            "  numpy              conda-forge/linux-64::numpy-1.19.5-py37haa41c4c_1\n",
            "  nvtx               conda-forge/linux-64::nvtx-0.2.3-py37h5e8e339_0\n",
            "  oauthlib           conda-forge/noarch::oauthlib-3.0.1-py_0\n",
            "  olefile            conda-forge/noarch::olefile-0.46-pyh9f0ad1d_1\n",
            "  openjpeg           conda-forge/linux-64::openjpeg-2.3.1-h981e76c_3\n",
            "  orc                conda-forge/linux-64::orc-1.6.5-hd3605a7_0\n",
            "  packaging          conda-forge/noarch::packaging-20.9-pyh44b312d_0\n",
            "  pandas             conda-forge/linux-64::pandas-1.1.4-py37h10a2094_0\n",
            "  pandas-gbq         conda-forge/noarch::pandas-gbq-0.15.0-pyh44b312d_0\n",
            "  parquet-cpp        conda-forge/noarch::parquet-cpp-1.5.1-2\n",
            "  parso              conda-forge/noarch::parso-0.8.2-pyhd8ed1ab_0\n",
            "  partd              conda-forge/noarch::partd-1.2.0-pyhd8ed1ab_0\n",
            "  pcre               conda-forge/linux-64::pcre-8.44-he1b5a44_0\n",
            "  pexpect            conda-forge/noarch::pexpect-4.8.0-pyh9f0ad1d_2\n",
            "  pickleshare        conda-forge/noarch::pickleshare-0.7.5-py_1003\n",
            "  pillow             conda-forge/linux-64::pillow-8.1.0-py37he6b4880_1\n",
            "  pixman             conda-forge/linux-64::pixman-0.38.0-h516909a_1003\n",
            "  poppler            conda-forge/linux-64::poppler-0.89.0-h669c267_1\n",
            "  poppler-data       conda-forge/noarch::poppler-data-0.4.10-0\n",
            "  postgresql         conda-forge/linux-64::postgresql-12.3-hc2f5b80_3\n",
            "  proj               conda-forge/linux-64::proj-7.1.1-h966b41f_3\n",
            "  prompt-toolkit     conda-forge/noarch::prompt-toolkit-3.0.18-pyha770c72_0\n",
            "  proto-plus         conda-forge/noarch::proto-plus-1.18.1-pyhd8ed1ab_0\n",
            "  protobuf           conda-forge/linux-64::protobuf-3.13.0.1-py37h745909e_1\n",
            "  psutil             conda-forge/linux-64::psutil-5.8.0-py37h5e8e339_1\n",
            "  pthread-stubs      conda-forge/linux-64::pthread-stubs-0.4-h36c2ea0_1001\n",
            "  ptyprocess         conda-forge/noarch::ptyprocess-0.7.0-pyhd3deb0d_0\n",
            "  py-xgboost         rapidsai/linux-64::py-xgboost-1.4.0dev.rapidsai0.19-cuda11.0py37_0\n",
            "  pyarrow            conda-forge/linux-64::pyarrow-1.0.1-py37hbeecfa9_16_cuda\n",
            "  pyasn1             conda-forge/noarch::pyasn1-0.4.8-py_0\n",
            "  pyasn1-modules     conda-forge/noarch::pyasn1-modules-0.2.7-py_0\n",
            "  pydata-google-auth conda-forge/noarch::pydata-google-auth-1.2.0-pyhd8ed1ab_0\n",
            "  pygments           conda-forge/noarch::pygments-2.9.0-pyhd8ed1ab_0\n",
            "  pyjwt              conda-forge/noarch::pyjwt-2.0.1-pyhd8ed1ab_0\n",
            "  pynvml             conda-forge/noarch::pynvml-8.0.4-py_1\n",
            "  pyparsing          conda-forge/noarch::pyparsing-2.4.7-pyh9f0ad1d_0\n",
            "  python-dateutil    conda-forge/noarch::python-dateutil-2.8.1-py_0\n",
            "  python_abi         conda-forge/linux-64::python_abi-3.7-1_cp37m\n",
            "  pytz               conda-forge/noarch::pytz-2021.1-pyhd8ed1ab_0\n",
            "  pyyaml             conda-forge/linux-64::pyyaml-5.4.1-py37h5e8e339_0\n",
            "  re2                conda-forge/linux-64::re2-2020.11.01-h58526e2_0\n",
            "  requests-oauthlib  conda-forge/noarch::requests-oauthlib-1.3.0-pyh9f0ad1d_0\n",
            "  rmm                rapidsai/linux-64::rmm-0.19.0-cuda_11.0_py37_g7065af3_0\n",
            "  rsa                conda-forge/noarch::rsa-4.7.2-pyh44b312d_0\n",
            "  scikit-learn       conda-forge/linux-64::scikit-learn-0.23.2-py37hddcf8d6_3\n",
            "  scipy              pkgs/main/linux-64::scipy-1.6.2-py37hf56f3a7_1\n",
            "  snappy             conda-forge/linux-64::snappy-1.1.8-he1b5a44_3\n",
            "  sortedcontainers   conda-forge/noarch::sortedcontainers-2.3.0-pyhd8ed1ab_0\n",
            "  spdlog             conda-forge/linux-64::spdlog-1.7.0-hc9558a2_2\n",
            "  tblib              conda-forge/noarch::tblib-1.7.0-pyhd8ed1ab_0\n",
            "  threadpoolctl      conda-forge/noarch::threadpoolctl-2.1.0-pyh5ca1d4c_0\n",
            "  tiledb             conda-forge/linux-64::tiledb-2.1.5-h17508cd_0\n",
            "  toolz              conda-forge/noarch::toolz-0.11.1-py_0\n",
            "  tornado            conda-forge/linux-64::tornado-6.1-py37h5e8e339_1\n",
            "  traitlets          conda-forge/noarch::traitlets-5.0.5-py_0\n",
            "  treelite           conda-forge/linux-64::treelite-1.1.0-py37hfdac9b6_0\n",
            "  typing-extensions  conda-forge/noarch::typing-extensions-3.7.4.3-0\n",
            "  typing_extensions  conda-forge/noarch::typing_extensions-3.7.4.3-py_0\n",
            "  typing_inspect     conda-forge/noarch::typing_inspect-0.6.0-pyh9f0ad1d_0\n",
            "  tzcode             conda-forge/linux-64::tzcode-2021a-h7f98852_1\n",
            "  ucx                rapidsai/linux-64::ucx-1.9.0+gcd9efd3-cuda11.0_0\n",
            "  ucx-proc           rapidsai/linux-64::ucx-proc-1.0.0-gpu\n",
            "  ucx-py             rapidsai/linux-64::ucx-py-0.19.0-py37_gcd9efd3_0\n",
            "  ujson              conda-forge/linux-64::ujson-4.0.1-py37h3340039_1\n",
            "  wcwidth            conda-forge/noarch::wcwidth-0.2.5-pyh9f0ad1d_2\n",
            "  xerces-c           conda-forge/linux-64::xerces-c-3.2.3-hfe33f54_1\n",
            "  xgboost            rapidsai/linux-64::xgboost-1.4.0dev.rapidsai0.19-cuda11.0py37_0\n",
            "  xorg-kbproto       conda-forge/linux-64::xorg-kbproto-1.0.7-h7f98852_1002\n",
            "  xorg-libice        conda-forge/linux-64::xorg-libice-1.0.10-h7f98852_0\n",
            "  xorg-libsm         conda-forge/linux-64::xorg-libsm-1.2.3-hd9c2040_1000\n",
            "  xorg-libx11        conda-forge/linux-64::xorg-libx11-1.7.0-h7f98852_0\n",
            "  xorg-libxau        conda-forge/linux-64::xorg-libxau-1.0.9-h7f98852_0\n",
            "  xorg-libxdmcp      conda-forge/linux-64::xorg-libxdmcp-1.1.3-h7f98852_0\n",
            "  xorg-libxext       conda-forge/linux-64::xorg-libxext-1.3.4-h7f98852_1\n",
            "  xorg-libxrender    conda-forge/linux-64::xorg-libxrender-0.9.10-h7f98852_1003\n",
            "  xorg-renderproto   conda-forge/linux-64::xorg-renderproto-0.11.1-h7f98852_1002\n",
            "  xorg-xextproto     conda-forge/linux-64::xorg-xextproto-7.3.0-h7f98852_1002\n",
            "  xorg-xproto        conda-forge/linux-64::xorg-xproto-7.0.31-h7f98852_1007\n",
            "  yarl               conda-forge/linux-64::yarl-1.6.3-py37h5e8e339_1\n",
            "  zict               conda-forge/noarch::zict-2.0.0-py_0\n",
            "  zstd               conda-forge/linux-64::zstd-1.4.5-h6597ccf_2\n",
            "\n",
            "The following packages will be UPDATED:\n",
            "\n",
            "  ca-certificates    pkgs/main::ca-certificates-2020.10.14~ --> conda-forge::ca-certificates-2020.12.5-ha878542_0\n",
            "  certifi            pkgs/main/noarch::certifi-2020.6.20-p~ --> conda-forge/linux-64::certifi-2020.12.5-py37h89c1867_1\n",
            "  conda               pkgs/main::conda-4.9.2-py37h06a4308_0 --> conda-forge::conda-4.10.1-py37h89c1867_0\n",
            "  libgcc-ng           pkgs/main::libgcc-ng-9.1.0-hdf63c60_0 --> conda-forge::libgcc-ng-9.3.0-h2828fa1_19\n",
            "  openssl              pkgs/main::openssl-1.1.1h-h7b6447c_0 --> conda-forge::openssl-1.1.1k-h7f98852_0\n",
            "  python                                   3.7.9-h7579374_0 --> 3.7.10-hdb3f193_0\n",
            "\n",
            "The following packages will be SUPERSEDED by a higher-priority channel:\n",
            "\n",
            "  _libgcc_mutex           pkgs/main::_libgcc_mutex-0.1-main --> conda-forge::_libgcc_mutex-0.1-conda_forge\n",
            "\n",
            "\n",
            "\n",
            "Downloading and Extracting Packages\n",
            "xorg-libxext-1.3.4   | 54 KB     | : 100% 1.0/1 [00:00<00:00, 11.30it/s]\n",
            "jedi-0.18.0          | 923 KB    | : 100% 1.0/1 [00:00<00:00,  2.03it/s]\n",
            "libllvm10-10.0.1     | 26.4 MB   | : 100% 1.0/1 [00:04<00:00,  4.47s/it]               \n",
            "libdap4-3.20.6       | 7.9 MB    | : 100% 1.0/1 [00:01<00:00,  1.27s/it]              \n",
            "libcudf-0.19.2       | 181.5 MB  | : 100% 1.0/1 [00:31<00:00, 31.71s/it]               \n",
            "glib-2.68.1          | 3.0 MB    | : 100% 1.0/1 [00:00<00:00,  3.56it/s]\n",
            "zstd-1.4.5           | 712 KB    | : 100% 1.0/1 [00:00<00:00,  6.90it/s]\n",
            "xorg-libx11-1.7.0    | 923 KB    | : 100% 1.0/1 [00:00<00:00,  4.70it/s]\n",
            "google-cloud-bigquer | 10 KB     | : 100% 1.0/1 [00:00<00:00, 27.07it/s]\n",
            "llvm-openmp-11.1.0   | 4.7 MB    | : 100% 1.0/1 [00:00<00:00,  1.28it/s]\n",
            "pthread-stubs-0.4    | 5 KB      | : 100% 1.0/1 [00:00<00:00, 36.70it/s]\n",
            "google-api-core-1.26 | 59 KB     | : 100% 1.0/1 [00:00<00:00, 22.13it/s]\n",
            "cuml-0.19.0          | 70.5 MB   | : 100% 1.0/1 [00:17<00:00, 17.89s/it]               \n",
            "dask-core-2021.4.0   | 718 KB    | : 100% 1.0/1 [00:00<00:00,  4.67it/s]\n",
            "python_abi-3.7       | 4 KB      | : 100% 1.0/1 [00:00<00:00, 32.87it/s]\n",
            "hdf5-1.10.6          | 3.1 MB    | : 100% 1.0/1 [00:00<00:00,  2.02it/s]\n",
            "gdal-3.2.0           | 1.3 MB    | : 100% 1.0/1 [00:00<00:00,  3.63it/s]\n",
            "geos-3.8.1           | 1.0 MB    | : 100% 1.0/1 [00:00<00:00,  3.63it/s]\n",
            "joblib-1.0.1         | 206 KB    | : 100% 1.0/1 [00:00<00:00, 11.29it/s]\n",
            "expat-2.2.9          | 191 KB    | : 100% 1.0/1 [00:00<00:00, 13.75it/s]\n",
            "libutf8proc-2.6.1    | 95 KB     | : 100% 1.0/1 [00:00<00:00, 24.14it/s]\n",
            "pixman-0.38.0        | 594 KB    | : 100% 1.0/1 [00:00<00:00,  7.81it/s]\n",
            "freetype-2.10.4      | 890 KB    | : 100% 1.0/1 [00:00<00:00,  5.45it/s]\n",
            "aws-c-event-stream-0 | 25 KB     | : 100% 1.0/1 [00:00<00:00, 33.43it/s]\n",
            "pillow-8.1.0         | 676 KB    | : 100% 1.0/1 [00:00<00:00,  6.56it/s]\n",
            "jinja2-3.0.0         | 98 KB     | : 100% 1.0/1 [00:00<00:00, 18.58it/s]\n",
            "decorator-5.0.7      | 11 KB     | : 100% 1.0/1 [00:00<00:00, 26.15it/s]\n",
            "typing_inspect-0.6.0 | 11 KB     | : 100% 1.0/1 [00:00<00:00, 35.36it/s]\n",
            "libxcb-1.13          | 395 KB    | : 100% 1.0/1 [00:00<00:00,  4.44it/s]\n",
            "async-timeout-3.0.1  | 11 KB     | : 100% 1.0/1 [00:00<00:00, 36.02it/s]\n",
            "gflags-2.2.2         | 114 KB    | : 100% 1.0/1 [00:00<00:00, 21.40it/s]\n",
            "typing-extensions-3. | 8 KB      | : 100% 1.0/1 [00:00<00:00, 32.27it/s]\n",
            "ujson-4.0.1          | 47 KB     | : 100% 1.0/1 [00:00<00:00, 28.06it/s]\n",
            "pandas-1.1.4         | 10.5 MB   | : 100% 1.0/1 [00:02<00:00,  2.30s/it]\n",
            "google-cloud-bigquer | 139 KB    | : 100% 1.0/1 [00:00<00:00, 14.41it/s]\n",
            "gcsfs-2021.4.0       | 24 KB     | : 100% 1.0/1 [00:00<00:00, 28.49it/s]\n",
            "libiconv-1.16        | 1.4 MB    | : 100% 1.0/1 [00:00<00:00,  4.80it/s]\n",
            "libpq-12.3           | 2.6 MB    | : 100% 1.0/1 [00:00<00:00,  1.76it/s]\n",
            "fsspec-2021.4.0      | 75 KB     | : 100% 1.0/1 [00:00<00:00, 18.79it/s]\n",
            "locket-0.2.0         | 6 KB      | : 100% 1.0/1 [00:00<00:00, 41.60it/s]\n",
            "ucx-proc-1.0.0       | 9 KB      | : 100% 1.0/1 [00:00<00:00,  1.20it/s]\n",
            "jpeg-9d              | 264 KB    | : 100% 1.0/1 [00:00<00:00, 12.93it/s]\n",
            "google-auth-oauthlib | 19 KB     | : 100% 1.0/1 [00:00<00:00, 32.08it/s]\n",
            "brotli-1.0.9         | 395 KB    | : 100% 1.0/1 [00:00<00:00, 12.47it/s]\n",
            "fontconfig-2.13.1    | 357 KB    | : 100% 1.0/1 [00:00<00:00, 10.71it/s]\n",
            "xerces-c-3.2.3       | 1.7 MB    | : 100% 1.0/1 [00:00<00:00,  2.29it/s]\n",
            "ipython_genutils-0.2 | 21 KB     | : 100% 1.0/1 [00:00<00:00, 23.76it/s]\n",
            "bzip2-1.0.8          | 484 KB    | : 100% 1.0/1 [00:00<00:00,  9.19it/s]\n",
            "cachetools-4.2.2     | 12 KB     | : 100% 1.0/1 [00:00<00:00, 35.60it/s]\n",
            "libcst-0.3.19        | 722 KB    | : 100% 1.0/1 [00:00<00:00,  3.83it/s]\n",
            "pyyaml-5.4.1         | 189 KB    | : 100% 1.0/1 [00:00<00:00, 15.74it/s]\n",
            "numpy-1.19.5         | 5.3 MB    | : 100% 1.0/1 [00:01<00:00,  1.14s/it]\n",
            "pyparsing-2.4.7      | 60 KB     | : 100% 1.0/1 [00:00<00:00, 28.27it/s]\n",
            "xorg-libxrender-0.9. | 32 KB     | : 100% 1.0/1 [00:00<00:00, 31.57it/s]\n",
            "proj-7.1.1           | 2.5 MB    | : 100% 1.0/1 [00:00<00:00,  2.13it/s]\n",
            "pynvml-8.0.4         | 31 KB     | : 100% 1.0/1 [00:00<00:00, 29.71it/s]\n",
            "olefile-0.46         | 32 KB     | : 100% 1.0/1 [00:00<00:00, 33.67it/s]\n",
            "packaging-20.9       | 35 KB     | : 100% 1.0/1 [00:00<00:00, 30.74it/s]\n",
            "liblapacke-3.8.0     | 11 KB     | : 100% 1.0/1 [00:00<00:00, 40.61it/s]\n",
            "dask-cudf-0.19.2     | 97 KB     | : 100% 1.0/1 [00:00<00:00,  1.31it/s]\n",
            "libblas-3.8.0        | 11 KB     | : 100% 1.0/1 [00:00<00:00, 37.53it/s]\n",
            "kealib-1.4.13        | 172 KB    | : 100% 1.0/1 [00:00<00:00, 18.35it/s]\n",
            "ca-certificates-2020 | 137 KB    | : 100% 1.0/1 [00:00<00:00, 22.36it/s]\n",
            "xorg-libxdmcp-1.1.3  | 19 KB     | : 100% 1.0/1 [00:00<00:00, 32.20it/s]\n",
            "openjpeg-2.3.1       | 475 KB    | : 100% 1.0/1 [00:00<00:00,  9.92it/s]\n",
            "partd-1.2.0          | 18 KB     | : 100% 1.0/1 [00:00<00:00, 35.04it/s]\n",
            "arrow-cpp-proc-3.0.0 | 24 KB     | : 100% 1.0/1 [00:00<00:00, 32.41it/s]\n",
            "cudf-0.19.2          | 93.2 MB   | : 100% 1.0/1 [00:20<00:00, 20.38s/it]               \n",
            "libpng-1.6.37        | 306 KB    | : 100% 1.0/1 [00:00<00:00, 12.13it/s]\n",
            "libwebp-base-1.2.0   | 815 KB    | : 100% 1.0/1 [00:00<00:00,  5.93it/s]\n",
            "google-resumable-med | 40 KB     | : 100% 1.0/1 [00:00<00:00, 26.12it/s]\n",
            "liblapack-3.8.0      | 11 KB     | : 100% 1.0/1 [00:00<00:00, 33.94it/s]\n",
            "libxml2-2.9.10       | 1.3 MB    | : 100% 1.0/1 [00:00<00:00,  2.87it/s]\n",
            "pcre-8.44            | 261 KB    | : 100% 1.0/1 [00:00<00:00, 13.04it/s]\n",
            "cutensor-1.2.2.5     | 88.7 MB   | : 100% 1.0/1 [00:13<00:00, 13.24s/it]               \n",
            "arrow-cpp-1.0.1      | 20.4 MB   | : 100% 1.0/1 [00:03<00:00,  3.50s/it]              \n",
            "libcuml-0.19.0       | 98.1 MB   | : 100% 1.0/1 [00:17<00:00, 17.29s/it] \n",
            "zict-2.0.0           | 10 KB     | : 100% 1.0/1 [00:00<00:00, 19.42it/s]\n",
            "nvtx-0.2.3           | 55 KB     | : 100% 1.0/1 [00:00<00:00, 20.71it/s]\n",
            "cudatoolkit-11.0.221 | 953.0 MB  | : 100% 1.0/1 [02:05<00:00, 125.90s/it]\n",
            "pyasn1-modules-0.2.7 | 60 KB     | : 100% 1.0/1 [00:00<00:00, 17.02it/s]\n",
            "xorg-kbproto-1.0.7   | 27 KB     | : 100% 1.0/1 [00:00<00:00, 27.75it/s]\n",
            "faiss-proc-1.0.0     | 24 KB     | : 100% 1.0/1 [00:00<00:00,  1.13it/s]               \n",
            "protobuf-3.13.0.1    | 704 KB    | : 100% 1.0/1 [00:00<00:00,  4.57it/s]\n",
            "fastavro-1.4.0       | 499 KB    | : 100% 1.0/1 [00:00<00:00,  8.34it/s]\n",
            "cairo-1.16.0         | 1.5 MB    | : 100% 1.0/1 [00:00<00:00,  3.03it/s]\n",
            "pexpect-4.8.0        | 47 KB     | : 100% 1.0/1 [00:00<00:00, 25.96it/s]\n",
            "json-c-0.13.1        | 76 KB     | : 100% 1.0/1 [00:00<00:00, 22.96it/s]\n",
            "matplotlib-inline-0. | 11 KB     | : 100% 1.0/1 [00:00<00:00, 29.40it/s]\n",
            "pyarrow-1.0.1        | 2.2 MB    | : 100% 1.0/1 [00:00<00:00,  2.22it/s]\n",
            "threadpoolctl-2.1.0  | 15 KB     | : 100% 1.0/1 [00:00<00:00, 33.02it/s]\n",
            "google-cloud-core-1. | 26 KB     | : 100% 1.0/1 [00:00<00:00, 31.81it/s]\n",
            "libgfortran-ng-7.5.0 | 22 KB     | : 100% 1.0/1 [00:00<00:00, 28.82it/s]\n",
            "certifi-2020.12.5    | 143 KB    | : 100% 1.0/1 [00:00<00:00, 22.78it/s]\n",
            "treelite-1.1.0       | 2.5 MB    | : 100% 1.0/1 [00:00<00:00,  1.97it/s]\n",
            "libcblas-3.8.0       | 11 KB     | : 100% 1.0/1 [00:00<00:00, 34.83it/s]\n",
            "rsa-4.7.2            | 28 KB     | : 100% 1.0/1 [00:00<00:00, 36.34it/s]\n",
            "backcall-0.2.0       | 13 KB     | : 100% 1.0/1 [00:00<00:00, 31.21it/s]\n",
            "libevent-2.1.10      | 1.1 MB    | : 100% 1.0/1 [00:00<00:00,  3.43it/s]\n",
            "xorg-libxau-1.0.9    | 13 KB     | : 100% 1.0/1 [00:00<00:00, 38.32it/s]\n",
            "attrs-21.2.0         | 44 KB     | : 100% 1.0/1 [00:00<00:00, 30.14it/s]\n",
            "poppler-data-0.4.10  | 3.8 MB    | : 100% 1.0/1 [00:00<00:00,  1.54it/s]\n",
            "python-3.7.10        | 45.2 MB   | : 100% 1.0/1 [00:01<00:00,  1.31s/it]\n",
            "postgresql-12.3      | 5.0 MB    | : 100% 1.0/1 [00:00<00:00,  1.15it/s]\n",
            "libxgboost-1.4.0dev. | 115.3 MB  | : 100% 1.0/1 [00:26<00:00, 26.99s/it]               \n",
            "pandas-gbq-0.15.0    | 23 KB     | : 100% 1.0/1 [00:00<00:00, 27.68it/s]\n",
            "ucx-1.9.0+gcd9efd3   | 8.2 MB    | : 100% 1.0/1 [00:02<00:00,  2.85s/it]\n",
            "libcurl-7.71.1       | 302 KB    | : 100% 1.0/1 [00:00<00:00, 12.77it/s]\n",
            "blinker-1.4          | 13 KB     | : 100% 1.0/1 [00:00<00:00, 37.93it/s]\n",
            "poppler-0.89.0       | 13.4 MB   | : 100% 1.0/1 [00:02<00:00,  2.24s/it]\n",
            "giflib-5.2.1         | 77 KB     | : 100% 1.0/1 [00:00<00:00, 23.02it/s]\n",
            "librmm-0.19.0        | 55 KB     | : 100% 1.0/1 [00:00<00:00,  1.88it/s]                \n",
            "orc-1.6.5            | 731 KB    | : 100% 1.0/1 [00:00<00:00,  6.82it/s]\n",
            "libcugraph-0.19.0    | 163.9 MB  | : 100% 1.0/1 [00:28<00:00, 28.19s/it] \n",
            "aiohttp-3.7.4        | 632 KB    | : 100% 1.0/1 [00:00<00:00,  5.20it/s]\n",
            "dask-2021.4.0        | 4 KB      | : 100% 1.0/1 [00:00<00:00, 41.01it/s]\n",
            "wcwidth-0.2.5        | 33 KB     | : 100% 1.0/1 [00:00<00:00, 24.81it/s]\n",
            "dask-cuda-0.19.0     | 110 KB    | : 100% 1.0/1 [00:01<00:00,  1.11s/it]               \n",
            "prompt-toolkit-3.0.1 | 244 KB    | : 100% 1.0/1 [00:00<00:00, 10.71it/s]\n",
            "lz4-c-1.9.2          | 203 KB    | : 100% 1.0/1 [00:00<00:00, 16.88it/s]\n",
            "traitlets-5.0.5      | 81 KB     | : 100% 1.0/1 [00:00<00:00, 19.70it/s]\n",
            "googleapis-common-pr | 124 KB    | : 100% 1.0/1 [00:00<00:00, 12.56it/s]\n",
            "libcuspatial-0.19.0  | 7.7 MB    | : 100% 1.0/1 [00:02<00:00,  2.14s/it]\n",
            "glog-0.4.0           | 104 KB    | : 100% 1.0/1 [00:00<00:00, 24.52it/s]\n",
            "yarl-1.6.3           | 141 KB    | : 100% 1.0/1 [00:00<00:00,  6.62it/s]                \n",
            "libgcc-ng-9.3.0      | 7.8 MB    | : 100% 1.0/1 [00:01<00:00,  1.28s/it]\n",
            "tzcode-2021a         | 68 KB     | : 100% 1.0/1 [00:00<00:00, 28.68it/s]\n",
            "pyasn1-0.4.8         | 53 KB     | : 100% 1.0/1 [00:00<00:00, 25.11it/s]\n",
            "cytoolz-0.11.0       | 403 KB    | : 100% 1.0/1 [00:00<00:00, 10.15it/s]\n",
            "openssl-1.1.1k       | 2.1 MB    | : 100% 1.0/1 [00:00<00:00,  2.76it/s]\n",
            "backports.functools_ | 9 KB      | : 100% 1.0/1 [00:00<00:00, 31.87it/s]\n",
            "backports-1.0        | 4 KB      | : 100% 1.0/1 [00:00<00:00, 35.68it/s]\n",
            "cuspatial-0.19.0     | 13.8 MB   | : 100% 1.0/1 [00:03<00:00,  3.47s/it]                \n",
            "ipython-7.23.1       | 1.1 MB    | : 100% 1.0/1 [00:00<00:00,  2.65it/s]\n",
            "boost-1.72.0         | 339 KB    | : 100% 1.0/1 [00:00<00:00,  8.12it/s]\n",
            "toolz-0.11.1         | 46 KB     | : 100% 1.0/1 [00:00<00:00, 25.11it/s]\n",
            "cugraph-0.19.0       | 51.7 MB   | : 100% 1.0/1 [00:11<00:00, 11.55s/it]\n",
            "aws-c-common-0.4.59  | 160 KB    | : 100% 1.0/1 [00:00<00:00, 14.19it/s]\n",
            "google-api-core-grpc | 4 KB      | : 100% 1.0/1 [00:00<00:00, 44.17it/s]\n",
            "distributed-2021.4.0 | 1.1 MB    | : 100% 1.0/1 [00:00<00:00,  3.42it/s]\n",
            "re2-2020.11.01       | 226 KB    | : 100% 1.0/1 [00:00<00:00, 17.43it/s]\n",
            "icu-67.1             | 12.9 MB   | : 100% 1.0/1 [00:01<00:00,  1.99s/it]\n",
            "py-xgboost-1.4.0dev. | 150 KB    | : 100% 1.0/1 [00:01<00:00,  1.12s/it]               \n",
            "c-ares-1.17.1        | 109 KB    | : 100% 1.0/1 [00:00<00:00, 20.68it/s]\n",
            "pydata-google-auth-1 | 14 KB     | : 100% 1.0/1 [00:00<00:00, 27.29it/s]\n",
            "hdf4-4.2.13          | 964 KB    | : 100% 1.0/1 [00:00<00:00,  5.06it/s]\n",
            "spdlog-1.7.0         | 410 KB    | : 100% 1.0/1 [00:00<00:00,  7.72it/s]\n",
            "rmm-0.19.0           | 6.4 MB    | : 100% 1.0/1 [00:02<00:00,  2.30s/it]\n",
            "libfaiss-1.7.0       | 67.0 MB   | : 100% 1.0/1 [00:13<00:00, 13.60s/it]              \n",
            "geotiff-1.6.0        | 278 KB    | : 100% 1.0/1 [00:00<00:00, 10.75it/s]\n",
            "aws-checksums-0.1.10 | 50 KB     | : 100% 1.0/1 [00:00<00:00, 31.20it/s]\n",
            "krb5-1.17.2          | 1.4 MB    | : 100% 1.0/1 [00:00<00:00,  3.48it/s]\n",
            "xorg-renderproto-0.1 | 9 KB      | : 100% 1.0/1 [00:00<00:00, 39.01it/s]\n",
            "lcms2-2.11           | 434 KB    | : 100% 1.0/1 [00:00<00:00, 10.70it/s]\n",
            "heapdict-1.0.1       | 7 KB      | : 100% 1.0/1 [00:00<00:00, 40.80it/s]\n",
            "dlpack-0.3           | 13 KB     | : 100% 1.0/1 [00:00<00:00, 39.03it/s]\n",
            "snappy-1.1.8         | 32 KB     | : 100% 1.0/1 [00:00<00:00, 30.63it/s]\n",
            "xorg-xproto-7.0.31   | 73 KB     | : 100% 1.0/1 [00:00<00:00, 17.24it/s]\n",
            "boost-cpp-1.72.0     | 16.3 MB   | : 100% 1.0/1 [00:05<00:00,  5.90s/it]\n",
            "libssh2-1.9.0        | 226 KB    | : 100% 1.0/1 [00:00<00:00, 10.74it/s]\n",
            "ucx-py-0.19.0        | 260 KB    | : 100% 1.0/1 [00:01<00:00,  1.25s/it]\n",
            "libhwloc-2.3.0       | 2.7 MB    | : 100% 1.0/1 [00:00<00:00,  2.45it/s]\n",
            "libthrift-0.13.0     | 3.3 MB    | : 100% 1.0/1 [00:00<00:00,  1.74it/s]\n",
            "requests-oauthlib-1. | 21 KB     | : 100% 1.0/1 [00:00<00:00, 33.16it/s]\n",
            "python-dateutil-2.8. | 220 KB    | : 100% 1.0/1 [00:00<00:00, 18.13it/s]\n",
            "pygments-2.9.0       | 754 KB    | : 100% 1.0/1 [00:00<00:00,  4.08it/s]\n",
            "mypy_extensions-0.4. | 10 KB     | : 100% 1.0/1 [00:00<00:00, 14.04it/s]\n",
            "cloudpickle-1.6.0    | 22 KB     | : 100% 1.0/1 [00:00<00:00, 33.29it/s]\n",
            "libcumlprims-0.19.0  | 1.1 MB    | : 100% 1.0/1 [00:00<00:00,  1.51it/s]\n",
            "tiledb-2.1.5         | 2.2 MB    | : 100% 1.0/1 [00:00<00:00,  1.65it/s]\n",
            "numba-0.51.2         | 3.6 MB    | : 100% 1.0/1 [00:00<00:00,  1.08it/s]\n",
            "libnetcdf-4.7.4      | 1.3 MB    | : 100% 1.0/1 [00:00<00:00,  4.13it/s]\n",
            "libcrc32c-1.1.1      | 20 KB     | : 100% 1.0/1 [00:00<00:00, 37.26it/s]\n",
            "curl-7.71.1          | 140 KB    | : 100% 1.0/1 [00:00<00:00, 17.23it/s]\n",
            "tblib-1.7.0          | 15 KB     | : 100% 1.0/1 [00:00<00:00, 35.45it/s]\n",
            "pickleshare-0.7.5    | 9 KB      | : 100% 1.0/1 [00:00<00:00,  7.90it/s]\n",
            "msgpack-python-1.0.0 | 91 KB     | : 100% 1.0/1 [00:00<00:00, 22.93it/s]\n",
            "scipy-1.6.2          | 15.4 MB   | : 100% 1.0/1 [00:00<00:00,  1.26it/s]\n",
            "proto-plus-1.18.1    | 32 KB     | : 100% 1.0/1 [00:00<00:00, 23.46it/s]\n",
            "google-cloud-bigquer | 5.6 MB    | : 100% 1.0/1 [00:01<00:00,  1.23s/it]\n",
            "click-7.1.2          | 64 KB     | : 100% 1.0/1 [00:00<00:00, 27.06it/s]\n",
            "libtiff-4.1.0        | 618 KB    | : 100% 1.0/1 [00:00<00:00,  7.54it/s]\n",
            "ptyprocess-0.7.0     | 16 KB     | : 100% 1.0/1 [00:00<00:00, 34.81it/s]\n",
            "libgfortran4-7.5.0   | 1.3 MB    | : 100% 1.0/1 [00:00<00:00,  3.69it/s]\n",
            "xorg-libsm-1.2.3     | 26 KB     | : 100% 1.0/1 [00:00<00:00, 37.74it/s]\n",
            "conda-4.10.1         | 3.1 MB    | : 100% 1.0/1 [00:00<00:00,  1.66it/s]\n",
            "google-crc32c-1.1.2  | 24 KB     | : 100% 1.0/1 [00:00<00:00, 26.68it/s]\n",
            "psutil-5.8.0         | 342 KB    | : 100% 1.0/1 [00:00<00:00,  9.76it/s]\n",
            "libopenblas-0.3.10   | 7.8 MB    | : 100% 1.0/1 [00:01<00:00,  1.40s/it]               \n",
            "nccl-2.9.8.1         | 82.4 MB   | : 100% 1.0/1 [00:11<00:00, 11.37s/it]               \n",
            "aws-sdk-cpp-1.8.70   | 2.2 MB    | : 100% 1.0/1 [00:00<00:00,  1.34it/s]\n",
            "blas-2.17            | 11 KB     | : 100% 1.0/1 [00:00<00:00, 34.66it/s]\n",
            "bokeh-2.3.2          | 8.3 MB    | : 100% 1.0/1 [00:02<00:00,  2.25s/it]\n",
            "xorg-xextproto-7.3.0 | 28 KB     | : 100% 1.0/1 [00:00<00:00, 24.56it/s]\n",
            "parquet-cpp-1.5.1    | 3 KB      | : 100% 1.0/1 [00:00<00:00, 36.47it/s]\n",
            "sortedcontainers-2.3 | 26 KB     | : 100% 1.0/1 [00:00<00:00, 28.09it/s]\n",
            "grpc-cpp-1.33.2      | 3.2 MB    | : 100% 1.0/1 [00:00<00:00,  1.63it/s]\n",
            "xgboost-1.4.0dev.rap | 17 KB     | : 100% 1.0/1 [00:00<00:00,  1.11it/s]               \n",
            "xorg-libice-1.0.10   | 58 KB     | : 100% 1.0/1 [00:00<00:00, 29.30it/s]\n",
            "abseil-cpp-20200225. | 915 KB    | : 100% 1.0/1 [00:00<00:00,  4.09it/s]\n",
            "libuuid-2.32.1       | 28 KB     | : 100% 1.0/1 [00:00<00:00, 31.94it/s]\n",
            "pyjwt-2.0.1          | 17 KB     | : 100% 1.0/1 [00:00<00:00, 34.22it/s]\n",
            "google-auth-1.25.0   | 63 KB     | : 100% 1.0/1 [00:00<00:00, 18.90it/s]\n",
            "typing_extensions-3. | 25 KB     | : 100% 1.0/1 [00:00<00:00, 29.11it/s]\n",
            "cupy-8.6.0           | 47.7 MB   | : 100% 1.0/1 [00:07<00:00,  7.39s/it]               \n",
            "llvmlite-0.34.0      | 322 KB    | : 100% 1.0/1 [00:00<00:00, 11.07it/s]\n",
            "freexl-1.0.6         | 48 KB     | : 100% 1.0/1 [00:00<00:00, 25.54it/s]\n",
            "grpcio-1.33.2        | 1.8 MB    | : 100% 1.0/1 [00:00<00:00,  2.73it/s]\n",
            "libkml-1.3.0         | 640 KB    | : 100% 1.0/1 [00:00<00:00,  5.73it/s]\n",
            "libgdal-3.2.0        | 12.0 MB   | : 100% 1.0/1 [00:01<00:00,  2.00s/it]\n",
            "cudnn-8.1.0.77       | 634.8 MB  | : 100% 1.0/1 [01:33<00:00, 93.42s/it]               \n",
            "markupsafe-2.0.0     | 22 KB     | : 100% 1.0/1 [00:00<00:00, 25.42it/s]\n",
            "oauthlib-3.0.1       | 82 KB     | : 100% 1.0/1 [00:00<00:00, 20.57it/s]\n",
            "cusignal-0.19.0      | 893 KB    | : 100% 1.0/1 [00:01<00:00,  1.59s/it]\n",
            "scikit-learn-0.23.2  | 6.8 MB    | : 100% 1.0/1 [00:01<00:00,  1.44s/it]\n",
            "libspatialite-5.0.0  | 3.9 MB    | : 100% 1.0/1 [00:00<00:00,  1.20it/s]\n",
            "fastrlock-0.5        | 31 KB     | : 100% 1.0/1 [00:00<00:00, 33.36it/s]\n",
            "libprotobuf-3.13.0.1 | 2.3 MB    | : 100% 1.0/1 [00:00<00:00,  2.11it/s]\n",
            "cfitsio-3.470        | 1.3 MB    | : 100% 1.0/1 [00:00<00:00,  3.67it/s]\n",
            "_libgcc_mutex-0.1    | 3 KB      | : 100% 1.0/1 [00:00<00:00, 41.52it/s]\n",
            "multidict-5.1.0      | 67 KB     | : 100% 1.0/1 [00:00<00:00, 22.67it/s]\n",
            "pytz-2021.1          | 239 KB    | : 100% 1.0/1 [00:00<00:00,  8.13it/s]\n",
            "tornado-6.1          | 646 KB    | : 100% 1.0/1 [00:00<00:00,  5.20it/s]\n",
            "parso-0.8.2          | 68 KB     | : 100% 1.0/1 [00:00<00:00, 24.86it/s]\n",
            "_openmp_mutex-4.5    | 5 KB      | : 100% 1.0/1 [00:00<00:00, 45.37it/s]\n",
            "Preparing transaction: / \b\b- \b\b\\ \b\b| \b\b/ \b\b- \b\b\\ \b\b| \b\b/ \b\b- \b\b\\ \b\b| \b\b/ \b\b- \b\b\\ \b\b| \b\b/ \b\b- \b\b\\ \b\b| \b\b/ \b\b- \b\b\\ \b\bdone\n",
            "Verifying transaction: / \b\b- \b\b\\ \b\b| \b\b/ \b\b- \b\b\\ \b\b| \b\b/ \b\b- \b\b\\ \b\b| \b\b/ \b\b- \b\b\\ \b\b| \b\b/ \b\b- \b\b\\ \b\b| \b\b/ \b\b- \b\b\\ \b\b| \b\b/ \b\b- \b\b\\ \b\b| \b\b/ \b\b- \b\b\\ \b\b| \b\b/ \b\b- \b\b\\ \b\b| \b\b/ \b\b- \b\b\\ \b\b| \b\b/ \b\b- \b\b\\ \b\b| \b\b/ \b\b- \b\b\\ \b\b| \b\b/ \b\b- \b\b\\ \b\b| \b\b/ \b\b- \b\b\\ \b\b| \b\b/ \b\b- \b\b\\ \b\b| \b\b/ \b\b- \b\b\\ \b\b| \b\b/ \b\b- \b\b\\ \b\b| \b\b/ \b\b- \b\b\\ \b\b| \b\b/ \b\b- \b\b\\ \b\b| \b\b/ \b\b- \b\b\\ \b\b| \b\b/ \b\b- \b\b\\ \b\b| \b\b/ \b\b- \b\b\\ \b\b| \b\b/ \b\b- \b\b\\ \b\b| \b\b/ \b\b- \b\b\\ \b\b| \b\b/ \b\b- \b\b\\ \b\b| \b\b/ \b\b- \b\b\\ \b\b| \b\b/ \b\b- \b\b\\ \b\b| \b\b/ \b\b- \b\b\\ \b\b| \b\b/ \b\b- \b\b\\ \b\b| \b\b/ \b\b- \b\b\\ \b\b| \b\b/ \b\b- \b\b\\ \b\b| \b\b/ \b\b- \b\b\\ \b\b| \b\b/ \b\b- \b\b\\ \b\b| \b\b/ \b\b- \b\b\\ \b\b| \b\b/ \b\b- \b\b\\ \b\b| \b\b/ \b\b- \b\b\\ \b\b| \b\b/ \b\b- \b\b\\ \b\b| \b\b/ \b\b- \b\b\\ \b\b| \b\b/ \b\b- \b\b\\ \b\b| \b\b/ \b\b- \b\b\\ \b\b| \b\b/ \b\b- \b\b\\ \b\b| \b\b/ \b\b- \b\b\\ \b\b| \b\b/ \b\b- \b\b\\ \b\b| \b\b/ \b\b- \b\b\\ \b\b| \b\b/ \b\b- \b\b\\ \b\b| \b\b/ \b\b- \b\b\\ \b\b| \b\b/ \b\b- \b\b\\ \b\b| \b\b/ \b\b- \b\b\\ \b\b| \b\b/ \b\b- \b\b\\ \b\b| \b\b/ \b\b- \b\b\\ \b\b| \b\b/ \b\b- \b\b\\ \b\b| \b\b/ \b\b- \b\b\\ \b\b| \b\b/ \b\b- \b\b\\ \b\b| \b\b/ \b\b- \b\b\\ \b\b| \b\b/ \b\b- \b\b\\ \b\b| \b\b/ \b\b- \b\b\\ \b\b| \b\b/ \b\b- \b\b\\ \b\b| \b\b/ \b\b- \b\b\\ \b\b| \b\b/ \b\b- \b\b\\ \b\b| \b\b/ \b\b- \b\b\\ \b\b| \b\b/ \b\b- \b\b\\ \b\b| \b\b/ \b\b- \b\b\\ \b\b| \b\b/ \b\b- \b\b\\ \b\b| \b\b/ \b\b- \b\b\\ \b\b| \b\b/ \b\b- \b\b\\ \b\b| \b\b/ \b\b- \b\b\\ \b\b| \b\b/ \b\b- \b\b\\ \b\b| \b\b/ \b\b- \b\b\\ \b\b| \b\b/ \b\b- \b\b\\ \b\b| \b\b/ \b\b- \b\b\\ \b\b| \b\b/ \b\b- \b\b\\ \b\b| \b\b/ \b\b- \b\b\\ \b\b| \b\b/ \b\b- \b\b\\ \b\b| \b\b/ \b\b- \b\b\\ \b\b| \b\b/ \b\b- \b\b\\ \b\b| \b\b/ \b\b- \b\b\\ \b\b| \b\b/ \b\b- \b\b\\ \b\b| \b\b/ \b\b- \b\b\\ \b\b| \b\b/ \b\b- \b\b\\ \b\b| \b\b/ \b\b- \b\b\\ \b\b| \b\b/ \b\b- \b\b\\ \b\b| \b\b/ \b\b- \b\b\\ \b\b| \b\b/ \b\b- \b\b\\ \b\b| \b\b/ \b\b- \b\b\\ \b\b| \b\b/ \b\b- \b\bdone\n",
            "Executing transaction: | \b\b/ \b\b- \b\b\\ \b\b| \b\b/ \b\b- \b\b\\ \b\b| \b\b/ \b\b- \b\b\\ \b\b| \b\b/ \b\b- \b\b\\ \b\b| \b\b/ \b\b- \b\b\\ \b\b| \b\b/ \b\b- \b\b\\ \b\b| \b\b/ \b\b- \b\b\\ \b\b| \b\b/ \b\b- \b\b\\ \b\b| \b\b/ \b\b- \b\b\\ By downloading and using the CUDA Toolkit conda packages, you accept the terms and conditions of the CUDA End User License Agreement (EULA): https://docs.nvidia.com/cuda/eula/index.html\n",
            "\n",
            "\b\b| \b\b/ \b\b- \b\b\\ \b\b| By downloading and using the cuDNN conda packages, you accept the terms and conditions of the NVIDIA cuDNN EULA -\n",
            "  https://docs.nvidia.com/deeplearning/cudnn/sla/index.html\n",
            "\n",
            "\b\b/ \b\b- \b\b\\ \b\b| \b\b/ \b\b- By downloading and using the cuTENSOR conda package, you accept the terms\n",
            "and conditions of the NVIDIA cuTENSOR Software License Agreement:\n",
            "https://docs.nvidia.com/cuda/cutensor/license.html\n",
            "\n",
            "\b\b\\ \b\b| \b\b/ \b\b- \b\b\\ \b\b| \b\b/ \b\b- \b\b\\ \b\b| \b\b/ \b\b- \b\b\\ \b\b| \b\b/ \b\b- \b\b\\ \b\b| \b\b/ \b\b- \b\b\\ \b\b| \b\b/ \b\b- \b\b\\ \b\b| \b\b/ \b\b- \b\b\\ \b\b| \b\b/ \b\b- \b\b\\ \b\b| \b\b/ \b\b- \b\b\\ \b\b| \b\b/ \b\b- \b\b\\ \b\b| \b\b/ \b\b- \b\b\\ \b\b| \b\b/ \b\b- \b\b\\ \b\b| \b\b/ \b\b- \b\b\\ \b\b| \b\b/ \b\b- \b\b\\ \b\b| \b\b/ \b\b- \b\b\\ \b\b| \b\b/ \b\b- \b\b\\ \b\b| \b\b/ \b\b- \b\b\\ \b\b| \b\b/ \b\b- \b\b\\ \b\b| \b\b/ \b\b- \b\b\\ \b\b| \b\b/ \b\b- \b\b\\ \b\b| \b\bdone\n",
            "Copying shared object files to /usr/lib\n",
            "Copying /usr/local/lib/libcudf.so to /usr/lib/libcudf.so\n",
            "Copying /usr/local/lib/libnccl.so to /usr/lib/libnccl.so\n",
            "Copying /usr/local/lib/libcuml.so to /usr/lib/libcuml.so\n",
            "Copying /usr/local/lib/libcugraph.so to /usr/lib/libcugraph.so\n",
            "Copying /usr/local/lib/libxgboost.so to /usr/lib/libxgboost.so\n",
            "Copying /usr/local/lib/libcuspatial.so to /usr/lib/libcuspatial.so\n",
            "\n",
            "************************************************\n",
            "Your Google Colab instance has RAPIDS installed!\n",
            "************************************************\n",
            "Copying /usr/local/lib/libcudf.so to /usr/lib/libcudf.so\n",
            "Copying /usr/local/lib/libnccl.so to /usr/lib/libnccl.so\n",
            "Copying /usr/local/lib/libcuml.so to /usr/lib/libcuml.so\n",
            "Copying /usr/local/lib/libcugraph.so to /usr/lib/libcugraph.so\n",
            "Copying /usr/local/lib/libxgboost.so to /usr/lib/libxgboost.so\n",
            "Copying /usr/local/lib/libcuspatial.so to /usr/lib/libcuspatial.so\n",
            "--2021-05-15 00:29:00--  https://vcu-dapt-615.s3.amazonaws.com/covid_19_data.csv\n",
            "Resolving vcu-dapt-615.s3.amazonaws.com (vcu-dapt-615.s3.amazonaws.com)... 52.217.13.252\n",
            "Connecting to vcu-dapt-615.s3.amazonaws.com (vcu-dapt-615.s3.amazonaws.com)|52.217.13.252|:443... connected.\n",
            "HTTP request sent, awaiting response... 200 OK\n",
            "Length: 12422501 (12M) [text/csv]\n",
            "Saving to: ‘covid_19_data.csv’\n",
            "\n",
            "covid_19_data.csv   100%[===================>]  11.85M  12.6MB/s    in 0.9s    \n",
            "\n",
            "2021-05-15 00:29:01 (12.6 MB/s) - ‘covid_19_data.csv’ saved [12422501/12422501]\n",
            "\n"
          ],
          "name": "stdout"
        }
      ]
    },
    {
      "cell_type": "markdown",
      "metadata": {
        "id": "UP-wL-0DfifT"
      },
      "source": [
        "# Understanding and Applying Data Analysis with Python\n"
      ]
    },
    {
      "cell_type": "markdown",
      "metadata": {
        "id": "xaDUNi9efifV"
      },
      "source": [
        "## Outline\n",
        "\n",
        "1. File I/O and working with data in pandas\n",
        "\n",
        "    * Reading, writing, and creating structured data in Python\n",
        "    * Viewing, inspecting, and selecting data\n",
        "    \n",
        "    \n",
        "2. Exploratory data analysis with pandas\n",
        "\n",
        "    * Data cleaning\n",
        "    * Summary statistics\n",
        "    * Data transformations\n",
        "    * Sorting, aggregation, joins and pivots\n",
        "    * Data visualization"
      ]
    },
    {
      "cell_type": "markdown",
      "metadata": {
        "id": "YwHjPNURfifW"
      },
      "source": [
        "## Project Jupyter\n",
        "\n",
        "Project Jupyter exists to develop open-source software, open-standards, and services for interactive computing across dozens of programming languages. Jupyter supports over 40 programming languages, including Python, R, Julia, and Scala.\n",
        "\n",
        "The Jupyter Notebook is an open-source web application that allows you to create and share documents that contain live code, equations, visualizations and narrative text. Uses include: data cleaning and transformation, numerical simulation, statistical modeling, data visualization, machine learning, and much more.\n",
        "\n",
        "Try Jupyter without installing anything: https://jupyter.org/try"
      ]
    },
    {
      "cell_type": "markdown",
      "metadata": {
        "id": "XnapocRdfifW"
      },
      "source": [
        "## Novel Corona Virus 2019 Dataset: day level information on COVID-19 affected cases\n",
        "\n",
        "### About this dataset:\n",
        "\n",
        "https://www.kaggle.com/sudalairajkumar/novel-corona-virus-2019-dataset/data?select=covid_19_data.csv\n",
        "\n",
        "(original: Johns Hopkins Github repository: https://github.com/CSSEGISandData/COVID-19)\n",
        "\n",
        "Name of the file: \"covid_19_data.csv\"\n",
        "\n",
        "Columns description:\n",
        "\n",
        "- **Sno** - Serial number\n",
        "- **ObservationDate** - Date of the observation in MM/DD/YYYY\n",
        "- **Province/State** - Province or state of the observation (Could be empty when missing)\n",
        "- **Country/Region** - Country of observation\n",
        "- **Last Update** - Time in UTC at which the row is updated for the given province or country. (Not standardised and so please clean before using it)\n",
        "- **Confirmed** - Cumulative number of confirmed cases till that date\n",
        "- **Deaths** - Cumulative number of of deaths till that date\n",
        "- **Recovered** - Cumulative number of recovered cases till that date"
      ]
    },
    {
      "cell_type": "markdown",
      "metadata": {
        "id": "6KAj_DrnfifX"
      },
      "source": [
        "## 1. File I/O and working with data in pandas"
      ]
    },
    {
      "cell_type": "markdown",
      "metadata": {
        "id": "f6yr6G7lfifa"
      },
      "source": [
        "### Reading Data"
      ]
    },
    {
      "cell_type": "code",
      "metadata": {
        "id": "BxzXP5USfifb"
      },
      "source": [
        "#To start working with cuDF, we need to import this library:\n",
        "import cudf\n",
        "\n",
        "#We'll also import the Pandas library as well for occassional performance comparisons:\n",
        "import pandas as pd"
      ],
      "execution_count": 2,
      "outputs": []
    },
    {
      "cell_type": "markdown",
      "metadata": {
        "collapsed": true,
        "id": "DroxC_VOfifb"
      },
      "source": [
        "Most of the time, you will be probably working with data that already exists in variety of different formats.\n",
        "By far the most basic of these are CSV or Excel files. This is how you read these files with pandas:"
      ]
    },
    {
      "cell_type": "code",
      "metadata": {
        "id": "vm3bqhg8fifb"
      },
      "source": [
        "#read CSV file in pandas:\n",
        "pd_covid = pd.read_csv('covid_19_data.csv')\n",
        "\n",
        "covid = cudf.from_pandas(pd_covid)"
      ],
      "execution_count": 3,
      "outputs": []
    },
    {
      "cell_type": "markdown",
      "metadata": {
        "id": "NJPjeymIfifb"
      },
      "source": [
        "Let's pause here for a minute, and try to understand what exactly happens once we run **pandas.read_csv** command.\n",
        "\n",
        "Two core objects in pandas are the **DataFrame** and the **Series**.\n",
        "\n",
        "A **DataFrame** is a table. It contains an array of individual entries, each of which has a certain value. Each entry corresponds to a row and a column. The list of row labels used in a DataFrame is known as an Index.\n",
        "\n",
        "In our example above, *covid* is a DataFrame created from 'covid_19_data.csv' file. \n"
      ]
    },
    {
      "cell_type": "code",
      "metadata": {
        "id": "V-50Lp5Xfifc",
        "outputId": "b7f73586-28ca-408c-f3d2-161336e59bec",
        "colab": {
          "base_uri": "https://localhost:8080/",
          "height": 204
        }
      },
      "source": [
        "#We can examine the contents of our DataFrame using the head() command:\n",
        "covid.head()"
      ],
      "execution_count": 15,
      "outputs": [
        {
          "output_type": "execute_result",
          "data": {
            "text/html": [
              "<div>\n",
              "<style scoped>\n",
              "    .dataframe tbody tr th:only-of-type {\n",
              "        vertical-align: middle;\n",
              "    }\n",
              "\n",
              "    .dataframe tbody tr th {\n",
              "        vertical-align: top;\n",
              "    }\n",
              "\n",
              "    .dataframe thead th {\n",
              "        text-align: right;\n",
              "    }\n",
              "</style>\n",
              "<table border=\"1\" class=\"dataframe\">\n",
              "  <thead>\n",
              "    <tr style=\"text-align: right;\">\n",
              "      <th></th>\n",
              "      <th>SNo</th>\n",
              "      <th>ObservationDate</th>\n",
              "      <th>ProvinceState</th>\n",
              "      <th>CountryRegion</th>\n",
              "      <th>LastUpdate</th>\n",
              "      <th>Confirmed</th>\n",
              "      <th>Deaths</th>\n",
              "      <th>Recovered</th>\n",
              "    </tr>\n",
              "  </thead>\n",
              "  <tbody>\n",
              "    <tr>\n",
              "      <th>0</th>\n",
              "      <td>1</td>\n",
              "      <td>01/22/2020</td>\n",
              "      <td>Anhui</td>\n",
              "      <td>Mainland China</td>\n",
              "      <td>1/22/2020 17:00</td>\n",
              "      <td>1.0</td>\n",
              "      <td>0.0</td>\n",
              "      <td>0.0</td>\n",
              "    </tr>\n",
              "    <tr>\n",
              "      <th>1</th>\n",
              "      <td>2</td>\n",
              "      <td>01/22/2020</td>\n",
              "      <td>Beijing</td>\n",
              "      <td>Mainland China</td>\n",
              "      <td>1/22/2020 17:00</td>\n",
              "      <td>14.0</td>\n",
              "      <td>0.0</td>\n",
              "      <td>0.0</td>\n",
              "    </tr>\n",
              "    <tr>\n",
              "      <th>2</th>\n",
              "      <td>3</td>\n",
              "      <td>01/22/2020</td>\n",
              "      <td>Chongqing</td>\n",
              "      <td>Mainland China</td>\n",
              "      <td>1/22/2020 17:00</td>\n",
              "      <td>6.0</td>\n",
              "      <td>0.0</td>\n",
              "      <td>0.0</td>\n",
              "    </tr>\n",
              "    <tr>\n",
              "      <th>3</th>\n",
              "      <td>4</td>\n",
              "      <td>01/22/2020</td>\n",
              "      <td>Fujian</td>\n",
              "      <td>Mainland China</td>\n",
              "      <td>1/22/2020 17:00</td>\n",
              "      <td>1.0</td>\n",
              "      <td>0.0</td>\n",
              "      <td>0.0</td>\n",
              "    </tr>\n",
              "    <tr>\n",
              "      <th>4</th>\n",
              "      <td>5</td>\n",
              "      <td>01/22/2020</td>\n",
              "      <td>Gansu</td>\n",
              "      <td>Mainland China</td>\n",
              "      <td>1/22/2020 17:00</td>\n",
              "      <td>0.0</td>\n",
              "      <td>0.0</td>\n",
              "      <td>0.0</td>\n",
              "    </tr>\n",
              "  </tbody>\n",
              "</table>\n",
              "</div>"
            ],
            "text/plain": [
              "   SNo ObservationDate ProvinceState  ... Confirmed Deaths  Recovered\n",
              "0    1      01/22/2020         Anhui  ...       1.0    0.0        0.0\n",
              "1    2      01/22/2020       Beijing  ...      14.0    0.0        0.0\n",
              "2    3      01/22/2020     Chongqing  ...       6.0    0.0        0.0\n",
              "3    4      01/22/2020        Fujian  ...       1.0    0.0        0.0\n",
              "4    5      01/22/2020         Gansu  ...       0.0    0.0        0.0\n",
              "\n",
              "[5 rows x 8 columns]"
            ]
          },
          "metadata": {
            "tags": []
          },
          "execution_count": 15
        }
      ]
    },
    {
      "cell_type": "markdown",
      "metadata": {
        "id": "h2FrhcgSfifc"
      },
      "source": [
        "From this example, we can see that DataFrame entries are not limited to integers. For instance, there is an entry with value of \"Beijing\", which is a string."
      ]
    },
    {
      "cell_type": "markdown",
      "metadata": {
        "id": "IOkm2TzYfifc"
      },
      "source": [
        "A **Series**, the second core pandas object, is a sequence of data values. If a DataFrame is a table, a Series is a list and,  in essence, it is a single column of a DataFrame."
      ]
    },
    {
      "cell_type": "code",
      "metadata": {
        "id": "tLMJ5EJxfifd",
        "outputId": "18efe51f-489d-40d0-ff9c-e84187988544",
        "colab": {
          "base_uri": "https://localhost:8080/"
        }
      },
      "source": [
        "#This is how we can see all the Series names in our DataFrame:\n",
        "covid.columns"
      ],
      "execution_count": 16,
      "outputs": [
        {
          "output_type": "execute_result",
          "data": {
            "text/plain": [
              "Index(['SNo', 'ObservationDate', 'ProvinceState', 'CountryRegion',\n",
              "       'LastUpdate', 'Confirmed', 'Deaths', 'Recovered'],\n",
              "      dtype='object')"
            ]
          },
          "metadata": {
            "tags": []
          },
          "execution_count": 16
        }
      ]
    },
    {
      "cell_type": "markdown",
      "metadata": {
        "id": "EuZnlaayfifm"
      },
      "source": [
        "## Viewing, inspecting, and selecting data"
      ]
    },
    {
      "cell_type": "markdown",
      "metadata": {
        "id": "qcKn6QZgfifm"
      },
      "source": [
        "Let's return to our **covid** DataFrame. Remember - you can use *head()* method to view the first *n* rows:"
      ]
    },
    {
      "cell_type": "code",
      "metadata": {
        "id": "UYmIpSHDfifm",
        "outputId": "d4a42d9a-3b2a-4e4a-b61a-b54f0e98ce49",
        "colab": {
          "base_uri": "https://localhost:8080/",
          "height": 142
        }
      },
      "source": [
        "#View first 3 rows of data set:\n",
        "covid.head(3)"
      ],
      "execution_count": 17,
      "outputs": [
        {
          "output_type": "execute_result",
          "data": {
            "text/html": [
              "<div>\n",
              "<style scoped>\n",
              "    .dataframe tbody tr th:only-of-type {\n",
              "        vertical-align: middle;\n",
              "    }\n",
              "\n",
              "    .dataframe tbody tr th {\n",
              "        vertical-align: top;\n",
              "    }\n",
              "\n",
              "    .dataframe thead th {\n",
              "        text-align: right;\n",
              "    }\n",
              "</style>\n",
              "<table border=\"1\" class=\"dataframe\">\n",
              "  <thead>\n",
              "    <tr style=\"text-align: right;\">\n",
              "      <th></th>\n",
              "      <th>SNo</th>\n",
              "      <th>ObservationDate</th>\n",
              "      <th>ProvinceState</th>\n",
              "      <th>CountryRegion</th>\n",
              "      <th>LastUpdate</th>\n",
              "      <th>Confirmed</th>\n",
              "      <th>Deaths</th>\n",
              "      <th>Recovered</th>\n",
              "    </tr>\n",
              "  </thead>\n",
              "  <tbody>\n",
              "    <tr>\n",
              "      <th>0</th>\n",
              "      <td>1</td>\n",
              "      <td>01/22/2020</td>\n",
              "      <td>Anhui</td>\n",
              "      <td>Mainland China</td>\n",
              "      <td>1/22/2020 17:00</td>\n",
              "      <td>1.0</td>\n",
              "      <td>0.0</td>\n",
              "      <td>0.0</td>\n",
              "    </tr>\n",
              "    <tr>\n",
              "      <th>1</th>\n",
              "      <td>2</td>\n",
              "      <td>01/22/2020</td>\n",
              "      <td>Beijing</td>\n",
              "      <td>Mainland China</td>\n",
              "      <td>1/22/2020 17:00</td>\n",
              "      <td>14.0</td>\n",
              "      <td>0.0</td>\n",
              "      <td>0.0</td>\n",
              "    </tr>\n",
              "    <tr>\n",
              "      <th>2</th>\n",
              "      <td>3</td>\n",
              "      <td>01/22/2020</td>\n",
              "      <td>Chongqing</td>\n",
              "      <td>Mainland China</td>\n",
              "      <td>1/22/2020 17:00</td>\n",
              "      <td>6.0</td>\n",
              "      <td>0.0</td>\n",
              "      <td>0.0</td>\n",
              "    </tr>\n",
              "  </tbody>\n",
              "</table>\n",
              "</div>"
            ],
            "text/plain": [
              "   SNo ObservationDate ProvinceState  ... Confirmed Deaths  Recovered\n",
              "0    1      01/22/2020         Anhui  ...       1.0    0.0        0.0\n",
              "1    2      01/22/2020       Beijing  ...      14.0    0.0        0.0\n",
              "2    3      01/22/2020     Chongqing  ...       6.0    0.0        0.0\n",
              "\n",
              "[3 rows x 8 columns]"
            ]
          },
          "metadata": {
            "tags": []
          },
          "execution_count": 17
        }
      ]
    },
    {
      "cell_type": "code",
      "metadata": {
        "id": "NMlFtrt6fifm",
        "outputId": "fe4db542-a42f-4bc3-e7cb-5191ba84ab0d",
        "colab": {
          "base_uri": "https://localhost:8080/",
          "height": 204
        }
      },
      "source": [
        "#In a similar way, you can inspect last n rows with tail() method:\n",
        "covid.tail()"
      ],
      "execution_count": 18,
      "outputs": [
        {
          "output_type": "execute_result",
          "data": {
            "text/html": [
              "<div>\n",
              "<style scoped>\n",
              "    .dataframe tbody tr th:only-of-type {\n",
              "        vertical-align: middle;\n",
              "    }\n",
              "\n",
              "    .dataframe tbody tr th {\n",
              "        vertical-align: top;\n",
              "    }\n",
              "\n",
              "    .dataframe thead th {\n",
              "        text-align: right;\n",
              "    }\n",
              "</style>\n",
              "<table border=\"1\" class=\"dataframe\">\n",
              "  <thead>\n",
              "    <tr style=\"text-align: right;\">\n",
              "      <th></th>\n",
              "      <th>SNo</th>\n",
              "      <th>ObservationDate</th>\n",
              "      <th>ProvinceState</th>\n",
              "      <th>CountryRegion</th>\n",
              "      <th>LastUpdate</th>\n",
              "      <th>Confirmed</th>\n",
              "      <th>Deaths</th>\n",
              "      <th>Recovered</th>\n",
              "    </tr>\n",
              "  </thead>\n",
              "  <tbody>\n",
              "    <tr>\n",
              "      <th>172475</th>\n",
              "      <td>172476</td>\n",
              "      <td>12/06/2020</td>\n",
              "      <td>Zaporizhia Oblast</td>\n",
              "      <td>Ukraine</td>\n",
              "      <td>2020-12-07 05:26:14</td>\n",
              "      <td>36539.0</td>\n",
              "      <td>337.0</td>\n",
              "      <td>6556.0</td>\n",
              "    </tr>\n",
              "    <tr>\n",
              "      <th>172476</th>\n",
              "      <td>172477</td>\n",
              "      <td>12/06/2020</td>\n",
              "      <td>Zeeland</td>\n",
              "      <td>Netherlands</td>\n",
              "      <td>2020-12-07 05:26:14</td>\n",
              "      <td>6710.0</td>\n",
              "      <td>104.0</td>\n",
              "      <td>0.0</td>\n",
              "    </tr>\n",
              "    <tr>\n",
              "      <th>172477</th>\n",
              "      <td>172478</td>\n",
              "      <td>12/06/2020</td>\n",
              "      <td>Zhejiang</td>\n",
              "      <td>Mainland China</td>\n",
              "      <td>2020-12-07 05:26:14</td>\n",
              "      <td>1295.0</td>\n",
              "      <td>1.0</td>\n",
              "      <td>1288.0</td>\n",
              "    </tr>\n",
              "    <tr>\n",
              "      <th>172478</th>\n",
              "      <td>172479</td>\n",
              "      <td>12/06/2020</td>\n",
              "      <td>Zhytomyr Oblast</td>\n",
              "      <td>Ukraine</td>\n",
              "      <td>2020-12-07 05:26:14</td>\n",
              "      <td>31967.0</td>\n",
              "      <td>531.0</td>\n",
              "      <td>22263.0</td>\n",
              "    </tr>\n",
              "    <tr>\n",
              "      <th>172479</th>\n",
              "      <td>172480</td>\n",
              "      <td>12/06/2020</td>\n",
              "      <td>Zuid-Holland</td>\n",
              "      <td>Netherlands</td>\n",
              "      <td>2020-12-07 05:26:14</td>\n",
              "      <td>154813.0</td>\n",
              "      <td>2414.0</td>\n",
              "      <td>0.0</td>\n",
              "    </tr>\n",
              "  </tbody>\n",
              "</table>\n",
              "</div>"
            ],
            "text/plain": [
              "           SNo ObservationDate      ProvinceState  ... Confirmed  Deaths  Recovered\n",
              "172475  172476      12/06/2020  Zaporizhia Oblast  ...   36539.0   337.0     6556.0\n",
              "172476  172477      12/06/2020            Zeeland  ...    6710.0   104.0        0.0\n",
              "172477  172478      12/06/2020           Zhejiang  ...    1295.0     1.0     1288.0\n",
              "172478  172479      12/06/2020    Zhytomyr Oblast  ...   31967.0   531.0    22263.0\n",
              "172479  172480      12/06/2020       Zuid-Holland  ...  154813.0  2414.0        0.0\n",
              "\n",
              "[5 rows x 8 columns]"
            ]
          },
          "metadata": {
            "tags": []
          },
          "execution_count": 18
        }
      ]
    },
    {
      "cell_type": "markdown",
      "metadata": {
        "id": "AJeJ1g1qfifn"
      },
      "source": [
        "Pandas objects have a number of attributes enabling you to access the metadata. We can also use the **shape** attribute to check how large this DataFrame is:"
      ]
    },
    {
      "cell_type": "code",
      "metadata": {
        "id": "xGPwqsAefifn",
        "outputId": "5f2ed101-0e6e-4e87-91cc-349808461692",
        "colab": {
          "base_uri": "https://localhost:8080/"
        }
      },
      "source": [
        "#Check the data set size:\n",
        "covid.shape"
      ],
      "execution_count": 19,
      "outputs": [
        {
          "output_type": "execute_result",
          "data": {
            "text/plain": [
              "(172480, 8)"
            ]
          },
          "metadata": {
            "tags": []
          },
          "execution_count": 19
        }
      ]
    },
    {
      "cell_type": "markdown",
      "metadata": {
        "id": "3Pctr_Olfifo"
      },
      "source": [
        "To see list of all columns, use *columns* attribute:"
      ]
    },
    {
      "cell_type": "code",
      "metadata": {
        "id": "d2t3s2Pffifo",
        "outputId": "0093e215-84b4-4ea3-f30d-b105f5e8558c",
        "colab": {
          "base_uri": "https://localhost:8080/"
        }
      },
      "source": [
        "#See the list of all DataFrame columns:\n",
        "covid.columns"
      ],
      "execution_count": 20,
      "outputs": [
        {
          "output_type": "execute_result",
          "data": {
            "text/plain": [
              "Index(['SNo', 'ObservationDate', 'ProvinceState', 'CountryRegion',\n",
              "       'LastUpdate', 'Confirmed', 'Deaths', 'Recovered'],\n",
              "      dtype='object')"
            ]
          },
          "metadata": {
            "tags": []
          },
          "execution_count": 20
        }
      ]
    },
    {
      "cell_type": "markdown",
      "metadata": {
        "id": "gHLqxnrofifo"
      },
      "source": [
        "There are two ways to access values in any column within the DataFrame. One is the following:"
      ]
    },
    {
      "cell_type": "code",
      "metadata": {
        "id": "IWtsl6UKfifp",
        "outputId": "34179087-a049-4163-bc23-81eeb7cbf370",
        "colab": {
          "base_uri": "https://localhost:8080/"
        }
      },
      "source": [
        "#Look at first 5 rows of 'ObservationDate' column:\n",
        "covid.ObservationDate.head()"
      ],
      "execution_count": 21,
      "outputs": [
        {
          "output_type": "execute_result",
          "data": {
            "text/plain": [
              "0    01/22/2020\n",
              "1    01/22/2020\n",
              "2    01/22/2020\n",
              "3    01/22/2020\n",
              "4    01/22/2020\n",
              "Name: ObservationDate, dtype: object"
            ]
          },
          "metadata": {
            "tags": []
          },
          "execution_count": 21
        }
      ]
    },
    {
      "cell_type": "markdown",
      "metadata": {
        "id": "4VQ7XeEqfifp"
      },
      "source": [
        "And another way is to use Python indexing (**[ ]**) operator:"
      ]
    },
    {
      "cell_type": "code",
      "metadata": {
        "id": "K-SiIGbYfifp",
        "outputId": "5f4af1ce-a3a4-4ff4-f9a8-51de56d20a58",
        "colab": {
          "base_uri": "https://localhost:8080/"
        }
      },
      "source": [
        "#Look at first 5 rows of 'Last Update' column:\n",
        "covid['LastUpdate'].head()"
      ],
      "execution_count": 4,
      "outputs": [
        {
          "output_type": "execute_result",
          "data": {
            "text/plain": [
              "0    1/22/2020 17:00\n",
              "1    1/22/2020 17:00\n",
              "2    1/22/2020 17:00\n",
              "3    1/22/2020 17:00\n",
              "4    1/22/2020 17:00\n",
              "Name: LastUpdate, dtype: object"
            ]
          },
          "metadata": {
            "tags": []
          },
          "execution_count": 4
        }
      ]
    },
    {
      "cell_type": "markdown",
      "metadata": {
        "id": "0rePrgV3fifp"
      },
      "source": [
        "(The advantage of this way is that it handles column names with reserved characters in them.)"
      ]
    },
    {
      "cell_type": "markdown",
      "metadata": {
        "id": "ZvFPFkp-fifq"
      },
      "source": [
        "We can also select multiple columns by providing list of their names (this will return columns as a new DataFrame):"
      ]
    },
    {
      "cell_type": "code",
      "metadata": {
        "id": "og6X_n8jfifq",
        "outputId": "85eae716-c578-4c8f-9244-a6d2edf7842d",
        "colab": {
          "base_uri": "https://localhost:8080/",
          "height": 204
        }
      },
      "source": [
        "#select multiple columns:\n",
        "covid[['ObservationDate', 'Confirmed', 'Recovered']].head()"
      ],
      "execution_count": 5,
      "outputs": [
        {
          "output_type": "execute_result",
          "data": {
            "text/html": [
              "<div>\n",
              "<style scoped>\n",
              "    .dataframe tbody tr th:only-of-type {\n",
              "        vertical-align: middle;\n",
              "    }\n",
              "\n",
              "    .dataframe tbody tr th {\n",
              "        vertical-align: top;\n",
              "    }\n",
              "\n",
              "    .dataframe thead th {\n",
              "        text-align: right;\n",
              "    }\n",
              "</style>\n",
              "<table border=\"1\" class=\"dataframe\">\n",
              "  <thead>\n",
              "    <tr style=\"text-align: right;\">\n",
              "      <th></th>\n",
              "      <th>ObservationDate</th>\n",
              "      <th>Confirmed</th>\n",
              "      <th>Recovered</th>\n",
              "    </tr>\n",
              "  </thead>\n",
              "  <tbody>\n",
              "    <tr>\n",
              "      <th>0</th>\n",
              "      <td>01/22/2020</td>\n",
              "      <td>1.0</td>\n",
              "      <td>0.0</td>\n",
              "    </tr>\n",
              "    <tr>\n",
              "      <th>1</th>\n",
              "      <td>01/22/2020</td>\n",
              "      <td>14.0</td>\n",
              "      <td>0.0</td>\n",
              "    </tr>\n",
              "    <tr>\n",
              "      <th>2</th>\n",
              "      <td>01/22/2020</td>\n",
              "      <td>6.0</td>\n",
              "      <td>0.0</td>\n",
              "    </tr>\n",
              "    <tr>\n",
              "      <th>3</th>\n",
              "      <td>01/22/2020</td>\n",
              "      <td>1.0</td>\n",
              "      <td>0.0</td>\n",
              "    </tr>\n",
              "    <tr>\n",
              "      <th>4</th>\n",
              "      <td>01/22/2020</td>\n",
              "      <td>0.0</td>\n",
              "      <td>0.0</td>\n",
              "    </tr>\n",
              "  </tbody>\n",
              "</table>\n",
              "</div>"
            ],
            "text/plain": [
              "  ObservationDate  Confirmed  Recovered\n",
              "0      01/22/2020        1.0        0.0\n",
              "1      01/22/2020       14.0        0.0\n",
              "2      01/22/2020        6.0        0.0\n",
              "3      01/22/2020        1.0        0.0\n",
              "4      01/22/2020        0.0        0.0"
            ]
          },
          "metadata": {
            "tags": []
          },
          "execution_count": 5
        }
      ]
    },
    {
      "cell_type": "markdown",
      "metadata": {
        "id": "llrMDRTrfifq"
      },
      "source": [
        "To look at a single specific value within Series, we need to use the indexing operator once more:"
      ]
    },
    {
      "cell_type": "code",
      "metadata": {
        "id": "RYG3O7TpXcgw",
        "outputId": "7404ca6f-f5d7-463e-a572-14bead54bb98",
        "colab": {
          "base_uri": "https://localhost:8080/"
        }
      },
      "source": [
        "\n",
        "!pip install -U cffi"
      ],
      "execution_count": 7,
      "outputs": [
        {
          "output_type": "stream",
          "text": [
            "Collecting cffi\n",
            "  Downloading cffi-1.14.5-cp37-cp37m-manylinux1_x86_64.whl (402 kB)\n",
            "\u001b[?25l\r\u001b[K     |▉                               | 10 kB 27.2 MB/s eta 0:00:01\r\u001b[K     |█▋                              | 20 kB 32.1 MB/s eta 0:00:01\r\u001b[K     |██▍                             | 30 kB 36.5 MB/s eta 0:00:01\r\u001b[K     |███▎                            | 40 kB 27.1 MB/s eta 0:00:01\r\u001b[K     |████                            | 51 kB 18.7 MB/s eta 0:00:01\r\u001b[K     |████▉                           | 61 kB 14.2 MB/s eta 0:00:01\r\u001b[K     |█████▊                          | 71 kB 15.8 MB/s eta 0:00:01\r\u001b[K     |██████▌                         | 81 kB 15.7 MB/s eta 0:00:01\r\u001b[K     |███████▎                        | 92 kB 14.6 MB/s eta 0:00:01\r\u001b[K     |████████▏                       | 102 kB 15.7 MB/s eta 0:00:01\r\u001b[K     |█████████                       | 112 kB 15.7 MB/s eta 0:00:01\r\u001b[K     |█████████▊                      | 122 kB 15.7 MB/s eta 0:00:01\r\u001b[K     |██████████▋                     | 133 kB 15.7 MB/s eta 0:00:01\r\u001b[K     |███████████▍                    | 143 kB 15.7 MB/s eta 0:00:01\r\u001b[K     |████████████▏                   | 153 kB 15.7 MB/s eta 0:00:01\r\u001b[K     |█████████████                   | 163 kB 15.7 MB/s eta 0:00:01\r\u001b[K     |█████████████▉                  | 174 kB 15.7 MB/s eta 0:00:01\r\u001b[K     |██████████████▋                 | 184 kB 15.7 MB/s eta 0:00:01\r\u001b[K     |███████████████▌                | 194 kB 15.7 MB/s eta 0:00:01\r\u001b[K     |████████████████▎               | 204 kB 15.7 MB/s eta 0:00:01\r\u001b[K     |█████████████████               | 215 kB 15.7 MB/s eta 0:00:01\r\u001b[K     |██████████████████              | 225 kB 15.7 MB/s eta 0:00:01\r\u001b[K     |██████████████████▊             | 235 kB 15.7 MB/s eta 0:00:01\r\u001b[K     |███████████████████▌            | 245 kB 15.7 MB/s eta 0:00:01\r\u001b[K     |████████████████████▍           | 256 kB 15.7 MB/s eta 0:00:01\r\u001b[K     |█████████████████████▏          | 266 kB 15.7 MB/s eta 0:00:01\r\u001b[K     |██████████████████████          | 276 kB 15.7 MB/s eta 0:00:01\r\u001b[K     |██████████████████████▉         | 286 kB 15.7 MB/s eta 0:00:01\r\u001b[K     |███████████████████████▋        | 296 kB 15.7 MB/s eta 0:00:01\r\u001b[K     |████████████████████████▍       | 307 kB 15.7 MB/s eta 0:00:01\r\u001b[K     |█████████████████████████▎      | 317 kB 15.7 MB/s eta 0:00:01\r\u001b[K     |██████████████████████████      | 327 kB 15.7 MB/s eta 0:00:01\r\u001b[K     |██████████████████████████▉     | 337 kB 15.7 MB/s eta 0:00:01\r\u001b[K     |███████████████████████████▊    | 348 kB 15.7 MB/s eta 0:00:01\r\u001b[K     |████████████████████████████▌   | 358 kB 15.7 MB/s eta 0:00:01\r\u001b[K     |█████████████████████████████▎  | 368 kB 15.7 MB/s eta 0:00:01\r\u001b[K     |██████████████████████████████▏ | 378 kB 15.7 MB/s eta 0:00:01\r\u001b[K     |███████████████████████████████ | 389 kB 15.7 MB/s eta 0:00:01\r\u001b[K     |███████████████████████████████▊| 399 kB 15.7 MB/s eta 0:00:01\r\u001b[K     |████████████████████████████████| 402 kB 15.7 MB/s \n",
            "\u001b[?25hRequirement already satisfied, skipping upgrade: pycparser in /usr/local/lib/python3.7/site-packages (from cffi) (2.20)\n",
            "Installing collected packages: cffi\n",
            "  Attempting uninstall: cffi\n",
            "    Found existing installation: cffi 1.14.3\n",
            "    Uninstalling cffi-1.14.3:\n",
            "      Successfully uninstalled cffi-1.14.3\n",
            "Successfully installed cffi-1.14.5\n"
          ],
          "name": "stdout"
        }
      ]
    },
    {
      "cell_type": "code",
      "metadata": {
        "id": "sehpCW8Tfifq",
        "outputId": "dd182899-b9fa-42ab-f609-99db5159faf8",
        "colab": {
          "base_uri": "https://localhost:8080/",
          "height": 256
        }
      },
      "source": [
        "covid['ProvinceState'][3]"
      ],
      "execution_count": 8,
      "outputs": [
        {
          "output_type": "error",
          "ename": "Exception",
          "evalue": "ignored",
          "traceback": [
            "\u001b[0;31m---------------------------------------------------------------------------\u001b[0m",
            "\u001b[0;31mException\u001b[0m                                 Traceback (most recent call last)",
            "\u001b[0;32m<ipython-input-8-20766a5e0978>\u001b[0m in \u001b[0;36m<module>\u001b[0;34m()\u001b[0m\n\u001b[0;32m----> 1\u001b[0;31m \u001b[0mcovid\u001b[0m\u001b[0;34m[\u001b[0m\u001b[0;34m'ProvinceState'\u001b[0m\u001b[0;34m]\u001b[0m\u001b[0;34m[\u001b[0m\u001b[0;36m3\u001b[0m\u001b[0;34m]\u001b[0m\u001b[0;34m\u001b[0m\u001b[0;34m\u001b[0m\u001b[0m\n\u001b[0m",
            "\u001b[0;32m/usr/local/lib/python3.7/site-packages/cudf/core/series.py\u001b[0m in \u001b[0;36m__getitem__\u001b[0;34m(self, arg)\u001b[0m\n\u001b[1;32m   1185\u001b[0m             \u001b[0;32mreturn\u001b[0m \u001b[0mself\u001b[0m\u001b[0;34m.\u001b[0m\u001b[0miloc\u001b[0m\u001b[0;34m[\u001b[0m\u001b[0marg\u001b[0m\u001b[0;34m]\u001b[0m\u001b[0;34m\u001b[0m\u001b[0;34m\u001b[0m\u001b[0m\n\u001b[1;32m   1186\u001b[0m         \u001b[0;32melse\u001b[0m\u001b[0;34m:\u001b[0m\u001b[0;34m\u001b[0m\u001b[0;34m\u001b[0m\u001b[0m\n\u001b[0;32m-> 1187\u001b[0;31m             \u001b[0;32mreturn\u001b[0m \u001b[0mself\u001b[0m\u001b[0;34m.\u001b[0m\u001b[0mloc\u001b[0m\u001b[0;34m[\u001b[0m\u001b[0marg\u001b[0m\u001b[0;34m]\u001b[0m\u001b[0;34m\u001b[0m\u001b[0;34m\u001b[0m\u001b[0m\n\u001b[0m\u001b[1;32m   1188\u001b[0m \u001b[0;34m\u001b[0m\u001b[0m\n\u001b[1;32m   1189\u001b[0m     \u001b[0;32mdef\u001b[0m \u001b[0m__iter__\u001b[0m\u001b[0;34m(\u001b[0m\u001b[0mself\u001b[0m\u001b[0;34m)\u001b[0m\u001b[0;34m:\u001b[0m\u001b[0;34m\u001b[0m\u001b[0;34m\u001b[0m\u001b[0m\n",
            "\u001b[0;32m/usr/local/lib/python3.7/site-packages/cudf/core/indexing.py\u001b[0m in \u001b[0;36m__getitem__\u001b[0;34m(self, arg)\u001b[0m\n\u001b[1;32m    139\u001b[0m             \u001b[0;32mreturn\u001b[0m \u001b[0mresult\u001b[0m\u001b[0;34m\u001b[0m\u001b[0;34m\u001b[0m\u001b[0m\n\u001b[1;32m    140\u001b[0m         \u001b[0;32mtry\u001b[0m\u001b[0;34m:\u001b[0m\u001b[0;34m\u001b[0m\u001b[0;34m\u001b[0m\u001b[0m\n\u001b[0;32m--> 141\u001b[0;31m             \u001b[0marg\u001b[0m \u001b[0;34m=\u001b[0m \u001b[0mself\u001b[0m\u001b[0;34m.\u001b[0m\u001b[0m_loc_to_iloc\u001b[0m\u001b[0;34m(\u001b[0m\u001b[0marg\u001b[0m\u001b[0;34m)\u001b[0m\u001b[0;34m\u001b[0m\u001b[0;34m\u001b[0m\u001b[0m\n\u001b[0m\u001b[1;32m    142\u001b[0m         \u001b[0;32mexcept\u001b[0m \u001b[0;34m(\u001b[0m\u001b[0mTypeError\u001b[0m\u001b[0;34m,\u001b[0m \u001b[0mKeyError\u001b[0m\u001b[0;34m,\u001b[0m \u001b[0mIndexError\u001b[0m\u001b[0;34m,\u001b[0m \u001b[0mValueError\u001b[0m\u001b[0;34m)\u001b[0m\u001b[0;34m:\u001b[0m\u001b[0;34m\u001b[0m\u001b[0;34m\u001b[0m\u001b[0m\n\u001b[1;32m    143\u001b[0m             \u001b[0;32mraise\u001b[0m \u001b[0mKeyError\u001b[0m\u001b[0;34m(\u001b[0m\u001b[0marg\u001b[0m\u001b[0;34m)\u001b[0m\u001b[0;34m\u001b[0m\u001b[0;34m\u001b[0m\u001b[0m\n",
            "\u001b[0;32m/usr/local/lib/python3.7/site-packages/cudf/core/indexing.py\u001b[0m in \u001b[0;36m_loc_to_iloc\u001b[0;34m(self, arg)\u001b[0m\n\u001b[1;32m    171\u001b[0m             \u001b[0;32mtry\u001b[0m\u001b[0;34m:\u001b[0m\u001b[0;34m\u001b[0m\u001b[0;34m\u001b[0m\u001b[0m\n\u001b[1;32m    172\u001b[0m                 found_index = self._sr.index._values.find_first_value(\n\u001b[0;32m--> 173\u001b[0;31m                     \u001b[0marg\u001b[0m\u001b[0;34m,\u001b[0m \u001b[0mclosest\u001b[0m\u001b[0;34m=\u001b[0m\u001b[0;32mFalse\u001b[0m\u001b[0;34m\u001b[0m\u001b[0;34m\u001b[0m\u001b[0m\n\u001b[0m\u001b[1;32m    174\u001b[0m                 )\n\u001b[1;32m    175\u001b[0m                 \u001b[0;32mreturn\u001b[0m \u001b[0mfound_index\u001b[0m\u001b[0;34m\u001b[0m\u001b[0;34m\u001b[0m\u001b[0m\n",
            "\u001b[0;32m/usr/local/lib/python3.7/site-packages/cudf/core/column/numerical.py\u001b[0m in \u001b[0;36mfind_first_value\u001b[0;34m(self, value, closest)\u001b[0m\n\u001b[1;32m    550\u001b[0m         \u001b[0;32mif\u001b[0m \u001b[0mlen\u001b[0m\u001b[0;34m(\u001b[0m\u001b[0mself\u001b[0m\u001b[0;34m)\u001b[0m\u001b[0;34m:\u001b[0m\u001b[0;34m\u001b[0m\u001b[0;34m\u001b[0m\u001b[0m\n\u001b[1;32m    551\u001b[0m             found = cudautils.find_first(\n\u001b[0;32m--> 552\u001b[0;31m                 \u001b[0mself\u001b[0m\u001b[0;34m.\u001b[0m\u001b[0mdata_array_view\u001b[0m\u001b[0;34m,\u001b[0m \u001b[0mvalue\u001b[0m\u001b[0;34m,\u001b[0m \u001b[0mmask\u001b[0m\u001b[0;34m=\u001b[0m\u001b[0mself\u001b[0m\u001b[0;34m.\u001b[0m\u001b[0mmask\u001b[0m\u001b[0;34m\u001b[0m\u001b[0;34m\u001b[0m\u001b[0m\n\u001b[0m\u001b[1;32m    553\u001b[0m             )\n\u001b[1;32m    554\u001b[0m         \u001b[0;32mif\u001b[0m \u001b[0mfound\u001b[0m \u001b[0;34m==\u001b[0m \u001b[0;34m-\u001b[0m\u001b[0;36m1\u001b[0m \u001b[0;32mand\u001b[0m \u001b[0mself\u001b[0m\u001b[0;34m.\u001b[0m\u001b[0mis_monotonic\u001b[0m \u001b[0;32mand\u001b[0m \u001b[0mclosest\u001b[0m\u001b[0;34m:\u001b[0m\u001b[0;34m\u001b[0m\u001b[0;34m\u001b[0m\u001b[0m\n",
            "\u001b[0;32m/usr/local/lib/python3.7/site-packages/cudf/utils/cudautils.py\u001b[0m in \u001b[0;36mfind_first\u001b[0;34m(arr, val, mask, compare)\u001b[0m\n\u001b[1;32m    165\u001b[0m     \"\"\"\n\u001b[1;32m    166\u001b[0m \u001b[0;34m\u001b[0m\u001b[0m\n\u001b[0;32m--> 167\u001b[0;31m     \u001b[0mfound_col\u001b[0m \u001b[0;34m=\u001b[0m \u001b[0mfind_index_of_val\u001b[0m\u001b[0;34m(\u001b[0m\u001b[0marr\u001b[0m\u001b[0;34m,\u001b[0m \u001b[0mval\u001b[0m\u001b[0;34m,\u001b[0m \u001b[0mmask\u001b[0m\u001b[0;34m=\u001b[0m\u001b[0mmask\u001b[0m\u001b[0;34m,\u001b[0m \u001b[0mcompare\u001b[0m\u001b[0;34m=\u001b[0m\u001b[0mcompare\u001b[0m\u001b[0;34m)\u001b[0m\u001b[0;34m\u001b[0m\u001b[0;34m\u001b[0m\u001b[0m\n\u001b[0m\u001b[1;32m    168\u001b[0m     \u001b[0mfound_col\u001b[0m \u001b[0;34m=\u001b[0m \u001b[0mfound_col\u001b[0m\u001b[0;34m.\u001b[0m\u001b[0mfind_and_replace\u001b[0m\u001b[0;34m(\u001b[0m\u001b[0;34m[\u001b[0m\u001b[0marr\u001b[0m\u001b[0;34m.\u001b[0m\u001b[0msize\u001b[0m\u001b[0;34m]\u001b[0m\u001b[0;34m,\u001b[0m \u001b[0;34m[\u001b[0m\u001b[0;32mNone\u001b[0m\u001b[0;34m]\u001b[0m\u001b[0;34m,\u001b[0m \u001b[0;32mTrue\u001b[0m\u001b[0;34m)\u001b[0m\u001b[0;34m\u001b[0m\u001b[0;34m\u001b[0m\u001b[0m\n\u001b[1;32m    169\u001b[0m \u001b[0;34m\u001b[0m\u001b[0m\n",
            "\u001b[0;32m/usr/local/lib/python3.7/site-packages/cudf/utils/cudautils.py\u001b[0m in \u001b[0;36mfind_index_of_val\u001b[0;34m(arr, val, mask, compare)\u001b[0m\n\u001b[1;32m    145\u001b[0m             \u001b[0;32melse\u001b[0m\u001b[0;34m:\u001b[0m\u001b[0;34m\u001b[0m\u001b[0;34m\u001b[0m\u001b[0m\n\u001b[1;32m    146\u001b[0m                 gpu_mark_found_int.forall(found.size)(\n\u001b[0;32m--> 147\u001b[0;31m                     \u001b[0marr\u001b[0m\u001b[0;34m,\u001b[0m \u001b[0mval\u001b[0m\u001b[0;34m,\u001b[0m \u001b[0mfound\u001b[0m\u001b[0;34m,\u001b[0m \u001b[0marr\u001b[0m\u001b[0;34m.\u001b[0m\u001b[0msize\u001b[0m\u001b[0;34m\u001b[0m\u001b[0;34m\u001b[0m\u001b[0m\n\u001b[0m\u001b[1;32m    148\u001b[0m                 )\n\u001b[1;32m    149\u001b[0m \u001b[0;34m\u001b[0m\u001b[0m\n",
            "\u001b[0;32m/usr/local/lib/python3.7/site-packages/numba/cuda/compiler.py\u001b[0m in \u001b[0;36m__call__\u001b[0;34m(self, *args)\u001b[0m\n\u001b[1;32m    370\u001b[0m             \u001b[0mkernel\u001b[0m \u001b[0;34m=\u001b[0m \u001b[0mself\u001b[0m\u001b[0;34m.\u001b[0m\u001b[0mkernel\u001b[0m\u001b[0;34m\u001b[0m\u001b[0;34m\u001b[0m\u001b[0m\n\u001b[1;32m    371\u001b[0m         \u001b[0;32melse\u001b[0m\u001b[0;34m:\u001b[0m\u001b[0;34m\u001b[0m\u001b[0;34m\u001b[0m\u001b[0m\n\u001b[0;32m--> 372\u001b[0;31m             \u001b[0mkernel\u001b[0m \u001b[0;34m=\u001b[0m \u001b[0mself\u001b[0m\u001b[0;34m.\u001b[0m\u001b[0mkernel\u001b[0m\u001b[0;34m.\u001b[0m\u001b[0mspecialize\u001b[0m\u001b[0;34m(\u001b[0m\u001b[0;34m*\u001b[0m\u001b[0margs\u001b[0m\u001b[0;34m)\u001b[0m\u001b[0;34m\u001b[0m\u001b[0;34m\u001b[0m\u001b[0m\n\u001b[0m\u001b[1;32m    373\u001b[0m         \u001b[0mblockdim\u001b[0m \u001b[0;34m=\u001b[0m \u001b[0mself\u001b[0m\u001b[0;34m.\u001b[0m\u001b[0m_compute_thread_per_block\u001b[0m\u001b[0;34m(\u001b[0m\u001b[0mkernel\u001b[0m\u001b[0;34m)\u001b[0m\u001b[0;34m\u001b[0m\u001b[0;34m\u001b[0m\u001b[0m\n\u001b[1;32m    374\u001b[0m         \u001b[0mgriddim\u001b[0m \u001b[0;34m=\u001b[0m \u001b[0;34m(\u001b[0m\u001b[0mself\u001b[0m\u001b[0;34m.\u001b[0m\u001b[0mntasks\u001b[0m \u001b[0;34m+\u001b[0m \u001b[0mblockdim\u001b[0m \u001b[0;34m-\u001b[0m \u001b[0;36m1\u001b[0m\u001b[0;34m)\u001b[0m \u001b[0;34m//\u001b[0m \u001b[0mblockdim\u001b[0m\u001b[0;34m\u001b[0m\u001b[0;34m\u001b[0m\u001b[0m\n",
            "\u001b[0;32m/usr/local/lib/python3.7/site-packages/numba/cuda/compiler.py\u001b[0m in \u001b[0;36mspecialize\u001b[0;34m(self, *args)\u001b[0m\n\u001b[1;32m    869\u001b[0m         \u001b[0mcc\u001b[0m \u001b[0;34m=\u001b[0m \u001b[0mget_current_device\u001b[0m\u001b[0;34m(\u001b[0m\u001b[0;34m)\u001b[0m\u001b[0;34m.\u001b[0m\u001b[0mcompute_capability\u001b[0m\u001b[0;34m\u001b[0m\u001b[0;34m\u001b[0m\u001b[0m\n\u001b[1;32m    870\u001b[0m         argtypes = tuple(\n\u001b[0;32m--> 871\u001b[0;31m             [self.typingctx.resolve_argument_type(a) for a in args])\n\u001b[0m\u001b[1;32m    872\u001b[0m         \u001b[0;32mif\u001b[0m \u001b[0mself\u001b[0m\u001b[0;34m.\u001b[0m\u001b[0mspecialized\u001b[0m\u001b[0;34m:\u001b[0m\u001b[0;34m\u001b[0m\u001b[0;34m\u001b[0m\u001b[0m\n\u001b[1;32m    873\u001b[0m             \u001b[0;32mraise\u001b[0m \u001b[0mRuntimeError\u001b[0m\u001b[0;34m(\u001b[0m\u001b[0;34m'Dispatcher already specialized'\u001b[0m\u001b[0;34m)\u001b[0m\u001b[0;34m\u001b[0m\u001b[0;34m\u001b[0m\u001b[0m\n",
            "\u001b[0;32m/usr/local/lib/python3.7/site-packages/numba/cuda/compiler.py\u001b[0m in \u001b[0;36m<listcomp>\u001b[0;34m(.0)\u001b[0m\n\u001b[1;32m    869\u001b[0m         \u001b[0mcc\u001b[0m \u001b[0;34m=\u001b[0m \u001b[0mget_current_device\u001b[0m\u001b[0;34m(\u001b[0m\u001b[0;34m)\u001b[0m\u001b[0;34m.\u001b[0m\u001b[0mcompute_capability\u001b[0m\u001b[0;34m\u001b[0m\u001b[0;34m\u001b[0m\u001b[0m\n\u001b[1;32m    870\u001b[0m         argtypes = tuple(\n\u001b[0;32m--> 871\u001b[0;31m             [self.typingctx.resolve_argument_type(a) for a in args])\n\u001b[0m\u001b[1;32m    872\u001b[0m         \u001b[0;32mif\u001b[0m \u001b[0mself\u001b[0m\u001b[0;34m.\u001b[0m\u001b[0mspecialized\u001b[0m\u001b[0;34m:\u001b[0m\u001b[0;34m\u001b[0m\u001b[0;34m\u001b[0m\u001b[0m\n\u001b[1;32m    873\u001b[0m             \u001b[0;32mraise\u001b[0m \u001b[0mRuntimeError\u001b[0m\u001b[0;34m(\u001b[0m\u001b[0;34m'Dispatcher already specialized'\u001b[0m\u001b[0;34m)\u001b[0m\u001b[0;34m\u001b[0m\u001b[0;34m\u001b[0m\u001b[0m\n",
            "\u001b[0;32m/usr/local/lib/python3.7/site-packages/numba/core/typing/context.py\u001b[0m in \u001b[0;36mresolve_argument_type\u001b[0;34m(self, val)\u001b[0m\n\u001b[1;32m    351\u001b[0m         \"\"\"\n\u001b[1;32m    352\u001b[0m         \u001b[0;32mtry\u001b[0m\u001b[0;34m:\u001b[0m\u001b[0;34m\u001b[0m\u001b[0;34m\u001b[0m\u001b[0m\n\u001b[0;32m--> 353\u001b[0;31m             \u001b[0;32mreturn\u001b[0m \u001b[0mtypeof\u001b[0m\u001b[0;34m(\u001b[0m\u001b[0mval\u001b[0m\u001b[0;34m,\u001b[0m \u001b[0mPurpose\u001b[0m\u001b[0;34m.\u001b[0m\u001b[0margument\u001b[0m\u001b[0;34m)\u001b[0m\u001b[0;34m\u001b[0m\u001b[0;34m\u001b[0m\u001b[0m\n\u001b[0m\u001b[1;32m    354\u001b[0m         \u001b[0;32mexcept\u001b[0m \u001b[0mValueError\u001b[0m\u001b[0;34m:\u001b[0m\u001b[0;34m\u001b[0m\u001b[0;34m\u001b[0m\u001b[0m\n\u001b[1;32m    355\u001b[0m             \u001b[0;32mif\u001b[0m \u001b[0mnumba\u001b[0m\u001b[0;34m.\u001b[0m\u001b[0mcuda\u001b[0m\u001b[0;34m.\u001b[0m\u001b[0mis_cuda_array\u001b[0m\u001b[0;34m(\u001b[0m\u001b[0mval\u001b[0m\u001b[0;34m)\u001b[0m\u001b[0;34m:\u001b[0m\u001b[0;34m\u001b[0m\u001b[0;34m\u001b[0m\u001b[0m\n",
            "\u001b[0;32m/usr/local/lib/python3.7/site-packages/numba/core/typing/typeof.py\u001b[0m in \u001b[0;36mtypeof\u001b[0;34m(val, purpose)\u001b[0m\n\u001b[1;32m     27\u001b[0m     \u001b[0;31m# Note the behaviour for Purpose.argument must match _typeof.c.\u001b[0m\u001b[0;34m\u001b[0m\u001b[0;34m\u001b[0m\u001b[0;34m\u001b[0m\u001b[0m\n\u001b[1;32m     28\u001b[0m     \u001b[0mc\u001b[0m \u001b[0;34m=\u001b[0m \u001b[0m_TypeofContext\u001b[0m\u001b[0;34m(\u001b[0m\u001b[0mpurpose\u001b[0m\u001b[0;34m)\u001b[0m\u001b[0;34m\u001b[0m\u001b[0;34m\u001b[0m\u001b[0m\n\u001b[0;32m---> 29\u001b[0;31m     \u001b[0mty\u001b[0m \u001b[0;34m=\u001b[0m \u001b[0mtypeof_impl\u001b[0m\u001b[0;34m(\u001b[0m\u001b[0mval\u001b[0m\u001b[0;34m,\u001b[0m \u001b[0mc\u001b[0m\u001b[0;34m)\u001b[0m\u001b[0;34m\u001b[0m\u001b[0;34m\u001b[0m\u001b[0m\n\u001b[0m\u001b[1;32m     30\u001b[0m     \u001b[0;32mif\u001b[0m \u001b[0mty\u001b[0m \u001b[0;32mis\u001b[0m \u001b[0;32mNone\u001b[0m\u001b[0;34m:\u001b[0m\u001b[0;34m\u001b[0m\u001b[0;34m\u001b[0m\u001b[0m\n\u001b[1;32m     31\u001b[0m         msg = _termcolor.errmsg(\n",
            "\u001b[0;32m/usr/lib/python3.7/functools.py\u001b[0m in \u001b[0;36mwrapper\u001b[0;34m(*args, **kw)\u001b[0m\n\u001b[1;32m    838\u001b[0m                             '1 positional argument')\n\u001b[1;32m    839\u001b[0m \u001b[0;34m\u001b[0m\u001b[0m\n\u001b[0;32m--> 840\u001b[0;31m         \u001b[0;32mreturn\u001b[0m \u001b[0mdispatch\u001b[0m\u001b[0;34m(\u001b[0m\u001b[0margs\u001b[0m\u001b[0;34m[\u001b[0m\u001b[0;36m0\u001b[0m\u001b[0;34m]\u001b[0m\u001b[0;34m.\u001b[0m\u001b[0m__class__\u001b[0m\u001b[0;34m)\u001b[0m\u001b[0;34m(\u001b[0m\u001b[0;34m*\u001b[0m\u001b[0margs\u001b[0m\u001b[0;34m,\u001b[0m \u001b[0;34m**\u001b[0m\u001b[0mkw\u001b[0m\u001b[0;34m)\u001b[0m\u001b[0;34m\u001b[0m\u001b[0;34m\u001b[0m\u001b[0m\n\u001b[0m\u001b[1;32m    841\u001b[0m \u001b[0;34m\u001b[0m\u001b[0m\n\u001b[1;32m    842\u001b[0m     \u001b[0mfuncname\u001b[0m \u001b[0;34m=\u001b[0m \u001b[0mgetattr\u001b[0m\u001b[0;34m(\u001b[0m\u001b[0mfunc\u001b[0m\u001b[0;34m,\u001b[0m \u001b[0;34m'__name__'\u001b[0m\u001b[0;34m,\u001b[0m \u001b[0;34m'singledispatch function'\u001b[0m\u001b[0;34m)\u001b[0m\u001b[0;34m\u001b[0m\u001b[0;34m\u001b[0m\u001b[0m\n",
            "\u001b[0;32m/usr/local/lib/python3.7/site-packages/numba/core/typing/typeof.py\u001b[0m in \u001b[0;36mtypeof_impl\u001b[0;34m(val, c)\u001b[0m\n\u001b[1;32m     46\u001b[0m     \u001b[0;31m# cffi is handled here as it does not expose a public base class\u001b[0m\u001b[0;34m\u001b[0m\u001b[0;34m\u001b[0m\u001b[0;34m\u001b[0m\u001b[0m\n\u001b[1;32m     47\u001b[0m     \u001b[0;31m# for exported functions or CompiledFFI instances.\u001b[0m\u001b[0;34m\u001b[0m\u001b[0;34m\u001b[0m\u001b[0;34m\u001b[0m\u001b[0m\n\u001b[0;32m---> 48\u001b[0;31m     \u001b[0;32mfrom\u001b[0m \u001b[0mnumba\u001b[0m\u001b[0;34m.\u001b[0m\u001b[0mcore\u001b[0m\u001b[0;34m.\u001b[0m\u001b[0mtyping\u001b[0m \u001b[0;32mimport\u001b[0m \u001b[0mcffi_utils\u001b[0m\u001b[0;34m\u001b[0m\u001b[0;34m\u001b[0m\u001b[0m\n\u001b[0m\u001b[1;32m     49\u001b[0m     \u001b[0;32mif\u001b[0m \u001b[0mcffi_utils\u001b[0m\u001b[0;34m.\u001b[0m\u001b[0mSUPPORTED\u001b[0m\u001b[0;34m:\u001b[0m\u001b[0;34m\u001b[0m\u001b[0;34m\u001b[0m\u001b[0m\n\u001b[1;32m     50\u001b[0m         \u001b[0;32mif\u001b[0m \u001b[0mcffi_utils\u001b[0m\u001b[0;34m.\u001b[0m\u001b[0mis_cffi_func\u001b[0m\u001b[0;34m(\u001b[0m\u001b[0mval\u001b[0m\u001b[0;34m)\u001b[0m\u001b[0;34m:\u001b[0m\u001b[0;34m\u001b[0m\u001b[0;34m\u001b[0m\u001b[0m\n",
            "\u001b[0;32m/usr/local/lib/python3.7/site-packages/numba/core/typing/cffi_utils.py\u001b[0m in \u001b[0;36m<module>\u001b[0;34m()\u001b[0m\n\u001b[1;32m     17\u001b[0m \u001b[0;32mtry\u001b[0m\u001b[0;34m:\u001b[0m\u001b[0;34m\u001b[0m\u001b[0;34m\u001b[0m\u001b[0m\n\u001b[1;32m     18\u001b[0m     \u001b[0;32mimport\u001b[0m \u001b[0mcffi\u001b[0m\u001b[0;34m\u001b[0m\u001b[0;34m\u001b[0m\u001b[0m\n\u001b[0;32m---> 19\u001b[0;31m     \u001b[0mffi\u001b[0m \u001b[0;34m=\u001b[0m \u001b[0mcffi\u001b[0m\u001b[0;34m.\u001b[0m\u001b[0mFFI\u001b[0m\u001b[0;34m(\u001b[0m\u001b[0;34m)\u001b[0m\u001b[0;34m\u001b[0m\u001b[0;34m\u001b[0m\u001b[0m\n\u001b[0m\u001b[1;32m     20\u001b[0m \u001b[0;32mexcept\u001b[0m \u001b[0mImportError\u001b[0m\u001b[0;34m:\u001b[0m\u001b[0;34m\u001b[0m\u001b[0;34m\u001b[0m\u001b[0m\n\u001b[1;32m     21\u001b[0m     \u001b[0mffi\u001b[0m \u001b[0;34m=\u001b[0m \u001b[0;32mNone\u001b[0m\u001b[0;34m\u001b[0m\u001b[0;34m\u001b[0m\u001b[0m\n",
            "\u001b[0;32m/usr/local/lib/python3.7/dist-packages/cffi/api.py\u001b[0m in \u001b[0;36m__init__\u001b[0;34m(self, backend)\u001b[0m\n",
            "\u001b[0;31mException\u001b[0m: Version mismatch: this is the 'cffi' package version 1.14.5, located in '/usr/local/lib/python3.7/dist-packages/cffi/api.py'.  When we import the top-level '_cffi_backend' extension module, we get version 1.14.3, located in '/usr/local/lib/python3.7/site-packages/_cffi_backend.cpython-37m-x86_64-linux-gnu.so'.  The two versions should be equal; check your installation."
          ]
        }
      ]
    },
    {
      "cell_type": "code",
      "metadata": {
        "id": "aD7B29uLfifq",
        "outputId": "84be0042-8d32-44f4-dea8-6d94b5faed52",
        "colab": {
          "base_uri": "https://localhost:8080/",
          "height": 204
        }
      },
      "source": [
        "covid.head()"
      ],
      "execution_count": 32,
      "outputs": [
        {
          "output_type": "execute_result",
          "data": {
            "text/html": [
              "<div>\n",
              "<style scoped>\n",
              "    .dataframe tbody tr th:only-of-type {\n",
              "        vertical-align: middle;\n",
              "    }\n",
              "\n",
              "    .dataframe tbody tr th {\n",
              "        vertical-align: top;\n",
              "    }\n",
              "\n",
              "    .dataframe thead th {\n",
              "        text-align: right;\n",
              "    }\n",
              "</style>\n",
              "<table border=\"1\" class=\"dataframe\">\n",
              "  <thead>\n",
              "    <tr style=\"text-align: right;\">\n",
              "      <th></th>\n",
              "      <th>SNo</th>\n",
              "      <th>ObservationDate</th>\n",
              "      <th>ProvinceState</th>\n",
              "      <th>CountryRegion</th>\n",
              "      <th>LastUpdate</th>\n",
              "      <th>Confirmed</th>\n",
              "      <th>Deaths</th>\n",
              "      <th>Recovered</th>\n",
              "    </tr>\n",
              "  </thead>\n",
              "  <tbody>\n",
              "    <tr>\n",
              "      <th>0</th>\n",
              "      <td>1</td>\n",
              "      <td>01/22/2020</td>\n",
              "      <td>Anhui</td>\n",
              "      <td>Mainland China</td>\n",
              "      <td>1/22/2020 17:00</td>\n",
              "      <td>1.0</td>\n",
              "      <td>0.0</td>\n",
              "      <td>0.0</td>\n",
              "    </tr>\n",
              "    <tr>\n",
              "      <th>1</th>\n",
              "      <td>2</td>\n",
              "      <td>01/22/2020</td>\n",
              "      <td>Beijing</td>\n",
              "      <td>Mainland China</td>\n",
              "      <td>1/22/2020 17:00</td>\n",
              "      <td>14.0</td>\n",
              "      <td>0.0</td>\n",
              "      <td>0.0</td>\n",
              "    </tr>\n",
              "    <tr>\n",
              "      <th>2</th>\n",
              "      <td>3</td>\n",
              "      <td>01/22/2020</td>\n",
              "      <td>Chongqing</td>\n",
              "      <td>Mainland China</td>\n",
              "      <td>1/22/2020 17:00</td>\n",
              "      <td>6.0</td>\n",
              "      <td>0.0</td>\n",
              "      <td>0.0</td>\n",
              "    </tr>\n",
              "    <tr>\n",
              "      <th>3</th>\n",
              "      <td>4</td>\n",
              "      <td>01/22/2020</td>\n",
              "      <td>Fujian</td>\n",
              "      <td>Mainland China</td>\n",
              "      <td>1/22/2020 17:00</td>\n",
              "      <td>1.0</td>\n",
              "      <td>0.0</td>\n",
              "      <td>0.0</td>\n",
              "    </tr>\n",
              "    <tr>\n",
              "      <th>4</th>\n",
              "      <td>5</td>\n",
              "      <td>01/22/2020</td>\n",
              "      <td>Gansu</td>\n",
              "      <td>Mainland China</td>\n",
              "      <td>1/22/2020 17:00</td>\n",
              "      <td>0.0</td>\n",
              "      <td>0.0</td>\n",
              "      <td>0.0</td>\n",
              "    </tr>\n",
              "  </tbody>\n",
              "</table>\n",
              "</div>"
            ],
            "text/plain": [
              "   SNo ObservationDate ProvinceState  ... Confirmed Deaths  Recovered\n",
              "0    1      01/22/2020         Anhui  ...       1.0    0.0        0.0\n",
              "1    2      01/22/2020       Beijing  ...      14.0    0.0        0.0\n",
              "2    3      01/22/2020     Chongqing  ...       6.0    0.0        0.0\n",
              "3    4      01/22/2020        Fujian  ...       1.0    0.0        0.0\n",
              "4    5      01/22/2020         Gansu  ...       0.0    0.0        0.0\n",
              "\n",
              "[5 rows x 8 columns]"
            ]
          },
          "metadata": {
            "tags": []
          },
          "execution_count": 32
        }
      ]
    },
    {
      "cell_type": "markdown",
      "metadata": {
        "id": "HJ8YXyOCfifr"
      },
      "source": [
        "In addition to Python-native indexing operator, we can also use **iloc** and **loc**. \n",
        "\n",
        "We use **iloc** to select data based on its numerical position. "
      ]
    },
    {
      "cell_type": "code",
      "metadata": {
        "id": "jrbW7QnOfifr",
        "outputId": "cf36e5aa-2c61-4e42-c9db-f3d8c1d3ddf4",
        "colab": {
          "base_uri": "https://localhost:8080/",
          "height": 273
        }
      },
      "source": [
        "#Select first row of data:\n",
        "covid.iloc[0]"
      ],
      "execution_count": 33,
      "outputs": [
        {
          "output_type": "error",
          "ename": "Exception",
          "evalue": "ignored",
          "traceback": [
            "\u001b[0;31m---------------------------------------------------------------------------\u001b[0m",
            "\u001b[0;31mException\u001b[0m                                 Traceback (most recent call last)",
            "\u001b[0;32m<ipython-input-33-0aa59b0ea4f8>\u001b[0m in \u001b[0;36m<module>\u001b[0;34m()\u001b[0m\n\u001b[1;32m      1\u001b[0m \u001b[0;31m#Select first row of data:\u001b[0m\u001b[0;34m\u001b[0m\u001b[0;34m\u001b[0m\u001b[0;34m\u001b[0m\u001b[0m\n\u001b[0;32m----> 2\u001b[0;31m \u001b[0mcovid\u001b[0m\u001b[0;34m.\u001b[0m\u001b[0miloc\u001b[0m\u001b[0;34m[\u001b[0m\u001b[0;36m0\u001b[0m\u001b[0;34m]\u001b[0m\u001b[0;34m\u001b[0m\u001b[0;34m\u001b[0m\u001b[0m\n\u001b[0m",
            "\u001b[0;32m/usr/local/lib/python3.7/site-packages/cudf/core/indexing.py\u001b[0m in \u001b[0;36m__getitem__\u001b[0;34m(self, arg)\u001b[0m\n\u001b[1;32m    214\u001b[0m             \u001b[0;32mif\u001b[0m \u001b[0;32mnot\u001b[0m \u001b[0misinstance\u001b[0m\u001b[0;34m(\u001b[0m\u001b[0marg\u001b[0m\u001b[0;34m,\u001b[0m \u001b[0mtuple\u001b[0m\u001b[0;34m)\u001b[0m\u001b[0;34m:\u001b[0m\u001b[0;34m\u001b[0m\u001b[0;34m\u001b[0m\u001b[0m\n\u001b[1;32m    215\u001b[0m                 \u001b[0marg\u001b[0m \u001b[0;34m=\u001b[0m \u001b[0;34m(\u001b[0m\u001b[0marg\u001b[0m\u001b[0;34m,\u001b[0m \u001b[0mslice\u001b[0m\u001b[0;34m(\u001b[0m\u001b[0;32mNone\u001b[0m\u001b[0;34m)\u001b[0m\u001b[0;34m)\u001b[0m\u001b[0;34m\u001b[0m\u001b[0;34m\u001b[0m\u001b[0m\n\u001b[0;32m--> 216\u001b[0;31m             \u001b[0;32mreturn\u001b[0m \u001b[0mself\u001b[0m\u001b[0;34m.\u001b[0m\u001b[0m_getitem_tuple_arg\u001b[0m\u001b[0;34m(\u001b[0m\u001b[0marg\u001b[0m\u001b[0;34m)\u001b[0m\u001b[0;34m\u001b[0m\u001b[0;34m\u001b[0m\u001b[0m\n\u001b[0m\u001b[1;32m    217\u001b[0m \u001b[0;34m\u001b[0m\u001b[0m\n\u001b[1;32m    218\u001b[0m     \u001b[0;32mdef\u001b[0m \u001b[0m__setitem__\u001b[0m\u001b[0;34m(\u001b[0m\u001b[0mself\u001b[0m\u001b[0;34m,\u001b[0m \u001b[0mkey\u001b[0m\u001b[0;34m,\u001b[0m \u001b[0mvalue\u001b[0m\u001b[0;34m)\u001b[0m\u001b[0;34m:\u001b[0m\u001b[0;34m\u001b[0m\u001b[0;34m\u001b[0m\u001b[0m\n",
            "\u001b[0;32m/usr/lib/python3.7/contextlib.py\u001b[0m in \u001b[0;36minner\u001b[0;34m(*args, **kwds)\u001b[0m\n\u001b[1;32m     72\u001b[0m         \u001b[0;32mdef\u001b[0m \u001b[0minner\u001b[0m\u001b[0;34m(\u001b[0m\u001b[0;34m*\u001b[0m\u001b[0margs\u001b[0m\u001b[0;34m,\u001b[0m \u001b[0;34m**\u001b[0m\u001b[0mkwds\u001b[0m\u001b[0;34m)\u001b[0m\u001b[0;34m:\u001b[0m\u001b[0;34m\u001b[0m\u001b[0;34m\u001b[0m\u001b[0m\n\u001b[1;32m     73\u001b[0m             \u001b[0;32mwith\u001b[0m \u001b[0mself\u001b[0m\u001b[0;34m.\u001b[0m\u001b[0m_recreate_cm\u001b[0m\u001b[0;34m(\u001b[0m\u001b[0;34m)\u001b[0m\u001b[0;34m:\u001b[0m\u001b[0;34m\u001b[0m\u001b[0;34m\u001b[0m\u001b[0m\n\u001b[0;32m---> 74\u001b[0;31m                 \u001b[0;32mreturn\u001b[0m \u001b[0mfunc\u001b[0m\u001b[0;34m(\u001b[0m\u001b[0;34m*\u001b[0m\u001b[0margs\u001b[0m\u001b[0;34m,\u001b[0m \u001b[0;34m**\u001b[0m\u001b[0mkwds\u001b[0m\u001b[0;34m)\u001b[0m\u001b[0;34m\u001b[0m\u001b[0;34m\u001b[0m\u001b[0m\n\u001b[0m\u001b[1;32m     75\u001b[0m         \u001b[0;32mreturn\u001b[0m \u001b[0minner\u001b[0m\u001b[0;34m\u001b[0m\u001b[0;34m\u001b[0m\u001b[0m\n\u001b[1;32m     76\u001b[0m \u001b[0;34m\u001b[0m\u001b[0m\n",
            "\u001b[0;32m/usr/local/lib/python3.7/site-packages/cudf/core/indexing.py\u001b[0m in \u001b[0;36m_getitem_tuple_arg\u001b[0;34m(self, arg)\u001b[0m\n\u001b[1;32m    464\u001b[0m         \u001b[0;31m# Reindex\u001b[0m\u001b[0;34m\u001b[0m\u001b[0;34m\u001b[0m\u001b[0;34m\u001b[0m\u001b[0m\n\u001b[1;32m    465\u001b[0m         \u001b[0;32mif\u001b[0m \u001b[0mdf\u001b[0m\u001b[0;34m.\u001b[0m\u001b[0mshape\u001b[0m\u001b[0;34m[\u001b[0m\u001b[0;36m0\u001b[0m\u001b[0;34m]\u001b[0m \u001b[0;34m==\u001b[0m \u001b[0;36m1\u001b[0m\u001b[0;34m:\u001b[0m  \u001b[0;31m# we have a single row without an index\u001b[0m\u001b[0;34m\u001b[0m\u001b[0;34m\u001b[0m\u001b[0m\n\u001b[0;32m--> 466\u001b[0;31m             \u001b[0mdf\u001b[0m\u001b[0;34m.\u001b[0m\u001b[0mindex\u001b[0m \u001b[0;34m=\u001b[0m \u001b[0mas_index\u001b[0m\u001b[0;34m(\u001b[0m\u001b[0mself\u001b[0m\u001b[0;34m.\u001b[0m\u001b[0m_df\u001b[0m\u001b[0;34m.\u001b[0m\u001b[0mindex\u001b[0m\u001b[0;34m[\u001b[0m\u001b[0marg\u001b[0m\u001b[0;34m[\u001b[0m\u001b[0;36m0\u001b[0m\u001b[0;34m]\u001b[0m\u001b[0;34m]\u001b[0m\u001b[0;34m)\u001b[0m\u001b[0;34m\u001b[0m\u001b[0;34m\u001b[0m\u001b[0m\n\u001b[0m\u001b[1;32m    467\u001b[0m \u001b[0;34m\u001b[0m\u001b[0m\n\u001b[1;32m    468\u001b[0m         \u001b[0;31m# Iloc Step 4:\u001b[0m\u001b[0;34m\u001b[0m\u001b[0;34m\u001b[0m\u001b[0;34m\u001b[0m\u001b[0m\n",
            "\u001b[0;32m/usr/local/lib/python3.7/site-packages/cudf/core/index.py\u001b[0m in \u001b[0;36mas_index\u001b[0;34m(arbitrary, **kwargs)\u001b[0m\n\u001b[1;32m   3109\u001b[0m         \u001b[0;32mreturn\u001b[0m \u001b[0mRangeIndex\u001b[0m\u001b[0;34m(\u001b[0m\u001b[0marbitrary\u001b[0m\u001b[0;34m,\u001b[0m \u001b[0;34m**\u001b[0m\u001b[0mkwargs\u001b[0m\u001b[0;34m)\u001b[0m\u001b[0;34m\u001b[0m\u001b[0;34m\u001b[0m\u001b[0m\n\u001b[1;32m   3110\u001b[0m     return as_index(\n\u001b[0;32m-> 3111\u001b[0;31m         \u001b[0mcolumn\u001b[0m\u001b[0;34m.\u001b[0m\u001b[0mas_column\u001b[0m\u001b[0;34m(\u001b[0m\u001b[0marbitrary\u001b[0m\u001b[0;34m,\u001b[0m \u001b[0mdtype\u001b[0m\u001b[0;34m=\u001b[0m\u001b[0mkwargs\u001b[0m\u001b[0;34m.\u001b[0m\u001b[0mget\u001b[0m\u001b[0;34m(\u001b[0m\u001b[0;34m\"dtype\"\u001b[0m\u001b[0;34m,\u001b[0m \u001b[0;32mNone\u001b[0m\u001b[0;34m)\u001b[0m\u001b[0;34m)\u001b[0m\u001b[0;34m,\u001b[0m \u001b[0;34m**\u001b[0m\u001b[0mkwargs\u001b[0m\u001b[0;34m\u001b[0m\u001b[0;34m\u001b[0m\u001b[0m\n\u001b[0m\u001b[1;32m   3112\u001b[0m     )\n\u001b[1;32m   3113\u001b[0m \u001b[0;34m\u001b[0m\u001b[0m\n",
            "\u001b[0;32m/usr/local/lib/python3.7/site-packages/cudf/core/column/column.py\u001b[0m in \u001b[0;36mas_column\u001b[0;34m(arbitrary, nan_as_null, dtype, length)\u001b[0m\n\u001b[1;32m   1944\u001b[0m \u001b[0;34m\u001b[0m\u001b[0m\n\u001b[1;32m   1945\u001b[0m         data = as_column(\n\u001b[0;32m-> 1946\u001b[0;31m             \u001b[0mutils\u001b[0m\u001b[0;34m.\u001b[0m\u001b[0mscalar_broadcast_to\u001b[0m\u001b[0;34m(\u001b[0m\u001b[0marbitrary\u001b[0m\u001b[0;34m,\u001b[0m \u001b[0mlength\u001b[0m\u001b[0;34m,\u001b[0m \u001b[0mdtype\u001b[0m\u001b[0;34m=\u001b[0m\u001b[0mdtype\u001b[0m\u001b[0;34m)\u001b[0m\u001b[0;34m\u001b[0m\u001b[0;34m\u001b[0m\u001b[0m\n\u001b[0m\u001b[1;32m   1947\u001b[0m         )\n\u001b[1;32m   1948\u001b[0m         \u001b[0;32mif\u001b[0m \u001b[0;32mnot\u001b[0m \u001b[0mnan_as_null\u001b[0m\u001b[0;34m:\u001b[0m\u001b[0;34m\u001b[0m\u001b[0;34m\u001b[0m\u001b[0m\n",
            "\u001b[0;32m/usr/local/lib/python3.7/site-packages/cudf/utils/utils.py\u001b[0m in \u001b[0;36mscalar_broadcast_to\u001b[0;34m(scalar, size, dtype)\u001b[0m\n\u001b[1;32m    108\u001b[0m         \u001b[0mout_col\u001b[0m \u001b[0;34m=\u001b[0m \u001b[0mcolumn\u001b[0m\u001b[0;34m.\u001b[0m\u001b[0mcolumn_empty\u001b[0m\u001b[0;34m(\u001b[0m\u001b[0msize\u001b[0m\u001b[0;34m,\u001b[0m \u001b[0mdtype\u001b[0m\u001b[0;34m=\u001b[0m\u001b[0mdtype\u001b[0m\u001b[0;34m)\u001b[0m\u001b[0;34m\u001b[0m\u001b[0;34m\u001b[0m\u001b[0m\n\u001b[1;32m    109\u001b[0m         \u001b[0;32mif\u001b[0m \u001b[0mout_col\u001b[0m\u001b[0;34m.\u001b[0m\u001b[0msize\u001b[0m \u001b[0;34m!=\u001b[0m \u001b[0;36m0\u001b[0m\u001b[0;34m:\u001b[0m\u001b[0;34m\u001b[0m\u001b[0;34m\u001b[0m\u001b[0m\n\u001b[0;32m--> 110\u001b[0;31m             \u001b[0mout_col\u001b[0m\u001b[0;34m.\u001b[0m\u001b[0mdata_array_view\u001b[0m\u001b[0;34m[\u001b[0m\u001b[0;34m:\u001b[0m\u001b[0;34m]\u001b[0m \u001b[0;34m=\u001b[0m \u001b[0mscalar\u001b[0m\u001b[0;34m\u001b[0m\u001b[0;34m\u001b[0m\u001b[0m\n\u001b[0m\u001b[1;32m    111\u001b[0m         \u001b[0;32mreturn\u001b[0m \u001b[0mout_col\u001b[0m\u001b[0;34m\u001b[0m\u001b[0;34m\u001b[0m\u001b[0m\n\u001b[1;32m    112\u001b[0m \u001b[0;34m\u001b[0m\u001b[0m\n",
            "\u001b[0;32m/usr/local/lib/python3.7/site-packages/numba/cuda/cudadrv/devices.py\u001b[0m in \u001b[0;36m_require_cuda_context\u001b[0;34m(*args, **kws)\u001b[0m\n\u001b[1;32m    222\u001b[0m     \u001b[0;32mdef\u001b[0m \u001b[0m_require_cuda_context\u001b[0m\u001b[0;34m(\u001b[0m\u001b[0;34m*\u001b[0m\u001b[0margs\u001b[0m\u001b[0;34m,\u001b[0m \u001b[0;34m**\u001b[0m\u001b[0mkws\u001b[0m\u001b[0;34m)\u001b[0m\u001b[0;34m:\u001b[0m\u001b[0;34m\u001b[0m\u001b[0;34m\u001b[0m\u001b[0m\n\u001b[1;32m    223\u001b[0m         \u001b[0;32mwith\u001b[0m \u001b[0m_runtime\u001b[0m\u001b[0;34m.\u001b[0m\u001b[0mensure_context\u001b[0m\u001b[0;34m(\u001b[0m\u001b[0;34m)\u001b[0m\u001b[0;34m:\u001b[0m\u001b[0;34m\u001b[0m\u001b[0;34m\u001b[0m\u001b[0m\n\u001b[0;32m--> 224\u001b[0;31m             \u001b[0;32mreturn\u001b[0m \u001b[0mfn\u001b[0m\u001b[0;34m(\u001b[0m\u001b[0;34m*\u001b[0m\u001b[0margs\u001b[0m\u001b[0;34m,\u001b[0m \u001b[0;34m**\u001b[0m\u001b[0mkws\u001b[0m\u001b[0;34m)\u001b[0m\u001b[0;34m\u001b[0m\u001b[0;34m\u001b[0m\u001b[0m\n\u001b[0m\u001b[1;32m    225\u001b[0m \u001b[0;34m\u001b[0m\u001b[0m\n\u001b[1;32m    226\u001b[0m     \u001b[0;32mreturn\u001b[0m \u001b[0m_require_cuda_context\u001b[0m\u001b[0;34m\u001b[0m\u001b[0;34m\u001b[0m\u001b[0m\n",
            "\u001b[0;32m/usr/local/lib/python3.7/site-packages/numba/cuda/cudadrv/devicearray.py\u001b[0m in \u001b[0;36m__setitem__\u001b[0;34m(self, key, value)\u001b[0m\n\u001b[1;32m    575\u001b[0m     \u001b[0;34m@\u001b[0m\u001b[0mdevices\u001b[0m\u001b[0;34m.\u001b[0m\u001b[0mrequire_context\u001b[0m\u001b[0;34m\u001b[0m\u001b[0;34m\u001b[0m\u001b[0m\n\u001b[1;32m    576\u001b[0m     \u001b[0;32mdef\u001b[0m \u001b[0m__setitem__\u001b[0m\u001b[0;34m(\u001b[0m\u001b[0mself\u001b[0m\u001b[0;34m,\u001b[0m \u001b[0mkey\u001b[0m\u001b[0;34m,\u001b[0m \u001b[0mvalue\u001b[0m\u001b[0;34m)\u001b[0m\u001b[0;34m:\u001b[0m\u001b[0;34m\u001b[0m\u001b[0;34m\u001b[0m\u001b[0m\n\u001b[0;32m--> 577\u001b[0;31m         \u001b[0;32mreturn\u001b[0m \u001b[0mself\u001b[0m\u001b[0;34m.\u001b[0m\u001b[0m_do_setitem\u001b[0m\u001b[0;34m(\u001b[0m\u001b[0mkey\u001b[0m\u001b[0;34m,\u001b[0m \u001b[0mvalue\u001b[0m\u001b[0;34m)\u001b[0m\u001b[0;34m\u001b[0m\u001b[0;34m\u001b[0m\u001b[0m\n\u001b[0m\u001b[1;32m    578\u001b[0m \u001b[0;34m\u001b[0m\u001b[0m\n\u001b[1;32m    579\u001b[0m     \u001b[0;32mdef\u001b[0m \u001b[0msetitem\u001b[0m\u001b[0;34m(\u001b[0m\u001b[0mself\u001b[0m\u001b[0;34m,\u001b[0m \u001b[0mkey\u001b[0m\u001b[0;34m,\u001b[0m \u001b[0mvalue\u001b[0m\u001b[0;34m,\u001b[0m \u001b[0mstream\u001b[0m\u001b[0;34m=\u001b[0m\u001b[0;36m0\u001b[0m\u001b[0;34m)\u001b[0m\u001b[0;34m:\u001b[0m\u001b[0;34m\u001b[0m\u001b[0;34m\u001b[0m\u001b[0m\n",
            "\u001b[0;32m/usr/local/lib/python3.7/site-packages/numba/cuda/cudadrv/devicearray.py\u001b[0m in \u001b[0;36m_do_setitem\u001b[0;34m(self, key, value, stream)\u001b[0m\n\u001b[1;32m    627\u001b[0m \u001b[0;34m\u001b[0m\u001b[0m\n\u001b[1;32m    628\u001b[0m         \u001b[0mn_elements\u001b[0m \u001b[0;34m=\u001b[0m \u001b[0mfunctools\u001b[0m\u001b[0;34m.\u001b[0m\u001b[0mreduce\u001b[0m\u001b[0;34m(\u001b[0m\u001b[0moperator\u001b[0m\u001b[0;34m.\u001b[0m\u001b[0mmul\u001b[0m\u001b[0;34m,\u001b[0m \u001b[0mlhs\u001b[0m\u001b[0;34m.\u001b[0m\u001b[0mshape\u001b[0m\u001b[0;34m,\u001b[0m \u001b[0;36m1\u001b[0m\u001b[0;34m)\u001b[0m\u001b[0;34m\u001b[0m\u001b[0;34m\u001b[0m\u001b[0m\n\u001b[0;32m--> 629\u001b[0;31m         \u001b[0m_assign_kernel\u001b[0m\u001b[0;34m(\u001b[0m\u001b[0mlhs\u001b[0m\u001b[0;34m.\u001b[0m\u001b[0mndim\u001b[0m\u001b[0;34m)\u001b[0m\u001b[0;34m.\u001b[0m\u001b[0mforall\u001b[0m\u001b[0;34m(\u001b[0m\u001b[0mn_elements\u001b[0m\u001b[0;34m,\u001b[0m \u001b[0mstream\u001b[0m\u001b[0;34m=\u001b[0m\u001b[0mstream\u001b[0m\u001b[0;34m)\u001b[0m\u001b[0;34m(\u001b[0m\u001b[0mlhs\u001b[0m\u001b[0;34m,\u001b[0m \u001b[0mrhs\u001b[0m\u001b[0;34m)\u001b[0m\u001b[0;34m\u001b[0m\u001b[0;34m\u001b[0m\u001b[0m\n\u001b[0m\u001b[1;32m    630\u001b[0m \u001b[0;34m\u001b[0m\u001b[0m\n\u001b[1;32m    631\u001b[0m \u001b[0;34m\u001b[0m\u001b[0m\n",
            "\u001b[0;32m/usr/local/lib/python3.7/site-packages/numba/cuda/compiler.py\u001b[0m in \u001b[0;36m__call__\u001b[0;34m(self, *args)\u001b[0m\n\u001b[1;32m    370\u001b[0m             \u001b[0mkernel\u001b[0m \u001b[0;34m=\u001b[0m \u001b[0mself\u001b[0m\u001b[0;34m.\u001b[0m\u001b[0mkernel\u001b[0m\u001b[0;34m\u001b[0m\u001b[0;34m\u001b[0m\u001b[0m\n\u001b[1;32m    371\u001b[0m         \u001b[0;32melse\u001b[0m\u001b[0;34m:\u001b[0m\u001b[0;34m\u001b[0m\u001b[0;34m\u001b[0m\u001b[0m\n\u001b[0;32m--> 372\u001b[0;31m             \u001b[0mkernel\u001b[0m \u001b[0;34m=\u001b[0m \u001b[0mself\u001b[0m\u001b[0;34m.\u001b[0m\u001b[0mkernel\u001b[0m\u001b[0;34m.\u001b[0m\u001b[0mspecialize\u001b[0m\u001b[0;34m(\u001b[0m\u001b[0;34m*\u001b[0m\u001b[0margs\u001b[0m\u001b[0;34m)\u001b[0m\u001b[0;34m\u001b[0m\u001b[0;34m\u001b[0m\u001b[0m\n\u001b[0m\u001b[1;32m    373\u001b[0m         \u001b[0mblockdim\u001b[0m \u001b[0;34m=\u001b[0m \u001b[0mself\u001b[0m\u001b[0;34m.\u001b[0m\u001b[0m_compute_thread_per_block\u001b[0m\u001b[0;34m(\u001b[0m\u001b[0mkernel\u001b[0m\u001b[0;34m)\u001b[0m\u001b[0;34m\u001b[0m\u001b[0;34m\u001b[0m\u001b[0m\n\u001b[1;32m    374\u001b[0m         \u001b[0mgriddim\u001b[0m \u001b[0;34m=\u001b[0m \u001b[0;34m(\u001b[0m\u001b[0mself\u001b[0m\u001b[0;34m.\u001b[0m\u001b[0mntasks\u001b[0m \u001b[0;34m+\u001b[0m \u001b[0mblockdim\u001b[0m \u001b[0;34m-\u001b[0m \u001b[0;36m1\u001b[0m\u001b[0;34m)\u001b[0m \u001b[0;34m//\u001b[0m \u001b[0mblockdim\u001b[0m\u001b[0;34m\u001b[0m\u001b[0;34m\u001b[0m\u001b[0m\n",
            "\u001b[0;32m/usr/local/lib/python3.7/site-packages/numba/cuda/compiler.py\u001b[0m in \u001b[0;36mspecialize\u001b[0;34m(self, *args)\u001b[0m\n\u001b[1;32m    869\u001b[0m         \u001b[0mcc\u001b[0m \u001b[0;34m=\u001b[0m \u001b[0mget_current_device\u001b[0m\u001b[0;34m(\u001b[0m\u001b[0;34m)\u001b[0m\u001b[0;34m.\u001b[0m\u001b[0mcompute_capability\u001b[0m\u001b[0;34m\u001b[0m\u001b[0;34m\u001b[0m\u001b[0m\n\u001b[1;32m    870\u001b[0m         argtypes = tuple(\n\u001b[0;32m--> 871\u001b[0;31m             [self.typingctx.resolve_argument_type(a) for a in args])\n\u001b[0m\u001b[1;32m    872\u001b[0m         \u001b[0;32mif\u001b[0m \u001b[0mself\u001b[0m\u001b[0;34m.\u001b[0m\u001b[0mspecialized\u001b[0m\u001b[0;34m:\u001b[0m\u001b[0;34m\u001b[0m\u001b[0;34m\u001b[0m\u001b[0m\n\u001b[1;32m    873\u001b[0m             \u001b[0;32mraise\u001b[0m \u001b[0mRuntimeError\u001b[0m\u001b[0;34m(\u001b[0m\u001b[0;34m'Dispatcher already specialized'\u001b[0m\u001b[0;34m)\u001b[0m\u001b[0;34m\u001b[0m\u001b[0;34m\u001b[0m\u001b[0m\n",
            "\u001b[0;32m/usr/local/lib/python3.7/site-packages/numba/cuda/compiler.py\u001b[0m in \u001b[0;36m<listcomp>\u001b[0;34m(.0)\u001b[0m\n\u001b[1;32m    869\u001b[0m         \u001b[0mcc\u001b[0m \u001b[0;34m=\u001b[0m \u001b[0mget_current_device\u001b[0m\u001b[0;34m(\u001b[0m\u001b[0;34m)\u001b[0m\u001b[0;34m.\u001b[0m\u001b[0mcompute_capability\u001b[0m\u001b[0;34m\u001b[0m\u001b[0;34m\u001b[0m\u001b[0m\n\u001b[1;32m    870\u001b[0m         argtypes = tuple(\n\u001b[0;32m--> 871\u001b[0;31m             [self.typingctx.resolve_argument_type(a) for a in args])\n\u001b[0m\u001b[1;32m    872\u001b[0m         \u001b[0;32mif\u001b[0m \u001b[0mself\u001b[0m\u001b[0;34m.\u001b[0m\u001b[0mspecialized\u001b[0m\u001b[0;34m:\u001b[0m\u001b[0;34m\u001b[0m\u001b[0;34m\u001b[0m\u001b[0m\n\u001b[1;32m    873\u001b[0m             \u001b[0;32mraise\u001b[0m \u001b[0mRuntimeError\u001b[0m\u001b[0;34m(\u001b[0m\u001b[0;34m'Dispatcher already specialized'\u001b[0m\u001b[0;34m)\u001b[0m\u001b[0;34m\u001b[0m\u001b[0;34m\u001b[0m\u001b[0m\n",
            "\u001b[0;32m/usr/local/lib/python3.7/site-packages/numba/core/typing/context.py\u001b[0m in \u001b[0;36mresolve_argument_type\u001b[0;34m(self, val)\u001b[0m\n\u001b[1;32m    351\u001b[0m         \"\"\"\n\u001b[1;32m    352\u001b[0m         \u001b[0;32mtry\u001b[0m\u001b[0;34m:\u001b[0m\u001b[0;34m\u001b[0m\u001b[0;34m\u001b[0m\u001b[0m\n\u001b[0;32m--> 353\u001b[0;31m             \u001b[0;32mreturn\u001b[0m \u001b[0mtypeof\u001b[0m\u001b[0;34m(\u001b[0m\u001b[0mval\u001b[0m\u001b[0;34m,\u001b[0m \u001b[0mPurpose\u001b[0m\u001b[0;34m.\u001b[0m\u001b[0margument\u001b[0m\u001b[0;34m)\u001b[0m\u001b[0;34m\u001b[0m\u001b[0;34m\u001b[0m\u001b[0m\n\u001b[0m\u001b[1;32m    354\u001b[0m         \u001b[0;32mexcept\u001b[0m \u001b[0mValueError\u001b[0m\u001b[0;34m:\u001b[0m\u001b[0;34m\u001b[0m\u001b[0;34m\u001b[0m\u001b[0m\n\u001b[1;32m    355\u001b[0m             \u001b[0;32mif\u001b[0m \u001b[0mnumba\u001b[0m\u001b[0;34m.\u001b[0m\u001b[0mcuda\u001b[0m\u001b[0;34m.\u001b[0m\u001b[0mis_cuda_array\u001b[0m\u001b[0;34m(\u001b[0m\u001b[0mval\u001b[0m\u001b[0;34m)\u001b[0m\u001b[0;34m:\u001b[0m\u001b[0;34m\u001b[0m\u001b[0;34m\u001b[0m\u001b[0m\n",
            "\u001b[0;32m/usr/local/lib/python3.7/site-packages/numba/core/typing/typeof.py\u001b[0m in \u001b[0;36mtypeof\u001b[0;34m(val, purpose)\u001b[0m\n\u001b[1;32m     27\u001b[0m     \u001b[0;31m# Note the behaviour for Purpose.argument must match _typeof.c.\u001b[0m\u001b[0;34m\u001b[0m\u001b[0;34m\u001b[0m\u001b[0;34m\u001b[0m\u001b[0m\n\u001b[1;32m     28\u001b[0m     \u001b[0mc\u001b[0m \u001b[0;34m=\u001b[0m \u001b[0m_TypeofContext\u001b[0m\u001b[0;34m(\u001b[0m\u001b[0mpurpose\u001b[0m\u001b[0;34m)\u001b[0m\u001b[0;34m\u001b[0m\u001b[0;34m\u001b[0m\u001b[0m\n\u001b[0;32m---> 29\u001b[0;31m     \u001b[0mty\u001b[0m \u001b[0;34m=\u001b[0m \u001b[0mtypeof_impl\u001b[0m\u001b[0;34m(\u001b[0m\u001b[0mval\u001b[0m\u001b[0;34m,\u001b[0m \u001b[0mc\u001b[0m\u001b[0;34m)\u001b[0m\u001b[0;34m\u001b[0m\u001b[0;34m\u001b[0m\u001b[0m\n\u001b[0m\u001b[1;32m     30\u001b[0m     \u001b[0;32mif\u001b[0m \u001b[0mty\u001b[0m \u001b[0;32mis\u001b[0m \u001b[0;32mNone\u001b[0m\u001b[0;34m:\u001b[0m\u001b[0;34m\u001b[0m\u001b[0;34m\u001b[0m\u001b[0m\n\u001b[1;32m     31\u001b[0m         msg = _termcolor.errmsg(\n",
            "\u001b[0;32m/usr/lib/python3.7/functools.py\u001b[0m in \u001b[0;36mwrapper\u001b[0;34m(*args, **kw)\u001b[0m\n\u001b[1;32m    838\u001b[0m                             '1 positional argument')\n\u001b[1;32m    839\u001b[0m \u001b[0;34m\u001b[0m\u001b[0m\n\u001b[0;32m--> 840\u001b[0;31m         \u001b[0;32mreturn\u001b[0m \u001b[0mdispatch\u001b[0m\u001b[0;34m(\u001b[0m\u001b[0margs\u001b[0m\u001b[0;34m[\u001b[0m\u001b[0;36m0\u001b[0m\u001b[0;34m]\u001b[0m\u001b[0;34m.\u001b[0m\u001b[0m__class__\u001b[0m\u001b[0;34m)\u001b[0m\u001b[0;34m(\u001b[0m\u001b[0;34m*\u001b[0m\u001b[0margs\u001b[0m\u001b[0;34m,\u001b[0m \u001b[0;34m**\u001b[0m\u001b[0mkw\u001b[0m\u001b[0;34m)\u001b[0m\u001b[0;34m\u001b[0m\u001b[0;34m\u001b[0m\u001b[0m\n\u001b[0m\u001b[1;32m    841\u001b[0m \u001b[0;34m\u001b[0m\u001b[0m\n\u001b[1;32m    842\u001b[0m     \u001b[0mfuncname\u001b[0m \u001b[0;34m=\u001b[0m \u001b[0mgetattr\u001b[0m\u001b[0;34m(\u001b[0m\u001b[0mfunc\u001b[0m\u001b[0;34m,\u001b[0m \u001b[0;34m'__name__'\u001b[0m\u001b[0;34m,\u001b[0m \u001b[0;34m'singledispatch function'\u001b[0m\u001b[0;34m)\u001b[0m\u001b[0;34m\u001b[0m\u001b[0;34m\u001b[0m\u001b[0m\n",
            "\u001b[0;32m/usr/local/lib/python3.7/site-packages/numba/core/typing/typeof.py\u001b[0m in \u001b[0;36mtypeof_impl\u001b[0;34m(val, c)\u001b[0m\n\u001b[1;32m     46\u001b[0m     \u001b[0;31m# cffi is handled here as it does not expose a public base class\u001b[0m\u001b[0;34m\u001b[0m\u001b[0;34m\u001b[0m\u001b[0;34m\u001b[0m\u001b[0m\n\u001b[1;32m     47\u001b[0m     \u001b[0;31m# for exported functions or CompiledFFI instances.\u001b[0m\u001b[0;34m\u001b[0m\u001b[0;34m\u001b[0m\u001b[0;34m\u001b[0m\u001b[0m\n\u001b[0;32m---> 48\u001b[0;31m     \u001b[0;32mfrom\u001b[0m \u001b[0mnumba\u001b[0m\u001b[0;34m.\u001b[0m\u001b[0mcore\u001b[0m\u001b[0;34m.\u001b[0m\u001b[0mtyping\u001b[0m \u001b[0;32mimport\u001b[0m \u001b[0mcffi_utils\u001b[0m\u001b[0;34m\u001b[0m\u001b[0;34m\u001b[0m\u001b[0m\n\u001b[0m\u001b[1;32m     49\u001b[0m     \u001b[0;32mif\u001b[0m \u001b[0mcffi_utils\u001b[0m\u001b[0;34m.\u001b[0m\u001b[0mSUPPORTED\u001b[0m\u001b[0;34m:\u001b[0m\u001b[0;34m\u001b[0m\u001b[0;34m\u001b[0m\u001b[0m\n\u001b[1;32m     50\u001b[0m         \u001b[0;32mif\u001b[0m \u001b[0mcffi_utils\u001b[0m\u001b[0;34m.\u001b[0m\u001b[0mis_cffi_func\u001b[0m\u001b[0;34m(\u001b[0m\u001b[0mval\u001b[0m\u001b[0;34m)\u001b[0m\u001b[0;34m:\u001b[0m\u001b[0;34m\u001b[0m\u001b[0;34m\u001b[0m\u001b[0m\n",
            "\u001b[0;32m/usr/local/lib/python3.7/site-packages/numba/core/typing/cffi_utils.py\u001b[0m in \u001b[0;36m<module>\u001b[0;34m()\u001b[0m\n\u001b[1;32m     17\u001b[0m \u001b[0;32mtry\u001b[0m\u001b[0;34m:\u001b[0m\u001b[0;34m\u001b[0m\u001b[0;34m\u001b[0m\u001b[0m\n\u001b[1;32m     18\u001b[0m     \u001b[0;32mimport\u001b[0m \u001b[0mcffi\u001b[0m\u001b[0;34m\u001b[0m\u001b[0;34m\u001b[0m\u001b[0m\n\u001b[0;32m---> 19\u001b[0;31m     \u001b[0mffi\u001b[0m \u001b[0;34m=\u001b[0m \u001b[0mcffi\u001b[0m\u001b[0;34m.\u001b[0m\u001b[0mFFI\u001b[0m\u001b[0;34m(\u001b[0m\u001b[0;34m)\u001b[0m\u001b[0;34m\u001b[0m\u001b[0;34m\u001b[0m\u001b[0m\n\u001b[0m\u001b[1;32m     20\u001b[0m \u001b[0;32mexcept\u001b[0m \u001b[0mImportError\u001b[0m\u001b[0;34m:\u001b[0m\u001b[0;34m\u001b[0m\u001b[0;34m\u001b[0m\u001b[0m\n\u001b[1;32m     21\u001b[0m     \u001b[0mffi\u001b[0m \u001b[0;34m=\u001b[0m \u001b[0;32mNone\u001b[0m\u001b[0;34m\u001b[0m\u001b[0;34m\u001b[0m\u001b[0m\n",
            "\u001b[0;32m/usr/local/lib/python3.7/dist-packages/cffi/api.py\u001b[0m in \u001b[0;36m__init__\u001b[0;34m(self, backend)\u001b[0m\n",
            "\u001b[0;31mException\u001b[0m: Version mismatch: this is the 'cffi' package version 1.14.5, located in '/usr/local/lib/python3.7/dist-packages/cffi/api.py'.  When we import the top-level '_cffi_backend' extension module, we get version 1.14.3, located in '/usr/local/lib/python3.7/site-packages/_cffi_backend.cpython-37m-x86_64-linux-gnu.so'.  The two versions should be equal; check your installation."
          ]
        }
      ]
    },
    {
      "cell_type": "code",
      "metadata": {
        "id": "K4HKtLvyfifr"
      },
      "source": [
        "#If, instead, we want to get first column of data, we would use:\n",
        "covid.iloc[:, 2].head()"
      ],
      "execution_count": null,
      "outputs": []
    },
    {
      "cell_type": "markdown",
      "metadata": {
        "id": "EwnzvKzwfifr"
      },
      "source": [
        "We use **loc** for label-based selection:"
      ]
    },
    {
      "cell_type": "code",
      "metadata": {
        "id": "hPoOwEBxfifr"
      },
      "source": [
        "covid.loc[:, ['ObservationDate', 'Country/Region', 'Confirmed']].head()"
      ],
      "execution_count": null,
      "outputs": []
    },
    {
      "cell_type": "markdown",
      "metadata": {
        "id": "3IxdcUDSfifs"
      },
      "source": [
        "Usually, data selection based on *conditions* provides the most interesting insights."
      ]
    },
    {
      "cell_type": "markdown",
      "metadata": {
        "id": "Kyw9Npc-fifs"
      },
      "source": [
        "Let's take a look at Italy-related data:"
      ]
    },
    {
      "cell_type": "code",
      "metadata": {
        "id": "hmYWeB5mfifs"
      },
      "source": [
        "#Select 'Italy' Country/Region data:\n",
        "covid[covid['Country/Region'] == 'Italy']"
      ],
      "execution_count": null,
      "outputs": []
    },
    {
      "cell_type": "markdown",
      "metadata": {
        "id": "VwAMXUCofifs"
      },
      "source": [
        "To see the number of confirmed cases in Italy as of April 13, we can use the apmersand (**&**) to bring the two questions together:"
      ]
    },
    {
      "cell_type": "code",
      "metadata": {
        "id": "0ZbkXMMHfifs"
      },
      "source": [
        "#Confirmed cases in Italy as of April 13, 2020:\n",
        "covid[(covid['Country/Region'] == 'Italy') & (covid['ObservationDate'] == '04/13/2020')].Confirmed"
      ],
      "execution_count": null,
      "outputs": []
    },
    {
      "cell_type": "markdown",
      "metadata": {
        "id": "5tgA9WD0fift"
      },
      "source": [
        "If, instead, we are interested in seeing all the data related to California or Washington states in US, we would use a pipe (**|**):"
      ]
    },
    {
      "cell_type": "code",
      "metadata": {
        "id": "3rZm2VxWfift"
      },
      "source": [
        "covid[(covid['Country/Region'] == 'US') &\n",
        "      ((covid['Province/State'] == 'Washington') | (covid['Province/State'] == 'California'))].head(7)"
      ],
      "execution_count": null,
      "outputs": []
    },
    {
      "cell_type": "markdown",
      "metadata": {
        "id": "u7LcFQ8vfift"
      },
      "source": [
        "To get the same results, we might also use pandas built-in conditional selector **isin()**:"
      ]
    },
    {
      "cell_type": "code",
      "metadata": {
        "id": "lquLNtiSfift"
      },
      "source": [
        "#Alternative way of looking at all data relates to CA and WA states in US:\n",
        "covid[(covid['Country/Region'] == 'US') &\n",
        "      (covid['Province/State'].isin(['Washington', 'California']))].head(7)"
      ],
      "execution_count": null,
      "outputs": []
    },
    {
      "cell_type": "markdown",
      "metadata": {
        "id": "8QkakViefift"
      },
      "source": [
        "### Assigning data"
      ]
    },
    {
      "cell_type": "markdown",
      "metadata": {
        "id": "Ga-utYPTfift"
      },
      "source": [
        "Sometimes we might want to re-write all the values within the Series. For example, we can create a new column \"Source\", and fill it in with \"Trusted\":"
      ]
    },
    {
      "cell_type": "code",
      "metadata": {
        "id": "uPJwmGUHfifu"
      },
      "source": [
        "#Create a new \"Source\" column:\n",
        "covid['Source'] = 'Trusted'\n",
        "covid.head()"
      ],
      "execution_count": null,
      "outputs": []
    },
    {
      "cell_type": "markdown",
      "metadata": {
        "id": "opcxDeEOfifu"
      },
      "source": [
        "## 2. Exploratory data analysis with pandas"
      ]
    },
    {
      "cell_type": "markdown",
      "metadata": {
        "id": "uQtr0nJSfifu"
      },
      "source": [
        "### Data cleaning"
      ]
    },
    {
      "cell_type": "markdown",
      "metadata": {
        "id": "9oSo_4u1fifu"
      },
      "source": [
        "#### Remove unnecessary data"
      ]
    },
    {
      "cell_type": "markdown",
      "metadata": {
        "id": "7HbUiPVefifu"
      },
      "source": [
        "Now that we have covered some basics of data exporting and viewing, let's see how we can clean our sample dataset for further analysis."
      ]
    },
    {
      "cell_type": "markdown",
      "metadata": {
        "id": "v-cDdn51fifv"
      },
      "source": [
        "First of all, let's delete the \"Source\" column we just created. To do this, we will use **drop()** method. Its *axis* parameter identifies whether we want to drop labels from the index (0 or ‘index’) or columns (1 or ‘columns’):"
      ]
    },
    {
      "cell_type": "code",
      "metadata": {
        "id": "ObDLN98bfifw"
      },
      "source": [
        "#drop \"Source', 'SNo', and 'LastUpdate' columns:\n",
        "covid = covid.drop(['Source', 'Last Update', 'SNo'], axis = 1)\n",
        "covid.head(2)"
      ],
      "execution_count": null,
      "outputs": []
    },
    {
      "cell_type": "markdown",
      "metadata": {
        "id": "JeWFmMVafifx"
      },
      "source": [
        "(Here, we also dropped 'SNo' column, which is basically another index column, and 'Last Update' column since it was showing time in UTC at which the row is updated for the given province or country.)"
      ]
    },
    {
      "cell_type": "code",
      "metadata": {
        "id": "1yjO_o-Jfifx"
      },
      "source": [
        "#To drop a row (or multiple rows) by index, we would use the following syntax:\n",
        "#covid.drop([0, 1]) - drop first two rows"
      ],
      "execution_count": null,
      "outputs": []
    },
    {
      "cell_type": "markdown",
      "metadata": {
        "id": "OjeJgHBQfifx"
      },
      "source": [
        "#### Rename columns"
      ]
    },
    {
      "cell_type": "markdown",
      "metadata": {
        "id": "WYos2P8Ififx"
      },
      "source": [
        "Sometimes, data sets we are working with come with column names or index names which are not very convenient. For example, we have 'Province/State' and 'Country/Region' columns which have special characters in their names, and also 'Last Update' column with a space in it. Let's rename them:"
      ]
    },
    {
      "cell_type": "code",
      "metadata": {
        "id": "-KWm7Fgmfify"
      },
      "source": [
        "#Rename 'Province/State' column to a 'Region', and 'Country/Region' column to a 'Country':\n",
        "covid = covid.rename(columns = {'Province/State': 'Region', 'Country/Region': 'Country'})\n",
        "covid.head()"
      ],
      "execution_count": null,
      "outputs": []
    },
    {
      "cell_type": "markdown",
      "metadata": {
        "id": "ZTttnbHGfify"
      },
      "source": [
        "#### Remove duplicate records"
      ]
    },
    {
      "cell_type": "markdown",
      "metadata": {
        "id": "kYJB6VXpfify"
      },
      "source": [
        "First, we check if there are any duplicate records using **duplicated()** method which returns boolean True/False values:"
      ]
    },
    {
      "cell_type": "code",
      "metadata": {
        "id": "GA52q-JOfify"
      },
      "source": [
        "# NOT SUPPORTED IN RAPIDS\n",
        "covid.duplicated().head()"
      ],
      "execution_count": null,
      "outputs": []
    },
    {
      "cell_type": "markdown",
      "metadata": {
        "id": "IPIV2jW7fify"
      },
      "source": [
        "Of course we do not want to scrool through thousands of returned True/False. Instead, we can check for unique vaules:"
      ]
    },
    {
      "cell_type": "code",
      "metadata": {
        "id": "A1AUloHbfifz"
      },
      "source": [
        "#Check for duplicated values using unique() method:\n",
        "covid.drop_duplicates().shape"
      ],
      "execution_count": null,
      "outputs": []
    },
    {
      "cell_type": "code",
      "metadata": {
        "id": "U4C-yEWLfifz"
      },
      "source": [
        "covid.shape"
      ],
      "execution_count": null,
      "outputs": []
    },
    {
      "cell_type": "markdown",
      "metadata": {
        "id": "u-5PLcCNfifz"
      },
      "source": [
        "To remove duplicated records from the DataFrame, we would use the following syntax:\n",
        "\n",
        "**df = df.drop_duplicates()**\n",
        "\n",
        "To remove duplicates of only one or a subset of columns, we can specify *subset* as the individual column or list of columns that should be unique:\n",
        "\n",
        "**df.drop_duplicates(subset = ['Column_1', 'Column_2'], keep = 'False')**\n",
        "\n",
        "We can do the same task conditional on a different column’s value. In such case we can **sort_values()** first, and specify **keep** equals either first or last:\n",
        "\n",
        "**df.sort_values('Column_1', ascending=False)**\n",
        "\n",
        "**df = df.drop_duplicates(subset='Column_2', keep='first')**"
      ]
    },
    {
      "cell_type": "markdown",
      "metadata": {
        "id": "Id_3NcHSfifz"
      },
      "source": [
        "#### Data types"
      ]
    },
    {
      "cell_type": "markdown",
      "metadata": {
        "id": "wiwdyYPJfifz"
      },
      "source": [
        "We should also investigate data types within our dataframe. To do this, we use **dtype** (for a Series) or **dtypes** (for a DataFrame) attribute:"
      ]
    },
    {
      "cell_type": "code",
      "metadata": {
        "id": "JCTjVf2nfif0"
      },
      "source": [
        "#check all data types within our dataset:\n",
        "covid.dtypes"
      ],
      "execution_count": null,
      "outputs": []
    },
    {
      "cell_type": "code",
      "metadata": {
        "id": "7uqx0Y_Yfif0"
      },
      "source": [
        "#check data type of specific column:\n",
        "covid.Confirmed.dtype"
      ],
      "execution_count": null,
      "outputs": []
    },
    {
      "cell_type": "markdown",
      "metadata": {
        "id": "qxirEzzDfif0"
      },
      "source": [
        "Note that columns consisting entirely of strings do not get their own type in pandas; they are instead given the object type."
      ]
    },
    {
      "cell_type": "markdown",
      "metadata": {
        "id": "ChbLfgXKfif0"
      },
      "source": [
        "Sometimes we would like to convert a column of one type into another wherever such a conversion makes sense by using the **astype()** function. In our dataframe, we may transform the *Deaths* column from its existing float64 data type into a int64 data type:"
      ]
    },
    {
      "cell_type": "code",
      "metadata": {
        "id": "t3Y-EEjWfif0"
      },
      "source": [
        "#Convert 'Deaths' values to integers:\n",
        "covid.Deaths = covid.Deaths.fillna(0).astype('int64')\n",
        "covid.dtypes"
      ],
      "execution_count": null,
      "outputs": []
    },
    {
      "cell_type": "markdown",
      "metadata": {
        "id": "jzwv1WiGfif1"
      },
      "source": [
        "Also, to make work with dates easier, let's convert 'ObservationDate' column to pandas *datetime* object:"
      ]
    },
    {
      "cell_type": "code",
      "metadata": {
        "id": "ywMENm09fif1"
      },
      "source": [
        "#Convert ObservationDate column to datetime:\n",
        "covid['ObservationDate'] = cudf.to_datetime(covid.ObservationDate)"
      ],
      "execution_count": null,
      "outputs": []
    },
    {
      "cell_type": "code",
      "metadata": {
        "id": "5YEl1rJNfif1"
      },
      "source": [
        "covid.dtypes"
      ],
      "execution_count": null,
      "outputs": []
    },
    {
      "cell_type": "markdown",
      "metadata": {
        "id": "nURqzk5Wfif1"
      },
      "source": [
        "#### Convert strings to uppercase:"
      ]
    },
    {
      "cell_type": "markdown",
      "metadata": {
        "id": "WRGptcEffif1"
      },
      "source": [
        "Many times, when we work with string data in our data set, it might be a good idea to convert all characters to uppercase and strip extra whitespaces before and after each string."
      ]
    },
    {
      "cell_type": "code",
      "metadata": {
        "id": "b1mtufC5fif2"
      },
      "source": [
        "covid.head(2)"
      ],
      "execution_count": null,
      "outputs": []
    },
    {
      "cell_type": "markdown",
      "metadata": {
        "id": "F3EQEk1Qfif2"
      },
      "source": [
        "Let's modify strings within the 'Region' and 'Country' Series of our data set. To convert strings in the Series/Index to uppercase, we can use **upper()** method:"
      ]
    },
    {
      "cell_type": "code",
      "metadata": {
        "id": "Ebbe6Ruifif2"
      },
      "source": [
        "#Convert 'Region' and 'Country' to uppercase:\n",
        "covid.Region = covid.Region.str.upper()\n",
        "covid.Country = covid.Country.str.upper()"
      ],
      "execution_count": null,
      "outputs": []
    },
    {
      "cell_type": "code",
      "metadata": {
        "id": "hNCSRcSPfif2"
      },
      "source": [
        "covid.head()"
      ],
      "execution_count": null,
      "outputs": []
    },
    {
      "cell_type": "markdown",
      "metadata": {
        "id": "LJNU8oUGfif2"
      },
      "source": [
        "To remove leading and trailing characters, we would use **strip()** method:"
      ]
    },
    {
      "cell_type": "code",
      "metadata": {
        "id": "x1RfvOAMfif2"
      },
      "source": [
        "covid.Region = covid.Region.str.strip()\n",
        "covid.Country = covid.Country.str.strip()"
      ],
      "execution_count": null,
      "outputs": []
    },
    {
      "cell_type": "markdown",
      "metadata": {
        "id": "aXyTdMPDfif3"
      },
      "source": [
        "Note: Sometimes, we might want to remove leading (**lstrip()**) or trailing (**rstrip()**) characters only."
      ]
    },
    {
      "cell_type": "markdown",
      "metadata": {
        "id": "8itESCFmfif3"
      },
      "source": [
        "#### Missing values"
      ]
    },
    {
      "cell_type": "markdown",
      "metadata": {
        "id": "jIR31ihefif3"
      },
      "source": [
        "Usually, when we work with real-world data, we always have some missing records. To find these missing values, also known as **NaN** (Not a Number), in our data set, we would use **isnull** method (or, alternatively, **notnull()** method which will select not empty values)"
      ]
    },
    {
      "cell_type": "code",
      "metadata": {
        "id": "c9HMaJcAfif3"
      },
      "source": [
        "#Check which coumns in our data set have missing values:\n",
        "covid.isnull().any()"
      ],
      "execution_count": null,
      "outputs": []
    },
    {
      "cell_type": "code",
      "metadata": {
        "id": "MwkMXxQWfif3"
      },
      "source": [
        "covid[covid.Region.isnull()].head()"
      ],
      "execution_count": null,
      "outputs": []
    },
    {
      "cell_type": "code",
      "metadata": {
        "id": "txAVokp-fif3"
      },
      "source": [
        "#Check how many values are missing:\n",
        "percent_missing = covid.isnull().sum() * 100 / len(covid)\n",
        "missing_df = cudf.DataFrame({'column_name': covid.columns,\n",
        "                                 'percent_missing': percent_missing})\n",
        "missing_df"
      ],
      "execution_count": null,
      "outputs": []
    },
    {
      "cell_type": "markdown",
      "metadata": {
        "id": "EhPKoGhzfif4"
      },
      "source": [
        "To perform data analysis, we would like to replace missing values, and pandas provides a really handy method for this problem: **fillna()**. \n",
        "\n",
        "In our case, we can simply replace each NaN with an 'Unknown':"
      ]
    },
    {
      "cell_type": "code",
      "metadata": {
        "id": "VS9zRrcyfif4"
      },
      "source": [
        "#To drop all the missing values in one column:\n",
        "#df = df.dropna(subset = ['Column_Name'])"
      ],
      "execution_count": null,
      "outputs": []
    },
    {
      "cell_type": "code",
      "metadata": {
        "id": "-0D85FE2fif4"
      },
      "source": [
        "#Replace missing 'Region' calues with 'Unknown':\n",
        "covid['Region'] = covid['Region'].fillna('Unknown')\n",
        "covid.iloc[35:40]"
      ],
      "execution_count": null,
      "outputs": []
    },
    {
      "cell_type": "code",
      "metadata": {
        "id": "jXFmHlSefif4"
      },
      "source": [
        "covid.isnull().any()"
      ],
      "execution_count": null,
      "outputs": []
    },
    {
      "cell_type": "markdown",
      "metadata": {
        "id": "ZTNfGkEzfif5"
      },
      "source": [
        "Sometimes it makes sense to remove missing values from data set, and in that case we would use **dropna()** method. By default, **dropna()** will drop all rows in which any null value is present:\n",
        "\n",
        "**df.dropna()**\n",
        "\n",
        "We can also drop missing values along a different axis; *axis=1* drops all columns containing a null value."
      ]
    },
    {
      "cell_type": "markdown",
      "metadata": {
        "id": "6bp5unH6fif5"
      },
      "source": [
        "### Summary statistics"
      ]
    },
    {
      "cell_type": "markdown",
      "metadata": {
        "id": "Me0y1nicfif5"
      },
      "source": [
        "Pandas provides some handy methods which allow us to see a high-level summary of data. We already familiar with one of these methods - **describe()**:"
      ]
    },
    {
      "cell_type": "code",
      "metadata": {
        "id": "4xVjLstGfif5"
      },
      "source": [
        "#Applied to numerical data:\n",
        "covid.Confirmed.describe()"
      ],
      "execution_count": null,
      "outputs": []
    },
    {
      "cell_type": "code",
      "metadata": {
        "id": "EWEU48pn4mM8"
      },
      "source": [
        "covid.head()"
      ],
      "execution_count": null,
      "outputs": []
    },
    {
      "cell_type": "code",
      "metadata": {
        "id": "4RKCjCsg4ait"
      },
      "source": [
        "#Applied to string data:\n",
        "# NOT SUPPORTED IN RAPIDS!!!\n",
        "covid.Country.describe()\n"
      ],
      "execution_count": null,
      "outputs": []
    },
    {
      "cell_type": "markdown",
      "metadata": {
        "id": "2B7-0uDhfif5"
      },
      "source": [
        "For the reference, here are some others commonly used methods (they can be applies to a Series as well):\n",
        "\n",
        "**df.describe()** - summary statistics for numerical columns\n",
        "\n",
        "**df.mean()** - returns the mean of all columns\n",
        "\n",
        "**df.corr()** - returns the correlation between columns in a DataFrame\n",
        "\n",
        "**df.count()** - returns the number of non-null values in each DataFrame column\n",
        "\n",
        "**df.max()** - returns the highest value in each column\n",
        "\n",
        "**df.min()** - returns the lowest value in each column\n",
        "\n",
        "**df.median()** - returns the median of each column\n",
        "\n",
        "**df.std()** - returns the standard deviation of each column\n"
      ]
    },
    {
      "cell_type": "markdown",
      "metadata": {
        "id": "3ObYgIqffif6"
      },
      "source": [
        "To see a list of all unique values in certain Series, we would use the **unique()** method:"
      ]
    },
    {
      "cell_type": "code",
      "metadata": {
        "id": "lAKD14zofif6"
      },
      "source": [
        "#See the list of unique 'Country' values:\n",
        "covid.Country.unique()"
      ],
      "execution_count": null,
      "outputs": []
    },
    {
      "cell_type": "markdown",
      "metadata": {
        "id": "XwsHO7LBfif6"
      },
      "source": [
        "**nunique()** will return a number of unique values:"
      ]
    },
    {
      "cell_type": "code",
      "metadata": {
        "id": "6SNRRd9Vfif6"
      },
      "source": [
        "#Number of unique countries:\n",
        "covid.Country.nunique()"
      ],
      "execution_count": null,
      "outputs": []
    },
    {
      "cell_type": "markdown",
      "metadata": {
        "id": "xCC4AD1bfif6"
      },
      "source": [
        "### Data transformations with 'map' and 'apply'"
      ]
    },
    {
      "cell_type": "markdown",
      "metadata": {
        "id": "FqEiPM2Zfif7"
      },
      "source": [
        "There are two methods in pandas which allow us to take one set of values and \"map\" them to another set. **map()** returns a new Series where all the values have been transformed."
      ]
    },
    {
      "cell_type": "markdown",
      "metadata": {
        "id": "LLQBSC1Nfif7"
      },
      "source": [
        "Let's say we have noticed that 'Country' Series contains, among others, entries for 'Mainland China', 'Hong Kong', and 'Macau'. We know that they are all parts of People's Republic of China, and would prefer to use 'China' for all of them. Here is how this can be done:"
      ]
    },
    {
      "cell_type": "code",
      "metadata": {
        "id": "ezpqJSnHfif7"
      },
      "source": [
        "s = set(['MAINLAND CHINA', 'HONG KONG', 'MACAU'])\n",
        "\n",
        "country_pandas = covid['Country'].to_pandas()\n",
        "\n",
        "country_pandas_fixed = country_pandas.map(lambda x: 'CHINA' if x in s else x)\n",
        "country_pandas_fixed.head()\n",
        "covid['GeneralCountry'] = country_pandas_fixed\n",
        "covid.head()"
      ],
      "execution_count": null,
      "outputs": []
    },
    {
      "cell_type": "markdown",
      "metadata": {
        "id": "ZXsm4dIW4_S1"
      },
      "source": [
        "Let's say we needed to adjust our confirmed up by a single case for every observation. For this, we can use the `applymap` method on a single _numeric_ `cudf` column (`Series`) in the `DataFrame`. "
      ]
    },
    {
      "cell_type": "code",
      "metadata": {
        "id": "TyZfKH-A49O4"
      },
      "source": [
        "covid['Confirmed_Adjusted'] = covid['Confirmed'].applymap(lambda x: x + 1.0)\n",
        "covid.head()"
      ],
      "execution_count": null,
      "outputs": []
    },
    {
      "cell_type": "markdown",
      "metadata": {
        "id": "0bjN-hjSfif7"
      },
      "source": [
        "Here we used a small anonymous function (*lambda function*) which can take any number of arguments, but can only have one expression. Once the expression is executed, it returns the result.\n"
      ]
    },
    {
      "cell_type": "markdown",
      "metadata": {
        "id": "JPEQ3fCgfif8"
      },
      "source": [
        "**apply_rows()** is a similar method which be applied to DataFrames. The difference is that **apply_rows()** works on a row/column basis of a DataFrame, while **map()** works element-wise on a Series.\n"
      ]
    },
    {
      "cell_type": "markdown",
      "metadata": {
        "id": "syyp5Geofif8"
      },
      "source": [
        "Let's create a function which calculates \"naive\" mortality rate, and write its output in a new 'MortalityRate' column using **apply_rows()** method:"
      ]
    },
    {
      "cell_type": "code",
      "metadata": {
        "id": "MmGPnt0xfif8"
      },
      "source": [
        "#Create MortalityRate column using apply() method:\n",
        "import numpy as np\n",
        "def naive_rate(deaths, confirmed, MortalityRate):\n",
        "    for it, (d, c) in enumerate(zip(deaths, confirmed)):\n",
        "        if c > 0:\n",
        "            MortalityRate[it] = d/c\n",
        "        else:\n",
        "            MortalityRate[it] = 0\n",
        "            \n",
        "covid = covid.apply_rows(naive_rate,\n",
        "                   incols={'Deaths':'deaths', 'Confirmed':'confirmed'},\n",
        "                   outcols={'MortalityRate': np.float64},\n",
        "                   kwargs={}\n",
        "                  )\n",
        "covid[covid.MortalityRate != 0].head()"
      ],
      "execution_count": null,
      "outputs": []
    },
    {
      "cell_type": "markdown",
      "metadata": {
        "id": "QqxrzEUNfif8"
      },
      "source": [
        "### Sorting "
      ]
    },
    {
      "cell_type": "markdown",
      "metadata": {
        "id": "KCSkv3Dtfif8"
      },
      "source": [
        "In many cases, we would like to first sort values in our data set, and then perform further data manipulations. To sort data and get it in the desired order we can use **sort_values()** method."
      ]
    },
    {
      "cell_type": "code",
      "metadata": {
        "id": "VFqyJ-mhfif9"
      },
      "source": [
        "#Sort values by 'GeneralCountry':\n",
        "covid.sort_values(by = 'GeneralCountry').head()"
      ],
      "execution_count": null,
      "outputs": []
    },
    {
      "cell_type": "markdown",
      "metadata": {
        "id": "8JiBmPsMfigF"
      },
      "source": [
        "**sort_values()** defaults to an ascending sort, where the lowest values go first. To obtain a descending sort, we need to specify *ascending* parameter: "
      ]
    },
    {
      "cell_type": "code",
      "metadata": {
        "id": "uwUAgo56figF"
      },
      "source": [
        "#Sort values by 'ObservationDate' and 'Confirmed' in descending order:\n",
        "covid.sort_values(by = ['ObservationDate', 'Confirmed'], ascending = False).head(2)"
      ],
      "execution_count": null,
      "outputs": []
    },
    {
      "cell_type": "markdown",
      "metadata": {
        "id": "PYnlm9uifigG"
      },
      "source": [
        "### Grouping"
      ]
    },
    {
      "cell_type": "markdown",
      "metadata": {
        "id": "QZWV48CrfigG"
      },
      "source": [
        "Depending on our goals, we might prefer to group data first, and then perform some operations on this group. In pandas, we can do it with **groupby()** method. However, simple call of a *groupby* method on our data set will return not a set of DataFrames, but a DataFrameGroupBy object:"
      ]
    },
    {
      "cell_type": "code",
      "metadata": {
        "id": "gkXj7kaMfigG"
      },
      "source": [
        "#Group by 'GeneralCountry' and create a DataFrameGroupBy object:\n",
        "covid.groupby('GeneralCountry')"
      ],
      "execution_count": null,
      "outputs": []
    },
    {
      "cell_type": "markdown",
      "metadata": {
        "id": "nUEkMpm9figG"
      },
      "source": [
        "We can think of this object as of a special view of the DataFrame, which is already divided into groups. To get actual results, we need to apply an aggregate on this object:"
      ]
    },
    {
      "cell_type": "code",
      "metadata": {
        "id": "8KF5_rebfigG"
      },
      "source": [
        "#For example, we can check when the date of latest observation for each country:\n",
        "covid.groupby('GeneralCountry').ObservationDate.max().head()"
      ],
      "execution_count": null,
      "outputs": []
    },
    {
      "cell_type": "code",
      "metadata": {
        "id": "A-cziF5YfigH"
      },
      "source": [
        "#Let's fix this ('ST. MARTIN') business:\n",
        "covid['GeneralCountry'] = covid.GeneralCountry.str.strip(\"('\")\n",
        "covid.groupby('GeneralCountry').ObservationDate.max().head()"
      ],
      "execution_count": null,
      "outputs": []
    },
    {
      "cell_type": "markdown",
      "metadata": {
        "id": "WMuu19V4figH"
      },
      "source": [
        "Similarly, we can use any of the summary functions with groupby object. For example, we can see latest numbers of confirmed cases within various regions of China:"
      ]
    },
    {
      "cell_type": "code",
      "metadata": {
        "id": "6O22c7h0figH"
      },
      "source": [
        "covid[covid.GeneralCountry == 'CHINA'].groupby('Region').Confirmed.max()"
      ],
      "execution_count": null,
      "outputs": []
    },
    {
      "cell_type": "markdown",
      "metadata": {
        "id": "lvjFz6HPfigH"
      },
      "source": [
        "We can also group by more than one column:"
      ]
    },
    {
      "cell_type": "code",
      "metadata": {
        "id": "5eBfxgTxfigI"
      },
      "source": [
        "#Group by 'GeneralCountry' and 'Region' and see maximum (=total) number of 'Deaths':\n",
        "covid.groupby(['GeneralCountry', 'Region']).Deaths.max().head()"
      ],
      "execution_count": null,
      "outputs": []
    },
    {
      "cell_type": "code",
      "metadata": {
        "id": "Z1BdGdx8figI"
      },
      "source": [
        "#Number of regions within each country:\n",
        "covid.groupby('GeneralCountry').Region.nunique().head()"
      ],
      "execution_count": null,
      "outputs": []
    },
    {
      "cell_type": "code",
      "metadata": {
        "id": "nm2i-FfrfigI"
      },
      "source": [
        "#See 'Confirmed' and 'Deaths' numbers by GeneralCountry:\n",
        "covid.groupby('GeneralCountry')[['Confirmed', 'Deaths']].max().head(10)"
      ],
      "execution_count": null,
      "outputs": []
    },
    {
      "cell_type": "markdown",
      "metadata": {
        "id": "1mm2MlcVfigI"
      },
      "source": [
        "**reset_index()** method allows to reset index:"
      ]
    },
    {
      "cell_type": "code",
      "metadata": {
        "id": "bdhT1TNXfigI"
      },
      "source": [
        "#Reset index in just created dataframe:\n",
        "covid.groupby('GeneralCountry')[['Confirmed', 'Deaths']].max().reset_index().head(10)"
      ],
      "execution_count": null,
      "outputs": []
    },
    {
      "cell_type": "markdown",
      "metadata": {
        "id": "WRzg_kqh8K9U"
      },
      "source": [
        "We can also use the `agg()` method to perform more general aggregations subsets of columns of our dataset. "
      ]
    },
    {
      "cell_type": "code",
      "metadata": {
        "id": "uvsHAzie8KHa"
      },
      "source": [
        "covid.groupby('Country').agg(\n",
        "    {\n",
        "        'Deaths':'count', \n",
        "        'ObservationDate': ['min','max']\n",
        "     \n",
        "    }\n",
        ").sort_values(('ObservationDate','min'))\n"
      ],
      "execution_count": null,
      "outputs": []
    },
    {
      "cell_type": "markdown",
      "metadata": {
        "id": "FCK2LKsMfigJ"
      },
      "source": [
        "### Joining data"
      ]
    },
    {
      "cell_type": "markdown",
      "metadata": {
        "id": "17squVTjfigJ"
      },
      "source": [
        "Often enough, while analyzing data, we need to combine different DataFrames and/or Series in non-trivial ways. Pandas has a few neat methods for doing this. \n",
        "\n",
        "In cases when we have data in different DataFrames (or Series) but having the same fields (columns), **concat()** function lets us join dataframes along axis."
      ]
    },
    {
      "cell_type": "markdown",
      "metadata": {
        "id": "YtAeZFcOfigJ"
      },
      "source": [
        "Let's say we create a new DataFrame using *groupby()* method:"
      ]
    },
    {
      "cell_type": "code",
      "metadata": {
        "id": "dK0FYGJAfigK"
      },
      "source": [
        "countries_stats = covid.groupby('GeneralCountry')[['Confirmed', 'Deaths']].max().reset_index()\n",
        "countries_stats.head()"
      ],
      "execution_count": null,
      "outputs": []
    },
    {
      "cell_type": "markdown",
      "metadata": {
        "id": "HxXrLeKFfigK"
      },
      "source": [
        "And pretend we have just heard of two new confirmed cases - one in Mongolia, and one in Jamaica:"
      ]
    },
    {
      "cell_type": "code",
      "metadata": {
        "id": "cZvtY9X5figK"
      },
      "source": [
        "new_cases = pd.DataFrame({'GeneralCountry': ['MONGOLIA', 'JAMAICA'], 'Confirmed': [1.0, 1.0], 'Deaths': [0, 0]})\n",
        "new_cases"
      ],
      "execution_count": null,
      "outputs": []
    },
    {
      "cell_type": "markdown",
      "metadata": {
        "id": "WQF3L0kUfigK"
      },
      "source": [
        "Now if we would like to study all of the affected countries simultaneously, we would use **concat()** method to stack these two DataFrames on top of one another:"
      ]
    },
    {
      "cell_type": "code",
      "metadata": {
        "id": "KBF6zCTifigK"
      },
      "source": [
        "#Concatenate counties_stats and new_cases in new 'all_cases' DataFrame:\n",
        "all_cases = pd.concat([countries_stats, new_cases])\n",
        "all_cases.head()"
      ],
      "execution_count": null,
      "outputs": []
    },
    {
      "cell_type": "code",
      "metadata": {
        "id": "5vRlRg4ofigL"
      },
      "source": [
        "#Check:\n",
        "all_cases[all_cases.GeneralCountry == 'JAMAICA']"
      ],
      "execution_count": null,
      "outputs": []
    },
    {
      "cell_type": "markdown",
      "metadata": {
        "id": "l6UU5X8bfigL"
      },
      "source": [
        "To concat the same two DataFrames along columns, we would switch *axis* parameter to 1:"
      ]
    },
    {
      "cell_type": "code",
      "metadata": {
        "id": "kWPpAH7cfigL"
      },
      "source": [
        "#Concatenate the same DataFrames along  columns:\n",
        "all_cases_too = pd.concat([countries_stats, new_cases], axis = 1)\n",
        "all_cases_too.head()"
      ],
      "execution_count": null,
      "outputs": []
    },
    {
      "cell_type": "markdown",
      "metadata": {
        "id": "9mjweoCCfigL"
      },
      "source": [
        "**merge()** or **join()** methods let you combine different DataFrame objects which have an index in common (similar to a JOIN in SQL). Th **join** method works the best when we need to join dataframes on their indexes, while the **merge** is more versatile.\n",
        "\n",
        "Let's create a new DataFrame listing countries and latest observation dates:"
      ]
    },
    {
      "cell_type": "code",
      "metadata": {
        "id": "hYEP7EoSfigM"
      },
      "source": [
        "#Create a new DataFrame with countries and latest observation dates:\n",
        "latest_data = covid.groupby(['GeneralCountry', 'Region']).ObservationDate.max().reset_index()\n",
        "latest_data.head()"
      ],
      "execution_count": null,
      "outputs": []
    },
    {
      "cell_type": "markdown",
      "metadata": {
        "id": "Bh9dgcOJfigM"
      },
      "source": [
        "Now we want to join this DataFrame with our original 'covid' DataFrame to get latest fatality rates:"
      ]
    },
    {
      "cell_type": "code",
      "metadata": {
        "id": "Rlptnmi_figM"
      },
      "source": [
        "latest_rates = pd.merge(latest_data, covid[['GeneralCountry', 'Region', 'ObservationDate', 'MortalityRate']], \\\n",
        "                        on=['GeneralCountry', 'Region', 'ObservationDate'])\n",
        "latest_rates"
      ],
      "execution_count": null,
      "outputs": []
    },
    {
      "cell_type": "markdown",
      "metadata": {
        "id": "KHd0aTR3figM"
      },
      "source": [
        "We can also specify if we need inner, outer, right, or left join, as well as add a suffix to duplicate column names:\n",
        "\n",
        "**pd.merge(df_1, df_2, on='ID', how='left', suffixes=('_1', '_2'))**"
      ]
    },
    {
      "cell_type": "markdown",
      "metadata": {
        "id": "qMMegiavfigM"
      },
      "source": [
        "### Pivot tables"
      ]
    },
    {
      "cell_type": "markdown",
      "metadata": {
        "id": "IcBExiCvfigN"
      },
      "source": [
        "With pandas, we can also create a spreadsheet-style pivot table as a DataFrame:"
      ]
    },
    {
      "cell_type": "code",
      "metadata": {
        "id": "I1VCwziWfigN"
      },
      "source": [
        "#Create an Excel-style pivot table:\n",
        "pd.pivot_table(covid[['GeneralCountry', 'Region', 'ObservationDate', 'Confirmed']], \\\n",
        "               index=['GeneralCountry','Region'], aggfunc='max')"
      ],
      "execution_count": null,
      "outputs": []
    },
    {
      "cell_type": "markdown",
      "metadata": {
        "id": "JaT68NpdfigN"
      },
      "source": [
        "### Data visualizations with pandas"
      ]
    },
    {
      "cell_type": "markdown",
      "metadata": {
        "id": "Ke12AdG6figN"
      },
      "source": [
        "When we want to quickly view how our data looks, pandas visualizations come in handy.\n",
        "\n",
        "Let's look again at *all_cases* DataFrame we created some time ago:"
      ]
    },
    {
      "cell_type": "code",
      "metadata": {
        "id": "dDsfNlIJfigN"
      },
      "source": [
        "#Look at first 5 rows of 'all_cases' DataFrame:\n",
        "all_cases.head()"
      ],
      "execution_count": null,
      "outputs": []
    },
    {
      "cell_type": "markdown",
      "metadata": {
        "id": "DopQ7tyUfigN"
      },
      "source": [
        "Pandas visualizations are built on top of famous **matplotlib** library.\n",
        "The standard convention for referencing the matplotlib API:"
      ]
    },
    {
      "cell_type": "code",
      "metadata": {
        "id": "7l781KprfigO"
      },
      "source": [
        "import matplotlib.pyplot as plt"
      ],
      "execution_count": null,
      "outputs": []
    },
    {
      "cell_type": "markdown",
      "metadata": {
        "id": "21FxQ6oxfigP"
      },
      "source": [
        "To make sure all plots are visible within our notebook, use this magic command:\n",
        "\n",
        "**%matplotlib inline**\n"
      ]
    },
    {
      "cell_type": "code",
      "metadata": {
        "id": "cX5ryQu1figP"
      },
      "source": [
        "%matplotlib inline"
      ],
      "execution_count": null,
      "outputs": []
    },
    {
      "cell_type": "markdown",
      "metadata": {
        "id": "395XXwYxfigP"
      },
      "source": [
        "To build charts with pandas, we use basic **plot()** method:"
      ]
    },
    {
      "cell_type": "code",
      "metadata": {
        "id": "xIF94sH_figP"
      },
      "source": [
        "#Let's look at all confirmed cases by date:\n",
        "by_date = covid.groupby('ObservationDate').Confirmed.sum().reset_index()\n",
        "by_date.head(2)"
      ],
      "execution_count": null,
      "outputs": []
    },
    {
      "cell_type": "code",
      "metadata": {
        "id": "520_axGAfigT"
      },
      "source": [
        "#Now let's visualize this with simple line chart:\n",
        "by_date.plot.line(x = 'ObservationDate', y = 'Confirmed', color = 'purple', title = 'COVID-19 confirmed cases: World')"
      ],
      "execution_count": null,
      "outputs": []
    },
    {
      "cell_type": "markdown",
      "metadata": {
        "id": "fbLj_B2PfigT"
      },
      "source": [
        "Let us now build a similar plot for US only:"
      ]
    },
    {
      "cell_type": "code",
      "metadata": {
        "id": "1cn06WmZfigT"
      },
      "source": [
        "#Create a new 'us_daily' DataFrame with US-only data:\n",
        "us_daily = covid[covid.GeneralCountry == 'US'].groupby('ObservationDate').sum().reset_index()\n",
        "us_daily"
      ],
      "execution_count": null,
      "outputs": []
    },
    {
      "cell_type": "code",
      "metadata": {
        "id": "cUtQ8xiEfigT"
      },
      "source": [
        "#create a line chart:\n",
        "us_daily.plot.line(x = 'ObservationDate', y = 'Confirmed', color = 'brown', title = 'COVID-19 confirmed cases: US')"
      ],
      "execution_count": null,
      "outputs": []
    },
    {
      "cell_type": "markdown",
      "metadata": {
        "id": "xFcf6QIMfigU"
      },
      "source": [
        "Let's look at total number of cases and deaths by country:"
      ]
    },
    {
      "cell_type": "code",
      "metadata": {
        "id": "NY61nNm1figU"
      },
      "source": [
        "#First, let's group everything by GeneralCountry & Region and get latest numbers of confirmed cases and deaths:\n",
        "world_regions = covid.groupby(['GeneralCountry', 'Region'])[['Confirmed', 'Deaths']].max().reset_index()\n",
        "world_regions.head()"
      ],
      "execution_count": null,
      "outputs": []
    },
    {
      "cell_type": "code",
      "metadata": {
        "id": "z7-6T_W2figU"
      },
      "source": [
        "#Then we can get total latest numbers for each country:\n",
        "world = world_regions.groupby('GeneralCountry')[['Confirmed', 'Deaths']].sum().reset_index()\n",
        "world.head()"
      ],
      "execution_count": null,
      "outputs": []
    },
    {
      "cell_type": "code",
      "metadata": {
        "id": "2yI1H9qjfigU"
      },
      "source": [
        "#One of the basic and widely used plots - bar chart:\n",
        "world.plot(kind = 'bar')"
      ],
      "execution_count": null,
      "outputs": []
    },
    {
      "cell_type": "markdown",
      "metadata": {
        "id": "_lPkU8ubfigV"
      },
      "source": [
        "Let's try to make it looking a bit more appealing by visualizing top 10 countries only, and make horizontal bar chart, instead:"
      ]
    },
    {
      "cell_type": "code",
      "metadata": {
        "id": "mKGDLlsAfigV"
      },
      "source": [
        "#Create a DataFrame with top 10 COVID-19 confirmed cases:\n",
        "top = world.sort_values(by = 'Confirmed', ascending = False).head(10)\n",
        "top"
      ],
      "execution_count": null,
      "outputs": []
    },
    {
      "cell_type": "markdown",
      "metadata": {
        "id": "EGUQygkhfigV"
      },
      "source": [
        "A little trick to make your dataframe look more presentable by adding background color (using matplotlib built-in colormaps (**cmap**)):"
      ]
    },
    {
      "cell_type": "code",
      "metadata": {
        "id": "Y1ZUUrLbfigV"
      },
      "source": [
        "top10 = top.style.background_gradient(cmap='Blues',subset=[\"Confirmed\"]).background_gradient(cmap='Reds',subset=[\"Deaths\"])\n",
        "top10"
      ],
      "execution_count": null,
      "outputs": []
    },
    {
      "cell_type": "markdown",
      "metadata": {
        "id": "qGRTY0dxfigW"
      },
      "source": [
        "Now let's plot the simplest bar chart:"
      ]
    },
    {
      "cell_type": "code",
      "metadata": {
        "id": "RGDHlQ8VfigX"
      },
      "source": [
        "#Plot the bar chart with 'top' data:\n",
        "top.plot.bar()\n",
        "\n",
        "#another way of getting the same result is:\n",
        "#top.plot(kind = 'bar')"
      ],
      "execution_count": null,
      "outputs": []
    },
    {
      "cell_type": "markdown",
      "metadata": {
        "id": "XNEh7aOyfigX"
      },
      "source": [
        "Here, by default, **plot()** method built index values on x-axis. Let's specify that we want to see countries names, instead:"
      ]
    },
    {
      "cell_type": "code",
      "metadata": {
        "id": "26v_e342figX"
      },
      "source": [
        "top.plot.bar(x = 'GeneralCountry')"
      ],
      "execution_count": null,
      "outputs": []
    },
    {
      "cell_type": "code",
      "metadata": {
        "id": "7LSthu18figX"
      },
      "source": [
        "#Convert this to horizontal bar chart:\n",
        "top.index = top.GeneralCountry\n",
        "top.plot.barh()"
      ],
      "execution_count": null,
      "outputs": []
    },
    {
      "cell_type": "code",
      "metadata": {
        "id": "m86qIN_WfigX"
      },
      "source": [
        "#Modify some more:\n",
        "top.index = top.GeneralCountry\n",
        "top.plot.barh(title = 'Top 10 Countries (Confirmed Cases and Deaths)', figsize = [10,7],\\\n",
        "             fontsize = 12, color = ['blue', 'red']).invert_yaxis()"
      ],
      "execution_count": null,
      "outputs": []
    },
    {
      "cell_type": "markdown",
      "metadata": {
        "id": "OZdCVIiXfigY"
      },
      "source": [
        "### Plotting with Plotly"
      ]
    },
    {
      "cell_type": "markdown",
      "metadata": {
        "id": "vvJ5OV8hfigY"
      },
      "source": [
        "The plotly Python library is an interactive, open-source plotting library that supports over 40 unique chart types covering a wide range of statistical, financial, geographic, scientific, and 3-dimensional use-cases."
      ]
    },
    {
      "cell_type": "code",
      "metadata": {
        "id": "7WKv8CYGfigZ"
      },
      "source": [
        "#Import plotly and check its version:\n",
        "import plotly\n",
        "plotly.__version__"
      ],
      "execution_count": null,
      "outputs": []
    },
    {
      "cell_type": "markdown",
      "metadata": {
        "id": "EdoZ4R-QfigZ"
      },
      "source": [
        "In case you do not have plotly installed, run the following line in your Anaconda prompt:\n",
        "\n",
        "**conda install -c plotly plotly=4.6.0**"
      ]
    },
    {
      "cell_type": "markdown",
      "metadata": {
        "id": "BF87qeKofigZ"
      },
      "source": [
        "We are going to use Plotly Express, which is easy-to-use, high-level interface to Plotly, which produces easy-to-style figures. Every Plotly Express function returns a graph_objects.Figure object whose data and layout has been pre-populated according to the provided arguments.\n",
        "\n",
        "Note: Plotly Express was previously its own separately-installed **plotly_express** package but is now part of plotly and importable via \n",
        "\n",
        "**import plotly.express as px**"
      ]
    },
    {
      "cell_type": "code",
      "metadata": {
        "id": "ANrEmbU0figZ"
      },
      "source": [
        "import plotly.express as px\n",
        "import numpy as np\n",
        "temp_df = pd.DataFrame(world)\n",
        "temp_df = temp_df.reset_index()\n",
        "fig = px.choropleth(temp_df, locations=\"GeneralCountry\",\n",
        "                    color=np.log10(temp_df[\"Confirmed\"]), \n",
        "                    hover_name=\"index\", # column to add to hover information\n",
        "                    hover_data=[\"Confirmed\"],\n",
        "                    color_continuous_scale=px.colors.sequential.Plasma,locationmode=\"country names\")\n",
        "fig.update_geos(fitbounds=\"locations\", visible=False)\n",
        "fig.update_layout(title_text=\"Confirmed Cases Heat Map (Log Scale)\")\n",
        "fig.update_coloraxes(colorbar_title=\"Confirmed Cases(Log Scale)\",colorscale=\"Blues\")\n",
        "fig.show()"
      ],
      "execution_count": null,
      "outputs": []
    },
    {
      "cell_type": "code",
      "metadata": {
        "id": "Jx5Zkcpzfigh"
      },
      "source": [
        "#Another example visualizing progression of COVID-19 spread across the continents:\n",
        "df_data = covid.groupby(['ObservationDate', 'GeneralCountry'])['Confirmed', 'Deaths'].max().reset_index().fillna(0)\n",
        "df_data[\"ObservationDate\"] = pd.to_datetime( df_data[\"ObservationDate\"]).dt.strftime('%m/%d/%Y')\n",
        "fig = px.scatter_geo(df_data, locations=\"GeneralCountry\", locationmode='country names', \n",
        "                     color=np.power(df_data[\"Confirmed\"],0.3)-2 , size= np.power(df_data[\"Confirmed\"]+1,0.3)-1, hover_name=\"GeneralCountry\",\n",
        "                     hover_data=[\"Confirmed\"],\n",
        "                     range_color= [0, max(np.power(world[\"Confirmed\"],0.3))], \n",
        "                     projection=\"natural earth\", animation_frame=\"ObservationDate\", \n",
        "                     color_continuous_scale=px.colors.sequential.Plasma,\n",
        "                     title='COVID-19: Progression of spread'\n",
        "                    )\n",
        "fig.update_coloraxes(colorscale=\"hot\")\n",
        "fig.update(layout_coloraxis_showscale=False)\n",
        "fig.show()"
      ],
      "execution_count": null,
      "outputs": []
    },
    {
      "cell_type": "code",
      "metadata": {
        "id": "b0DeVuS0figs"
      },
      "source": [
        ""
      ],
      "execution_count": null,
      "outputs": []
    }
  ]
}