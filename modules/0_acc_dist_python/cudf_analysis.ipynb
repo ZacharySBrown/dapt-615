{
 "cells": [
  {
   "cell_type": "markdown",
   "metadata": {},
   "source": [
    "# Install `RAPIDS` and Download Data"
   ]
  },
  {
   "cell_type": "code",
   "execution_count": null,
   "metadata": {
    "colab": {
     "base_uri": "https://localhost:8080/"
    },
    "id": "YNujrKYTzpMV",
    "outputId": "069413dd-0d74-4f29-d4a6-f127ecf5dbb9"
   },
   "outputs": [],
   "source": [
    "# Install RAPIDS\n",
    "!git clone https://github.com/rapidsai/rapidsai-csp-utils.git\n",
    "!bash rapidsai-csp-utils/colab/rapids-colab.sh stable\n",
    "\n",
    "import sys, os\n",
    "\n",
    "dist_package_index = sys.path.index('/usr/local/lib/python3.6/dist-packages')\n",
    "sys.path = sys.path[:dist_package_index] + ['/usr/local/lib/python3.6/site-packages'] + sys.path[dist_package_index:]\n",
    "sys.path\n",
    "exec(open('rapidsai-csp-utils/colab/update_modules.py').read(), globals())\n",
    "\n",
    "!wget https://vcu-dapt-615.s3.amazonaws.com/covid_19_data.csv"
   ]
  },
  {
   "cell_type": "code",
   "execution_count": null,
   "metadata": {},
   "outputs": [],
   "source": [
    "import pandas as pd\n",
    "data = pd.read_csv('covid_19_data.csv')\n",
    "data.head()\n",
    "data = data.set_index(('Sno','ObservationDate'))"
   ]
  },
  {
   "cell_type": "code",
   "execution_count": null,
   "metadata": {},
   "outputs": [],
   "source": [
    "\n",
    "data.mean()"
   ]
  },
  {
   "cell_type": "code",
   "execution_count": null,
   "metadata": {},
   "outputs": [],
   "source": [
    "data.loc[[(1,'01/22/2020')],:]"
   ]
  },
  {
   "cell_type": "markdown",
   "metadata": {
    "id": "UP-wL-0DfifT"
   },
   "source": [
    "# Understanding and Applying Data Analysis with Python\n"
   ]
  },
  {
   "cell_type": "markdown",
   "metadata": {
    "id": "xaDUNi9efifV"
   },
   "source": [
    "## Outline\n",
    "\n",
    "1. File I/O and working with data in pandas\n",
    "\n",
    "    * Reading, writing, and creating structured data in Python\n",
    "    * Viewing, inspecting, and selecting data\n",
    "    \n",
    "    \n",
    "2. Exploratory data analysis with pandas\n",
    "\n",
    "    * Data cleaning\n",
    "    * Summary statistics\n",
    "    * Data transformations\n",
    "    * Sorting, aggregation, joins and pivots\n",
    "    * Data visualization"
   ]
  },
  {
   "cell_type": "markdown",
   "metadata": {
    "id": "YwHjPNURfifW"
   },
   "source": [
    "## Project Jupyter\n",
    "\n",
    "Project Jupyter exists to develop open-source software, open-standards, and services for interactive computing across dozens of programming languages. Jupyter supports over 40 programming languages, including Python, R, Julia, and Scala.\n",
    "\n",
    "The Jupyter Notebook is an open-source web application that allows you to create and share documents that contain live code, equations, visualizations and narrative text. Uses include: data cleaning and transformation, numerical simulation, statistical modeling, data visualization, machine learning, and much more.\n",
    "\n",
    "Try Jupyter without installing anything: https://jupyter.org/try"
   ]
  },
  {
   "cell_type": "markdown",
   "metadata": {
    "id": "XnapocRdfifW"
   },
   "source": [
    "## Novel Corona Virus 2019 Dataset: day level information on COVID-19 affected cases\n",
    "\n",
    "### About this dataset:\n",
    "\n",
    "https://www.kaggle.com/sudalairajkumar/novel-corona-virus-2019-dataset/data?select=covid_19_data.csv\n",
    "\n",
    "(original: Johns Hopkins Github repository: https://github.com/CSSEGISandData/COVID-19)\n",
    "\n",
    "Name of the file: \"covid_19_data.csv\"\n",
    "\n",
    "Columns description:\n",
    "\n",
    "- **Sno** - Serial number\n",
    "- **ObservationDate** - Date of the observation in MM/DD/YYYY\n",
    "- **Province/State** - Province or state of the observation (Could be empty when missing)\n",
    "- **Country/Region** - Country of observation\n",
    "- **Last Update** - Time in UTC at which the row is updated for the given province or country. (Not standardised and so please clean before using it)\n",
    "- **Confirmed** - Cumulative number of confirmed cases till that date\n",
    "- **Deaths** - Cumulative number of of deaths till that date\n",
    "- **Recovered** - Cumulative number of recovered cases till that date"
   ]
  },
  {
   "cell_type": "markdown",
   "metadata": {
    "id": "6KAj_DrnfifX"
   },
   "source": [
    "## 1. File I/O and working with data in pandas"
   ]
  },
  {
   "cell_type": "markdown",
   "metadata": {
    "id": "f6yr6G7lfifa"
   },
   "source": [
    "### Reading files: Pandas way"
   ]
  },
  {
   "cell_type": "markdown",
   "metadata": {
    "id": "Xmwik28yfifa"
   },
   "source": [
    "The goal of this tutorial is to learn the most popular Python library for data analysis, **pandas**. We will learn how to work with existing data, as well as how to create your own data."
   ]
  },
  {
   "cell_type": "markdown",
   "metadata": {
    "id": "awX8zWv7fifa"
   },
   "source": [
    "**Pandas** is a fast, powerful,flexible, and easy to use open source data analysis and manipulation tool,\n",
    "built on top of the Python programming language:\n",
    "\n",
    "https://pandas.pydata.org/"
   ]
  },
  {
   "cell_type": "code",
   "execution_count": null,
   "metadata": {
    "id": "BxzXP5USfifb"
   },
   "outputs": [],
   "source": [
    "#To start working with pandas, we need to import this library:\n",
    "#import pandas as pd\n",
    "import cudf"
   ]
  },
  {
   "cell_type": "markdown",
   "metadata": {
    "collapsed": true,
    "id": "DroxC_VOfifb"
   },
   "source": [
    "Most of the time, you will be probably working with data that already exists in variety of different formats.\n",
    "By far the most basic of these are CSV or Excel files. This is how you read these files with pandas:"
   ]
  },
  {
   "cell_type": "code",
   "execution_count": null,
   "metadata": {
    "id": "vm3bqhg8fifb"
   },
   "outputs": [],
   "source": [
    "#read CSV file:\n",
    "covid = cudf.read_csv('covid_19_data.csv')"
   ]
  },
  {
   "cell_type": "markdown",
   "metadata": {
    "id": "NJPjeymIfifb"
   },
   "source": [
    "Let's pause here for a minute, and try to understand what exactly happens once we run **pandas.read_csv** command.\n",
    "\n",
    "Two core objects in pandas are the **DataFrame** and the **Series**.\n",
    "\n",
    "A **DataFrame** is a table. It contains an array of individual entries, each of which has a certain value. Each entry corresponds to a row and a column. The list of row labels used in a DataFrame is known as an Index.\n",
    "\n",
    "In our example above, *covid* is a DataFrame created from 'covid_19_data.csv' file. \n"
   ]
  },
  {
   "cell_type": "code",
   "execution_count": null,
   "metadata": {
    "colab": {
     "base_uri": "https://localhost:8080/",
     "height": 204
    },
    "id": "V-50Lp5Xfifc",
    "outputId": "bac74f53-3bd4-4a11-f071-aa8559eff642"
   },
   "outputs": [],
   "source": [
    "#We can examine the contents of our DataFrame using the head() command:\n",
    "covid.head()"
   ]
  },
  {
   "cell_type": "markdown",
   "metadata": {
    "id": "h2FrhcgSfifc"
   },
   "source": [
    "From this example, we can see that DataFrame entries are not limited to integers. For instance, there is an entry with value of \"Beijing\", which is a string."
   ]
  },
  {
   "cell_type": "markdown",
   "metadata": {
    "id": "IOkm2TzYfifc"
   },
   "source": [
    "A **Series**, the second core pandas object, is a sequence of data values. If a DataFrame is a table, a Series is a list and,  in essence, it is a single column of a DataFrame."
   ]
  },
  {
   "cell_type": "code",
   "execution_count": null,
   "metadata": {
    "colab": {
     "base_uri": "https://localhost:8080/"
    },
    "id": "tLMJ5EJxfifd",
    "outputId": "de22231e-ffc5-49f0-ed6a-d3fcbf42272b"
   },
   "outputs": [],
   "source": [
    "#This is how we can see all the Series names in our DataFrame:\n",
    "covid.columns"
   ]
  },
  {
   "cell_type": "markdown",
   "metadata": {
    "id": "2hxkWfQ2fife"
   },
   "source": [
    "For reference, here are list of commands you can use to import different data formats:\n",
    "\n",
    "**pd.read_excel(filename)** - import from an Excel file\n",
    "\n",
    "**pd.read_sql(query, connection_object)** - read from a SQL table/database\n",
    "\n",
    "**pd.read_html(url)** - parses an html URL, string, or file and extracts tables to a s list of DataFrames\n",
    "\n",
    "**pd.read_json(json_string)** - read from a JSON formatted string, URL, or file\n",
    "\n",
    "**pd.read_clipboard()** - takes the contents of your clipboard and passes it to  *read_table()*\n",
    "\n",
    "**pd.read_table(filename)** - import from an delimited text file (like TSV)\n",
    "\n",
    "The [Pandas Documentation on file I/O](https://pandas.pydata.org/pandas-docs/stable/reference/io.html) also has a wealth of additional information on reading and writing various file types. "
   ]
  },
  {
   "cell_type": "markdown",
   "metadata": {
    "id": "EuZnlaayfifm"
   },
   "source": [
    "## Viewing, inspecting, and selecting data"
   ]
  },
  {
   "cell_type": "markdown",
   "metadata": {
    "id": "qcKn6QZgfifm"
   },
   "source": [
    "Let's return to our **covid** DataFrame. Remember - you can use *head()* method to view the first *n* rows:"
   ]
  },
  {
   "cell_type": "code",
   "execution_count": null,
   "metadata": {
    "colab": {
     "base_uri": "https://localhost:8080/",
     "height": 142
    },
    "id": "UYmIpSHDfifm",
    "outputId": "7cfd51a4-786a-4f23-9697-5b404da12251"
   },
   "outputs": [],
   "source": [
    "#View first 3 rows of data set:\n",
    "covid.head(3)"
   ]
  },
  {
   "cell_type": "code",
   "execution_count": null,
   "metadata": {
    "colab": {
     "base_uri": "https://localhost:8080/",
     "height": 204
    },
    "id": "NMlFtrt6fifm",
    "outputId": "83a11921-cfba-4aaa-e39a-05382d39d1a0"
   },
   "outputs": [],
   "source": [
    "#In a similar way, you can inspect last n rows with tail() method:\n",
    "covid.tail()"
   ]
  },
  {
   "cell_type": "markdown",
   "metadata": {
    "id": "AJeJ1g1qfifn"
   },
   "source": [
    "Pandas objects have a number of attributes enabling you to access the metadata. We can also use the **shape** attribute to check how large this DataFrame is:"
   ]
  },
  {
   "cell_type": "code",
   "execution_count": null,
   "metadata": {
    "colab": {
     "base_uri": "https://localhost:8080/"
    },
    "id": "xGPwqsAefifn",
    "outputId": "da39d724-c99e-47b2-d12a-e6be31139ecb"
   },
   "outputs": [],
   "source": [
    "#Check the data set size:\n",
    "covid.shape"
   ]
  },
  {
   "cell_type": "markdown",
   "metadata": {
    "id": "3Pctr_Olfifo"
   },
   "source": [
    "To see list of all columns, use *columns* attribute:"
   ]
  },
  {
   "cell_type": "code",
   "execution_count": null,
   "metadata": {
    "colab": {
     "base_uri": "https://localhost:8080/"
    },
    "id": "d2t3s2Pffifo",
    "outputId": "402952df-bc83-454d-ab2a-59a85979a303"
   },
   "outputs": [],
   "source": [
    "#See the list of all DataFrame columns:\n",
    "covid.columns"
   ]
  },
  {
   "cell_type": "markdown",
   "metadata": {
    "id": "gHLqxnrofifo"
   },
   "source": [
    "There are two ways to access values in any column within the DataFrame. One is the following:"
   ]
  },
  {
   "cell_type": "code",
   "execution_count": null,
   "metadata": {
    "colab": {
     "base_uri": "https://localhost:8080/"
    },
    "id": "IWtsl6UKfifp",
    "outputId": "13fe5acc-bc50-4c80-b3d7-81633f4cbef0"
   },
   "outputs": [],
   "source": [
    "#Look at first 5 rows of 'ObservationDate' column:\n",
    "covid.ObservationDate.head()"
   ]
  },
  {
   "cell_type": "markdown",
   "metadata": {
    "id": "4VQ7XeEqfifp"
   },
   "source": [
    "And another way is to use Python indexing (**[ ]**) operator:"
   ]
  },
  {
   "cell_type": "code",
   "execution_count": null,
   "metadata": {
    "colab": {
     "base_uri": "https://localhost:8080/"
    },
    "id": "K-SiIGbYfifp",
    "outputId": "d85c288d-cefd-4158-b645-b6eeff13687e"
   },
   "outputs": [],
   "source": [
    "#Look at first 5 rows of 'Last Update' column:\n",
    "covid['Last Update'].head()"
   ]
  },
  {
   "cell_type": "markdown",
   "metadata": {
    "id": "0rePrgV3fifp"
   },
   "source": [
    "(The advantage of this way is that it handles column names with reserved characters in them.)"
   ]
  },
  {
   "cell_type": "markdown",
   "metadata": {
    "id": "ZvFPFkp-fifq"
   },
   "source": [
    "We can also select multiple columns by providing list of their names (this will return columns as a new DataFrame):"
   ]
  },
  {
   "cell_type": "code",
   "execution_count": null,
   "metadata": {
    "colab": {
     "base_uri": "https://localhost:8080/",
     "height": 204
    },
    "id": "og6X_n8jfifq",
    "outputId": "83ac4728-54ae-4baa-9ea9-e81cf855c5a3"
   },
   "outputs": [],
   "source": [
    "#select multiple columns:\n",
    "covid[['ObservationDate', 'Confirmed', 'Recovered']].head()"
   ]
  },
  {
   "cell_type": "markdown",
   "metadata": {
    "id": "llrMDRTrfifq"
   },
   "source": [
    "To look at a single specific value within Series, we need to use the indexing operator once more:"
   ]
  },
  {
   "cell_type": "code",
   "execution_count": null,
   "metadata": {
    "colab": {
     "base_uri": "https://localhost:8080/",
     "height": 35
    },
    "id": "sehpCW8Tfifq",
    "outputId": "146f0563-c70f-4045-d557-b730c1e38402"
   },
   "outputs": [],
   "source": [
    "covid['Province/State'][3]"
   ]
  },
  {
   "cell_type": "code",
   "execution_count": null,
   "metadata": {
    "colab": {
     "base_uri": "https://localhost:8080/",
     "height": 204
    },
    "id": "aD7B29uLfifq",
    "outputId": "a17e3890-c37e-4c5d-e873-1b1c9135168e"
   },
   "outputs": [],
   "source": [
    "covid.head()"
   ]
  },
  {
   "cell_type": "markdown",
   "metadata": {
    "id": "HJ8YXyOCfifr"
   },
   "source": [
    "In addition to Python-native indexing operator, pandas has its own operators, **iloc** and **loc**. \n",
    "\n",
    "We use **iloc** to select data based on its numerical position. "
   ]
  },
  {
   "cell_type": "code",
   "execution_count": null,
   "metadata": {
    "colab": {
     "base_uri": "https://localhost:8080/",
     "height": 80
    },
    "id": "jrbW7QnOfifr",
    "outputId": "e6754f66-8381-45b7-e9a3-edf7178b1375"
   },
   "outputs": [],
   "source": [
    "#Select first row of data:\n",
    "covid.iloc[0]"
   ]
  },
  {
   "cell_type": "code",
   "execution_count": null,
   "metadata": {
    "colab": {
     "base_uri": "https://localhost:8080/"
    },
    "id": "K4HKtLvyfifr",
    "outputId": "9fae48d6-bddf-41ff-c82d-b947d2e6ecd3"
   },
   "outputs": [],
   "source": [
    "#If, instead, we want to get first column of data, we would use:\n",
    "covid.iloc[:, 2].head()"
   ]
  },
  {
   "cell_type": "markdown",
   "metadata": {
    "id": "EwnzvKzwfifr"
   },
   "source": [
    "We use **loc** for label-based selection:"
   ]
  },
  {
   "cell_type": "code",
   "execution_count": null,
   "metadata": {
    "colab": {
     "base_uri": "https://localhost:8080/",
     "height": 204
    },
    "id": "hPoOwEBxfifr",
    "outputId": "920f201a-655c-4ca1-97cd-76a46fb5d32c"
   },
   "outputs": [],
   "source": [
    "covid.loc[:, ['ObservationDate', 'Country/Region', 'Confirmed']].head()"
   ]
  },
  {
   "cell_type": "markdown",
   "metadata": {
    "id": "3IxdcUDSfifs"
   },
   "source": [
    "Usually, data selection based on *conditions* provides the most interesting insights."
   ]
  },
  {
   "cell_type": "markdown",
   "metadata": {
    "id": "Kyw9Npc-fifs"
   },
   "source": [
    "Let's take a look at Italy-related data:"
   ]
  },
  {
   "cell_type": "code",
   "execution_count": null,
   "metadata": {
    "colab": {
     "base_uri": "https://localhost:8080/",
     "height": 419
    },
    "id": "hmYWeB5mfifs",
    "outputId": "16056357-56f7-4d0e-9fc5-18e6a803506e"
   },
   "outputs": [],
   "source": [
    "#Select 'Italy' Country/Region data:\n",
    "covid[covid['Country/Region'] == 'Italy']"
   ]
  },
  {
   "cell_type": "markdown",
   "metadata": {
    "id": "VwAMXUCofifs"
   },
   "source": [
    "To see the number of confirmed cases in Italy as of April 13, we can use the apmersand (**&**) to bring the two questions together:"
   ]
  },
  {
   "cell_type": "code",
   "execution_count": null,
   "metadata": {
    "colab": {
     "base_uri": "https://localhost:8080/"
    },
    "id": "0ZbkXMMHfifs",
    "outputId": "720e22d0-6bf3-4eeb-f3bb-ccb00f0e43a4"
   },
   "outputs": [],
   "source": [
    "#Confirmed cases in Italy as of April 13, 2020:\n",
    "covid[(covid['Country/Region'] == 'Italy') & (covid['ObservationDate'] == '04/13/2020')].Confirmed"
   ]
  },
  {
   "cell_type": "markdown",
   "metadata": {
    "id": "5tgA9WD0fift"
   },
   "source": [
    "If, instead, we are interested in seeing all the data related to California or Washington states in US, we would use a pipe (**|**):"
   ]
  },
  {
   "cell_type": "code",
   "execution_count": null,
   "metadata": {
    "colab": {
     "base_uri": "https://localhost:8080/",
     "height": 266
    },
    "id": "3rZm2VxWfift",
    "outputId": "6a5e0fca-9306-463a-8013-e480f4d69199"
   },
   "outputs": [],
   "source": [
    "covid[(covid['Country/Region'] == 'US') &\n",
    "      ((covid['Province/State'] == 'Washington') | (covid['Province/State'] == 'California'))].head(7)"
   ]
  },
  {
   "cell_type": "markdown",
   "metadata": {
    "id": "u7LcFQ8vfift"
   },
   "source": [
    "To get the same results, we might also use pandas built-in conditional selector **isin()**:"
   ]
  },
  {
   "cell_type": "code",
   "execution_count": null,
   "metadata": {
    "colab": {
     "base_uri": "https://localhost:8080/",
     "height": 266
    },
    "id": "lquLNtiSfift",
    "outputId": "d0ed7277-997f-472a-afb7-e5c3e8d6b274"
   },
   "outputs": [],
   "source": [
    "#Alternative way of looking at all data relates to CA and WA states in US:\n",
    "covid[(covid['Country/Region'] == 'US') &\n",
    "      (covid['Province/State'].isin(['Washington', 'California']))].head(7)"
   ]
  },
  {
   "cell_type": "markdown",
   "metadata": {
    "id": "8QkakViefift"
   },
   "source": [
    "### Assigning data"
   ]
  },
  {
   "cell_type": "markdown",
   "metadata": {
    "id": "Ga-utYPTfift"
   },
   "source": [
    "Sometimes we might want to re-write all the values within the Series. For example, we can create a new column \"Source\", and fill it in with \"Trusted\":"
   ]
  },
  {
   "cell_type": "code",
   "execution_count": null,
   "metadata": {
    "colab": {
     "base_uri": "https://localhost:8080/",
     "height": 204
    },
    "id": "uPJwmGUHfifu",
    "outputId": "a07e27de-5853-4dbe-e165-ea8c79388cf2"
   },
   "outputs": [],
   "source": [
    "#Create a new \"Source\" column:\n",
    "covid['Source'] = 'Trusted'\n",
    "covid.head()"
   ]
  },
  {
   "cell_type": "markdown",
   "metadata": {
    "id": "opcxDeEOfifu"
   },
   "source": [
    "## 2. Exploratory data analysis with pandas"
   ]
  },
  {
   "cell_type": "markdown",
   "metadata": {
    "id": "uQtr0nJSfifu"
   },
   "source": [
    "### Data cleaning"
   ]
  },
  {
   "cell_type": "markdown",
   "metadata": {
    "id": "9oSo_4u1fifu"
   },
   "source": [
    "#### Remove unnecessary data"
   ]
  },
  {
   "cell_type": "markdown",
   "metadata": {
    "id": "7HbUiPVefifu"
   },
   "source": [
    "Now that we have covered some basics of data exporting and viewing, let's see how we can clean our sample dataset for further analysis."
   ]
  },
  {
   "cell_type": "markdown",
   "metadata": {
    "id": "v-cDdn51fifv"
   },
   "source": [
    "First of all, let's delete the \"Source\" column we just created. To do this, we will use **drop()** method. Its *axis* parameter identifies whether we want to drop labels from the index (0 or ‘index’) or columns (1 or ‘columns’):"
   ]
  },
  {
   "cell_type": "code",
   "execution_count": null,
   "metadata": {
    "colab": {
     "base_uri": "https://localhost:8080/",
     "height": 111
    },
    "id": "ObDLN98bfifw",
    "outputId": "8c48aab5-5a64-4696-a048-b382cbea0c80"
   },
   "outputs": [],
   "source": [
    "#drop \"Source', 'SNo', and 'LastUpdate' columns:\n",
    "covid = covid.drop(['Source', 'Last Update', 'SNo'], axis = 1)\n",
    "covid.head(2)"
   ]
  },
  {
   "cell_type": "markdown",
   "metadata": {
    "id": "JeWFmMVafifx"
   },
   "source": [
    "(Here, we also dropped 'SNo' column, which is basically another index column, and 'Last Update' column since it was showing time in UTC at which the row is updated for the given province or country.)"
   ]
  },
  {
   "cell_type": "code",
   "execution_count": null,
   "metadata": {
    "id": "1yjO_o-Jfifx"
   },
   "outputs": [],
   "source": [
    "#To drop a row (or multiple rows) by index, we would use the following syntax:\n",
    "#covid.drop([0, 1]) - drop first two rows"
   ]
  },
  {
   "cell_type": "markdown",
   "metadata": {
    "id": "OjeJgHBQfifx"
   },
   "source": [
    "#### Rename columns"
   ]
  },
  {
   "cell_type": "markdown",
   "metadata": {
    "id": "WYos2P8Ififx"
   },
   "source": [
    "Sometimes, data sets we are working with come with column names or index names which are not very convenient. For example, we have 'Province/State' and 'Country/Region' columns which have special characters in their names, and also 'Last Update' column with a space in it. Let's rename them:"
   ]
  },
  {
   "cell_type": "code",
   "execution_count": null,
   "metadata": {
    "colab": {
     "base_uri": "https://localhost:8080/",
     "height": 204
    },
    "id": "-KWm7Fgmfify",
    "outputId": "72e89157-12cc-44dc-c5d7-586859478ecb"
   },
   "outputs": [],
   "source": [
    "#Rename 'Province/State' column to a 'Region', and 'Country/Region' column to a 'Country':\n",
    "covid = covid.rename(columns = {'Province/State': 'Region', 'Country/Region': 'Country'})\n",
    "covid.head()"
   ]
  },
  {
   "cell_type": "markdown",
   "metadata": {
    "id": "ZTttnbHGfify"
   },
   "source": [
    "#### Remove duplicate records"
   ]
  },
  {
   "cell_type": "markdown",
   "metadata": {
    "id": "kYJB6VXpfify"
   },
   "source": [
    "First, we check if there are any duplicate records using **duplicated()** method which returns boolean True/False values:"
   ]
  },
  {
   "cell_type": "code",
   "execution_count": null,
   "metadata": {
    "id": "GA52q-JOfify"
   },
   "outputs": [],
   "source": [
    "# NOT SUPPORTED IN RAPIDS\n",
    "covid.duplicated().head()"
   ]
  },
  {
   "cell_type": "markdown",
   "metadata": {
    "id": "IPIV2jW7fify"
   },
   "source": [
    "Of course we do not want to scrool through thousands of returned True/False. Instead, we can check for unique vaules:"
   ]
  },
  {
   "cell_type": "code",
   "execution_count": null,
   "metadata": {
    "colab": {
     "base_uri": "https://localhost:8080/"
    },
    "id": "A1AUloHbfifz",
    "outputId": "e1950cbe-7ac1-432c-888d-f551917ebcbe"
   },
   "outputs": [],
   "source": [
    "#Check for duplicated values using unique() method:\n",
    "covid.drop_duplicates().shape"
   ]
  },
  {
   "cell_type": "code",
   "execution_count": null,
   "metadata": {
    "colab": {
     "base_uri": "https://localhost:8080/"
    },
    "id": "U4C-yEWLfifz",
    "outputId": "c396660f-6207-4bab-ce50-54b743c234ec"
   },
   "outputs": [],
   "source": [
    "covid.shape"
   ]
  },
  {
   "cell_type": "markdown",
   "metadata": {
    "id": "u-5PLcCNfifz"
   },
   "source": [
    "To remove duplicated records from the DataFrame, we would use the following syntax:\n",
    "\n",
    "**df = df.drop_duplicates()**\n",
    "\n",
    "To remove duplicates of only one or a subset of columns, we can specify *subset* as the individual column or list of columns that should be unique:\n",
    "\n",
    "**df.drop_duplicates(subset = ['Column_1', 'Column_2'], keep = 'False')**\n",
    "\n",
    "We can do the same task conditional on a different column’s value. In such case we can **sort_values()** first, and specify **keep** equals either first or last:\n",
    "\n",
    "**df.sort_values('Column_1', ascending=False)**\n",
    "\n",
    "**df = df.drop_duplicates(subset='Column_2', keep='first')**"
   ]
  },
  {
   "cell_type": "markdown",
   "metadata": {
    "id": "Id_3NcHSfifz"
   },
   "source": [
    "#### Data types"
   ]
  },
  {
   "cell_type": "markdown",
   "metadata": {
    "id": "wiwdyYPJfifz"
   },
   "source": [
    "We should also investigate data types within our dataframe. To do this, we use **dtype** (for a Series) or **dtypes** (for a DataFrame) attribute:"
   ]
  },
  {
   "cell_type": "code",
   "execution_count": null,
   "metadata": {
    "colab": {
     "base_uri": "https://localhost:8080/"
    },
    "id": "JCTjVf2nfif0",
    "outputId": "138ec472-90dd-425f-e828-bdc73e5e3a4c"
   },
   "outputs": [],
   "source": [
    "#check all data types within our dataset:\n",
    "covid.dtypes"
   ]
  },
  {
   "cell_type": "code",
   "execution_count": null,
   "metadata": {
    "colab": {
     "base_uri": "https://localhost:8080/"
    },
    "id": "7uqx0Y_Yfif0",
    "outputId": "7fc9628f-2a94-4c0f-edff-387365af5418"
   },
   "outputs": [],
   "source": [
    "#check data type of specific column:\n",
    "covid.Confirmed.dtype"
   ]
  },
  {
   "cell_type": "markdown",
   "metadata": {
    "id": "qxirEzzDfif0"
   },
   "source": [
    "Note that columns consisting entirely of strings do not get their own type in pandas; they are instead given the object type."
   ]
  },
  {
   "cell_type": "markdown",
   "metadata": {
    "id": "ChbLfgXKfif0"
   },
   "source": [
    "Sometimes we would like to convert a column of one type into another wherever such a conversion makes sense by using the **astype()** function. In our dataframe, we may transform the *Deaths* column from its existing float64 data type into a int64 data type:"
   ]
  },
  {
   "cell_type": "code",
   "execution_count": null,
   "metadata": {
    "colab": {
     "base_uri": "https://localhost:8080/"
    },
    "id": "t3Y-EEjWfif0",
    "outputId": "1e959c90-38bd-427d-8a6d-862eef1ee927"
   },
   "outputs": [],
   "source": [
    "#Convert 'Deaths' values to integers:\n",
    "covid.Deaths = covid.Deaths.fillna(0).astype('int64')\n",
    "covid.dtypes"
   ]
  },
  {
   "cell_type": "markdown",
   "metadata": {
    "id": "jzwv1WiGfif1"
   },
   "source": [
    "Also, to make work with dates easier, let's convert 'ObservationDate' column to pandas *datetime* object:"
   ]
  },
  {
   "cell_type": "code",
   "execution_count": null,
   "metadata": {
    "id": "ywMENm09fif1"
   },
   "outputs": [],
   "source": [
    "#Convert ObservationDate column to datetime:\n",
    "covid['ObservationDate'] = cudf.to_datetime(covid.ObservationDate)"
   ]
  },
  {
   "cell_type": "code",
   "execution_count": null,
   "metadata": {
    "colab": {
     "base_uri": "https://localhost:8080/"
    },
    "id": "5YEl1rJNfif1",
    "outputId": "a014b939-a541-43e0-f7a1-dd54fef755d1"
   },
   "outputs": [],
   "source": [
    "covid.dtypes"
   ]
  },
  {
   "cell_type": "markdown",
   "metadata": {
    "id": "nURqzk5Wfif1"
   },
   "source": [
    "#### Convert strings to uppercase:"
   ]
  },
  {
   "cell_type": "markdown",
   "metadata": {
    "id": "WRGptcEffif1"
   },
   "source": [
    "Many times, when we work with string data in our data set, it might be a good idea to convert all characters to uppercase and strip extra whitespaces before and after each string."
   ]
  },
  {
   "cell_type": "code",
   "execution_count": null,
   "metadata": {
    "colab": {
     "base_uri": "https://localhost:8080/",
     "height": 111
    },
    "id": "b1mtufC5fif2",
    "outputId": "c57f350c-7b40-4070-f3f4-b144c264daab"
   },
   "outputs": [],
   "source": [
    "covid.head(2)"
   ]
  },
  {
   "cell_type": "markdown",
   "metadata": {
    "id": "F3EQEk1Qfif2"
   },
   "source": [
    "Let's modify strings within the 'Region' and 'Country' Series of our data set. To convert strings in the Series/Index to uppercase, we can use **upper()** method:"
   ]
  },
  {
   "cell_type": "code",
   "execution_count": null,
   "metadata": {
    "id": "Ebbe6Ruifif2"
   },
   "outputs": [],
   "source": [
    "#Convert 'Region' and 'Country' to uppercase:\n",
    "covid.Region = covid.Region.str.upper()\n",
    "covid.Country = covid.Country.str.upper()"
   ]
  },
  {
   "cell_type": "code",
   "execution_count": null,
   "metadata": {
    "colab": {
     "base_uri": "https://localhost:8080/",
     "height": 204
    },
    "id": "hNCSRcSPfif2",
    "outputId": "786c5065-0710-49d9-d8d3-b6fea42b0a56"
   },
   "outputs": [],
   "source": [
    "covid.head()"
   ]
  },
  {
   "cell_type": "markdown",
   "metadata": {
    "id": "LJNU8oUGfif2"
   },
   "source": [
    "To remove leading and trailing characters, we would use **strip()** method:"
   ]
  },
  {
   "cell_type": "code",
   "execution_count": null,
   "metadata": {
    "id": "x1RfvOAMfif2"
   },
   "outputs": [],
   "source": [
    "covid.Region = covid.Region.str.strip()\n",
    "covid.Country = covid.Country.str.strip()"
   ]
  },
  {
   "cell_type": "markdown",
   "metadata": {
    "id": "aXyTdMPDfif3"
   },
   "source": [
    "Note: Sometimes, we might want to remove leading (**lstrip()**) or trailing (**rstrip()**) characters only."
   ]
  },
  {
   "cell_type": "markdown",
   "metadata": {
    "id": "8itESCFmfif3"
   },
   "source": [
    "#### Missing values"
   ]
  },
  {
   "cell_type": "markdown",
   "metadata": {
    "id": "jIR31ihefif3"
   },
   "source": [
    "Usually, when we work with real-world data, we always have some missing records. To find these missing values, also known as **NaN** (Not a Number), in our data set, we would use **isnull** method (or, alternatively, **notnull()** method which will select not empty values)"
   ]
  },
  {
   "cell_type": "code",
   "execution_count": null,
   "metadata": {
    "colab": {
     "base_uri": "https://localhost:8080/"
    },
    "id": "c9HMaJcAfif3",
    "outputId": "f06b10c3-d7fe-4c3d-a181-d3d80d372ffa"
   },
   "outputs": [],
   "source": [
    "#Check which coumns in our data set have missing values:\n",
    "covid.isnull().any()"
   ]
  },
  {
   "cell_type": "code",
   "execution_count": null,
   "metadata": {
    "colab": {
     "base_uri": "https://localhost:8080/",
     "height": 49
    },
    "id": "MwkMXxQWfif3",
    "outputId": "515df16c-a8ad-4006-9775-745cfb8d9b84"
   },
   "outputs": [],
   "source": [
    "covid[covid.Region.isnull()].head()"
   ]
  },
  {
   "cell_type": "code",
   "execution_count": null,
   "metadata": {
    "colab": {
     "base_uri": "https://localhost:8080/",
     "height": 235
    },
    "id": "txAVokp-fif3",
    "outputId": "0301dc2f-1fe4-4742-c70f-6ace89c5e5dd"
   },
   "outputs": [],
   "source": [
    "#Check how many values are missing:\n",
    "percent_missing = covid.isnull().sum() * 100 / len(covid)\n",
    "missing_df = cudf.DataFrame({'column_name': covid.columns,\n",
    "                                 'percent_missing': percent_missing})\n",
    "missing_df"
   ]
  },
  {
   "cell_type": "markdown",
   "metadata": {
    "id": "EhPKoGhzfif4"
   },
   "source": [
    "To perform data analysis, we would like to replace missing values, and pandas provides a really handy method for this problem: **fillna()**. \n",
    "\n",
    "In our case, we can simply replace each NaN with an 'Unknown':"
   ]
  },
  {
   "cell_type": "code",
   "execution_count": null,
   "metadata": {
    "id": "VS9zRrcyfif4"
   },
   "outputs": [],
   "source": [
    "#To drop all the missing values in one column:\n",
    "#df = df.dropna(subset = ['Column_Name'])"
   ]
  },
  {
   "cell_type": "code",
   "execution_count": null,
   "metadata": {
    "colab": {
     "base_uri": "https://localhost:8080/",
     "height": 204
    },
    "id": "-0D85FE2fif4",
    "outputId": "e5b21c73-2368-45fb-8722-e5cc271609aa"
   },
   "outputs": [],
   "source": [
    "#Replace missing 'Region' calues with 'Unknown':\n",
    "covid['Region'] = covid['Region'].fillna('Unknown')\n",
    "covid.iloc[35:40]"
   ]
  },
  {
   "cell_type": "code",
   "execution_count": null,
   "metadata": {
    "colab": {
     "base_uri": "https://localhost:8080/"
    },
    "id": "jXFmHlSefif4",
    "outputId": "fe1069af-77d0-41fb-c703-95714bdfa7c7"
   },
   "outputs": [],
   "source": [
    "covid.isnull().any()"
   ]
  },
  {
   "cell_type": "markdown",
   "metadata": {
    "id": "ZTNfGkEzfif5"
   },
   "source": [
    "Sometimes it makes sense to remove missing values from data set, and in that case we would use **dropna()** method. By default, **dropna()** will drop all rows in which any null value is present:\n",
    "\n",
    "**df.dropna()**\n",
    "\n",
    "We can also drop missing values along a different axis; *axis=1* drops all columns containing a null value."
   ]
  },
  {
   "cell_type": "markdown",
   "metadata": {
    "id": "6bp5unH6fif5"
   },
   "source": [
    "### Summary statistics"
   ]
  },
  {
   "cell_type": "markdown",
   "metadata": {
    "id": "Me0y1nicfif5"
   },
   "source": [
    "Pandas provides some handy methods which allow us to see a high-level summary of data. We already familiar with one of these methods - **describe()**:"
   ]
  },
  {
   "cell_type": "code",
   "execution_count": null,
   "metadata": {
    "colab": {
     "base_uri": "https://localhost:8080/"
    },
    "id": "4xVjLstGfif5",
    "outputId": "3b19f25d-fc5d-48b2-8895-9028d2b92e33"
   },
   "outputs": [],
   "source": [
    "#Applied to numerical data:\n",
    "covid.Confirmed.describe()"
   ]
  },
  {
   "cell_type": "code",
   "execution_count": null,
   "metadata": {
    "colab": {
     "base_uri": "https://localhost:8080/",
     "height": 204
    },
    "id": "EWEU48pn4mM8",
    "outputId": "9075b637-bf82-43aa-cebb-76a2ae4648bf"
   },
   "outputs": [],
   "source": [
    "covid.head()"
   ]
  },
  {
   "cell_type": "code",
   "execution_count": null,
   "metadata": {
    "colab": {
     "base_uri": "https://localhost:8080/",
     "height": 481
    },
    "id": "iGUTHoyqfif5",
    "outputId": "743cebba-e8bb-46d1-9ecb-227536f63fb8"
   },
   "outputs": [],
   "source": [
    "#Applied to string data:\n",
    "# covid.Country.describe()\n",
    "# This isn't supported\n",
    "\n",
    "covid.groupby('Country').agg(\n",
    "    {\n",
    "        'Deaths':'count', \n",
    "        'ObservationDate': ['min','max']\n",
    "     \n",
    "    }\n",
    ").sort_values(('ObservationDate','min'))"
   ]
  },
  {
   "cell_type": "markdown",
   "metadata": {
    "id": "2B7-0uDhfif5"
   },
   "source": [
    "For the reference, here are some others commonly used methods (they can be applies to a Series as well):\n",
    "\n",
    "**df.describe()** - summary statistics for numerical columns\n",
    "\n",
    "**df.mean()** - returns the mean of all columns\n",
    "\n",
    "**df.corr()** - returns the correlation between columns in a DataFrame\n",
    "\n",
    "**df.count()** - returns the number of non-null values in each DataFrame column\n",
    "\n",
    "**df.max()** - returns the highest value in each column\n",
    "\n",
    "**df.min()** - returns the lowest value in each column\n",
    "\n",
    "**df.median()** - returns the median of each column\n",
    "\n",
    "**df.std()** - returns the standard deviation of each column\n"
   ]
  },
  {
   "cell_type": "markdown",
   "metadata": {
    "id": "3ObYgIqffif6"
   },
   "source": [
    "To see a list of all unique values in certain Series, we would use the **unique()** method:"
   ]
  },
  {
   "cell_type": "code",
   "execution_count": null,
   "metadata": {
    "colab": {
     "base_uri": "https://localhost:8080/"
    },
    "id": "lAKD14zofif6",
    "outputId": "d38207fd-5fd2-4db0-9a42-bbe49e3f6fcc"
   },
   "outputs": [],
   "source": [
    "#See the list of unique 'Country' values:\n",
    "covid.Country.unique()"
   ]
  },
  {
   "cell_type": "markdown",
   "metadata": {
    "id": "XwsHO7LBfif6"
   },
   "source": [
    "**nunique()** will return a number of unique values:"
   ]
  },
  {
   "cell_type": "code",
   "execution_count": null,
   "metadata": {
    "colab": {
     "base_uri": "https://localhost:8080/"
    },
    "id": "6SNRRd9Vfif6",
    "outputId": "f4f5772c-c713-4f07-94bf-980a28916e07"
   },
   "outputs": [],
   "source": [
    "#Number of unique countries:\n",
    "covid.Country.nunique()"
   ]
  },
  {
   "cell_type": "markdown",
   "metadata": {
    "id": "xCC4AD1bfif6"
   },
   "source": [
    "### Data transformations with 'map' and 'apply'"
   ]
  },
  {
   "cell_type": "markdown",
   "metadata": {
    "id": "FqEiPM2Zfif7"
   },
   "source": [
    "There are two methods in pandas which allow us to take one set of values and \"map\" them to another set. **map()** returns a new Series where all the values have been transformed."
   ]
  },
  {
   "cell_type": "markdown",
   "metadata": {
    "id": "LLQBSC1Nfif7"
   },
   "source": [
    "Let's say we have noticed that 'Country' Series contains, among others, entries for 'Mainland China', 'Hong Kong', and 'Macau'. We know that they are all parts of People's Republic of China, and would prefer to use 'China' for all of them. Here is how this can be done:"
   ]
  },
  {
   "cell_type": "code",
   "execution_count": null,
   "metadata": {
    "id": "PEqAvXeO7IlM"
   },
   "outputs": [],
   "source": [
    "\n",
    "import pandas as pd"
   ]
  },
  {
   "cell_type": "code",
   "execution_count": null,
   "metadata": {
    "colab": {
     "base_uri": "https://localhost:8080/",
     "height": 204
    },
    "id": "ezpqJSnHfif7",
    "outputId": "aa4e9e51-c64b-4a4c-9c57-040bdd05b3cf"
   },
   "outputs": [],
   "source": [
    "s = set(['MAINLAND CHINA', 'HONG KONG', 'MACAU'])\n",
    "\n",
    "country_pandas = covid['Country'].to_pandas()\n",
    "\n",
    "country_pandas_fixed = country_pandas.map(lambda x: 'CHINA' if x in s else x)\n",
    "country_pandas_fixed.head()\n",
    "covid['GeneralCountry'] = country_pandas_fixed\n",
    "covid.head()"
   ]
  },
  {
   "cell_type": "markdown",
   "metadata": {
    "id": "0bjN-hjSfif7"
   },
   "source": [
    "Here we used a small anonimous function (*lambda function*) which can take any number of arguments, but can only have one expression. Once the expression is executed, it returns the result.\n",
    "\n",
    "In our example, this lambda function takes a single value from the 'Country' Series, and return a transformed version of that value. Then **map()** returns a new Series (which we called 'GeneralCountry' where all the values have been transformed by our labmda function.\n",
    "\n",
    "\n",
    "\n",
    "\n"
   ]
  },
  {
   "cell_type": "markdown",
   "metadata": {
    "id": "JPEQ3fCgfif8"
   },
   "source": [
    "**apply()** is a similar method which be applied both to Series and DataFrames. The difference is that **apply()** works on a row/column basis of a DataFrame, while **map()** works element-wise on a Series.\n"
   ]
  },
  {
   "cell_type": "markdown",
   "metadata": {
    "id": "syyp5Geofif8"
   },
   "source": [
    "Let's create a function which calculates \"naive\" mortality rate, and write its output in a new 'MortalityRate' column using **apply()** method:"
   ]
  },
  {
   "cell_type": "code",
   "execution_count": null,
   "metadata": {
    "id": "MmGPnt0xfif8",
    "outputId": "e1df5c48-0f03-481d-bffe-2c7bcedcd857"
   },
   "outputs": [],
   "source": [
    "#Create MortalityRate column using apply() method:\n",
    "def naive_rate(x):\n",
    "    if x.Confirmed > 0:\n",
    "        return x.Deaths/x.Confirmed\n",
    "    else:\n",
    "        return 0\n",
    "covid['MortalityRate'] = covid.apply(naive_rate, axis = 1)\n",
    "covid[covid.MortalityRate != 0].head()"
   ]
  },
  {
   "cell_type": "markdown",
   "metadata": {
    "id": "QqxrzEUNfif8"
   },
   "source": [
    "### Sorting "
   ]
  },
  {
   "cell_type": "markdown",
   "metadata": {
    "id": "KCSkv3Dtfif8"
   },
   "source": [
    "In many cases, we would like to first sort values in our data set, and then perform further data manipulations. To sort data and get it in the desired order we can use **sort_values()** method."
   ]
  },
  {
   "cell_type": "code",
   "execution_count": null,
   "metadata": {
    "id": "VFqyJ-mhfif9",
    "outputId": "2cf7f762-c67a-4969-fc9a-60019fdf42fb"
   },
   "outputs": [],
   "source": [
    "#Sort values by 'GeneralCountry':\n",
    "covid.sort_values(by = 'GeneralCountry').head()"
   ]
  },
  {
   "cell_type": "markdown",
   "metadata": {
    "id": "8JiBmPsMfigF"
   },
   "source": [
    "**sort_values()** defaults to an ascending sort, where the lowest values go first. To obtain a descending sort, we need to specify *ascending* parameter: "
   ]
  },
  {
   "cell_type": "code",
   "execution_count": null,
   "metadata": {
    "id": "uwUAgo56figF",
    "outputId": "b9dcaed9-f465-46b5-8c7a-a07e329ad2c7"
   },
   "outputs": [],
   "source": [
    "#Sort values by 'ObservationDate' and 'Confirmed' in descending order:\n",
    "covid.sort_values(by = ['ObservationDate', 'Confirmed'], ascending = False).head(2)"
   ]
  },
  {
   "cell_type": "markdown",
   "metadata": {
    "id": "PYnlm9uifigG"
   },
   "source": [
    "### Grouping"
   ]
  },
  {
   "cell_type": "markdown",
   "metadata": {
    "id": "QZWV48CrfigG"
   },
   "source": [
    "Depending on our goals, we might prefer to group data first, and then perform some operations on this group. In pandas, we can do it with **groupby()** method. However, simple call of a *groupby* method on our data set will return not a set of DataFrames, but a DataFrameGroupBy object:"
   ]
  },
  {
   "cell_type": "code",
   "execution_count": null,
   "metadata": {
    "id": "gkXj7kaMfigG",
    "outputId": "d562e492-8451-4a7e-c064-45dfeabd1033"
   },
   "outputs": [],
   "source": [
    "#Group by 'GeneralCountry' and create a DataFrameGroupBy object:\n",
    "covid.groupby('GeneralCountry')"
   ]
  },
  {
   "cell_type": "markdown",
   "metadata": {
    "id": "nUEkMpm9figG"
   },
   "source": [
    "We can think of this object as of a special view of the DataFrame, which is already divided into groups. To get actual results, we need to apply an aggregate on this object:"
   ]
  },
  {
   "cell_type": "code",
   "execution_count": null,
   "metadata": {
    "id": "8KF5_rebfigG",
    "outputId": "2a4988a3-55c4-4cb6-c49e-3f7187864b75"
   },
   "outputs": [],
   "source": [
    "#For example, we can check when the date of latest observation for each country:\n",
    "covid.groupby('GeneralCountry').ObservationDate.max().head()"
   ]
  },
  {
   "cell_type": "code",
   "execution_count": null,
   "metadata": {
    "id": "A-cziF5YfigH",
    "outputId": "4bebaf2e-a605-47d9-aac5-3a79d1b9cf04"
   },
   "outputs": [],
   "source": [
    "#Let's fix this ('ST. MARTIN') business:\n",
    "covid['GeneralCountry'] = covid.GeneralCountry.str.strip(\"('\")\n",
    "covid.groupby('GeneralCountry').ObservationDate.max().head()"
   ]
  },
  {
   "cell_type": "markdown",
   "metadata": {
    "id": "WMuu19V4figH"
   },
   "source": [
    "Similarly, we can use any of the summary functions with groupby object. For example, we can see latest numbers of confirmed cases within various regions of China:"
   ]
  },
  {
   "cell_type": "code",
   "execution_count": null,
   "metadata": {
    "id": "6O22c7h0figH",
    "outputId": "ddbd0567-e35d-496e-be6d-51dacae9667c"
   },
   "outputs": [],
   "source": [
    "covid[covid.GeneralCountry == 'CHINA'].groupby('Region').Confirmed.max()"
   ]
  },
  {
   "cell_type": "markdown",
   "metadata": {
    "id": "lvjFz6HPfigH"
   },
   "source": [
    "We can also group by more than one column:"
   ]
  },
  {
   "cell_type": "code",
   "execution_count": null,
   "metadata": {
    "id": "5eBfxgTxfigI",
    "outputId": "6770b12b-9955-4800-a2c6-43b8a6df3f51"
   },
   "outputs": [],
   "source": [
    "#Group by 'GeneralCountry' and 'Region' and see maximum (=total) number of 'Deaths':\n",
    "covid.groupby(['GeneralCountry', 'Region']).Deaths.max().head()"
   ]
  },
  {
   "cell_type": "code",
   "execution_count": null,
   "metadata": {
    "id": "Z1BdGdx8figI",
    "outputId": "bb1a4f31-3878-4c84-d9b1-a766fa239756"
   },
   "outputs": [],
   "source": [
    "#Number of regions within each country:\n",
    "covid.groupby('GeneralCountry').Region.nunique().head()"
   ]
  },
  {
   "cell_type": "code",
   "execution_count": null,
   "metadata": {
    "id": "nm2i-FfrfigI",
    "outputId": "40424d53-caf5-492d-bb32-a44e01187c2a"
   },
   "outputs": [],
   "source": [
    "#See 'Confirmed' and 'Deaths' numbers by GeneralCountry:\n",
    "covid.groupby('GeneralCountry')[['Confirmed', 'Deaths']].max().head(10)"
   ]
  },
  {
   "cell_type": "markdown",
   "metadata": {
    "id": "1mm2MlcVfigI"
   },
   "source": [
    "**reset_index()** method allows to reset index:"
   ]
  },
  {
   "cell_type": "code",
   "execution_count": null,
   "metadata": {
    "id": "bdhT1TNXfigI",
    "outputId": "7ae49d2c-12c3-4dad-dc73-3a6404965b29"
   },
   "outputs": [],
   "source": [
    "#Reset index in just created dataframe:\n",
    "covid.groupby('GeneralCountry')[['Confirmed', 'Deaths']].max().reset_index().head(10)"
   ]
  },
  {
   "cell_type": "markdown",
   "metadata": {
    "id": "FCK2LKsMfigJ"
   },
   "source": [
    "### Joining data"
   ]
  },
  {
   "cell_type": "markdown",
   "metadata": {
    "id": "17squVTjfigJ"
   },
   "source": [
    "Often enough, while analyzing data, we need to combine different DataFrames and/or Series in non-trivial ways. Pandas has a few neat methods for doing this. \n",
    "\n",
    "In cases when we have data in different DataFrames (or Series) but having the same fields (columns), **concat()** function lets us join dataframes along axis."
   ]
  },
  {
   "cell_type": "markdown",
   "metadata": {
    "id": "YtAeZFcOfigJ"
   },
   "source": [
    "Let's say we create a new DataFrame using *groupby()* method:"
   ]
  },
  {
   "cell_type": "code",
   "execution_count": null,
   "metadata": {
    "id": "dK0FYGJAfigK",
    "outputId": "0bc8ffd5-e39d-47b4-feda-d2e2c98bdd7e"
   },
   "outputs": [],
   "source": [
    "countries_stats = covid.groupby('GeneralCountry')[['Confirmed', 'Deaths']].max().reset_index()\n",
    "countries_stats.head()"
   ]
  },
  {
   "cell_type": "markdown",
   "metadata": {
    "id": "HxXrLeKFfigK"
   },
   "source": [
    "And pretend we have just heard of two new confirmed cases - one in Mongolia, and one in Jamaica:"
   ]
  },
  {
   "cell_type": "code",
   "execution_count": null,
   "metadata": {
    "id": "cZvtY9X5figK",
    "outputId": "1d68aecf-0313-4cf2-b5ef-98a694566b12"
   },
   "outputs": [],
   "source": [
    "new_cases = pd.DataFrame({'GeneralCountry': ['MONGOLIA', 'JAMAICA'], 'Confirmed': [1.0, 1.0], 'Deaths': [0, 0]})\n",
    "new_cases"
   ]
  },
  {
   "cell_type": "markdown",
   "metadata": {
    "id": "WQF3L0kUfigK"
   },
   "source": [
    "Now if we would like to study all of the affected countries simultaneously, we would use **concat()** method to stack these two DataFrames on top of one another:"
   ]
  },
  {
   "cell_type": "code",
   "execution_count": null,
   "metadata": {
    "id": "KBF6zCTifigK",
    "outputId": "3b5a8b80-ca3e-41de-fb1c-7884e6a8f7b8"
   },
   "outputs": [],
   "source": [
    "#Concatenate counties_stats and new_cases in new 'all_cases' DataFrame:\n",
    "all_cases = pd.concat([countries_stats, new_cases])\n",
    "all_cases.head()"
   ]
  },
  {
   "cell_type": "code",
   "execution_count": null,
   "metadata": {
    "id": "5vRlRg4ofigL",
    "outputId": "9bf44fa8-c178-47d2-ae94-9af1301e1c89"
   },
   "outputs": [],
   "source": [
    "#Check:\n",
    "all_cases[all_cases.GeneralCountry == 'JAMAICA']"
   ]
  },
  {
   "cell_type": "markdown",
   "metadata": {
    "id": "l6UU5X8bfigL"
   },
   "source": [
    "To concat the same two DataFrames along columns, we would switch *axis* parameter to 1:"
   ]
  },
  {
   "cell_type": "code",
   "execution_count": null,
   "metadata": {
    "id": "kWPpAH7cfigL",
    "outputId": "62993c1b-51ec-4ac6-8adf-8f73630a8a2b"
   },
   "outputs": [],
   "source": [
    "#Concatenate the same DataFrames along  columns:\n",
    "all_cases_too = pd.concat([countries_stats, new_cases], axis = 1)\n",
    "all_cases_too.head()"
   ]
  },
  {
   "cell_type": "markdown",
   "metadata": {
    "id": "9mjweoCCfigL"
   },
   "source": [
    "**merge()** or **join()** methods let you combine different DataFrame objects which have an index in common (similar to a JOIN in SQL). Th **join** method works the best when we need to join dataframes on their indexes, while the **merge** is more versatile.\n",
    "\n",
    "Let's create a new DataFrame listing countries and latest observation dates:"
   ]
  },
  {
   "cell_type": "code",
   "execution_count": null,
   "metadata": {
    "id": "hYEP7EoSfigM",
    "outputId": "b2583f09-cd44-4da0-c56d-ec8c0fb6d709"
   },
   "outputs": [],
   "source": [
    "#Create a new DataFrame with countries and latest observation dates:\n",
    "latest_data = covid.groupby(['GeneralCountry', 'Region']).ObservationDate.max().reset_index()\n",
    "latest_data.head()"
   ]
  },
  {
   "cell_type": "markdown",
   "metadata": {
    "id": "Bh9dgcOJfigM"
   },
   "source": [
    "Now we want to join this DataFrame with our original 'covid' DataFrame to get latest fatality rates:"
   ]
  },
  {
   "cell_type": "code",
   "execution_count": null,
   "metadata": {
    "id": "Rlptnmi_figM",
    "outputId": "75d8eaaf-e965-43b9-f859-f0131324afdd"
   },
   "outputs": [],
   "source": [
    "latest_rates = pd.merge(latest_data, covid[['GeneralCountry', 'Region', 'ObservationDate', 'MortalityRate']], \\\n",
    "                        on=['GeneralCountry', 'Region', 'ObservationDate'])\n",
    "latest_rates"
   ]
  },
  {
   "cell_type": "markdown",
   "metadata": {
    "id": "KHd0aTR3figM"
   },
   "source": [
    "We can also specify if we need inner, outer, right, or left join, as well as add a suffix to duplicate column names:\n",
    "\n",
    "**pd.merge(df_1, df_2, on='ID', how='left', suffixes=('_1', '_2'))**"
   ]
  },
  {
   "cell_type": "markdown",
   "metadata": {
    "id": "qMMegiavfigM"
   },
   "source": [
    "### Pivot tables"
   ]
  },
  {
   "cell_type": "markdown",
   "metadata": {
    "id": "IcBExiCvfigN"
   },
   "source": [
    "With pandas, we can also create a spreadsheet-style pivot table as a DataFrame:"
   ]
  },
  {
   "cell_type": "code",
   "execution_count": null,
   "metadata": {
    "id": "I1VCwziWfigN",
    "outputId": "a2905b56-6832-441e-e1bd-13317a31334e"
   },
   "outputs": [],
   "source": [
    "#Create an Excel-style pivot table:\n",
    "pd.pivot_table(covid[['GeneralCountry', 'Region', 'ObservationDate', 'Confirmed']], \\\n",
    "               index=['GeneralCountry','Region'], aggfunc='max')"
   ]
  },
  {
   "cell_type": "markdown",
   "metadata": {
    "id": "JaT68NpdfigN"
   },
   "source": [
    "### Data visualizations with pandas"
   ]
  },
  {
   "cell_type": "markdown",
   "metadata": {
    "id": "Ke12AdG6figN"
   },
   "source": [
    "When we want to quickly view how our data looks, pandas visualizations come in handy.\n",
    "\n",
    "Let's look again at *all_cases* DataFrame we created some time ago:"
   ]
  },
  {
   "cell_type": "code",
   "execution_count": null,
   "metadata": {
    "id": "dDsfNlIJfigN",
    "outputId": "a8733656-db0c-4aa7-e539-c08663292ab2"
   },
   "outputs": [],
   "source": [
    "#Look at first 5 rows of 'all_cases' DataFrame:\n",
    "all_cases.head()"
   ]
  },
  {
   "cell_type": "markdown",
   "metadata": {
    "id": "DopQ7tyUfigN"
   },
   "source": [
    "Pandas visualizations are built on top of famous **matplotlib** library.\n",
    "The standard convention for referencing the matplotlib API:"
   ]
  },
  {
   "cell_type": "code",
   "execution_count": null,
   "metadata": {
    "id": "7l781KprfigO"
   },
   "outputs": [],
   "source": [
    "import matplotlib.pyplot as plt"
   ]
  },
  {
   "cell_type": "markdown",
   "metadata": {
    "id": "21FxQ6oxfigP"
   },
   "source": [
    "To make sure all plots are visible within our notebook, use this magic command:\n",
    "\n",
    "**%matplotlib inline**\n"
   ]
  },
  {
   "cell_type": "code",
   "execution_count": null,
   "metadata": {
    "id": "cX5ryQu1figP"
   },
   "outputs": [],
   "source": [
    "%matplotlib inline"
   ]
  },
  {
   "cell_type": "markdown",
   "metadata": {
    "id": "395XXwYxfigP"
   },
   "source": [
    "To build charts with pandas, we use basic **plot()** method:"
   ]
  },
  {
   "cell_type": "code",
   "execution_count": null,
   "metadata": {
    "id": "xIF94sH_figP",
    "outputId": "0c5db591-b721-474e-8316-1e0507584433"
   },
   "outputs": [],
   "source": [
    "#Let's look at all confirmed cases by date:\n",
    "by_date = covid.groupby('ObservationDate').Confirmed.sum().reset_index()\n",
    "by_date.head(2)"
   ]
  },
  {
   "cell_type": "code",
   "execution_count": null,
   "metadata": {
    "id": "520_axGAfigT",
    "outputId": "492c5844-b409-42e3-8eee-edc390017ea9"
   },
   "outputs": [],
   "source": [
    "#Now let's visualize this with simple line chart:\n",
    "by_date.plot.line(x = 'ObservationDate', y = 'Confirmed', color = 'purple', title = 'COVID-19 confirmed cases: World')"
   ]
  },
  {
   "cell_type": "markdown",
   "metadata": {
    "id": "fbLj_B2PfigT"
   },
   "source": [
    "Let us now build a similar plot for US only:"
   ]
  },
  {
   "cell_type": "code",
   "execution_count": null,
   "metadata": {
    "id": "1cn06WmZfigT",
    "outputId": "1f7c92a2-d1da-494f-9289-325c33dcae16"
   },
   "outputs": [],
   "source": [
    "#Create a new 'us_daily' DataFrame with US-only data:\n",
    "us_daily = covid[covid.GeneralCountry == 'US'].groupby('ObservationDate').sum().reset_index()\n",
    "us_daily"
   ]
  },
  {
   "cell_type": "code",
   "execution_count": null,
   "metadata": {
    "id": "cUtQ8xiEfigT",
    "outputId": "65b1123c-c47f-4a16-f5c8-cf3318c6a11d"
   },
   "outputs": [],
   "source": [
    "#create a line chart:\n",
    "us_daily.plot.line(x = 'ObservationDate', y = 'Confirmed', color = 'brown', title = 'COVID-19 confirmed cases: US')"
   ]
  },
  {
   "cell_type": "markdown",
   "metadata": {
    "id": "xFcf6QIMfigU"
   },
   "source": [
    "Let's look at total number of cases and deaths by country:"
   ]
  },
  {
   "cell_type": "code",
   "execution_count": null,
   "metadata": {
    "id": "NY61nNm1figU",
    "outputId": "0b900321-8afa-4ad4-c83e-1a9227080e5a"
   },
   "outputs": [],
   "source": [
    "#First, let's group everything by GeneralCountry & Region and get latest numbers of confirmed cases and deaths:\n",
    "world_regions = covid.groupby(['GeneralCountry', 'Region'])[['Confirmed', 'Deaths']].max().reset_index()\n",
    "world_regions.head()"
   ]
  },
  {
   "cell_type": "code",
   "execution_count": null,
   "metadata": {
    "id": "z7-6T_W2figU",
    "outputId": "bc84e07b-4f00-4ce1-a303-da98ed6f9558"
   },
   "outputs": [],
   "source": [
    "#Then we can get total latest numbers for each country:\n",
    "world = world_regions.groupby('GeneralCountry')[['Confirmed', 'Deaths']].sum().reset_index()\n",
    "world.head()"
   ]
  },
  {
   "cell_type": "code",
   "execution_count": null,
   "metadata": {
    "id": "2yI1H9qjfigU",
    "outputId": "08eaa603-d845-47e6-e826-a73b8f026434"
   },
   "outputs": [],
   "source": [
    "#One of the basic and widely used plots - bar chart:\n",
    "world.plot(kind = 'bar')"
   ]
  },
  {
   "cell_type": "markdown",
   "metadata": {
    "id": "_lPkU8ubfigV"
   },
   "source": [
    "Let's try to make it looking a bit more appealing by visualizing top 10 countries only, and make horizontal bar chart, instead:"
   ]
  },
  {
   "cell_type": "code",
   "execution_count": null,
   "metadata": {
    "id": "mKGDLlsAfigV",
    "outputId": "92f07aac-0c7d-4128-fa86-d6af66e2d17e"
   },
   "outputs": [],
   "source": [
    "#Create a DataFrame with top 10 COVID-19 confirmed cases:\n",
    "top = world.sort_values(by = 'Confirmed', ascending = False).head(10)\n",
    "top"
   ]
  },
  {
   "cell_type": "markdown",
   "metadata": {
    "id": "EGUQygkhfigV"
   },
   "source": [
    "A little trick to make your dataframe look more presentable by adding background color (using matplotlib built-in colormaps (**cmap**)):"
   ]
  },
  {
   "cell_type": "code",
   "execution_count": null,
   "metadata": {
    "id": "Y1ZUUrLbfigV",
    "outputId": "9e5c3f56-8a02-4318-e93e-1fa90b73a475"
   },
   "outputs": [],
   "source": [
    "top10 = top.style.background_gradient(cmap='Blues',subset=[\"Confirmed\"]).background_gradient(cmap='Reds',subset=[\"Deaths\"])\n",
    "top10"
   ]
  },
  {
   "cell_type": "markdown",
   "metadata": {
    "id": "qGRTY0dxfigW"
   },
   "source": [
    "Now let's plot the simplest bar chart:"
   ]
  },
  {
   "cell_type": "code",
   "execution_count": null,
   "metadata": {
    "id": "RGDHlQ8VfigX",
    "outputId": "b079ef47-15bb-4721-9dbb-2add51d7c3fb"
   },
   "outputs": [],
   "source": [
    "#Plot the bar chart with 'top' data:\n",
    "top.plot.bar()\n",
    "\n",
    "#another way of getting the same result is:\n",
    "#top.plot(kind = 'bar')"
   ]
  },
  {
   "cell_type": "markdown",
   "metadata": {
    "id": "XNEh7aOyfigX"
   },
   "source": [
    "Here, by default, **plot()** method built index values on x-axis. Let's specify that we want to see countries names, instead:"
   ]
  },
  {
   "cell_type": "code",
   "execution_count": null,
   "metadata": {
    "id": "26v_e342figX",
    "outputId": "443abe89-50d7-4a42-c69a-5c63c7adfe94"
   },
   "outputs": [],
   "source": [
    "top.plot.bar(x = 'GeneralCountry')"
   ]
  },
  {
   "cell_type": "code",
   "execution_count": null,
   "metadata": {
    "id": "7LSthu18figX",
    "outputId": "cbffcecd-6d63-4cbd-f071-369561c00384"
   },
   "outputs": [],
   "source": [
    "#Convert this to horizontal bar chart:\n",
    "top.index = top.GeneralCountry\n",
    "top.plot.barh()"
   ]
  },
  {
   "cell_type": "code",
   "execution_count": null,
   "metadata": {
    "id": "m86qIN_WfigX",
    "outputId": "0483edff-fa00-48b8-e29d-a6c5b6246992"
   },
   "outputs": [],
   "source": [
    "#Modify some more:\n",
    "top.index = top.GeneralCountry\n",
    "top.plot.barh(title = 'Top 10 Countries (Confirmed Cases and Deaths)', figsize = [10,7],\\\n",
    "             fontsize = 12, color = ['blue', 'red']).invert_yaxis()"
   ]
  },
  {
   "cell_type": "markdown",
   "metadata": {
    "id": "OZdCVIiXfigY"
   },
   "source": [
    "### Plotting with Plotly"
   ]
  },
  {
   "cell_type": "markdown",
   "metadata": {
    "id": "vvJ5OV8hfigY"
   },
   "source": [
    "The plotly Python library is an interactive, open-source plotting library that supports over 40 unique chart types covering a wide range of statistical, financial, geographic, scientific, and 3-dimensional use-cases."
   ]
  },
  {
   "cell_type": "code",
   "execution_count": null,
   "metadata": {
    "id": "7WKv8CYGfigZ",
    "outputId": "474fd9a8-7c11-4eb0-f188-f4af17cf36e6"
   },
   "outputs": [],
   "source": [
    "#Import plotly and check its version:\n",
    "import plotly\n",
    "plotly.__version__"
   ]
  },
  {
   "cell_type": "markdown",
   "metadata": {
    "id": "EdoZ4R-QfigZ"
   },
   "source": [
    "In case you do not have plotly installed, run the following line in your Anaconda prompt:\n",
    "\n",
    "**conda install -c plotly plotly=4.6.0**"
   ]
  },
  {
   "cell_type": "markdown",
   "metadata": {
    "id": "BF87qeKofigZ"
   },
   "source": [
    "We are going to use Plotly Express, which is easy-to-use, high-level interface to Plotly, which produces easy-to-style figures. Every Plotly Express function returns a graph_objects.Figure object whose data and layout has been pre-populated according to the provided arguments.\n",
    "\n",
    "Note: Plotly Express was previously its own separately-installed **plotly_express** package but is now part of plotly and importable via \n",
    "\n",
    "**import plotly.express as px**"
   ]
  },
  {
   "cell_type": "code",
   "execution_count": null,
   "metadata": {
    "id": "ANrEmbU0figZ",
    "outputId": "d06bc0d1-ec4e-4dd0-eb06-41bf41031002"
   },
   "outputs": [],
   "source": [
    "import plotly.express as px\n",
    "import numpy as np\n",
    "temp_df = pd.DataFrame(world)\n",
    "temp_df = temp_df.reset_index()\n",
    "fig = px.choropleth(temp_df, locations=\"GeneralCountry\",\n",
    "                    color=np.log10(temp_df[\"Confirmed\"]), \n",
    "                    hover_name=\"index\", # column to add to hover information\n",
    "                    hover_data=[\"Confirmed\"],\n",
    "                    color_continuous_scale=px.colors.sequential.Plasma,locationmode=\"country names\")\n",
    "fig.update_geos(fitbounds=\"locations\", visible=False)\n",
    "fig.update_layout(title_text=\"Confirmed Cases Heat Map (Log Scale)\")\n",
    "fig.update_coloraxes(colorbar_title=\"Confirmed Cases(Log Scale)\",colorscale=\"Blues\")\n",
    "fig.show()"
   ]
  },
  {
   "cell_type": "code",
   "execution_count": null,
   "metadata": {
    "id": "Jx5Zkcpzfigh",
    "outputId": "40b43b5b-2765-418d-fd05-1d5d9d74355a"
   },
   "outputs": [],
   "source": [
    "#Another example visualizing progression of COVID-19 spread across the continents:\n",
    "df_data = covid.groupby(['ObservationDate', 'GeneralCountry'])['Confirmed', 'Deaths'].max().reset_index().fillna(0)\n",
    "df_data[\"ObservationDate\"] = pd.to_datetime( df_data[\"ObservationDate\"]).dt.strftime('%m/%d/%Y')\n",
    "fig = px.scatter_geo(df_data, locations=\"GeneralCountry\", locationmode='country names', \n",
    "                     color=np.power(df_data[\"Confirmed\"],0.3)-2 , size= np.power(df_data[\"Confirmed\"]+1,0.3)-1, hover_name=\"GeneralCountry\",\n",
    "                     hover_data=[\"Confirmed\"],\n",
    "                     range_color= [0, max(np.power(world[\"Confirmed\"],0.3))], \n",
    "                     projection=\"natural earth\", animation_frame=\"ObservationDate\", \n",
    "                     color_continuous_scale=px.colors.sequential.Plasma,\n",
    "                     title='COVID-19: Progression of spread'\n",
    "                    )\n",
    "fig.update_coloraxes(colorscale=\"hot\")\n",
    "fig.update(layout_coloraxis_showscale=False)\n",
    "fig.show()"
   ]
  },
  {
   "cell_type": "code",
   "execution_count": null,
   "metadata": {
    "id": "b0DeVuS0figs"
   },
   "outputs": [],
   "source": []
  }
 ],
 "metadata": {
  "accelerator": "GPU",
  "colab": {
   "name": "Data_Analysis_With_Python_Complete.ipynb",
   "provenance": []
  },
  "kernelspec": {
   "display_name": "Python 3",
   "language": "python",
   "name": "python3"
  },
  "language_info": {
   "codemirror_mode": {
    "name": "ipython",
    "version": 3
   },
   "file_extension": ".py",
   "mimetype": "text/x-python",
   "name": "python",
   "nbconvert_exporter": "python",
   "pygments_lexer": "ipython3",
   "version": "3.7.4"
  }
 },
 "nbformat": 4,
 "nbformat_minor": 1
}
